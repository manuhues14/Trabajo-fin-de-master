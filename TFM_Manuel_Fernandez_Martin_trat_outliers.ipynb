{
  "cells": [
    {
      "cell_type": "markdown",
      "metadata": {
        "id": "fCfkKcqSPyi8"
      },
      "source": [
        "# Carga de datos"
      ]
    },
    {
      "cell_type": "code",
      "execution_count": 1,
      "metadata": {
        "colab": {
          "base_uri": "https://localhost:8080/"
        },
        "id": "uOoMzSu2N49I",
        "outputId": "c9834f42-7bbd-496d-d9d4-4ec6b93c8a3d"
      },
      "outputs": [
        {
          "output_type": "stream",
          "name": "stdout",
          "text": [
            "Requirement already satisfied: rpy2 in /usr/local/lib/python3.11/dist-packages (3.5.17)\n",
            "Requirement already satisfied: cffi>=1.15.1 in /usr/local/lib/python3.11/dist-packages (from rpy2) (1.17.1)\n",
            "Requirement already satisfied: jinja2 in /usr/local/lib/python3.11/dist-packages (from rpy2) (3.1.6)\n",
            "Requirement already satisfied: tzlocal in /usr/local/lib/python3.11/dist-packages (from rpy2) (5.3.1)\n",
            "Requirement already satisfied: pycparser in /usr/local/lib/python3.11/dist-packages (from cffi>=1.15.1->rpy2) (2.22)\n",
            "Requirement already satisfied: MarkupSafe>=2.0 in /usr/local/lib/python3.11/dist-packages (from jinja2->rpy2) (3.0.2)\n",
            "Collecting pyreadr\n",
            "  Downloading pyreadr-0.5.3-cp311-cp311-manylinux_2_17_x86_64.manylinux2014_x86_64.whl.metadata (1.4 kB)\n",
            "Requirement already satisfied: pandas>=1.2.0 in /usr/local/lib/python3.11/dist-packages (from pyreadr) (2.2.2)\n",
            "Requirement already satisfied: numpy>=1.23.2 in /usr/local/lib/python3.11/dist-packages (from pandas>=1.2.0->pyreadr) (2.0.2)\n",
            "Requirement already satisfied: python-dateutil>=2.8.2 in /usr/local/lib/python3.11/dist-packages (from pandas>=1.2.0->pyreadr) (2.9.0.post0)\n",
            "Requirement already satisfied: pytz>=2020.1 in /usr/local/lib/python3.11/dist-packages (from pandas>=1.2.0->pyreadr) (2025.2)\n",
            "Requirement already satisfied: tzdata>=2022.7 in /usr/local/lib/python3.11/dist-packages (from pandas>=1.2.0->pyreadr) (2025.2)\n",
            "Requirement already satisfied: six>=1.5 in /usr/local/lib/python3.11/dist-packages (from python-dateutil>=2.8.2->pandas>=1.2.0->pyreadr) (1.17.0)\n",
            "Downloading pyreadr-0.5.3-cp311-cp311-manylinux_2_17_x86_64.manylinux2014_x86_64.whl (411 kB)\n",
            "\u001b[2K   \u001b[90m━━━━━━━━━━━━━━━━━━━━━━━━━━━━━━━━━━━━━━━━\u001b[0m \u001b[32m411.7/411.7 kB\u001b[0m \u001b[31m25.5 MB/s\u001b[0m eta \u001b[36m0:00:00\u001b[0m\n",
            "\u001b[?25hInstalling collected packages: pyreadr\n",
            "Successfully installed pyreadr-0.5.3\n",
            "Collecting rdata\n",
            "  Downloading rdata-0.11.2-py3-none-any.whl.metadata (11 kB)\n",
            "Requirement already satisfied: numpy in /usr/local/lib/python3.11/dist-packages (from rdata) (2.0.2)\n",
            "Requirement already satisfied: xarray in /usr/local/lib/python3.11/dist-packages (from rdata) (2025.3.1)\n",
            "Requirement already satisfied: pandas in /usr/local/lib/python3.11/dist-packages (from rdata) (2.2.2)\n",
            "Requirement already satisfied: typing-extensions>4.4 in /usr/local/lib/python3.11/dist-packages (from rdata) (4.14.0)\n",
            "Requirement already satisfied: python-dateutil>=2.8.2 in /usr/local/lib/python3.11/dist-packages (from pandas->rdata) (2.9.0.post0)\n",
            "Requirement already satisfied: pytz>=2020.1 in /usr/local/lib/python3.11/dist-packages (from pandas->rdata) (2025.2)\n",
            "Requirement already satisfied: tzdata>=2022.7 in /usr/local/lib/python3.11/dist-packages (from pandas->rdata) (2025.2)\n",
            "Requirement already satisfied: packaging>=23.2 in /usr/local/lib/python3.11/dist-packages (from xarray->rdata) (24.2)\n",
            "Requirement already satisfied: six>=1.5 in /usr/local/lib/python3.11/dist-packages (from python-dateutil>=2.8.2->pandas->rdata) (1.17.0)\n",
            "Downloading rdata-0.11.2-py3-none-any.whl (46 kB)\n",
            "\u001b[2K   \u001b[90m━━━━━━━━━━━━━━━━━━━━━━━━━━━━━━━━━━━━━━━━\u001b[0m \u001b[32m46.5/46.5 kB\u001b[0m \u001b[31m4.4 MB/s\u001b[0m eta \u001b[36m0:00:00\u001b[0m\n",
            "\u001b[?25hInstalling collected packages: rdata\n",
            "Successfully installed rdata-0.11.2\n",
            "Requirement already satisfied: xgboost in /usr/local/lib/python3.11/dist-packages (2.1.4)\n",
            "Requirement already satisfied: numpy in /usr/local/lib/python3.11/dist-packages (from xgboost) (2.0.2)\n",
            "Requirement already satisfied: nvidia-nccl-cu12 in /usr/local/lib/python3.11/dist-packages (from xgboost) (2.21.5)\n",
            "Requirement already satisfied: scipy in /usr/local/lib/python3.11/dist-packages (from xgboost) (1.15.3)\n",
            "Requirement already satisfied: tensorflow in /usr/local/lib/python3.11/dist-packages (2.18.0)\n",
            "Requirement already satisfied: absl-py>=1.0.0 in /usr/local/lib/python3.11/dist-packages (from tensorflow) (1.4.0)\n",
            "Requirement already satisfied: astunparse>=1.6.0 in /usr/local/lib/python3.11/dist-packages (from tensorflow) (1.6.3)\n",
            "Requirement already satisfied: flatbuffers>=24.3.25 in /usr/local/lib/python3.11/dist-packages (from tensorflow) (25.2.10)\n",
            "Requirement already satisfied: gast!=0.5.0,!=0.5.1,!=0.5.2,>=0.2.1 in /usr/local/lib/python3.11/dist-packages (from tensorflow) (0.6.0)\n",
            "Requirement already satisfied: google-pasta>=0.1.1 in /usr/local/lib/python3.11/dist-packages (from tensorflow) (0.2.0)\n",
            "Requirement already satisfied: libclang>=13.0.0 in /usr/local/lib/python3.11/dist-packages (from tensorflow) (18.1.1)\n",
            "Requirement already satisfied: opt-einsum>=2.3.2 in /usr/local/lib/python3.11/dist-packages (from tensorflow) (3.4.0)\n",
            "Requirement already satisfied: packaging in /usr/local/lib/python3.11/dist-packages (from tensorflow) (24.2)\n",
            "Requirement already satisfied: protobuf!=4.21.0,!=4.21.1,!=4.21.2,!=4.21.3,!=4.21.4,!=4.21.5,<6.0.0dev,>=3.20.3 in /usr/local/lib/python3.11/dist-packages (from tensorflow) (5.29.5)\n",
            "Requirement already satisfied: requests<3,>=2.21.0 in /usr/local/lib/python3.11/dist-packages (from tensorflow) (2.32.3)\n",
            "Requirement already satisfied: setuptools in /usr/local/lib/python3.11/dist-packages (from tensorflow) (75.2.0)\n",
            "Requirement already satisfied: six>=1.12.0 in /usr/local/lib/python3.11/dist-packages (from tensorflow) (1.17.0)\n",
            "Requirement already satisfied: termcolor>=1.1.0 in /usr/local/lib/python3.11/dist-packages (from tensorflow) (3.1.0)\n",
            "Requirement already satisfied: typing-extensions>=3.6.6 in /usr/local/lib/python3.11/dist-packages (from tensorflow) (4.14.0)\n",
            "Requirement already satisfied: wrapt>=1.11.0 in /usr/local/lib/python3.11/dist-packages (from tensorflow) (1.17.2)\n",
            "Requirement already satisfied: grpcio<2.0,>=1.24.3 in /usr/local/lib/python3.11/dist-packages (from tensorflow) (1.73.0)\n",
            "Requirement already satisfied: tensorboard<2.19,>=2.18 in /usr/local/lib/python3.11/dist-packages (from tensorflow) (2.18.0)\n",
            "Requirement already satisfied: keras>=3.5.0 in /usr/local/lib/python3.11/dist-packages (from tensorflow) (3.8.0)\n",
            "Requirement already satisfied: numpy<2.1.0,>=1.26.0 in /usr/local/lib/python3.11/dist-packages (from tensorflow) (2.0.2)\n",
            "Requirement already satisfied: h5py>=3.11.0 in /usr/local/lib/python3.11/dist-packages (from tensorflow) (3.14.0)\n",
            "Requirement already satisfied: ml-dtypes<0.5.0,>=0.4.0 in /usr/local/lib/python3.11/dist-packages (from tensorflow) (0.4.1)\n",
            "Requirement already satisfied: tensorflow-io-gcs-filesystem>=0.23.1 in /usr/local/lib/python3.11/dist-packages (from tensorflow) (0.37.1)\n",
            "Requirement already satisfied: wheel<1.0,>=0.23.0 in /usr/local/lib/python3.11/dist-packages (from astunparse>=1.6.0->tensorflow) (0.45.1)\n",
            "Requirement already satisfied: rich in /usr/local/lib/python3.11/dist-packages (from keras>=3.5.0->tensorflow) (13.9.4)\n",
            "Requirement already satisfied: namex in /usr/local/lib/python3.11/dist-packages (from keras>=3.5.0->tensorflow) (0.1.0)\n",
            "Requirement already satisfied: optree in /usr/local/lib/python3.11/dist-packages (from keras>=3.5.0->tensorflow) (0.16.0)\n",
            "Requirement already satisfied: charset-normalizer<4,>=2 in /usr/local/lib/python3.11/dist-packages (from requests<3,>=2.21.0->tensorflow) (3.4.2)\n",
            "Requirement already satisfied: idna<4,>=2.5 in /usr/local/lib/python3.11/dist-packages (from requests<3,>=2.21.0->tensorflow) (3.10)\n",
            "Requirement already satisfied: urllib3<3,>=1.21.1 in /usr/local/lib/python3.11/dist-packages (from requests<3,>=2.21.0->tensorflow) (2.4.0)\n",
            "Requirement already satisfied: certifi>=2017.4.17 in /usr/local/lib/python3.11/dist-packages (from requests<3,>=2.21.0->tensorflow) (2025.6.15)\n",
            "Requirement already satisfied: markdown>=2.6.8 in /usr/local/lib/python3.11/dist-packages (from tensorboard<2.19,>=2.18->tensorflow) (3.8.2)\n",
            "Requirement already satisfied: tensorboard-data-server<0.8.0,>=0.7.0 in /usr/local/lib/python3.11/dist-packages (from tensorboard<2.19,>=2.18->tensorflow) (0.7.2)\n",
            "Requirement already satisfied: werkzeug>=1.0.1 in /usr/local/lib/python3.11/dist-packages (from tensorboard<2.19,>=2.18->tensorflow) (3.1.3)\n",
            "Requirement already satisfied: MarkupSafe>=2.1.1 in /usr/local/lib/python3.11/dist-packages (from werkzeug>=1.0.1->tensorboard<2.19,>=2.18->tensorflow) (3.0.2)\n",
            "Requirement already satisfied: markdown-it-py>=2.2.0 in /usr/local/lib/python3.11/dist-packages (from rich->keras>=3.5.0->tensorflow) (3.0.0)\n",
            "Requirement already satisfied: pygments<3.0.0,>=2.13.0 in /usr/local/lib/python3.11/dist-packages (from rich->keras>=3.5.0->tensorflow) (2.19.2)\n",
            "Requirement already satisfied: mdurl~=0.1 in /usr/local/lib/python3.11/dist-packages (from markdown-it-py>=2.2.0->rich->keras>=3.5.0->tensorflow) (0.1.2)\n",
            "Collecting streamlit\n",
            "  Downloading streamlit-1.46.1-py3-none-any.whl.metadata (9.0 kB)\n",
            "Requirement already satisfied: altair<6,>=4.0 in /usr/local/lib/python3.11/dist-packages (from streamlit) (5.5.0)\n",
            "Requirement already satisfied: blinker<2,>=1.5.0 in /usr/local/lib/python3.11/dist-packages (from streamlit) (1.9.0)\n",
            "Requirement already satisfied: cachetools<7,>=4.0 in /usr/local/lib/python3.11/dist-packages (from streamlit) (5.5.2)\n",
            "Requirement already satisfied: click<9,>=7.0 in /usr/local/lib/python3.11/dist-packages (from streamlit) (8.2.1)\n",
            "Requirement already satisfied: numpy<3,>=1.23 in /usr/local/lib/python3.11/dist-packages (from streamlit) (2.0.2)\n",
            "Requirement already satisfied: packaging<26,>=20 in /usr/local/lib/python3.11/dist-packages (from streamlit) (24.2)\n",
            "Requirement already satisfied: pandas<3,>=1.4.0 in /usr/local/lib/python3.11/dist-packages (from streamlit) (2.2.2)\n",
            "Requirement already satisfied: pillow<12,>=7.1.0 in /usr/local/lib/python3.11/dist-packages (from streamlit) (11.2.1)\n",
            "Requirement already satisfied: protobuf<7,>=3.20 in /usr/local/lib/python3.11/dist-packages (from streamlit) (5.29.5)\n",
            "Requirement already satisfied: pyarrow>=7.0 in /usr/local/lib/python3.11/dist-packages (from streamlit) (18.1.0)\n",
            "Requirement already satisfied: requests<3,>=2.27 in /usr/local/lib/python3.11/dist-packages (from streamlit) (2.32.3)\n",
            "Requirement already satisfied: tenacity<10,>=8.1.0 in /usr/local/lib/python3.11/dist-packages (from streamlit) (8.5.0)\n",
            "Requirement already satisfied: toml<2,>=0.10.1 in /usr/local/lib/python3.11/dist-packages (from streamlit) (0.10.2)\n",
            "Requirement already satisfied: typing-extensions<5,>=4.4.0 in /usr/local/lib/python3.11/dist-packages (from streamlit) (4.14.0)\n",
            "Collecting watchdog<7,>=2.1.5 (from streamlit)\n",
            "  Downloading watchdog-6.0.0-py3-none-manylinux2014_x86_64.whl.metadata (44 kB)\n",
            "\u001b[2K     \u001b[90m━━━━━━━━━━━━━━━━━━━━━━━━━━━━━━━━━━━━━━━━\u001b[0m \u001b[32m44.3/44.3 kB\u001b[0m \u001b[31m4.1 MB/s\u001b[0m eta \u001b[36m0:00:00\u001b[0m\n",
            "\u001b[?25hRequirement already satisfied: gitpython!=3.1.19,<4,>=3.0.7 in /usr/local/lib/python3.11/dist-packages (from streamlit) (3.1.44)\n",
            "Collecting pydeck<1,>=0.8.0b4 (from streamlit)\n",
            "  Downloading pydeck-0.9.1-py2.py3-none-any.whl.metadata (4.1 kB)\n",
            "Requirement already satisfied: tornado!=6.5.0,<7,>=6.0.3 in /usr/local/lib/python3.11/dist-packages (from streamlit) (6.4.2)\n",
            "Requirement already satisfied: jinja2 in /usr/local/lib/python3.11/dist-packages (from altair<6,>=4.0->streamlit) (3.1.6)\n",
            "Requirement already satisfied: jsonschema>=3.0 in /usr/local/lib/python3.11/dist-packages (from altair<6,>=4.0->streamlit) (4.24.0)\n",
            "Requirement already satisfied: narwhals>=1.14.2 in /usr/local/lib/python3.11/dist-packages (from altair<6,>=4.0->streamlit) (1.44.0)\n",
            "Requirement already satisfied: gitdb<5,>=4.0.1 in /usr/local/lib/python3.11/dist-packages (from gitpython!=3.1.19,<4,>=3.0.7->streamlit) (4.0.12)\n",
            "Requirement already satisfied: python-dateutil>=2.8.2 in /usr/local/lib/python3.11/dist-packages (from pandas<3,>=1.4.0->streamlit) (2.9.0.post0)\n",
            "Requirement already satisfied: pytz>=2020.1 in /usr/local/lib/python3.11/dist-packages (from pandas<3,>=1.4.0->streamlit) (2025.2)\n",
            "Requirement already satisfied: tzdata>=2022.7 in /usr/local/lib/python3.11/dist-packages (from pandas<3,>=1.4.0->streamlit) (2025.2)\n",
            "Requirement already satisfied: charset-normalizer<4,>=2 in /usr/local/lib/python3.11/dist-packages (from requests<3,>=2.27->streamlit) (3.4.2)\n",
            "Requirement already satisfied: idna<4,>=2.5 in /usr/local/lib/python3.11/dist-packages (from requests<3,>=2.27->streamlit) (3.10)\n",
            "Requirement already satisfied: urllib3<3,>=1.21.1 in /usr/local/lib/python3.11/dist-packages (from requests<3,>=2.27->streamlit) (2.4.0)\n",
            "Requirement already satisfied: certifi>=2017.4.17 in /usr/local/lib/python3.11/dist-packages (from requests<3,>=2.27->streamlit) (2025.6.15)\n",
            "Requirement already satisfied: smmap<6,>=3.0.1 in /usr/local/lib/python3.11/dist-packages (from gitdb<5,>=4.0.1->gitpython!=3.1.19,<4,>=3.0.7->streamlit) (5.0.2)\n",
            "Requirement already satisfied: MarkupSafe>=2.0 in /usr/local/lib/python3.11/dist-packages (from jinja2->altair<6,>=4.0->streamlit) (3.0.2)\n",
            "Requirement already satisfied: attrs>=22.2.0 in /usr/local/lib/python3.11/dist-packages (from jsonschema>=3.0->altair<6,>=4.0->streamlit) (25.3.0)\n",
            "Requirement already satisfied: jsonschema-specifications>=2023.03.6 in /usr/local/lib/python3.11/dist-packages (from jsonschema>=3.0->altair<6,>=4.0->streamlit) (2025.4.1)\n",
            "Requirement already satisfied: referencing>=0.28.4 in /usr/local/lib/python3.11/dist-packages (from jsonschema>=3.0->altair<6,>=4.0->streamlit) (0.36.2)\n",
            "Requirement already satisfied: rpds-py>=0.7.1 in /usr/local/lib/python3.11/dist-packages (from jsonschema>=3.0->altair<6,>=4.0->streamlit) (0.25.1)\n",
            "Requirement already satisfied: six>=1.5 in /usr/local/lib/python3.11/dist-packages (from python-dateutil>=2.8.2->pandas<3,>=1.4.0->streamlit) (1.17.0)\n",
            "Downloading streamlit-1.46.1-py3-none-any.whl (10.1 MB)\n",
            "\u001b[2K   \u001b[90m━━━━━━━━━━━━━━━━━━━━━━━━━━━━━━━━━━━━━━━━\u001b[0m \u001b[32m10.1/10.1 MB\u001b[0m \u001b[31m91.7 MB/s\u001b[0m eta \u001b[36m0:00:00\u001b[0m\n",
            "\u001b[?25hDownloading pydeck-0.9.1-py2.py3-none-any.whl (6.9 MB)\n",
            "\u001b[2K   \u001b[90m━━━━━━━━━━━━━━━━━━━━━━━━━━━━━━━━━━━━━━━━\u001b[0m \u001b[32m6.9/6.9 MB\u001b[0m \u001b[31m114.4 MB/s\u001b[0m eta \u001b[36m0:00:00\u001b[0m\n",
            "\u001b[?25hDownloading watchdog-6.0.0-py3-none-manylinux2014_x86_64.whl (79 kB)\n",
            "\u001b[2K   \u001b[90m━━━━━━━━━━━━━━━━━━━━━━━━━━━━━━━━━━━━━━━━\u001b[0m \u001b[32m79.1/79.1 kB\u001b[0m \u001b[31m8.5 MB/s\u001b[0m eta \u001b[36m0:00:00\u001b[0m\n",
            "\u001b[?25hInstalling collected packages: watchdog, pydeck, streamlit\n",
            "Successfully installed pydeck-0.9.1 streamlit-1.46.1 watchdog-6.0.0\n",
            "Descargando archivo...\n"
          ]
        },
        {
          "output_type": "stream",
          "name": "stderr",
          "text": [
            "/usr/local/lib/python3.11/dist-packages/rdata/conversion/_conversion.py:856: UserWarning: Missing constructor for R class \"bbox\". The underlying R object is returned instead.\n",
            "  warnings.warn(\n",
            "/usr/local/lib/python3.11/dist-packages/rdata/conversion/_conversion.py:856: UserWarning: Missing constructor for R class \"crs\". The underlying R object is returned instead.\n",
            "  warnings.warn(\n",
            "/usr/local/lib/python3.11/dist-packages/rdata/conversion/_conversion.py:856: UserWarning: Missing constructor for R class \"XY\". The constructor for class \"POINT\" will be used instead.\n",
            "  warnings.warn(\n",
            "/usr/local/lib/python3.11/dist-packages/rdata/conversion/_conversion.py:856: UserWarning: Missing constructor for R class \"POINT\". The constructor for class \"sfg\" will be used instead.\n",
            "  warnings.warn(\n",
            "/usr/local/lib/python3.11/dist-packages/rdata/conversion/_conversion.py:856: UserWarning: Missing constructor for R class \"sfg\". The underlying R object is returned instead.\n",
            "  warnings.warn(\n",
            "/usr/local/lib/python3.11/dist-packages/rdata/conversion/_conversion.py:856: UserWarning: Missing constructor for R class \"sfc_POINT\". The constructor for class \"sfc\" will be used instead.\n",
            "  warnings.warn(\n",
            "/usr/local/lib/python3.11/dist-packages/rdata/conversion/_conversion.py:856: UserWarning: Missing constructor for R class \"sfc\". The underlying R object is returned instead.\n",
            "  warnings.warn(\n",
            "/usr/local/lib/python3.11/dist-packages/rdata/conversion/_conversion.py:856: UserWarning: Missing constructor for R class \"sf\". The constructor for class \"data.frame\" will be used instead.\n",
            "  warnings.warn(\n"
          ]
        },
        {
          "output_type": "stream",
          "name": "stdout",
          "text": [
            "Claves en el archivo: dict_keys(['Madrid_Sale'])\n",
            "                 ASSETID  PERIOD     PRICE    UNITPRICE  CONSTRUCTEDAREA  \\\n",
            "1  A15019136831406238029  201803  126000.0  2680.851064               47   \n",
            "2   A6677225905472065344  201803  235000.0  4351.851852               54   \n",
            "3  A13341979748618524775  201803  373000.0  4973.333333               75   \n",
            "4   A4775182175615276542  201803  284000.0  5916.666667               48   \n",
            "5   A2492087730711701973  201803  228000.0  4560.000000               50   \n",
            "\n",
            "   ROOMNUMBER  BATHNUMBER  HASTERRACE  HASLIFT  HASAIRCONDITIONING  ...  \\\n",
            "1           1           1           0        1                   1  ...   \n",
            "2           1           1           0        0                   0  ...   \n",
            "3           2           1           0        0                   1  ...   \n",
            "4           1           1           0        1                   1  ...   \n",
            "5           0           1           0        0                   0  ...   \n",
            "\n",
            "   CADASTRALQUALITYID  BUILTTYPEID_1  BUILTTYPEID_2  BUILTTYPEID_3  \\\n",
            "1                   3              0              1              0   \n",
            "2                   3              0              0              1   \n",
            "3                   3              0              0              1   \n",
            "4                   5              0              0              1   \n",
            "5                   7              0              0              1   \n",
            "\n",
            "   DISTANCE_TO_CITY_CENTER  DISTANCE_TO_METRO  DISTANCE_TO_CASTELLANA  \\\n",
            "1                 8.058429           0.872075                6.868677   \n",
            "2                 0.876369           0.116382                1.544125   \n",
            "3                 0.907479           0.139109                1.608444   \n",
            "4                 0.845462           0.144299                1.516166   \n",
            "5                 1.250231           0.337098                1.794136   \n",
            "\n",
            "   LONGITUDE   LATITUDE                               geometry  \n",
            "1  -3.766933  40.362485  [-3.76693282740492, 40.3624847687389]  \n",
            "2  -3.710725  40.422430  [-3.71072465730388, 40.4224298907482]  \n",
            "3  -3.711571  40.422190    [-3.711570866261, 40.4221904507903]  \n",
            "4  -3.710440  40.422251  [-3.71043986942694, 40.4222514604856]  \n",
            "5  -3.714340  40.408741  [-3.71434022421324, 40.4087408924555]  \n",
            "\n",
            "[5 rows x 42 columns]\n"
          ]
        }
      ],
      "source": [
        "# Instalar dependencias necesarias (solo la primera vez)\n",
        "!pip install rpy2\n",
        "!pip install pyreadr # Install the pyreadr package, it is a modern and better alternative to rdata.\n",
        "!pip install rdata # Install rdata to resolve the ModuleNotFoundError\n",
        "!pip install xgboost\n",
        "%pip install tensorflow\n",
        "!pip install streamlit\n",
        "\n",
        "import os\n",
        "import urllib.request\n",
        "import rdata\n",
        "import pandas as pd\n",
        "\n",
        "# Nombre del archivo a usar\n",
        "file_name = \"Madrid_Sale.rda\"\n",
        "file_url = f\"https://github.com/paezha/idealista18/raw/master/data/{file_name}\"\n",
        "file_path = os.path.join(\"data\", file_name)\n",
        "\n",
        "# Crear carpeta 'data' si no existe\n",
        "os.makedirs(\"data\", exist_ok=True)\n",
        "\n",
        "# Descargar el archivo si no existe\n",
        "if not os.path.isfile(file_path):\n",
        "    print(\"Descargando archivo...\")\n",
        "    urllib.request.urlretrieve(file_url, file_path)\n",
        "else:\n",
        "    print(\"Archivo ya existe.\")\n",
        "\n",
        "# Leer el archivo .rda\n",
        "data = rdata.read_rda(file_path)\n",
        "\n",
        "# Ver claves disponibles en el archivo\n",
        "print(\"Claves en el archivo:\", data.keys())\n",
        "\n",
        "# Extraer el DataFrame principal\n",
        "madrid_sale_df = data['Madrid_Sale']\n",
        "\n",
        "# Mostrar las primeras filas\n",
        "print(madrid_sale_df.head())"
      ]
    },
    {
      "cell_type": "markdown",
      "metadata": {
        "id": "Ut016tIaP4qm"
      },
      "source": [
        "# Análisis de datos"
      ]
    },
    {
      "cell_type": "markdown",
      "metadata": {
        "id": "Z23Lcj9Q9Nr-"
      },
      "source": [
        "En primer lugar, se va a realizar un análisis de todas las columnas"
      ]
    },
    {
      "cell_type": "code",
      "execution_count": 2,
      "metadata": {
        "id": "b2N3OKqE-Qk_",
        "colab": {
          "base_uri": "https://localhost:8080/"
        },
        "outputId": "c14ed2c2-0a8b-4e9f-fb60-d4aaf09e3aca"
      },
      "outputs": [
        {
          "output_type": "execute_result",
          "data": {
            "text/plain": [
              "Index(['ASSETID', 'PERIOD', 'PRICE', 'UNITPRICE', 'CONSTRUCTEDAREA',\n",
              "       'ROOMNUMBER', 'BATHNUMBER', 'HASTERRACE', 'HASLIFT',\n",
              "       'HASAIRCONDITIONING', 'AMENITYID', 'HASPARKINGSPACE',\n",
              "       'ISPARKINGSPACEINCLUDEDINPRICE', 'PARKINGSPACEPRICE',\n",
              "       'HASNORTHORIENTATION', 'HASSOUTHORIENTATION', 'HASEASTORIENTATION',\n",
              "       'HASWESTORIENTATION', 'HASBOXROOM', 'HASWARDROBE', 'HASSWIMMINGPOOL',\n",
              "       'HASDOORMAN', 'HASGARDEN', 'ISDUPLEX', 'ISSTUDIO', 'ISINTOPFLOOR',\n",
              "       'CONSTRUCTIONYEAR', 'FLOORCLEAN', 'FLATLOCATIONID',\n",
              "       'CADCONSTRUCTIONYEAR', 'CADMAXBUILDINGFLOOR', 'CADDWELLINGCOUNT',\n",
              "       'CADASTRALQUALITYID', 'BUILTTYPEID_1', 'BUILTTYPEID_2', 'BUILTTYPEID_3',\n",
              "       'DISTANCE_TO_CITY_CENTER', 'DISTANCE_TO_METRO',\n",
              "       'DISTANCE_TO_CASTELLANA', 'LONGITUDE', 'LATITUDE', 'geometry'],\n",
              "      dtype='object')"
            ]
          },
          "metadata": {},
          "execution_count": 2
        }
      ],
      "source": [
        "madrid_sale_df.columns"
      ]
    },
    {
      "cell_type": "code",
      "execution_count": 3,
      "metadata": {
        "id": "uJGq2cwZEB2o"
      },
      "outputs": [],
      "source": [
        "madrid_sale_df = madrid_sale_df.drop(columns=['ASSETID',\"geometry\"])"
      ]
    },
    {
      "cell_type": "markdown",
      "metadata": {
        "id": "-HvnxzIMGOiR"
      },
      "source": [
        "Ahora se va a realizar un análisis de correlación contra la variable Price, para posteriormente ver como son esas variables"
      ]
    },
    {
      "cell_type": "code",
      "execution_count": 4,
      "metadata": {
        "id": "2W8SRRiIGNxi",
        "colab": {
          "base_uri": "https://localhost:8080/"
        },
        "outputId": "b1324d43-f5ea-4cb9-936c-a33fbbe5cea6"
      },
      "outputs": [
        {
          "output_type": "stream",
          "name": "stdout",
          "text": [
            "\n",
            "--- Correlaciones Pearson (continuas) ---\n",
            "                         Pearson con PRICE\n",
            "CONSTRUCTEDAREA                   0.859471\n",
            "BATHNUMBER                        0.717569\n",
            "UNITPRICE                         0.587778\n",
            "ROOMNUMBER                        0.464571\n",
            "LATITUDE                          0.246950\n",
            "FLOORCLEAN                        0.176653\n",
            "CADMAXBUILDINGFLOOR               0.165207\n",
            "PARKINGSPACEPRICE                 0.054933\n",
            "CADDWELLINGCOUNT                 -0.000711\n",
            "DISTANCE_TO_METRO                -0.011383\n",
            "LONGITUDE                        -0.035541\n",
            "CONSTRUCTIONYEAR                 -0.056794\n",
            "CADCONSTRUCTIONYEAR              -0.074108\n",
            "DISTANCE_TO_CITY_CENTER          -0.201389\n",
            "DISTANCE_TO_CASTELLANA           -0.249092\n",
            "\n",
            "--- Correlaciones Spearman (continuas) ---\n",
            "                         Spearman con PRICE\n",
            "UNITPRICE                          0.745610\n",
            "CONSTRUCTEDAREA                    0.725092\n",
            "BATHNUMBER                         0.671420\n",
            "LATITUDE                           0.456912\n",
            "ROOMNUMBER                         0.395370\n",
            "CADMAXBUILDINGFLOOR                0.361696\n",
            "FLOORCLEAN                         0.227832\n",
            "CADDWELLINGCOUNT                   0.221354\n",
            "PARKINGSPACEPRICE                  0.079104\n",
            "LONGITUDE                          0.016372\n",
            "CONSTRUCTIONYEAR                  -0.011229\n",
            "CADCONSTRUCTIONYEAR               -0.020868\n",
            "DISTANCE_TO_METRO                 -0.173279\n",
            "DISTANCE_TO_CITY_CENTER           -0.311553\n",
            "DISTANCE_TO_CASTELLANA            -0.435237\n",
            "\n",
            "--- p-valores ANOVA (categóricas) ---\n",
            "                               p-valor ANOVA\n",
            "HASAIRCONDITIONING              0.000000e+00\n",
            "HASLIFT                         0.000000e+00\n",
            "ISPARKINGSPACEINCLUDEDINPRICE   0.000000e+00\n",
            "HASPARKINGSPACE                 0.000000e+00\n",
            "HASWARDROBE                     0.000000e+00\n",
            "HASDOORMAN                      0.000000e+00\n",
            "HASBOXROOM                      0.000000e+00\n",
            "CADASTRALQUALITYID              0.000000e+00\n",
            "FLATLOCATIONID                 3.288323e-241\n",
            "HASSWIMMINGPOOL                7.985753e-215\n",
            "HASWESTORIENTATION             4.209001e-193\n",
            "HASSOUTHORIENTATION            4.034877e-143\n",
            "ISSTUDIO                       8.449117e-116\n",
            "HASGARDEN                      1.089072e-103\n",
            "HASTERRACE                      2.282804e-87\n",
            "BUILTTYPEID_3                   5.650996e-83\n",
            "BUILTTYPEID_2                   6.908029e-81\n",
            "ISDUPLEX                        4.891831e-74\n",
            "HASEASTORIENTATION              3.989862e-60\n",
            "PERIOD                          1.182790e-45\n",
            "HASNORTHORIENTATION             3.954794e-45\n",
            "ISINTOPFLOOR                    5.653957e-22\n",
            "BUILTTYPEID_1                   1.901439e-03\n",
            "AMENITYID                       8.826130e-03\n"
          ]
        }
      ],
      "source": [
        "import pandas as pd\n",
        "import numpy as np\n",
        "from scipy.stats import spearmanr, pearsonr, f_oneway\n",
        "\n",
        "# Copiar el DataFrame original\n",
        "df = madrid_sale_df.copy()\n",
        "\n",
        "\n",
        "# Inicializar diccionarios para resultados\n",
        "correlaciones_pearson = {}\n",
        "correlaciones_spearman = {}\n",
        "anova_categoricas = {}\n",
        "\n",
        "# Columnas a excluir manualmente\n",
        "excluded_cols = ['geometry', 'unitprice']\n",
        "\n",
        "# Iterar sobre todas las columnas\n",
        "for col in df.columns:\n",
        "    if col == 'PRICE' or col in excluded_cols:\n",
        "        continue\n",
        "\n",
        "    n_unique = df[col].nunique(dropna=True)\n",
        "\n",
        "    # Variables continuas: numéricas con más de 10 valores únicos\n",
        "    if n_unique > 10:\n",
        "        try:\n",
        "            valid_rows = df[['PRICE', col]].dropna()\n",
        "            pearson_corr, _ = pearsonr(valid_rows['PRICE'], valid_rows[col])\n",
        "            spearman_corr, _ = spearmanr(valid_rows['PRICE'], valid_rows[col])\n",
        "            correlaciones_pearson[col] = pearson_corr\n",
        "            correlaciones_spearman[col] = spearman_corr\n",
        "        except Exception as e:\n",
        "            print(f\"No se pudo calcular correlación para {col}: {e}\")\n",
        "\n",
        "    # Variables categóricas: pocas categorías (<= 10)\n",
        "    elif n_unique <= 10:\n",
        "        try:\n",
        "            groups = [group['PRICE'].dropna() for name, group in df[[col, 'PRICE']].groupby(col)]\n",
        "            if len(groups) > 1:\n",
        "                _, p_val = f_oneway(*groups)\n",
        "                anova_categoricas[col] = p_val\n",
        "        except Exception as e:\n",
        "            print(f\"No se pudo calcular ANOVA para {col}: {e}\")\n",
        "\n",
        "# Crear DataFrames con resultados ordenados\n",
        "df_pearson = pd.DataFrame.from_dict(correlaciones_pearson, orient='index', columns=['Pearson con PRICE'])\n",
        "df_pearson = df_pearson.sort_values(by='Pearson con PRICE', ascending=False)\n",
        "\n",
        "df_spearman = pd.DataFrame.from_dict(correlaciones_spearman, orient='index', columns=['Spearman con PRICE'])\n",
        "df_spearman = df_spearman.sort_values(by='Spearman con PRICE', ascending=False)\n",
        "\n",
        "df_anova = pd.DataFrame.from_dict(anova_categoricas, orient='index', columns=['p-valor ANOVA'])\n",
        "df_anova = df_anova.sort_values(by='p-valor ANOVA')\n",
        "\n",
        "# Mostrar resultados\n",
        "print(\"\\n--- Correlaciones Pearson (continuas) ---\")\n",
        "print(df_pearson)\n",
        "\n",
        "print(\"\\n--- Correlaciones Spearman (continuas) ---\")\n",
        "print(df_spearman)\n",
        "\n",
        "print(\"\\n--- p-valores ANOVA (categóricas) ---\")\n",
        "print(df_anova)\n"
      ]
    },
    {
      "cell_type": "markdown",
      "metadata": {
        "id": "y3EY60YBQyHS"
      },
      "source": [
        "Una vez análizado cuales son las variables mas correlacionadas con la variable objetivo, que son CONSTRUCTEDAREA, BATHNUMER, UNITPRICE, HASAIRCONDITIONING y FLATLOCATIONID, se van a representar graficamente. Previamente, se va a representar la variable PRICE"
      ]
    },
    {
      "cell_type": "code",
      "source": [
        "df['PERIOD'].describe()"
      ],
      "metadata": {
        "colab": {
          "base_uri": "https://localhost:8080/",
          "height": 335
        },
        "id": "41TnaOV64TVj",
        "outputId": "880ffe29-79cd-4c8e-dedb-240909d56102"
      },
      "execution_count": null,
      "outputs": [
        {
          "output_type": "execute_result",
          "data": {
            "text/plain": [
              "count          94815.0\n",
              "mean     201808.613289\n",
              "std           3.684625\n",
              "min           201803.0\n",
              "25%           201806.0\n",
              "50%           201809.0\n",
              "75%           201812.0\n",
              "max           201812.0\n",
              "Name: PERIOD, dtype: Float64"
            ],
            "text/html": [
              "<div>\n",
              "<style scoped>\n",
              "    .dataframe tbody tr th:only-of-type {\n",
              "        vertical-align: middle;\n",
              "    }\n",
              "\n",
              "    .dataframe tbody tr th {\n",
              "        vertical-align: top;\n",
              "    }\n",
              "\n",
              "    .dataframe thead th {\n",
              "        text-align: right;\n",
              "    }\n",
              "</style>\n",
              "<table border=\"1\" class=\"dataframe\">\n",
              "  <thead>\n",
              "    <tr style=\"text-align: right;\">\n",
              "      <th></th>\n",
              "      <th>PERIOD</th>\n",
              "    </tr>\n",
              "  </thead>\n",
              "  <tbody>\n",
              "    <tr>\n",
              "      <th>count</th>\n",
              "      <td>94815.0</td>\n",
              "    </tr>\n",
              "    <tr>\n",
              "      <th>mean</th>\n",
              "      <td>201808.613289</td>\n",
              "    </tr>\n",
              "    <tr>\n",
              "      <th>std</th>\n",
              "      <td>3.684625</td>\n",
              "    </tr>\n",
              "    <tr>\n",
              "      <th>min</th>\n",
              "      <td>201803.0</td>\n",
              "    </tr>\n",
              "    <tr>\n",
              "      <th>25%</th>\n",
              "      <td>201806.0</td>\n",
              "    </tr>\n",
              "    <tr>\n",
              "      <th>50%</th>\n",
              "      <td>201809.0</td>\n",
              "    </tr>\n",
              "    <tr>\n",
              "      <th>75%</th>\n",
              "      <td>201812.0</td>\n",
              "    </tr>\n",
              "    <tr>\n",
              "      <th>max</th>\n",
              "      <td>201812.0</td>\n",
              "    </tr>\n",
              "  </tbody>\n",
              "</table>\n",
              "</div><br><label><b>dtype:</b> Float64</label>"
            ]
          },
          "metadata": {},
          "execution_count": 6
        }
      ]
    },
    {
      "cell_type": "markdown",
      "source": [
        "Variable PRICE"
      ],
      "metadata": {
        "id": "A-kcrc0F9gfz"
      }
    },
    {
      "cell_type": "code",
      "execution_count": null,
      "metadata": {
        "id": "sNhVWOXR9jSV",
        "colab": {
          "base_uri": "https://localhost:8080/",
          "height": 335
        },
        "outputId": "c6fe667f-c7b1-426a-fc35-7c1dc59f146f"
      },
      "outputs": [
        {
          "output_type": "execute_result",
          "data": {
            "text/plain": [
              "count    9.481500e+04\n",
              "mean     3.961101e+05\n",
              "std      4.170744e+05\n",
              "min      2.100000e+04\n",
              "25%      1.600000e+05\n",
              "50%      2.620000e+05\n",
              "75%      4.670000e+05\n",
              "max      8.133000e+06\n",
              "Name: PRICE, dtype: float64"
            ],
            "text/html": [
              "<div>\n",
              "<style scoped>\n",
              "    .dataframe tbody tr th:only-of-type {\n",
              "        vertical-align: middle;\n",
              "    }\n",
              "\n",
              "    .dataframe tbody tr th {\n",
              "        vertical-align: top;\n",
              "    }\n",
              "\n",
              "    .dataframe thead th {\n",
              "        text-align: right;\n",
              "    }\n",
              "</style>\n",
              "<table border=\"1\" class=\"dataframe\">\n",
              "  <thead>\n",
              "    <tr style=\"text-align: right;\">\n",
              "      <th></th>\n",
              "      <th>PRICE</th>\n",
              "    </tr>\n",
              "  </thead>\n",
              "  <tbody>\n",
              "    <tr>\n",
              "      <th>count</th>\n",
              "      <td>9.481500e+04</td>\n",
              "    </tr>\n",
              "    <tr>\n",
              "      <th>mean</th>\n",
              "      <td>3.961101e+05</td>\n",
              "    </tr>\n",
              "    <tr>\n",
              "      <th>std</th>\n",
              "      <td>4.170744e+05</td>\n",
              "    </tr>\n",
              "    <tr>\n",
              "      <th>min</th>\n",
              "      <td>2.100000e+04</td>\n",
              "    </tr>\n",
              "    <tr>\n",
              "      <th>25%</th>\n",
              "      <td>1.600000e+05</td>\n",
              "    </tr>\n",
              "    <tr>\n",
              "      <th>50%</th>\n",
              "      <td>2.620000e+05</td>\n",
              "    </tr>\n",
              "    <tr>\n",
              "      <th>75%</th>\n",
              "      <td>4.670000e+05</td>\n",
              "    </tr>\n",
              "    <tr>\n",
              "      <th>max</th>\n",
              "      <td>8.133000e+06</td>\n",
              "    </tr>\n",
              "  </tbody>\n",
              "</table>\n",
              "</div><br><label><b>dtype:</b> float64</label>"
            ]
          },
          "metadata": {},
          "execution_count": 7
        }
      ],
      "source": [
        "df['PRICE'].describe()"
      ]
    },
    {
      "cell_type": "code",
      "execution_count": null,
      "metadata": {
        "id": "alNuuZIxuQHe",
        "colab": {
          "base_uri": "https://localhost:8080/",
          "height": 501
        },
        "outputId": "28d7c8db-f7f8-49a0-ae0a-46d134b22ea3"
      },
      "outputs": [
        {
          "output_type": "display_data",
          "data": {
            "text/plain": [
              "<Figure size 1600x500 with 2 Axes>"
            ],
            "image/png": "[encoded data removed]"
          },
          "metadata": {}
        }
      ],
      "source": [
        "import pandas as pd\n",
        "import matplotlib.pyplot as plt\n",
        "import seaborn as sns\n",
        "\n",
        "# Configuración general de gráficos\n",
        "sns.set(style=\"whitegrid\")\n",
        "plt.rcParams[\"figure.figsize\"] = (10, 6)\n",
        "\n",
        "# ANÁLISIS DE LA VARIABLE PRICE\n",
        "col = 'PRICE'\n",
        "\n",
        "# Crear figura con dos subgráficos\n",
        "fig, axes = plt.subplots(1, 2, figsize=(16, 5))\n",
        "\n",
        "# Histograma\n",
        "sns.histplot(df[col].dropna(), kde=True, ax=axes[0], color=\"skyblue\")\n",
        "axes[0].set_title(f\"Histograma de {col}\")\n",
        "axes[0].set_xlabel(col)\n",
        "axes[0].set_ylabel(\"Frecuencia\")\n",
        "\n",
        "# Boxplot\n",
        "sns.boxplot(x=df[col].dropna(), ax=axes[1], color=\"salmon\")\n",
        "axes[1].set_title(f\"Boxplot de {col}\")\n",
        "axes[1].set_xlabel(col)\n",
        "\n",
        "plt.tight_layout()\n",
        "plt.show()"
      ]
    },
    {
      "cell_type": "code",
      "source": [
        "# Encontrar el registro con el valor máximo de PRICE\n",
        "max_price = 8.133000e+06\n",
        "max_price_row = df[df['PRICE'] == max_price]\n",
        "\n",
        "# Verificar si se encontró el registro\n",
        "if not max_price_row.empty:\n",
        "    print(\"Registro con el valor máximo de PRICE (8,133,000):\")\n",
        "    print(max_price_row)\n",
        "else:\n",
        "    print(f\"No se encontró un registro con PRICE igual a {max_price}. Verifica el valor o el DataFrame.\")"
      ],
      "metadata": {
        "colab": {
          "base_uri": "https://localhost:8080/"
        },
        "id": "tF824gDP9kjJ",
        "outputId": "563ae708-3b75-4793-ea7d-031c55afe223"
      },
      "execution_count": null,
      "outputs": [
        {
          "output_type": "stream",
          "name": "stdout",
          "text": [
            "Registro con el valor máximo de PRICE (8,133,000):\n",
            "       PERIOD      PRICE    UNITPRICE  CONSTRUCTEDAREA  ROOMNUMBER  \\\n",
            "56065  201812  8133000.0  8707.708779              934           8   \n",
            "\n",
            "       BATHNUMBER  HASTERRACE  HASLIFT  HASAIRCONDITIONING  AMENITYID  ...  \\\n",
            "56065          10           0        0                   0          3  ...   \n",
            "\n",
            "       CADDWELLINGCOUNT  CADASTRALQUALITYID  BUILTTYPEID_1  BUILTTYPEID_2  \\\n",
            "56065                 2                   2              0              0   \n",
            "\n",
            "       BUILTTYPEID_3  DISTANCE_TO_CITY_CENTER  DISTANCE_TO_METRO  \\\n",
            "56065              1                 3.252209           0.507632   \n",
            "\n",
            "       DISTANCE_TO_CASTELLANA  LONGITUDE  LATITUDE  \n",
            "56065                0.123339  -3.690056  40.44387  \n",
            "\n",
            "[1 rows x 40 columns]\n"
          ]
        }
      ]
    },
    {
      "cell_type": "markdown",
      "source": [
        "Variable constructed area"
      ],
      "metadata": {
        "id": "vxdyxIJy9mH0"
      }
    },
    {
      "cell_type": "code",
      "source": [
        "import pandas as pd\n",
        "import matplotlib.pyplot as plt\n",
        "import seaborn as sns\n",
        "\n",
        "\n",
        "# Configuración general de gráficos\n",
        "sns.set(style=\"whitegrid\")\n",
        "plt.rcParams[\"figure.figsize\"] = (10, 6)\n",
        "\n",
        "# ANÁLISIS DE LA VARIABLE PRICE\n",
        "col = 'CONSTRUCTEDAREA'\n",
        "\n",
        "# Crear figura con dos subgráficos\n",
        "fig, axes = plt.subplots(1, 2, figsize=(16, 5))\n",
        "\n",
        "# Histograma\n",
        "sns.histplot(df[col].dropna(), kde=True, ax=axes[0], color=\"skyblue\")\n",
        "axes[0].set_title(f\"Histograma de {col}\")\n",
        "axes[0].set_xlabel(col)\n",
        "axes[0].set_ylabel(\"Frecuencia\")\n",
        "\n",
        "# Boxplot\n",
        "sns.boxplot(x=df[col].dropna(), ax=axes[1], color=\"salmon\")\n",
        "axes[1].set_title(f\"Boxplot de {col}\")\n",
        "axes[1].set_xlabel(col)\n",
        "\n",
        "plt.tight_layout()\n",
        "plt.show()"
      ],
      "metadata": {
        "colab": {
          "base_uri": "https://localhost:8080/",
          "height": 501
        },
        "id": "JGSTXtTw9qKi",
        "outputId": "1dc487db-4ab9-4c3d-da47-24e6f5504aa6"
      },
      "execution_count": null,
      "outputs": [
        {
          "output_type": "display_data",
          "data": {
            "text/plain": [
              "<Figure size 1600x500 with 2 Axes>"
            ],
            "image/png": "[encoded data removed]"
          },
          "metadata": {}
        }
      ]
    },
    {
      "cell_type": "markdown",
      "source": [
        "Variable BATHNUMBER"
      ],
      "metadata": {
        "id": "xBCDjHG89yfL"
      }
    },
    {
      "cell_type": "code",
      "source": [
        "import pandas as pd\n",
        "import matplotlib.pyplot as plt\n",
        "import seaborn as sns\n",
        "import numpy as np\n",
        "\n",
        "# Asegúrate de tener cargado tu DataFrame como `df`\n",
        "\n",
        "# Configuración general de gráficos\n",
        "sns.set(style=\"whitegrid\")\n",
        "plt.rcParams[\"figure.figsize\"] = (10, 6)\n",
        "\n",
        "# ANÁLISIS DE LA VARIABLE BATHNUMBER\n",
        "col = 'BATHNUMBER'\n",
        "\n",
        "# Crear una copia de la columna y agrupar valores > 6\n",
        "df_temp = df[[col]].copy()\n",
        "df_temp['BATHNUMBER_CATEG'] = df_temp[col].apply(lambda x: str(x) if x <= 5 else '6+' if pd.notnull(x) else x)\n",
        "\n",
        "# Definir el orden explícito de las categorías como tipo categórico\n",
        "category_order = ['0', '1', '2', '3', '4', '5', '6+']\n",
        "df_temp['BATHNUMBER_CATEG'] = pd.Categorical(df_temp['BATHNUMBER_CATEG'], categories=category_order, ordered=True)\n",
        "\n",
        "# Crear figura con dos subgráficos\n",
        "fig, axes = plt.subplots(1, 2, figsize=(16, 5))\n",
        "\n",
        "# Histograma con porcentajes y orden explícito\n",
        "sns.histplot(data=df_temp, x='BATHNUMBER_CATEG', ax=axes[0], color=\"skyblue\", stat=\"percent\")\n",
        "axes[0].set_title(f\"Histograma de {col}\")\n",
        "axes[0].set_xlabel(col)\n",
        "axes[0].set_ylabel(\"Porcentaje (%)\")\n",
        "\n",
        "# Boxplot de la variable original con ticks de 3 en 3\n",
        "sns.boxplot(x=df[col].dropna(), ax=axes[1], color=\"salmon\")\n",
        "axes[1].set_title(f\"Boxplot de {col}\")\n",
        "axes[1].set_xlabel(col)\n",
        "# Ajustar los ticks del eje x a valores enteros de 3 en 3\n",
        "min_val = int(df[col].dropna().min())\n",
        "max_val = int(df[col].dropna().max())\n",
        "integer_ticks = range(min_val - (min_val % 3), max_val + 1, 3)\n",
        "axes[1].set_xticks(integer_ticks)\n",
        "\n",
        "plt.tight_layout()\n",
        "plt.show()"
      ],
      "metadata": {
        "colab": {
          "base_uri": "https://localhost:8080/",
          "height": 501
        },
        "id": "xZAGY_iO90Zq",
        "outputId": "41ffc1d8-ced7-4cef-bfe3-2b40d42b2118"
      },
      "execution_count": null,
      "outputs": [
        {
          "output_type": "display_data",
          "data": {
            "text/plain": [
              "<Figure size 1600x500 with 2 Axes>"
            ],
            "image/png": "[encoded data removed]"
          },
          "metadata": {}
        }
      ]
    },
    {
      "cell_type": "code",
      "source": [
        "# Encontrar el registro con el valor máximo de PRICE\n",
        "max_bath = 20\n",
        "max_bath_row = df[df['BATHNUMBER'] == max_bath]\n",
        "\n",
        "# Verificar si se encontró el registro\n",
        "if not max_bath_row.empty:\n",
        "    print(\"Registro con el valor máximo de PRICE (8,133,000):\")\n",
        "    print(max_bath_row)\n",
        "else:\n",
        "    print(f\"No se encontró un registro con PRICE igual a {max_bath_row}. Verifica el valor o el DataFrame.\")"
      ],
      "metadata": {
        "colab": {
          "base_uri": "https://localhost:8080/"
        },
        "id": "FyVV9h7K_yJV",
        "outputId": "2ac7bf70-5e52-46e9-9a23-cfbe08d5b653"
      },
      "execution_count": null,
      "outputs": [
        {
          "output_type": "stream",
          "name": "stdout",
          "text": [
            "Registro con el valor máximo de PRICE (8,133,000):\n",
            "       PERIOD     PRICE    UNITPRICE  CONSTRUCTEDAREA  ROOMNUMBER  BATHNUMBER  \\\n",
            "68890  201806  850000.0  1416.666667              600          20          20   \n",
            "\n",
            "       HASTERRACE  HASLIFT  HASAIRCONDITIONING  AMENITYID  ...  \\\n",
            "68890           0        0                   1          3  ...   \n",
            "\n",
            "       CADDWELLINGCOUNT  CADASTRALQUALITYID  BUILTTYPEID_1  BUILTTYPEID_2  \\\n",
            "68890                43                   3              0              1   \n",
            "\n",
            "       BUILTTYPEID_3  DISTANCE_TO_CITY_CENTER  DISTANCE_TO_METRO  \\\n",
            "68890              0                 2.386553           0.319877   \n",
            "\n",
            "       DISTANCE_TO_CASTELLANA  LONGITUDE   LATITUDE  \n",
            "68890                1.130627  -3.678763  40.406766  \n",
            "\n",
            "[1 rows x 40 columns]\n"
          ]
        }
      ]
    },
    {
      "cell_type": "markdown",
      "source": [
        "Variable ROOMNUMBER"
      ],
      "metadata": {
        "id": "F8JlZB1EBR1f"
      }
    },
    {
      "cell_type": "code",
      "source": [
        "import pandas as pd\n",
        "import matplotlib.pyplot as plt\n",
        "import seaborn as sns\n",
        "import numpy as np\n",
        "\n",
        "# Configuración general de gráficos\n",
        "sns.set(style=\"whitegrid\")\n",
        "plt.rcParams[\"figure.figsize\"] = (10, 6)\n",
        "\n",
        "# ANÁLISIS DE LA VARIABLE ROOMNUMBER\n",
        "col = 'ROOMNUMBER'\n",
        "\n",
        "# Crear una copia de la columna y agrupar valores > 6\n",
        "df_temp = df[[col]].copy()\n",
        "df_temp['ROOMNUMBER_CATEG'] = df_temp[col].apply(lambda x: str(x) if x <= 5 else '6+' if pd.notnull(x) else x)\n",
        "\n",
        "# Definir el orden explícito de las categorías como tipo categórico\n",
        "category_order = ['0', '1', '2', '3', '4', '5', '6+']\n",
        "df_temp['ROOMNUMBER_CATEG'] = pd.Categorical(df_temp['ROOMNUMBER_CATEG'], categories=category_order, ordered=True)\n",
        "\n",
        "# Crear figura con dos subgráficos\n",
        "fig, axes = plt.subplots(1, 2, figsize=(16, 5))\n",
        "\n",
        "# Histograma con porcentajes y orden explícito\n",
        "sns.histplot(data=df_temp, x='ROOMNUMBER_CATEG', ax=axes[0], color=\"skyblue\", stat=\"percent\")\n",
        "axes[0].set_title(f\"Histograma de {col}\")\n",
        "axes[0].set_xlabel(col)\n",
        "axes[0].set_ylabel(\"Porcentaje (%)\")\n",
        "\n",
        "# Boxplot de la variable original con ticks de 3 en 3\n",
        "sns.boxplot(x=df[col].dropna(), ax=axes[1], color=\"salmon\")\n",
        "axes[1].set_title(f\"Boxplot de {col}\")\n",
        "axes[1].set_xlabel(col)\n",
        "# Ajustar los ticks del eje x a valores enteros de 3 en 3\n",
        "min_val = int(df[col].dropna().min())\n",
        "max_val = int(df[col].dropna().max())\n",
        "integer_ticks = range(min_val - (min_val % 3), max_val + 1, 10)\n",
        "axes[1].set_xticks(integer_ticks)\n",
        "\n",
        "plt.tight_layout()\n",
        "plt.show()"
      ],
      "metadata": {
        "colab": {
          "base_uri": "https://localhost:8080/",
          "height": 501
        },
        "id": "HmMwJLY0ANNg",
        "outputId": "ae797f9b-9d8e-42d5-d41b-4f475ac9bc9b"
      },
      "execution_count": null,
      "outputs": [
        {
          "output_type": "display_data",
          "data": {
            "text/plain": [
              "<Figure size 1600x500 with 2 Axes>"
            ],
            "image/png": "[encoded data removed]"
          },
          "metadata": {}
        }
      ]
    },
    {
      "cell_type": "code",
      "source": [
        "# Encontrar el registro con ROOMNUMBER == 93\n",
        "max_room_number = 93\n",
        "max_room_number_row = df[df['ROOMNUMBER'] == max_room_number]\n",
        "\n",
        "# Verificar si se encontró el registro\n",
        "if not max_room_number_row.empty:\n",
        "    print(\"Registro con ROOMNUMBER == 93:\")\n",
        "    print(max_room_number_row)\n",
        "else:\n",
        "    print(f\"No se encontró un registro con ROOMNUMBER igual a {max_room_number}. Verifica el valor o el DataFrame.\")"
      ],
      "metadata": {
        "colab": {
          "base_uri": "https://localhost:8080/"
        },
        "id": "Amg1kHQPB_q1",
        "outputId": "aefbd0e4-10d8-49e6-c616-69acabe2cab5"
      },
      "execution_count": 11,
      "outputs": [
        {
          "output_type": "stream",
          "name": "stdout",
          "text": [
            "Registro con ROOMNUMBER == 93:\n",
            "       PERIOD     PRICE    UNITPRICE  CONSTRUCTEDAREA  ROOMNUMBER  BATHNUMBER  \\\n",
            "17639  201803  450000.0  3781.512605              119          93           2   \n",
            "\n",
            "       HASTERRACE  HASLIFT  HASAIRCONDITIONING  AMENITYID  ...  \\\n",
            "17639           1        1                   1          3  ...   \n",
            "\n",
            "       CADDWELLINGCOUNT  CADASTRALQUALITYID  BUILTTYPEID_1  BUILTTYPEID_2  \\\n",
            "17639               421                   4              0              0   \n",
            "\n",
            "       BUILTTYPEID_3  DISTANCE_TO_CITY_CENTER  DISTANCE_TO_METRO  \\\n",
            "17639              1                 7.020016           0.197061   \n",
            "\n",
            "       DISTANCE_TO_CASTELLANA  LONGITUDE  LATITUDE  \n",
            "17639                 5.85295  -3.623555  40.40096  \n",
            "\n",
            "[1 rows x 40 columns]\n"
          ]
        }
      ]
    },
    {
      "cell_type": "code",
      "source": [
        "# Encontrar el registro con ROOMNUMBER == 93\n",
        "max_room_number = 93\n",
        "max_room_number_row = df[df['ROOMNUMBER'] == max_room_number]\n",
        "\n",
        "# Verificar si se encontró el registro\n",
        "if not max_room_number_row.empty:\n",
        "\n",
        "    # Eliminar el registro con ROOMNUMBER == 93\n",
        "    df = df[df['ROOMNUMBER'] != max_room_number].reset_index(drop=True)\n",
        "    print(f\"\\nRegistro(s) con ROOMNUMBER == {max_room_number} eliminado(s).\")\n",
        "    print(\"Nuevo tamaño de df:\", df.shape)\n",
        "else:\n",
        "    print(f\"No se encontró un registro con ROOMNUMBER igual a {max_room_number}. Verifica el valor o el DataFrame.\")"
      ],
      "metadata": {
        "colab": {
          "base_uri": "https://localhost:8080/"
        },
        "id": "yJx35mw-CHob",
        "outputId": "1ffc4217-42f5-487a-9358-a2923f0865cd"
      },
      "execution_count": 12,
      "outputs": [
        {
          "output_type": "stream",
          "name": "stdout",
          "text": [
            "\n",
            "Registro(s) con ROOMNUMBER == 93 eliminado(s).\n",
            "Nuevo tamaño de df: (94814, 40)\n"
          ]
        }
      ]
    },
    {
      "cell_type": "code",
      "source": [
        "\n",
        "# Configuración general de gráficos\n",
        "sns.set(style=\"whitegrid\")\n",
        "plt.rcParams[\"figure.figsize\"] = (10, 6)\n",
        "\n",
        "# ANÁLISIS DE LA VARIABLE ROOMNUMBER\n",
        "col = 'ROOMNUMBER'\n",
        "\n",
        "# Crear una copia de la columna y agrupar valores > 6\n",
        "df_temp = df[[col]].copy()\n",
        "df_temp['ROOMNUMBER_CATEG'] = df_temp[col].apply(lambda x: str(x) if x <= 5 else '6+' if pd.notnull(x) else x)\n",
        "\n",
        "# Definir el orden explícito de las categorías como tipo categórico\n",
        "category_order = ['0', '1', '2', '3', '4', '5', '6+']\n",
        "df_temp['ROOMNUMBER_CATEG'] = pd.Categorical(df_temp['ROOMNUMBER_CATEG'], categories=category_order, ordered=True)\n",
        "\n",
        "# Crear figura con dos subgráficos\n",
        "fig, axes = plt.subplots(1, 2, figsize=(16, 5))\n",
        "\n",
        "# Histograma con porcentajes y orden explícito\n",
        "sns.histplot(data=df_temp, x='ROOMNUMBER_CATEG', ax=axes[0], color=\"skyblue\", stat=\"percent\")\n",
        "axes[0].set_title(f\"Histograma de {col}\")\n",
        "axes[0].set_xlabel(col)\n",
        "axes[0].set_ylabel(\"Porcentaje (%)\")\n",
        "\n",
        "# Boxplot de la variable original con ticks de 3 en 3\n",
        "sns.boxplot(x=df[col].dropna(), ax=axes[1], color=\"salmon\")\n",
        "axes[1].set_title(f\"Boxplot de {col}\")\n",
        "axes[1].set_xlabel(col)\n",
        "# Ajustar los ticks del eje x a valores enteros de 3 en 3\n",
        "min_val = int(df[col].dropna().min())\n",
        "max_val = int(df[col].dropna().max())\n",
        "integer_ticks = range(min_val - (min_val % 3), max_val + 1, 10)\n",
        "axes[1].set_xticks(integer_ticks)\n",
        "\n",
        "plt.tight_layout()\n",
        "plt.show()"
      ],
      "metadata": {
        "colab": {
          "base_uri": "https://localhost:8080/",
          "height": 501
        },
        "id": "K_Esm5XyCq7p",
        "outputId": "46fc89f7-2271-4296-9aba-45763863d0b9"
      },
      "execution_count": null,
      "outputs": [
        {
          "output_type": "display_data",
          "data": {
            "text/plain": [
              "<Figure size 1600x500 with 2 Axes>"
            ],
            "image/png": "[encoded data removed]"
          },
          "metadata": {}
        }
      ]
    },
    {
      "cell_type": "markdown",
      "source": [
        "Variable HASAIRCONDITIONING y HASLIFT                         "
      ],
      "metadata": {
        "id": "2s1MLJ8TCYGC"
      }
    },
    {
      "cell_type": "code",
      "source": [
        "vars_categoricas = ['HASAIRCONDITIONING', 'HASLIFT']\n",
        "\n",
        "# Configuración general de gráficos\n",
        "sns.set(style=\"whitegrid\")\n",
        "plt.rcParams[\"figure.figsize\"] = (10, 6)\n",
        "\n",
        "# ANÁLISIS DE VARIABLES CATEGÓRICAS\n",
        "for col in vars_categoricas:\n",
        "    plt.figure(figsize=(10, 5))\n",
        "\n",
        "    # Si hay muchas categorías, solo mostramos las más frecuentes\n",
        "    if df[col].nunique() > 15:\n",
        "        top_cats = df[col].value_counts().nlargest(15)\n",
        "        sns.barplot(x=top_cats.index.astype(str), y=top_cats.values, palette=\"viridis\")\n",
        "        plt.title(f\"Top 15 categorías más frecuentes de {col}\")\n",
        "    else:\n",
        "        sns.countplot(x=col, data=df, palette=\"pastel\")\n",
        "        plt.title(f\"Frecuencia de categorías en {col}\")\n",
        "\n",
        "    plt.xticks(rotation=45)\n",
        "    plt.xlabel(col)\n",
        "    plt.ylabel(\"Frecuencia\")\n",
        "    plt.tight_layout()\n",
        "    plt.show()"
      ],
      "metadata": {
        "colab": {
          "base_uri": "https://localhost:8080/",
          "height": 1000
        },
        "id": "6LAZLvk39ILQ",
        "outputId": "4b203f34-f6d3-449b-a2f3-731018671ac7"
      },
      "execution_count": null,
      "outputs": [
        {
          "output_type": "stream",
          "name": "stderr",
          "text": [
            "/tmp/ipython-input-33-625279172.py:17: FutureWarning: \n",
            "\n",
            "Passing `palette` without assigning `hue` is deprecated and will be removed in v0.14.0. Assign the `x` variable to `hue` and set `legend=False` for the same effect.\n",
            "\n",
            "  sns.countplot(x=col, data=df, palette=\"pastel\")\n"
          ]
        },
        {
          "output_type": "display_data",
          "data": {
            "text/plain": [
              "<Figure size 1000x500 with 1 Axes>"
            ],
            "image/png": "[encoded data removed]"
          },
          "metadata": {}
        },
        {
          "output_type": "stream",
          "name": "stderr",
          "text": [
            "/tmp/ipython-input-33-625279172.py:17: FutureWarning: \n",
            "\n",
            "Passing `palette` without assigning `hue` is deprecated and will be removed in v0.14.0. Assign the `x` variable to `hue` and set `legend=False` for the same effect.\n",
            "\n",
            "  sns.countplot(x=col, data=df, palette=\"pastel\")\n"
          ]
        },
        {
          "output_type": "display_data",
          "data": {
            "text/plain": [
              "<Figure size 1000x500 with 1 Axes>"
            ],
            "image/png": "[encoded data removed]"
          },
          "metadata": {}
        }
      ]
    },
    {
      "cell_type": "markdown",
      "metadata": {
        "id": "OCAlTFfsihb1"
      },
      "source": [
        "# Pre-procesamiento de los datos"
      ]
    },
    {
      "cell_type": "markdown",
      "metadata": {
        "id": "VDsfLeciTaGD"
      },
      "source": [
        "En primer lugar, se comprueba si existen columnas con datos faltantes"
      ]
    },
    {
      "cell_type": "code",
      "execution_count": 13,
      "metadata": {
        "colab": {
          "base_uri": "https://localhost:8080/",
          "height": 1000
        },
        "id": "GpnVWXu4TZMx",
        "outputId": "c38376d5-75c8-409c-fc58-b35cd85b7b64"
      },
      "outputs": [
        {
          "output_type": "execute_result",
          "data": {
            "text/plain": [
              "PERIOD                               0\n",
              "PRICE                                0\n",
              "UNITPRICE                            0\n",
              "CONSTRUCTEDAREA                      0\n",
              "ROOMNUMBER                           0\n",
              "BATHNUMBER                           0\n",
              "HASTERRACE                           0\n",
              "HASLIFT                              0\n",
              "HASAIRCONDITIONING                   0\n",
              "AMENITYID                            0\n",
              "HASPARKINGSPACE                      0\n",
              "ISPARKINGSPACEINCLUDEDINPRICE        0\n",
              "PARKINGSPACEPRICE                    0\n",
              "HASNORTHORIENTATION                  0\n",
              "HASSOUTHORIENTATION                  0\n",
              "HASEASTORIENTATION                   0\n",
              "HASWESTORIENTATION                   0\n",
              "HASBOXROOM                           0\n",
              "HASWARDROBE                          0\n",
              "HASSWIMMINGPOOL                      0\n",
              "HASDOORMAN                           0\n",
              "HASGARDEN                            0\n",
              "ISDUPLEX                             0\n",
              "ISSTUDIO                             0\n",
              "ISINTOPFLOOR                         0\n",
              "CONSTRUCTIONYEAR                 55872\n",
              "FLOORCLEAN                        3846\n",
              "FLATLOCATIONID                    6387\n",
              "CADCONSTRUCTIONYEAR                  0\n",
              "CADMAXBUILDINGFLOOR                  0\n",
              "CADDWELLINGCOUNT                     0\n",
              "CADASTRALQUALITYID                   1\n",
              "BUILTTYPEID_1                        0\n",
              "BUILTTYPEID_2                        0\n",
              "BUILTTYPEID_3                        0\n",
              "DISTANCE_TO_CITY_CENTER              0\n",
              "DISTANCE_TO_METRO                    0\n",
              "DISTANCE_TO_CASTELLANA               0\n",
              "LONGITUDE                            0\n",
              "LATITUDE                             0\n",
              "dtype: int64"
            ],
            "text/html": [
              "<div>\n",
              "<style scoped>\n",
              "    .dataframe tbody tr th:only-of-type {\n",
              "        vertical-align: middle;\n",
              "    }\n",
              "\n",
              "    .dataframe tbody tr th {\n",
              "        vertical-align: top;\n",
              "    }\n",
              "\n",
              "    .dataframe thead th {\n",
              "        text-align: right;\n",
              "    }\n",
              "</style>\n",
              "<table border=\"1\" class=\"dataframe\">\n",
              "  <thead>\n",
              "    <tr style=\"text-align: right;\">\n",
              "      <th></th>\n",
              "      <th>0</th>\n",
              "    </tr>\n",
              "  </thead>\n",
              "  <tbody>\n",
              "    <tr>\n",
              "      <th>PERIOD</th>\n",
              "      <td>0</td>\n",
              "    </tr>\n",
              "    <tr>\n",
              "      <th>PRICE</th>\n",
              "      <td>0</td>\n",
              "    </tr>\n",
              "    <tr>\n",
              "      <th>UNITPRICE</th>\n",
              "      <td>0</td>\n",
              "    </tr>\n",
              "    <tr>\n",
              "      <th>CONSTRUCTEDAREA</th>\n",
              "      <td>0</td>\n",
              "    </tr>\n",
              "    <tr>\n",
              "      <th>ROOMNUMBER</th>\n",
              "      <td>0</td>\n",
              "    </tr>\n",
              "    <tr>\n",
              "      <th>BATHNUMBER</th>\n",
              "      <td>0</td>\n",
              "    </tr>\n",
              "    <tr>\n",
              "      <th>HASTERRACE</th>\n",
              "      <td>0</td>\n",
              "    </tr>\n",
              "    <tr>\n",
              "      <th>HASLIFT</th>\n",
              "      <td>0</td>\n",
              "    </tr>\n",
              "    <tr>\n",
              "      <th>HASAIRCONDITIONING</th>\n",
              "      <td>0</td>\n",
              "    </tr>\n",
              "    <tr>\n",
              "      <th>AMENITYID</th>\n",
              "      <td>0</td>\n",
              "    </tr>\n",
              "    <tr>\n",
              "      <th>HASPARKINGSPACE</th>\n",
              "      <td>0</td>\n",
              "    </tr>\n",
              "    <tr>\n",
              "      <th>ISPARKINGSPACEINCLUDEDINPRICE</th>\n",
              "      <td>0</td>\n",
              "    </tr>\n",
              "    <tr>\n",
              "      <th>PARKINGSPACEPRICE</th>\n",
              "      <td>0</td>\n",
              "    </tr>\n",
              "    <tr>\n",
              "      <th>HASNORTHORIENTATION</th>\n",
              "      <td>0</td>\n",
              "    </tr>\n",
              "    <tr>\n",
              "      <th>HASSOUTHORIENTATION</th>\n",
              "      <td>0</td>\n",
              "    </tr>\n",
              "    <tr>\n",
              "      <th>HASEASTORIENTATION</th>\n",
              "      <td>0</td>\n",
              "    </tr>\n",
              "    <tr>\n",
              "      <th>HASWESTORIENTATION</th>\n",
              "      <td>0</td>\n",
              "    </tr>\n",
              "    <tr>\n",
              "      <th>HASBOXROOM</th>\n",
              "      <td>0</td>\n",
              "    </tr>\n",
              "    <tr>\n",
              "      <th>HASWARDROBE</th>\n",
              "      <td>0</td>\n",
              "    </tr>\n",
              "    <tr>\n",
              "      <th>HASSWIMMINGPOOL</th>\n",
              "      <td>0</td>\n",
              "    </tr>\n",
              "    <tr>\n",
              "      <th>HASDOORMAN</th>\n",
              "      <td>0</td>\n",
              "    </tr>\n",
              "    <tr>\n",
              "      <th>HASGARDEN</th>\n",
              "      <td>0</td>\n",
              "    </tr>\n",
              "    <tr>\n",
              "      <th>ISDUPLEX</th>\n",
              "      <td>0</td>\n",
              "    </tr>\n",
              "    <tr>\n",
              "      <th>ISSTUDIO</th>\n",
              "      <td>0</td>\n",
              "    </tr>\n",
              "    <tr>\n",
              "      <th>ISINTOPFLOOR</th>\n",
              "      <td>0</td>\n",
              "    </tr>\n",
              "    <tr>\n",
              "      <th>CONSTRUCTIONYEAR</th>\n",
              "      <td>55872</td>\n",
              "    </tr>\n",
              "    <tr>\n",
              "      <th>FLOORCLEAN</th>\n",
              "      <td>3846</td>\n",
              "    </tr>\n",
              "    <tr>\n",
              "      <th>FLATLOCATIONID</th>\n",
              "      <td>6387</td>\n",
              "    </tr>\n",
              "    <tr>\n",
              "      <th>CADCONSTRUCTIONYEAR</th>\n",
              "      <td>0</td>\n",
              "    </tr>\n",
              "    <tr>\n",
              "      <th>CADMAXBUILDINGFLOOR</th>\n",
              "      <td>0</td>\n",
              "    </tr>\n",
              "    <tr>\n",
              "      <th>CADDWELLINGCOUNT</th>\n",
              "      <td>0</td>\n",
              "    </tr>\n",
              "    <tr>\n",
              "      <th>CADASTRALQUALITYID</th>\n",
              "      <td>1</td>\n",
              "    </tr>\n",
              "    <tr>\n",
              "      <th>BUILTTYPEID_1</th>\n",
              "      <td>0</td>\n",
              "    </tr>\n",
              "    <tr>\n",
              "      <th>BUILTTYPEID_2</th>\n",
              "      <td>0</td>\n",
              "    </tr>\n",
              "    <tr>\n",
              "      <th>BUILTTYPEID_3</th>\n",
              "      <td>0</td>\n",
              "    </tr>\n",
              "    <tr>\n",
              "      <th>DISTANCE_TO_CITY_CENTER</th>\n",
              "      <td>0</td>\n",
              "    </tr>\n",
              "    <tr>\n",
              "      <th>DISTANCE_TO_METRO</th>\n",
              "      <td>0</td>\n",
              "    </tr>\n",
              "    <tr>\n",
              "      <th>DISTANCE_TO_CASTELLANA</th>\n",
              "      <td>0</td>\n",
              "    </tr>\n",
              "    <tr>\n",
              "      <th>LONGITUDE</th>\n",
              "      <td>0</td>\n",
              "    </tr>\n",
              "    <tr>\n",
              "      <th>LATITUDE</th>\n",
              "      <td>0</td>\n",
              "    </tr>\n",
              "  </tbody>\n",
              "</table>\n",
              "</div><br><label><b>dtype:</b> int64</label>"
            ]
          },
          "metadata": {},
          "execution_count": 13
        }
      ],
      "source": [
        "df.isna().sum()"
      ]
    },
    {
      "cell_type": "code",
      "source": [
        "df_corr = df[['CONSTRUCTIONYEAR', 'CADCONSTRUCTIONYEAR']].dropna()\n",
        "pearson_corr = df_corr['CONSTRUCTIONYEAR'].corr(df_corr['CADCONSTRUCTIONYEAR'], method='pearson')\n",
        "spearman_corr = df_corr['CONSTRUCTIONYEAR'].corr(df_corr['CADCONSTRUCTIONYEAR'], method='spearman')\n",
        "kendall_corr = df_corr['CONSTRUCTIONYEAR'].corr(df_corr['CADCONSTRUCTIONYEAR'], method='kendall')\n",
        "print(f\"Correlación de Pearson:  {pearson_corr:.3f}\")\n",
        "print(f\"Correlación de Spearman: {spearman_corr:.3f}\")\n",
        "print(f\"Correlación de Kendall:  {kendall_corr:.3f}\")"
      ],
      "metadata": {
        "colab": {
          "base_uri": "https://localhost:8080/"
        },
        "id": "enG1CK6KP_o9",
        "outputId": "1a51c1c6-5014-47dd-f7c6-896c0c72600d"
      },
      "execution_count": 14,
      "outputs": [
        {
          "output_type": "stream",
          "name": "stdout",
          "text": [
            "Correlación de Pearson:  0.551\n",
            "Correlación de Spearman: 0.992\n",
            "Correlación de Kendall:  0.988\n"
          ]
        }
      ]
    },
    {
      "cell_type": "markdown",
      "metadata": {
        "id": "MzLbv5EsOhiB"
      },
      "source": [
        "La columna \"CONTRUCTIONYEAR\" tiene 55.873 missing de 94.815 (58,93%), por lo que se va a eliminar la columna. Sobre el resto de datos faltantes, se va a imputar a través de la mediana.\n",
        "\n",
        "Posteriormente, se van a eliminar las variables \"assetid\" por ser únicamente un identificador, \"unitprice\", porque es el PRICE dividido por los m2, por lo que no tiene sentido mantenerla como variable explicativa, \"period\", porque todos los pisos son de la misma fecha y \"geometry\", porque son los datos de longitud y latitud combinados."
      ]
    },
    {
      "cell_type": "code",
      "execution_count": 16,
      "metadata": {
        "id": "AngiJy1GOz6B"
      },
      "outputs": [],
      "source": [
        "madrid_sale_df_2 = df.drop(columns=[\"CONSTRUCTIONYEAR\", \"UNITPRICE\", \"PERIOD\"])"
      ]
    },
    {
      "cell_type": "markdown",
      "metadata": {
        "id": "VVGrh-4mUaBI"
      },
      "source": [
        "Ahora imputamos los missing a través de los k vecinos"
      ]
    },
    {
      "cell_type": "code",
      "source": [
        "import pandas as pd\n",
        "from sklearn.impute import SimpleImputer\n",
        "from sklearn.impute import KNNImputer\n",
        "\n",
        "imputer = KNNImputer(n_neighbors=5)\n",
        "madrid_sale_df_2_imputed = pd.DataFrame(\n",
        "    imputer.fit_transform(madrid_sale_df_2),\n",
        "    columns=madrid_sale_df_2.columns,\n",
        "    index=madrid_sale_df_2.index\n",
        ")\n",
        "\n"
      ],
      "metadata": {
        "id": "RwBKp7R3I4Ny"
      },
      "execution_count": 17,
      "outputs": []
    },
    {
      "cell_type": "code",
      "execution_count": 18,
      "metadata": {
        "colab": {
          "base_uri": "https://localhost:8080/",
          "height": 1000
        },
        "id": "l7--8yJvUnPY",
        "outputId": "30dbc342-eb32-48ec-f844-00cec71e5190"
      },
      "outputs": [
        {
          "output_type": "execute_result",
          "data": {
            "text/plain": [
              "PRICE                            0\n",
              "CONSTRUCTEDAREA                  0\n",
              "ROOMNUMBER                       0\n",
              "BATHNUMBER                       0\n",
              "HASTERRACE                       0\n",
              "HASLIFT                          0\n",
              "HASAIRCONDITIONING               0\n",
              "AMENITYID                        0\n",
              "HASPARKINGSPACE                  0\n",
              "ISPARKINGSPACEINCLUDEDINPRICE    0\n",
              "PARKINGSPACEPRICE                0\n",
              "HASNORTHORIENTATION              0\n",
              "HASSOUTHORIENTATION              0\n",
              "HASEASTORIENTATION               0\n",
              "HASWESTORIENTATION               0\n",
              "HASBOXROOM                       0\n",
              "HASWARDROBE                      0\n",
              "HASSWIMMINGPOOL                  0\n",
              "HASDOORMAN                       0\n",
              "HASGARDEN                        0\n",
              "ISDUPLEX                         0\n",
              "ISSTUDIO                         0\n",
              "ISINTOPFLOOR                     0\n",
              "FLOORCLEAN                       0\n",
              "FLATLOCATIONID                   0\n",
              "CADCONSTRUCTIONYEAR              0\n",
              "CADMAXBUILDINGFLOOR              0\n",
              "CADDWELLINGCOUNT                 0\n",
              "CADASTRALQUALITYID               0\n",
              "BUILTTYPEID_1                    0\n",
              "BUILTTYPEID_2                    0\n",
              "BUILTTYPEID_3                    0\n",
              "DISTANCE_TO_CITY_CENTER          0\n",
              "DISTANCE_TO_METRO                0\n",
              "DISTANCE_TO_CASTELLANA           0\n",
              "LONGITUDE                        0\n",
              "LATITUDE                         0\n",
              "dtype: int64"
            ],
            "text/html": [
              "<div>\n",
              "<style scoped>\n",
              "    .dataframe tbody tr th:only-of-type {\n",
              "        vertical-align: middle;\n",
              "    }\n",
              "\n",
              "    .dataframe tbody tr th {\n",
              "        vertical-align: top;\n",
              "    }\n",
              "\n",
              "    .dataframe thead th {\n",
              "        text-align: right;\n",
              "    }\n",
              "</style>\n",
              "<table border=\"1\" class=\"dataframe\">\n",
              "  <thead>\n",
              "    <tr style=\"text-align: right;\">\n",
              "      <th></th>\n",
              "      <th>0</th>\n",
              "    </tr>\n",
              "  </thead>\n",
              "  <tbody>\n",
              "    <tr>\n",
              "      <th>PRICE</th>\n",
              "      <td>0</td>\n",
              "    </tr>\n",
              "    <tr>\n",
              "      <th>CONSTRUCTEDAREA</th>\n",
              "      <td>0</td>\n",
              "    </tr>\n",
              "    <tr>\n",
              "      <th>ROOMNUMBER</th>\n",
              "      <td>0</td>\n",
              "    </tr>\n",
              "    <tr>\n",
              "      <th>BATHNUMBER</th>\n",
              "      <td>0</td>\n",
              "    </tr>\n",
              "    <tr>\n",
              "      <th>HASTERRACE</th>\n",
              "      <td>0</td>\n",
              "    </tr>\n",
              "    <tr>\n",
              "      <th>HASLIFT</th>\n",
              "      <td>0</td>\n",
              "    </tr>\n",
              "    <tr>\n",
              "      <th>HASAIRCONDITIONING</th>\n",
              "      <td>0</td>\n",
              "    </tr>\n",
              "    <tr>\n",
              "      <th>AMENITYID</th>\n",
              "      <td>0</td>\n",
              "    </tr>\n",
              "    <tr>\n",
              "      <th>HASPARKINGSPACE</th>\n",
              "      <td>0</td>\n",
              "    </tr>\n",
              "    <tr>\n",
              "      <th>ISPARKINGSPACEINCLUDEDINPRICE</th>\n",
              "      <td>0</td>\n",
              "    </tr>\n",
              "    <tr>\n",
              "      <th>PARKINGSPACEPRICE</th>\n",
              "      <td>0</td>\n",
              "    </tr>\n",
              "    <tr>\n",
              "      <th>HASNORTHORIENTATION</th>\n",
              "      <td>0</td>\n",
              "    </tr>\n",
              "    <tr>\n",
              "      <th>HASSOUTHORIENTATION</th>\n",
              "      <td>0</td>\n",
              "    </tr>\n",
              "    <tr>\n",
              "      <th>HASEASTORIENTATION</th>\n",
              "      <td>0</td>\n",
              "    </tr>\n",
              "    <tr>\n",
              "      <th>HASWESTORIENTATION</th>\n",
              "      <td>0</td>\n",
              "    </tr>\n",
              "    <tr>\n",
              "      <th>HASBOXROOM</th>\n",
              "      <td>0</td>\n",
              "    </tr>\n",
              "    <tr>\n",
              "      <th>HASWARDROBE</th>\n",
              "      <td>0</td>\n",
              "    </tr>\n",
              "    <tr>\n",
              "      <th>HASSWIMMINGPOOL</th>\n",
              "      <td>0</td>\n",
              "    </tr>\n",
              "    <tr>\n",
              "      <th>HASDOORMAN</th>\n",
              "      <td>0</td>\n",
              "    </tr>\n",
              "    <tr>\n",
              "      <th>HASGARDEN</th>\n",
              "      <td>0</td>\n",
              "    </tr>\n",
              "    <tr>\n",
              "      <th>ISDUPLEX</th>\n",
              "      <td>0</td>\n",
              "    </tr>\n",
              "    <tr>\n",
              "      <th>ISSTUDIO</th>\n",
              "      <td>0</td>\n",
              "    </tr>\n",
              "    <tr>\n",
              "      <th>ISINTOPFLOOR</th>\n",
              "      <td>0</td>\n",
              "    </tr>\n",
              "    <tr>\n",
              "      <th>FLOORCLEAN</th>\n",
              "      <td>0</td>\n",
              "    </tr>\n",
              "    <tr>\n",
              "      <th>FLATLOCATIONID</th>\n",
              "      <td>0</td>\n",
              "    </tr>\n",
              "    <tr>\n",
              "      <th>CADCONSTRUCTIONYEAR</th>\n",
              "      <td>0</td>\n",
              "    </tr>\n",
              "    <tr>\n",
              "      <th>CADMAXBUILDINGFLOOR</th>\n",
              "      <td>0</td>\n",
              "    </tr>\n",
              "    <tr>\n",
              "      <th>CADDWELLINGCOUNT</th>\n",
              "      <td>0</td>\n",
              "    </tr>\n",
              "    <tr>\n",
              "      <th>CADASTRALQUALITYID</th>\n",
              "      <td>0</td>\n",
              "    </tr>\n",
              "    <tr>\n",
              "      <th>BUILTTYPEID_1</th>\n",
              "      <td>0</td>\n",
              "    </tr>\n",
              "    <tr>\n",
              "      <th>BUILTTYPEID_2</th>\n",
              "      <td>0</td>\n",
              "    </tr>\n",
              "    <tr>\n",
              "      <th>BUILTTYPEID_3</th>\n",
              "      <td>0</td>\n",
              "    </tr>\n",
              "    <tr>\n",
              "      <th>DISTANCE_TO_CITY_CENTER</th>\n",
              "      <td>0</td>\n",
              "    </tr>\n",
              "    <tr>\n",
              "      <th>DISTANCE_TO_METRO</th>\n",
              "      <td>0</td>\n",
              "    </tr>\n",
              "    <tr>\n",
              "      <th>DISTANCE_TO_CASTELLANA</th>\n",
              "      <td>0</td>\n",
              "    </tr>\n",
              "    <tr>\n",
              "      <th>LONGITUDE</th>\n",
              "      <td>0</td>\n",
              "    </tr>\n",
              "    <tr>\n",
              "      <th>LATITUDE</th>\n",
              "      <td>0</td>\n",
              "    </tr>\n",
              "  </tbody>\n",
              "</table>\n",
              "</div><br><label><b>dtype:</b> int64</label>"
            ]
          },
          "metadata": {},
          "execution_count": 18
        }
      ],
      "source": [
        "#Se comprueba si hay missing\n",
        "madrid_sale_df_2_imputed.isna().sum()"
      ]
    },
    {
      "cell_type": "markdown",
      "metadata": {
        "id": "QJjnn1INmnnV"
      },
      "source": [
        "Una vez analizados los missing de cada variable, se va a analizar si existen valores outlier en cada variable. Se va a considerar outlier todo aquel que esté fuera de $[Q1 - 1.5*IQR, Q3 + 1.5*IQR]$"
      ]
    },
    {
      "cell_type": "code",
      "execution_count": 19,
      "metadata": {
        "colab": {
          "base_uri": "https://localhost:8080/"
        },
        "id": "mRY1PPtZm9NF",
        "outputId": "e02e8304-80c1-493b-a055-9df8865dafaa"
      },
      "outputs": [
        {
          "output_type": "stream",
          "name": "stdout",
          "text": [
            "Número de outliers por columna:\n",
            "PRICE: 6782 outliers\n",
            "CONSTRUCTEDAREA: 6957 outliers\n",
            "ROOMNUMBER: 7419 outliers\n",
            "BATHNUMBER: 3118 outliers\n",
            "PARKINGSPACEPRICE: 2191 outliers\n",
            "FLOORCLEAN: 2317 outliers\n",
            "CADCONSTRUCTIONYEAR: 6381 outliers\n",
            "CADMAXBUILDINGFLOOR: 4055 outliers\n",
            "CADDWELLINGCOUNT: 10854 outliers\n",
            "DISTANCE_TO_CITY_CENTER: 800 outliers\n",
            "DISTANCE_TO_METRO: 6923 outliers\n",
            "DISTANCE_TO_CASTELLANA: 2809 outliers\n",
            "LONGITUDE: 4201 outliers\n",
            "LATITUDE: 182 outliers\n"
          ]
        }
      ],
      "source": [
        "# Paso 2: Identificar outliers usando IQR\n",
        "def detect_outliers_iqr(df, columns):\n",
        "    outliers_dict = {}\n",
        "    for col in columns:\n",
        "        Q1 = df[col].quantile(0.25)\n",
        "        Q3 = df[col].quantile(0.75)\n",
        "        IQR = Q3 - Q1\n",
        "        lower_bound = Q1 - 1.5 * IQR\n",
        "        upper_bound = Q3 + 1.5 * IQR\n",
        "        outliers = df[(df[col] < lower_bound) | (df[col] > upper_bound)][col]\n",
        "        outliers_dict[col] = len(outliers)\n",
        "    return outliers_dict\n",
        "\n",
        "# Identify continuous variables (numerical columns with more than 10 unique values)\n",
        "continuous_cols = [\n",
        "    col for col in madrid_sale_df_2_imputed.select_dtypes(include=['number']).columns\n",
        "    if madrid_sale_df_2_imputed[col].nunique(dropna=True) > 10 and col != 'CADASTRALQUALITYID'\n",
        "]\n",
        "# Detect outliers in continuous columns\n",
        "outliers_summary = detect_outliers_iqr(madrid_sale_df_2_imputed, continuous_cols)\n",
        "\n",
        "print(\"Número de outliers por columna:\")\n",
        "for col, count in outliers_summary.items():\n",
        "    print(f\"{col}: {count} outliers\")"
      ]
    },
    {
      "cell_type": "markdown",
      "metadata": {
        "id": "-ieL8awlPJAq"
      },
      "source": [
        "Ahora se divide en train/test."
      ]
    },
    {
      "cell_type": "code",
      "execution_count": 21,
      "metadata": {
        "id": "njS_tc1XPIVa"
      },
      "outputs": [],
      "source": [
        "from sklearn.model_selection import train_test_split\n",
        "\n",
        "# Dividir en 80% train y 20% test (puedes ajustar test_size según necesites)\n",
        "madrid_sale_train_df, madrid_sale_test_df = train_test_split(\n",
        "    madrid_sale_df_2_imputed,\n",
        "    test_size=0.2,\n",
        "    random_state=42  # para reproducibilidad\n",
        ")\n"
      ]
    },
    {
      "cell_type": "markdown",
      "metadata": {
        "id": "l9eR2C66lOVm"
      },
      "source": [
        "Una vez se ha dividido en train/test, se va a realizar un tratamiento con los outliers.  Para mitigar el impacto de los valores atípicos en las variables continuas, se ha optado por aplicar una técnica de winsorización al 1% y 99%. Esta transformación conserva la estructura general de los datos, sustituyendo únicamente los valores extremos por los percentiles definidos. Se ha aplicado exclusivamente a aquellas numéricas. Esta aproximación permite preservar la información relevante de la muestra, evitando tanto la eliminación como la distorsión excesiva de los datos. Se va a aplicar en primer lugar al train y despues al test."
      ]
    },
    {
      "cell_type": "code",
      "execution_count": 22,
      "metadata": {
        "colab": {
          "base_uri": "https://localhost:8080/"
        },
        "id": "ljAkMeWgmnWF",
        "outputId": "88d8881d-0c6d-45ad-fcdf-c97b60529c7a"
      },
      "outputs": [
        {
          "output_type": "stream",
          "name": "stdout",
          "text": [
            "Número de outliers por columna:\n",
            "PRICE: 5353 outliers\n",
            "CONSTRUCTEDAREA: 5048 outliers\n",
            "ROOMNUMBER: 5872 outliers\n",
            "BATHNUMBER: 2445 outliers\n",
            "PARKINGSPACEPRICE: 1779 outliers\n",
            "FLOORCLEAN: 1822 outliers\n",
            "CADCONSTRUCTIONYEAR: 5083 outliers\n",
            "CADMAXBUILDINGFLOOR: 3250 outliers\n",
            "CADDWELLINGCOUNT: 8732 outliers\n",
            "DISTANCE_TO_CITY_CENTER: 623 outliers\n",
            "DISTANCE_TO_METRO: 5548 outliers\n",
            "DISTANCE_TO_CASTELLANA: 2269 outliers\n",
            "LONGITUDE: 3416 outliers\n",
            "LATITUDE: 158 outliers\n"
          ]
        }
      ],
      "source": [
        "# Identificar outliers usando IQR\n",
        "def detect_outliers_iqr(df, columns):\n",
        "    outliers_dict = {}\n",
        "    for col in columns:\n",
        "        Q1 = df[col].quantile(0.25)\n",
        "        Q3 = df[col].quantile(0.75)\n",
        "        IQR = Q3 - Q1\n",
        "        lower_bound = Q1 - 1.5 * IQR\n",
        "        upper_bound = Q3 + 1.5 * IQR\n",
        "        outliers = df[(df[col] < lower_bound) | (df[col] > upper_bound)][col]\n",
        "        outliers_dict[col] = len(outliers)\n",
        "    return outliers_dict\n",
        "\n",
        "# Identify continuous variables (numerical columns with more than 10 unique values)\n",
        "continuous_cols = [\n",
        "    col for col in madrid_sale_train_df.select_dtypes(include=['number']).columns\n",
        "    if madrid_sale_train_df[col].nunique(dropna=True) > 10 and col != 'CADASTRALQUALITYID'\n",
        "]\n",
        "\n",
        "# Detect outliers in continuous columns\n",
        "outliers_summary = detect_outliers_iqr(madrid_sale_train_df, continuous_cols)\n",
        "\n",
        "print(\"Número de outliers por columna:\")\n",
        "for col, count in outliers_summary.items():\n",
        "    print(f\"{col}: {count} outliers\")"
      ]
    },
    {
      "cell_type": "code",
      "execution_count": 23,
      "metadata": {
        "colab": {
          "base_uri": "https://localhost:8080/"
        },
        "id": "zVGoBfaQldjb",
        "outputId": "a8b2cdc6-d42e-401a-e23a-86b2ddb19e6d"
      },
      "outputs": [
        {
          "output_type": "stream",
          "name": "stdout",
          "text": [
            "                                  min           max\n",
            "PRICE                    21000.000000  7.138000e+06\n",
            "CONSTRUCTEDAREA             21.000000  9.850000e+02\n",
            "ROOMNUMBER                   0.000000  3.300000e+01\n",
            "BATHNUMBER                   0.000000  2.000000e+01\n",
            "PARKINGSPACEPRICE            1.000000  9.250010e+05\n",
            "FLOORCLEAN                  -1.000000  1.100000e+01\n",
            "CADCONSTRUCTIONYEAR       1623.000000  2.018000e+03\n",
            "CADMAXBUILDINGFLOOR          0.000000  2.600000e+01\n",
            "CADDWELLINGCOUNT             1.000000  1.499000e+03\n",
            "DISTANCE_TO_CITY_CENTER      0.015374  4.157526e+02\n",
            "DISTANCE_TO_METRO            0.001416  3.994774e+02\n",
            "DISTANCE_TO_CASTELLANA       0.001435  4.128037e+02\n",
            "LONGITUDE                   -3.833611 -2.753303e+00\n",
            "LATITUDE                    36.756391  4.052064e+01\n"
          ]
        }
      ],
      "source": [
        "# Mostrar mínimo y máximo de cada columna continua\n",
        "min_max = madrid_sale_train_df[continuous_cols].agg(['min', 'max']).T\n",
        "print(min_max)\n"
      ]
    },
    {
      "cell_type": "code",
      "execution_count": 24,
      "metadata": {
        "colab": {
          "base_uri": "https://localhost:8080/"
        },
        "id": "h124yDwrlmbZ",
        "outputId": "4bc13d0a-1172-48c9-95e2-b8031bbb13fb"
      },
      "outputs": [
        {
          "output_type": "stream",
          "name": "stdout",
          "text": [
            "Winsorizada PRICE | Min: 21000.0 → 71000.0 | Max: 7138000.0 → 2178500.0\n",
            "Winsorizada CONSTRUCTEDAREA | Min: 21.0 → 30.0 | Max: 985.0 → 366.0\n",
            "Winsorizada ROOMNUMBER | Min: 0.0 → 0.0 | Max: 33.0 → 6.0\n",
            "Winsorizada BATHNUMBER | Min: 0.0 → 1.0 | Max: 20.0 → 5.0\n",
            "Winsorizada PARKINGSPACEPRICE | Min: 1.0 → 1.0 | Max: 925001.0 → 30001.0\n",
            "Winsorizada FLOORCLEAN | Min: -1.0 → -1.0 | Max: 11.0 → 11.0\n",
            "Winsorizada CADCONSTRUCTIONYEAR | Min: 1623.0 → 1888.0 | Max: 2018.0 → 2018.0\n",
            "Winsorizada CADMAXBUILDINGFLOOR | Min: 0.0 → 2.0 | Max: 26.0 → 16.0\n",
            "Winsorizada CADDWELLINGCOUNT | Min: 1.0 → 2.0 | Max: 1499.0 → 271.0\n",
            "Winsorizada DISTANCE_TO_CITY_CENTER | Min: 0.015374143253467792 → 0.38799978600884644 | Max: 415.7525844073621 → 11.690025472429028\n",
            "Winsorizada DISTANCE_TO_METRO | Min: 0.0014160886550168479 → 0.044406525327645635 | Max: 399.47736648319045 → 4.035511759241687\n",
            "Winsorizada DISTANCE_TO_CASTELLANA | Min: 0.0014350974069677167 → 0.06757978367126469 | Max: 412.80368844951164 → 9.407324564812095\n",
            "Winsorizada LONGITUDE | Min: -3.83361062528907 → -3.779562530991905 | Max: -2.75330271994611 → -3.581080837472495\n",
            "Winsorizada LATITUDE | Min: 36.7563913990732 → 40.344092393749 | Max: 40.5206368407079 → 40.498436986244954\n"
          ]
        }
      ],
      "source": [
        "# Crear copia del DataFrame original para preservar datos\n",
        "madrid_sale_train_df_out = madrid_sale_train_df.copy()\n",
        "\n",
        "# Paso 2: Aplicar winsorización manual (recorte) al 1%-99% percentil\n",
        "for col in continuous_cols:\n",
        "    if madrid_sale_train_df_out[col].isnull().sum() == 0:  # solo si no hay nulos\n",
        "        lower = madrid_sale_train_df_out[col].quantile(0.01)\n",
        "        upper = madrid_sale_train_df_out[col].quantile(0.99)\n",
        "        original_min, original_max = madrid_sale_train_df_out[col].min(), madrid_sale_train_df_out[col].max()\n",
        "        madrid_sale_train_df_out[col] = madrid_sale_train_df_out[col].clip(lower, upper)\n",
        "        print(f\"Winsorizada {col} | Min: {original_min} → {madrid_sale_train_df_out[col].min()} | Max: {original_max} → {madrid_sale_train_df_out[col].max()}\")\n"
      ]
    },
    {
      "cell_type": "code",
      "source": [
        "#Guardamos estas variables para el desarrollo de la aplicación\n",
        "import joblib\n",
        "\n",
        "q_low = madrid_sale_train_df.quantile(0.01)\n",
        "q_high = madrid_sale_train_df.quantile(0.99)\n",
        "\n",
        "joblib.dump(q_low, \"percentil_01.pkl\")\n",
        "joblib.dump(q_high, \"percentil_99.pkl\")\n"
      ],
      "metadata": {
        "colab": {
          "base_uri": "https://localhost:8080/"
        },
        "id": "mQPnCZtQ3gyG",
        "outputId": "cb5a6ade-ebe2-43b2-c88c-bcec0d8a456a"
      },
      "execution_count": 25,
      "outputs": [
        {
          "output_type": "execute_result",
          "data": {
            "text/plain": [
              "['percentil_99.pkl']"
            ]
          },
          "metadata": {},
          "execution_count": 25
        }
      ]
    },
    {
      "cell_type": "code",
      "execution_count": 26,
      "metadata": {
        "colab": {
          "base_uri": "https://localhost:8080/"
        },
        "id": "ZZJiwT-1l9aQ",
        "outputId": "630298f2-3a70-466f-84d6-210935949967"
      },
      "outputs": [
        {
          "output_type": "stream",
          "name": "stdout",
          "text": [
            "Número de outliers por columna:\n",
            "PRICE: 5353 outliers\n",
            "CONSTRUCTEDAREA: 5048 outliers\n",
            "ROOMNUMBER: 5872 outliers\n",
            "BATHNUMBER: 2445 outliers\n",
            "PARKINGSPACEPRICE: 1779 outliers\n",
            "FLOORCLEAN: 1822 outliers\n",
            "CADCONSTRUCTIONYEAR: 5083 outliers\n",
            "CADMAXBUILDINGFLOOR: 3167 outliers\n",
            "CADDWELLINGCOUNT: 8732 outliers\n",
            "DISTANCE_TO_CITY_CENTER: 0 outliers\n",
            "DISTANCE_TO_METRO: 5548 outliers\n",
            "DISTANCE_TO_CASTELLANA: 2269 outliers\n",
            "LONGITUDE: 3416 outliers\n",
            "LATITUDE: 0 outliers\n"
          ]
        }
      ],
      "source": [
        "#Identificar outliers usando IQR\n",
        "def detect_outliers_iqr(df, columns):\n",
        "    outliers_dict = {}\n",
        "    for col in columns:\n",
        "        Q1 = df[col].quantile(0.25)\n",
        "        Q3 = df[col].quantile(0.75)\n",
        "        IQR = Q3 - Q1\n",
        "        lower_bound = Q1 - 1.5 * IQR\n",
        "        upper_bound = Q3 + 1.5 * IQR\n",
        "        outliers = df[(df[col] < lower_bound) | (df[col] > upper_bound)][col]\n",
        "        outliers_dict[col] = len(outliers)\n",
        "    return outliers_dict\n",
        "\n",
        "# Detect outliers in continuous columns\n",
        "outliers_summary = detect_outliers_iqr(madrid_sale_train_df_out, continuous_cols)\n",
        "\n",
        "print(\"Número de outliers por columna:\")\n",
        "for col, count in outliers_summary.items():\n",
        "    print(f\"{col}: {count} outliers\")"
      ]
    },
    {
      "cell_type": "code",
      "execution_count": 27,
      "metadata": {
        "colab": {
          "base_uri": "https://localhost:8080/"
        },
        "id": "D4aTB7xNnDIQ",
        "outputId": "a2ac1f4c-706c-428e-aaba-1fdf3984f297"
      },
      "outputs": [
        {
          "output_type": "stream",
          "name": "stdout",
          "text": [
            "                                  min           max\n",
            "PRICE                    71000.000000  2.178500e+06\n",
            "CONSTRUCTEDAREA             30.000000  3.660000e+02\n",
            "ROOMNUMBER                   0.000000  6.000000e+00\n",
            "BATHNUMBER                   1.000000  5.000000e+00\n",
            "PARKINGSPACEPRICE            1.000000  3.000100e+04\n",
            "FLOORCLEAN                  -1.000000  1.100000e+01\n",
            "CADCONSTRUCTIONYEAR       1888.000000  2.018000e+03\n",
            "CADMAXBUILDINGFLOOR          2.000000  1.600000e+01\n",
            "CADDWELLINGCOUNT             2.000000  2.710000e+02\n",
            "DISTANCE_TO_CITY_CENTER      0.388000  1.169003e+01\n",
            "DISTANCE_TO_METRO            0.044407  4.035512e+00\n",
            "DISTANCE_TO_CASTELLANA       0.067580  9.407325e+00\n",
            "LONGITUDE                   -3.779563 -3.581081e+00\n",
            "LATITUDE                    40.344092  4.049844e+01\n"
          ]
        }
      ],
      "source": [
        "min_max = madrid_sale_train_df_out[continuous_cols].agg(['min', 'max']).T\n",
        "print(min_max)"
      ]
    },
    {
      "cell_type": "markdown",
      "metadata": {
        "id": "FprTLs5jllsv"
      },
      "source": [
        "Una vez aplicado al data set de entrenamiento, se va a aplicar al de test. Se va a observar que también hay un cambio"
      ]
    },
    {
      "cell_type": "code",
      "execution_count": 28,
      "metadata": {
        "colab": {
          "base_uri": "https://localhost:8080/"
        },
        "id": "OgNnz3yPmj_U",
        "outputId": "c2b804b8-5145-41b6-cc3f-e96d014e84a6"
      },
      "outputs": [
        {
          "output_type": "stream",
          "name": "stdout",
          "text": [
            "Número de outliers por columna:\n",
            "PRICE: 1397 outliers\n",
            "CONSTRUCTEDAREA: 1449 outliers\n",
            "ROOMNUMBER: 1547 outliers\n",
            "BATHNUMBER: 673 outliers\n",
            "PARKINGSPACEPRICE: 412 outliers\n",
            "FLOORCLEAN: 495 outliers\n",
            "CADCONSTRUCTIONYEAR: 1311 outliers\n",
            "CADMAXBUILDINGFLOOR: 1498 outliers\n",
            "CADDWELLINGCOUNT: 2290 outliers\n",
            "DISTANCE_TO_CITY_CENTER: 163 outliers\n",
            "DISTANCE_TO_METRO: 1387 outliers\n",
            "DISTANCE_TO_CASTELLANA: 544 outliers\n",
            "LONGITUDE: 787 outliers\n",
            "LATITUDE: 21 outliers\n"
          ]
        }
      ],
      "source": [
        "#Identificar outliers usando IQR\n",
        "def detect_outliers_iqr(df, columns):\n",
        "    outliers_dict = {}\n",
        "    for col in columns:\n",
        "        Q1 = df[col].quantile(0.25)\n",
        "        Q3 = df[col].quantile(0.75)\n",
        "        IQR = Q3 - Q1\n",
        "        lower_bound = Q1 - 1.5 * IQR\n",
        "        upper_bound = Q3 + 1.5 * IQR\n",
        "        outliers = df[(df[col] < lower_bound) | (df[col] > upper_bound)][col]\n",
        "        outliers_dict[col] = len(outliers)\n",
        "    return outliers_dict\n",
        "\n",
        "continuous_cols = [\n",
        "    col for col in madrid_sale_test_df.select_dtypes(include=['number']).columns\n",
        "    if madrid_sale_test_df[col].nunique(dropna=True) > 10 and col != 'CADASTRALQUALITYID'\n",
        "]\n",
        "\n",
        "# Detect outliers in continuous columns\n",
        "outliers_summary = detect_outliers_iqr(madrid_sale_test_df, continuous_cols)\n",
        "\n",
        "print(\"Número de outliers por columna:\")\n",
        "for col, count in outliers_summary.items():\n",
        "    print(f\"{col}: {count} outliers\")"
      ]
    },
    {
      "cell_type": "code",
      "execution_count": 29,
      "metadata": {
        "colab": {
          "base_uri": "https://localhost:8080/"
        },
        "id": "OKc7KF3gmgzb",
        "outputId": "7e9a6a1d-f382-4007-f511-4c649b8de524"
      },
      "outputs": [
        {
          "output_type": "stream",
          "name": "stdout",
          "text": [
            "                                  min           max\n",
            "PRICE                    33000.000000  8.133000e+06\n",
            "CONSTRUCTEDAREA             21.000000  9.510000e+02\n",
            "ROOMNUMBER                   0.000000  1.600000e+01\n",
            "BATHNUMBER                   0.000000  1.400000e+01\n",
            "PARKINGSPACEPRICE            1.000000  2.500010e+05\n",
            "FLOORCLEAN                  -1.000000  1.100000e+01\n",
            "CADCONSTRUCTIONYEAR       1623.000000  2.018000e+03\n",
            "CADMAXBUILDINGFLOOR          0.000000  2.600000e+01\n",
            "CADDWELLINGCOUNT             1.000000  7.240000e+02\n",
            "DISTANCE_TO_CITY_CENTER      0.007647  1.414993e+01\n",
            "DISTANCE_TO_METRO            0.002589  9.341096e+00\n",
            "DISTANCE_TO_CASTELLANA       0.004269  1.256402e+01\n",
            "LONGITUDE                   -3.832707 -3.541029e+00\n",
            "LATITUDE                    40.328682  4.052006e+01\n"
          ]
        }
      ],
      "source": [
        "min_max = madrid_sale_test_df[continuous_cols].agg(['min', 'max']).T\n",
        "print(min_max)"
      ]
    },
    {
      "cell_type": "code",
      "execution_count": 30,
      "metadata": {
        "colab": {
          "base_uri": "https://localhost:8080/"
        },
        "id": "twzmf4Oamej9",
        "outputId": "d60bc51d-799c-4120-9adb-b98415fabe4b"
      },
      "outputs": [
        {
          "output_type": "stream",
          "name": "stdout",
          "text": [
            "Winsorizada PRICE (test) | Min: 33000.0 → 71000.0 | Max: 8133000.0 → 2178500.0\n",
            "Winsorizada CONSTRUCTEDAREA (test) | Min: 21.0 → 30.0 | Max: 951.0 → 366.0\n",
            "Winsorizada ROOMNUMBER (test) | Min: 0.0 → 0.0 | Max: 16.0 → 6.0\n",
            "Winsorizada BATHNUMBER (test) | Min: 0.0 → 1.0 | Max: 14.0 → 5.0\n",
            "Winsorizada PARKINGSPACEPRICE (test) | Min: 1.0 → 1.0 | Max: 250001.0 → 30001.0\n",
            "Winsorizada FLOORCLEAN (test) | Min: -1.0 → -1.0 | Max: 11.0 → 11.0\n",
            "Winsorizada CADCONSTRUCTIONYEAR (test) | Min: 1623.0 → 1888.0 | Max: 2018.0 → 2018.0\n",
            "Winsorizada CADMAXBUILDINGFLOOR (test) | Min: 0.0 → 2.0 | Max: 26.0 → 16.0\n",
            "Winsorizada CADDWELLINGCOUNT (test) | Min: 1.0 → 2.0 | Max: 724.0 → 271.0\n",
            "Winsorizada DISTANCE_TO_CITY_CENTER (test) | Min: 0.007646571604588598 → 0.38799978600884644 | Max: 14.149930295864683 → 11.690025472429028\n",
            "Winsorizada DISTANCE_TO_METRO (test) | Min: 0.0025889037755578125 → 0.044406525327645635 | Max: 9.341095836675143 → 4.035511759241687\n",
            "Winsorizada DISTANCE_TO_CASTELLANA (test) | Min: 0.004269475612437772 → 0.06757978367126469 | Max: 12.56401670456514 → 9.407324564812095\n",
            "Winsorizada LONGITUDE (test) | Min: -3.83270668839445 → -3.779562530991905 | Max: -3.54102910957631 → -3.581080837472495\n",
            "Winsorizada LATITUDE (test) | Min: 40.3286822175536 → 40.344092393749 | Max: 40.5200638929248 → 40.498436986244954\n"
          ]
        }
      ],
      "source": [
        "# Crear copia del DataFrame de test para no modificar el original\n",
        "madrid_sale_test_df_out = madrid_sale_test_df.copy()\n",
        "\n",
        "# Aplicar winsorización usando los límites calculados en el train\n",
        "for col in continuous_cols:\n",
        "    if madrid_sale_test_df_out[col].isnull().sum() == 0:  # solo si no hay nulos en test\n",
        "        lower = madrid_sale_train_df[col].quantile(0.01)  # percentil 1 del train\n",
        "        upper = madrid_sale_train_df[col].quantile(0.99)  # percentil 99 del train\n",
        "        original_min, original_max = madrid_sale_test_df_out[col].min(), madrid_sale_test_df_out[col].max()\n",
        "        madrid_sale_test_df_out[col] = madrid_sale_test_df_out[col].clip(lower, upper)\n",
        "        print(f\"Winsorizada {col} (test) | Min: {original_min} → {madrid_sale_test_df_out[col].min()} | Max: {original_max} → {madrid_sale_test_df_out[col].max()}\")\n"
      ]
    },
    {
      "cell_type": "code",
      "execution_count": 31,
      "metadata": {
        "colab": {
          "base_uri": "https://localhost:8080/"
        },
        "id": "tyyuisfHm4iB",
        "outputId": "6246c6df-3e36-49b9-9e7d-740d6ab49d81"
      },
      "outputs": [
        {
          "output_type": "stream",
          "name": "stdout",
          "text": [
            "Número de outliers por columna:\n",
            "PRICE: 1397 outliers\n",
            "CONSTRUCTEDAREA: 1449 outliers\n",
            "ROOMNUMBER: 1547 outliers\n",
            "BATHNUMBER: 673 outliers\n",
            "PARKINGSPACEPRICE: 412 outliers\n",
            "FLOORCLEAN: 495 outliers\n",
            "CADCONSTRUCTIONYEAR: 1311 outliers\n",
            "CADMAXBUILDINGFLOOR: 1356 outliers\n",
            "CADDWELLINGCOUNT: 2290 outliers\n",
            "DISTANCE_TO_CITY_CENTER: 0 outliers\n",
            "DISTANCE_TO_METRO: 1387 outliers\n",
            "DISTANCE_TO_CASTELLANA: 544 outliers\n",
            "LONGITUDE: 787 outliers\n",
            "LATITUDE: 0 outliers\n"
          ]
        }
      ],
      "source": [
        "#Identificar outliers usando IQR\n",
        "def detect_outliers_iqr(df, columns):\n",
        "    outliers_dict = {}\n",
        "    for col in columns:\n",
        "        Q1 = df[col].quantile(0.25)\n",
        "        Q3 = df[col].quantile(0.75)\n",
        "        IQR = Q3 - Q1\n",
        "        lower_bound = Q1 - 1.5 * IQR\n",
        "        upper_bound = Q3 + 1.5 * IQR\n",
        "        outliers = df[(df[col] < lower_bound) | (df[col] > upper_bound)][col]\n",
        "        outliers_dict[col] = len(outliers)\n",
        "    return outliers_dict\n",
        "\n",
        "# Detect outliers in continuous columns\n",
        "outliers_summary = detect_outliers_iqr(madrid_sale_test_df_out, continuous_cols)\n",
        "\n",
        "print(\"Número de outliers por columna:\")\n",
        "for col, count in outliers_summary.items():\n",
        "    print(f\"{col}: {count} outliers\")"
      ]
    },
    {
      "cell_type": "code",
      "execution_count": 32,
      "metadata": {
        "colab": {
          "base_uri": "https://localhost:8080/"
        },
        "id": "BmOmURqLm_65",
        "outputId": "7ccd989c-3d8b-4a31-d470-ae2eac694a6b"
      },
      "outputs": [
        {
          "output_type": "stream",
          "name": "stdout",
          "text": [
            "                                  min           max\n",
            "PRICE                    71000.000000  2.178500e+06\n",
            "CONSTRUCTEDAREA             30.000000  3.660000e+02\n",
            "ROOMNUMBER                   0.000000  6.000000e+00\n",
            "BATHNUMBER                   1.000000  5.000000e+00\n",
            "PARKINGSPACEPRICE            1.000000  3.000100e+04\n",
            "FLOORCLEAN                  -1.000000  1.100000e+01\n",
            "CADCONSTRUCTIONYEAR       1888.000000  2.018000e+03\n",
            "CADMAXBUILDINGFLOOR          2.000000  1.600000e+01\n",
            "CADDWELLINGCOUNT             2.000000  2.710000e+02\n",
            "DISTANCE_TO_CITY_CENTER      0.388000  1.169003e+01\n",
            "DISTANCE_TO_METRO            0.044407  4.035512e+00\n",
            "DISTANCE_TO_CASTELLANA       0.067580  9.407325e+00\n",
            "LONGITUDE                   -3.779563 -3.581081e+00\n",
            "LATITUDE                    40.344092  4.049844e+01\n"
          ]
        }
      ],
      "source": [
        "min_max = madrid_sale_test_df_out[continuous_cols].agg(['min', 'max']).T\n",
        "print(min_max)"
      ]
    },
    {
      "cell_type": "code",
      "execution_count": 33,
      "metadata": {
        "id": "BDwpznRHlJDJ"
      },
      "outputs": [],
      "source": [
        "#Train\n",
        "madrid_sale_train_df_obj=madrid_sale_train_df_out[\"PRICE\"]\n",
        "madrid_sale_train_df_expl = madrid_sale_train_df_out.drop(columns=[\"PRICE\"])\n",
        "#Test\n",
        "madrid_sale_test_df_obj=madrid_sale_test_df_out[\"PRICE\"]\n",
        "madrid_sale_test_df_expl = madrid_sale_test_df_out.drop(columns=[\"PRICE\"])"
      ]
    },
    {
      "cell_type": "markdown",
      "metadata": {
        "id": "HTA3aPnbIjjG"
      },
      "source": [
        "## PCA al conjunto de entrenamiento"
      ]
    },
    {
      "cell_type": "markdown",
      "metadata": {
        "id": "GeNeeBVeo6TW"
      },
      "source": [
        "En este punto, se va a aplicar PCA, que es una técnica que transforma un conjunto de variables posiblemente correlacionadas en un conjunto de variables no correlacionadas llamadas componentes principales. Estos componentes capturan la mayor parte de la variabilidad de los datos con menos dimensiones."
      ]
    },
    {
      "cell_type": "markdown",
      "metadata": {
        "id": "7RPozDe0IlS5"
      },
      "source": [
        "### PCA Lineal"
      ]
    },
    {
      "cell_type": "code",
      "execution_count": null,
      "metadata": {
        "colab": {
          "base_uri": "https://localhost:8080/",
          "height": 624
        },
        "id": "0cPINv_VRP38",
        "outputId": "61030b6c-ed3e-4312-851b-886ecd6498d4"
      },
      "outputs": [
        {
          "output_type": "display_data",
          "data": {
            "text/plain": [
              "<Figure size 1000x600 with 1 Axes>"
            ],
            "image/png": "[encoded data removed]"
          },
          "metadata": {}
        },
        {
          "output_type": "stream",
          "name": "stdout",
          "text": [
            "Componentes necesarias para explicar el 80% de la varianza: 20\n"
          ]
        }
      ],
      "source": [
        "import pandas as pd\n",
        "import numpy as np\n",
        "from sklearn.preprocessing import StandardScaler\n",
        "from sklearn.decomposition import PCA\n",
        "from sklearn.impute import SimpleImputer\n",
        "import matplotlib.pyplot as plt\n",
        "import seaborn as sns\n",
        "\n",
        "# Paso 1: Selección del DataFrame ya preprocesado\n",
        "df = madrid_sale_train_df_expl.copy()\n",
        "\n",
        "# Paso 3: Estandarización de los datos\n",
        "scaler = StandardScaler()\n",
        "df_scaled = scaler.fit_transform(df)\n",
        "\n",
        "# Paso 4: PCA clásico\n",
        "pca = PCA()\n",
        "pca.fit(df_scaled)\n",
        "\n",
        "# Paso 5: Varianza explicada\n",
        "explained_variance = pca.explained_variance_ratio_\n",
        "cumulative_variance = np.cumsum(explained_variance)\n",
        "\n",
        "# Gráfico de varianza explicada acumulada\n",
        "plt.figure(figsize=(10, 6))\n",
        "plt.plot(cumulative_variance * 100, marker='o')\n",
        "plt.ylabel('Varianza explicada acumulada (%)')\n",
        "plt.title('PCA - Varianza explicada acumulada')\n",
        "plt.grid(True)\n",
        "plt.axhline(80, color='red', linestyle='--', label='80%')\n",
        "plt.legend()\n",
        "plt.tight_layout()\n",
        "plt.show()\n",
        "\n",
        "# Paso 6: Cuántas componentes necesitamos para el 80%\n",
        "n_components_90 = np.argmax(cumulative_variance >= 0.80) + 1\n",
        "print(f\"Componentes necesarias para explicar el 80% de la varianza: {n_components_90}\")"
      ]
    },
    {
      "cell_type": "markdown",
      "metadata": {
        "id": "LYteetrkInt8"
      },
      "source": [
        "### PCA con kernel"
      ]
    },
    {
      "cell_type": "markdown",
      "metadata": {
        "id": "IjR1fw7ujXWV"
      },
      "source": [
        "#### Núcleo Sigmoide"
      ]
    },
    {
      "cell_type": "code",
      "execution_count": null,
      "metadata": {
        "colab": {
          "base_uri": "https://localhost:8080/",
          "height": 373
        },
        "id": "_oOzGvAS2Lsi",
        "outputId": "65455da7-0972-4b10-dc11-88d0b1acb3f5"
      },
      "outputs": [
        {
          "ename": "ValueError",
          "evalue": "There are significant negative eigenvalues (0.10991 of the maximum positive). Either the matrix is not PSD, or there was an issue while computing the eigendecomposition of the matrix.",
          "output_type": "error",
          "traceback": [
            "\u001b[0;31m---------------------------------------------------------------------------\u001b[0m",
            "\u001b[0;31mValueError\u001b[0m                                Traceback (most recent call last)",
            "\u001b[0;32m<ipython-input-21-2200554607>\u001b[0m in \u001b[0;36m<cell line: 0>\u001b[0;34m()\u001b[0m\n\u001b[1;32m     24\u001b[0m     \u001b[0mfit_inverse_transform\u001b[0m\u001b[0;34m=\u001b[0m\u001b[0;32mFalse\u001b[0m\u001b[0;34m\u001b[0m\u001b[0;34m\u001b[0m\u001b[0m\n\u001b[1;32m     25\u001b[0m )\n\u001b[0;32m---> 26\u001b[0;31m \u001b[0mX_kpca\u001b[0m \u001b[0;34m=\u001b[0m \u001b[0mkpca\u001b[0m\u001b[0;34m.\u001b[0m\u001b[0mfit_transform\u001b[0m\u001b[0;34m(\u001b[0m\u001b[0mdf_scaled\u001b[0m\u001b[0;34m)\u001b[0m\u001b[0;34m\u001b[0m\u001b[0;34m\u001b[0m\u001b[0m\n\u001b[0m\u001b[1;32m     27\u001b[0m \u001b[0;34m\u001b[0m\u001b[0m\n\u001b[1;32m     28\u001b[0m \u001b[0;31m# Paso 3: Calcular varianza explicada (estimada)\u001b[0m\u001b[0;34m\u001b[0m\u001b[0;34m\u001b[0m\u001b[0m\n",
            "\u001b[0;32m/usr/local/lib/python3.11/dist-packages/sklearn/utils/_set_output.py\u001b[0m in \u001b[0;36mwrapped\u001b[0;34m(self, X, *args, **kwargs)\u001b[0m\n\u001b[1;32m    317\u001b[0m     \u001b[0;34m@\u001b[0m\u001b[0mwraps\u001b[0m\u001b[0;34m(\u001b[0m\u001b[0mf\u001b[0m\u001b[0;34m)\u001b[0m\u001b[0;34m\u001b[0m\u001b[0;34m\u001b[0m\u001b[0m\n\u001b[1;32m    318\u001b[0m     \u001b[0;32mdef\u001b[0m \u001b[0mwrapped\u001b[0m\u001b[0;34m(\u001b[0m\u001b[0mself\u001b[0m\u001b[0;34m,\u001b[0m \u001b[0mX\u001b[0m\u001b[0;34m,\u001b[0m \u001b[0;34m*\u001b[0m\u001b[0margs\u001b[0m\u001b[0;34m,\u001b[0m \u001b[0;34m**\u001b[0m\u001b[0mkwargs\u001b[0m\u001b[0;34m)\u001b[0m\u001b[0;34m:\u001b[0m\u001b[0;34m\u001b[0m\u001b[0;34m\u001b[0m\u001b[0m\n\u001b[0;32m--> 319\u001b[0;31m         \u001b[0mdata_to_wrap\u001b[0m \u001b[0;34m=\u001b[0m \u001b[0mf\u001b[0m\u001b[0;34m(\u001b[0m\u001b[0mself\u001b[0m\u001b[0;34m,\u001b[0m \u001b[0mX\u001b[0m\u001b[0;34m,\u001b[0m \u001b[0;34m*\u001b[0m\u001b[0margs\u001b[0m\u001b[0;34m,\u001b[0m \u001b[0;34m**\u001b[0m\u001b[0mkwargs\u001b[0m\u001b[0;34m)\u001b[0m\u001b[0;34m\u001b[0m\u001b[0;34m\u001b[0m\u001b[0m\n\u001b[0m\u001b[1;32m    320\u001b[0m         \u001b[0;32mif\u001b[0m \u001b[0misinstance\u001b[0m\u001b[0;34m(\u001b[0m\u001b[0mdata_to_wrap\u001b[0m\u001b[0;34m,\u001b[0m \u001b[0mtuple\u001b[0m\u001b[0;34m)\u001b[0m\u001b[0;34m:\u001b[0m\u001b[0;34m\u001b[0m\u001b[0;34m\u001b[0m\u001b[0m\n\u001b[1;32m    321\u001b[0m             \u001b[0;31m# only wrap the first output for cross decomposition\u001b[0m\u001b[0;34m\u001b[0m\u001b[0;34m\u001b[0m\u001b[0m\n",
            "\u001b[0;32m/usr/local/lib/python3.11/dist-packages/sklearn/decomposition/_kernel_pca.py\u001b[0m in \u001b[0;36mfit_transform\u001b[0;34m(self, X, y, **params)\u001b[0m\n\u001b[1;32m    474\u001b[0m             \u001b[0mReturns\u001b[0m \u001b[0mthe\u001b[0m \u001b[0minstance\u001b[0m \u001b[0mitself\u001b[0m\u001b[0;34m.\u001b[0m\u001b[0;34m\u001b[0m\u001b[0;34m\u001b[0m\u001b[0m\n\u001b[1;32m    475\u001b[0m         \"\"\"\n\u001b[0;32m--> 476\u001b[0;31m         \u001b[0mself\u001b[0m\u001b[0;34m.\u001b[0m\u001b[0mfit\u001b[0m\u001b[0;34m(\u001b[0m\u001b[0mX\u001b[0m\u001b[0;34m,\u001b[0m \u001b[0;34m**\u001b[0m\u001b[0mparams\u001b[0m\u001b[0;34m)\u001b[0m\u001b[0;34m\u001b[0m\u001b[0;34m\u001b[0m\u001b[0m\n\u001b[0m\u001b[1;32m    477\u001b[0m \u001b[0;34m\u001b[0m\u001b[0m\n\u001b[1;32m    478\u001b[0m         \u001b[0;31m# no need to use the kernel to transform X, use shortcut expression\u001b[0m\u001b[0;34m\u001b[0m\u001b[0;34m\u001b[0m\u001b[0m\n",
            "\u001b[0;32m/usr/local/lib/python3.11/dist-packages/sklearn/base.py\u001b[0m in \u001b[0;36mwrapper\u001b[0;34m(estimator, *args, **kwargs)\u001b[0m\n\u001b[1;32m   1387\u001b[0m                 )\n\u001b[1;32m   1388\u001b[0m             ):\n\u001b[0;32m-> 1389\u001b[0;31m                 \u001b[0;32mreturn\u001b[0m \u001b[0mfit_method\u001b[0m\u001b[0;34m(\u001b[0m\u001b[0mestimator\u001b[0m\u001b[0;34m,\u001b[0m \u001b[0;34m*\u001b[0m\u001b[0margs\u001b[0m\u001b[0;34m,\u001b[0m \u001b[0;34m**\u001b[0m\u001b[0mkwargs\u001b[0m\u001b[0;34m)\u001b[0m\u001b[0;34m\u001b[0m\u001b[0;34m\u001b[0m\u001b[0m\n\u001b[0m\u001b[1;32m   1390\u001b[0m \u001b[0;34m\u001b[0m\u001b[0m\n\u001b[1;32m   1391\u001b[0m         \u001b[0;32mreturn\u001b[0m \u001b[0mwrapper\u001b[0m\u001b[0;34m\u001b[0m\u001b[0;34m\u001b[0m\u001b[0m\n",
            "\u001b[0;32m/usr/local/lib/python3.11/dist-packages/sklearn/decomposition/_kernel_pca.py\u001b[0m in \u001b[0;36mfit\u001b[0;34m(self, X, y)\u001b[0m\n\u001b[1;32m    442\u001b[0m         \u001b[0;31m# When kernel=\"precomputed\", K is X but it's safe to perform in place operations\u001b[0m\u001b[0;34m\u001b[0m\u001b[0;34m\u001b[0m\u001b[0m\n\u001b[1;32m    443\u001b[0m         \u001b[0;31m# on K because a copy was made before if requested by copy_X.\u001b[0m\u001b[0;34m\u001b[0m\u001b[0;34m\u001b[0m\u001b[0m\n\u001b[0;32m--> 444\u001b[0;31m         \u001b[0mself\u001b[0m\u001b[0;34m.\u001b[0m\u001b[0m_fit_transform_in_place\u001b[0m\u001b[0;34m(\u001b[0m\u001b[0mK\u001b[0m\u001b[0;34m)\u001b[0m\u001b[0;34m\u001b[0m\u001b[0;34m\u001b[0m\u001b[0m\n\u001b[0m\u001b[1;32m    445\u001b[0m \u001b[0;34m\u001b[0m\u001b[0m\n\u001b[1;32m    446\u001b[0m         \u001b[0;32mif\u001b[0m \u001b[0mself\u001b[0m\u001b[0;34m.\u001b[0m\u001b[0mfit_inverse_transform\u001b[0m\u001b[0;34m:\u001b[0m\u001b[0;34m\u001b[0m\u001b[0;34m\u001b[0m\u001b[0m\n",
            "\u001b[0;32m/usr/local/lib/python3.11/dist-packages/sklearn/decomposition/_kernel_pca.py\u001b[0m in \u001b[0;36m_fit_transform_in_place\u001b[0;34m(self, K)\u001b[0m\n\u001b[1;32m    366\u001b[0m \u001b[0;34m\u001b[0m\u001b[0m\n\u001b[1;32m    367\u001b[0m         \u001b[0;31m# make sure that the eigenvalues are ok and fix numerical issues\u001b[0m\u001b[0;34m\u001b[0m\u001b[0;34m\u001b[0m\u001b[0m\n\u001b[0;32m--> 368\u001b[0;31m         self.eigenvalues_ = _check_psd_eigenvalues(\n\u001b[0m\u001b[1;32m    369\u001b[0m             \u001b[0mself\u001b[0m\u001b[0;34m.\u001b[0m\u001b[0meigenvalues_\u001b[0m\u001b[0;34m,\u001b[0m \u001b[0menable_warnings\u001b[0m\u001b[0;34m=\u001b[0m\u001b[0;32mFalse\u001b[0m\u001b[0;34m\u001b[0m\u001b[0;34m\u001b[0m\u001b[0m\n\u001b[1;32m    370\u001b[0m         )\n",
            "\u001b[0;32m/usr/local/lib/python3.11/dist-packages/sklearn/utils/validation.py\u001b[0m in \u001b[0;36m_check_psd_eigenvalues\u001b[0;34m(lambdas, enable_warnings)\u001b[0m\n\u001b[1;32m   2094\u001b[0m             \u001b[0;32mand\u001b[0m \u001b[0mmin_eig\u001b[0m \u001b[0;34m<\u001b[0m \u001b[0;34m-\u001b[0m\u001b[0msignificant_neg_value\u001b[0m\u001b[0;34m\u001b[0m\u001b[0;34m\u001b[0m\u001b[0m\n\u001b[1;32m   2095\u001b[0m         ):\n\u001b[0;32m-> 2096\u001b[0;31m             raise ValueError(\n\u001b[0m\u001b[1;32m   2097\u001b[0m                 \u001b[0;34m\"There are significant negative eigenvalues (%g\"\u001b[0m\u001b[0;34m\u001b[0m\u001b[0;34m\u001b[0m\u001b[0m\n\u001b[1;32m   2098\u001b[0m                 \u001b[0;34m\" of the maximum positive). Either the matrix is \"\u001b[0m\u001b[0;34m\u001b[0m\u001b[0;34m\u001b[0m\u001b[0m\n",
            "\u001b[0;31mValueError\u001b[0m: There are significant negative eigenvalues (0.10991 of the maximum positive). Either the matrix is not PSD, or there was an issue while computing the eigendecomposition of the matrix."
          ]
        }
      ],
      "source": [
        "import pandas as pd\n",
        "import numpy as np\n",
        "from sklearn.preprocessing import StandardScaler\n",
        "from sklearn.decomposition import KernelPCA\n",
        "import matplotlib.pyplot as plt\n",
        "import seaborn as sns\n",
        "import gc\n",
        "\n",
        "# Liberar memoria\n",
        "gc.collect()\n",
        "\n",
        "# Paso 1: Cargar y preparar los datos\n",
        "df = madrid_sale_train_df_expl.copy().astype(np.float32)  # Reducir precisión\n",
        "scaler = StandardScaler()\n",
        "df_scaled = scaler.fit_transform(df)\n",
        "\n",
        "# Paso 2: KernelPCA\n",
        "n_components = 20\n",
        "kpca = KernelPCA(\n",
        "    n_components=n_components,\n",
        "    kernel='sigmoid',\n",
        "    eigen_solver='randomized',\n",
        "    n_jobs=-1,\n",
        "    fit_inverse_transform=False\n",
        ")\n",
        "X_kpca = kpca.fit_transform(df_scaled)\n",
        "\n",
        "# Paso 3: Calcular varianza explicada (estimada)\n",
        "component_variances = np.var(X_kpca, axis=0)\n",
        "explained_variance_ratio_kpca = component_variances / np.sum(component_variances)\n",
        "cumulative_variance_kpca = np.cumsum(explained_variance_ratio_kpca)\n",
        "\n",
        "# Paso 4: Tabla de varianza explicada\n",
        "df_varianza = pd.DataFrame({\n",
        "    'Componente': [f'PC{i+1}' for i in range(n_components)],\n",
        "    'Varianza Explicada (%)': explained_variance_ratio_kpca * 100,\n",
        "    'Varianza Acumulada (%)': cumulative_variance_kpca * 100\n",
        "})\n",
        "\n",
        "print(\"\\nVarianza explicada por cada componente principal:\")\n",
        "print(df_varianza.round(2))\n",
        "\n",
        "# Paso 5: Gráfico\n",
        "plt.figure(figsize=(10, 6))\n",
        "sns.lineplot(x=range(1, n_components + 1), y=cumulative_variance_kpca * 100, marker='o')\n",
        "plt.axhline(80, color='red', linestyle='--', label='80%')\n",
        "plt.axhline(90, color='green', linestyle='--', label='90%')\n",
        "plt.xticks(range(1, n_components + 1))\n",
        "plt.xlabel('Número de componentes principales (Kernel PCA)')\n",
        "plt.ylabel('Varianza explicada acumulada (%)')\n",
        "plt.title('Kernel PCA (sigmoid) - Varianza explicada')\n",
        "plt.legend()\n",
        "plt.grid(True)\n",
        "plt.tight_layout()\n",
        "plt.show()\n",
        "\n",
        "# Paso 6: Componentes necesarias para explicar el 80%\n",
        "n_components_80 = np.argmax(cumulative_variance_kpca >= 0.80) + 1\n",
        "print(f\"\\nComponentes necesarias para explicar el 80% de la varianza (estimado): {n_components_80}\")\n"
      ]
    },
    {
      "cell_type": "markdown",
      "metadata": {
        "id": "mXIzulqWjfZA"
      },
      "source": [
        "#### Núcleo rbf"
      ]
    },
    {
      "cell_type": "code",
      "execution_count": null,
      "metadata": {
        "colab": {
          "base_uri": "https://localhost:8080/",
          "height": 1000
        },
        "id": "aiEIO0xzSQYk",
        "outputId": "472e41c8-43ce-44b7-d74b-4d42cf696d0b"
      },
      "outputs": [
        {
          "name": "stdout",
          "output_type": "stream",
          "text": [
            "\n",
            "Varianza explicada por cada componente principal (Kernel RBF):\n",
            "   Componente  Varianza Explicada (%)  Varianza Acumulada (%)\n",
            "0         PC1                   15.67               15.670000\n",
            "1         PC2                    8.27               23.940001\n",
            "2         PC3                    7.15               31.090000\n",
            "3         PC4                    6.02               37.110001\n",
            "4         PC5                    4.24               41.349998\n",
            "5         PC6                    3.98               45.330002\n",
            "6         PC7                    3.43               48.759998\n",
            "7         PC8                    3.35               52.110001\n",
            "8         PC9                    2.87               54.980000\n",
            "9        PC10                    2.78               57.759998\n",
            "10       PC11                    2.61               60.380001\n",
            "11       PC12                    2.55               62.930000\n",
            "12       PC13                    2.51               65.430000\n",
            "13       PC14                    2.38               67.809998\n",
            "14       PC15                    2.27               70.080002\n",
            "15       PC16                    2.23               72.309998\n",
            "16       PC17                    2.20               74.510002\n",
            "17       PC18                    2.04               76.559998\n",
            "18       PC19                    1.93               78.489998\n",
            "19       PC20                    1.93               80.419998\n",
            "20       PC21                    1.84               82.260002\n",
            "21       PC22                    1.80               84.059998\n",
            "22       PC23                    1.71               85.769997\n",
            "23       PC24                    1.53               87.309998\n",
            "24       PC25                    1.43               88.739998\n",
            "25       PC26                    1.31               90.040001\n",
            "26       PC27                    1.23               91.269997\n",
            "27       PC28                    1.15               92.419998\n",
            "28       PC29                    1.12               93.540001\n",
            "29       PC30                    1.05               94.589996\n",
            "30       PC31                    1.02               95.610001\n",
            "31       PC32                    1.01               96.620003\n",
            "32       PC33                    0.94               97.559998\n",
            "33       PC34                    0.88               98.440002\n",
            "34       PC35                    0.79               99.230003\n",
            "35       PC36                    0.77              100.000000\n"
          ]
        },
        {
          "data": {
            "image/png": "[encoded data removed]",
            "text/plain": [
              "<Figure size 1000x600 with 1 Axes>"
            ]
          },
          "metadata": {},
          "output_type": "display_data"
        },
        {
          "name": "stdout",
          "output_type": "stream",
          "text": [
            "\n",
            "Componentes necesarias para explicar el 80% de la varianza (estimado): 20\n"
          ]
        }
      ],
      "source": [
        "import pandas as pd\n",
        "import numpy as np\n",
        "from sklearn.preprocessing import StandardScaler\n",
        "from sklearn.decomposition import KernelPCA\n",
        "import matplotlib.pyplot as plt\n",
        "import seaborn as sns\n",
        "import gc\n",
        "\n",
        "# Liberar memoria\n",
        "gc.collect()\n",
        "\n",
        "# Paso 1: Cargar y preparar los datos\n",
        "df = madrid_sale_train_df_expl.copy().astype(np.float32)  # Reducir precisión\n",
        "scaler = StandardScaler()\n",
        "df_scaled = scaler.fit_transform(df)\n",
        "\n",
        "# Paso 2: KernelPCA\n",
        "n_components = 36\n",
        "kpca = KernelPCA(\n",
        "    n_components=n_components,\n",
        "    kernel='rbf',  # Cambiado de 'sigmoid' a 'rbf'\n",
        "    eigen_solver='randomized',\n",
        "    n_jobs=-1,\n",
        "    fit_inverse_transform=False\n",
        ")\n",
        "X_kpca = kpca.fit_transform(df_scaled)\n",
        "\n",
        "# Paso 3: Calcular varianza explicada (estimada)\n",
        "component_variances = np.var(X_kpca, axis=0)\n",
        "explained_variance_ratio_kpca = component_variances / np.sum(component_variances)\n",
        "cumulative_variance_kpca = np.cumsum(explained_variance_ratio_kpca)\n",
        "\n",
        "# Paso 4: Tabla de varianza explicada\n",
        "df_varianza = pd.DataFrame({\n",
        "    'Componente': [f'PC{i+1}' for i in range(n_components)],\n",
        "    'Varianza Explicada (%)': explained_variance_ratio_kpca * 100,\n",
        "    'Varianza Acumulada (%)': cumulative_variance_kpca * 100\n",
        "})\n",
        "\n",
        "print(\"\\nVarianza explicada por cada componente principal (Kernel RBF):\")\n",
        "print(df_varianza.round(2))\n",
        "\n",
        "\n",
        "# Gráfico de varianza explicada acumulada\n",
        "plt.figure(figsize=(10, 6))\n",
        "plt.plot(cumulative_variance_kpca * 100, marker='o')\n",
        "plt.ylabel('Varianza explicada acumulada (%)')\n",
        "plt.xlabel('Número de componentes principales (Kernel RBF)')\n",
        "plt.title('KPCA - Varianza explicada acumulada')\n",
        "plt.grid(True)\n",
        "plt.axhline(80, color='red', linestyle='--', label='80%')\n",
        "plt.legend()\n",
        "plt.tight_layout()\n",
        "plt.show()\n",
        "\n",
        "# Paso 6: Componentes necesarias para explicar el 80%\n",
        "n_components_80 = np.argmax(cumulative_variance_kpca >= 0.80) + 1\n",
        "print(f\"\\nComponentes necesarias para explicar el 80% de la varianza (estimado): {n_components_80}\")\n"
      ]
    },
    {
      "cell_type": "markdown",
      "metadata": {
        "id": "FqOI2Egvj2aJ"
      },
      "source": [
        "#### Polinómico"
      ]
    },
    {
      "cell_type": "code",
      "execution_count": null,
      "metadata": {
        "colab": {
          "base_uri": "https://localhost:8080/",
          "height": 1000
        },
        "id": "6IiJor7wl6H-",
        "outputId": "b5add8b9-3286-4e55-e5fb-ea1889ccc4f8"
      },
      "outputs": [
        {
          "name": "stdout",
          "output_type": "stream",
          "text": [
            "\n",
            "Varianza explicada por cada componente principal (Kernel PCA - estimado):\n",
            "   Componente  Varianza Explicada (%)  Varianza Acumulada (%)\n",
            "0         PC1                   14.25               14.250000\n",
            "1         PC2                    8.03               22.280001\n",
            "2         PC3                    6.24               28.520000\n",
            "3         PC4                    5.44               33.959999\n",
            "4         PC5                    5.02               38.980000\n",
            "5         PC6                    4.74               43.720001\n",
            "6         PC7                    4.38               48.099998\n",
            "7         PC8                    3.86               51.959999\n",
            "8         PC9                    3.57               55.520000\n",
            "9        PC10                    3.32               58.849998\n",
            "10       PC11                    2.92               61.759998\n",
            "11       PC12                    2.81               64.570000\n",
            "12       PC13                    2.60               67.169998\n",
            "13       PC14                    2.54               69.699997\n",
            "14       PC15                    2.26               71.959999\n",
            "15       PC16                    2.17               74.129997\n",
            "16       PC17                    1.99               76.120003\n",
            "17       PC18                    1.89               78.010002\n",
            "18       PC19                    1.86               79.870003\n",
            "19       PC20                    1.76               81.629997\n",
            "20       PC21                    1.67               83.300003\n",
            "21       PC22                    1.57               84.860001\n",
            "22       PC23                    1.49               86.349998\n",
            "23       PC24                    1.41               87.769997\n",
            "24       PC25                    1.36               89.129997\n",
            "25       PC26                    1.29               90.419998\n",
            "26       PC27                    1.21               91.629997\n",
            "27       PC28                    1.13               92.760002\n",
            "28       PC29                    1.09               93.860001\n",
            "29       PC30                    1.05               94.910004\n",
            "30       PC31                    0.96               95.860001\n",
            "31       PC32                    0.87               96.730003\n",
            "32       PC33                    0.86               97.589996\n",
            "33       PC34                    0.83               98.419998\n",
            "34       PC35                    0.82               99.239998\n",
            "35       PC36                    0.76              100.000000\n"
          ]
        },
        {
          "data": {
            "image/png": "[encoded data removed]",
            "text/plain": [
              "<Figure size 1000x600 with 1 Axes>"
            ]
          },
          "metadata": {},
          "output_type": "display_data"
        },
        {
          "name": "stdout",
          "output_type": "stream",
          "text": [
            "\n",
            "Componentes necesarias para explicar el 80% de la varianza (estimado): 20\n"
          ]
        }
      ],
      "source": [
        "import pandas as pd\n",
        "import numpy as np\n",
        "from sklearn.preprocessing import StandardScaler\n",
        "from sklearn.decomposition import KernelPCA\n",
        "import matplotlib.pyplot as plt\n",
        "import seaborn as sns\n",
        "import gc\n",
        "\n",
        "# Liberar memoria\n",
        "gc.collect()\n",
        "\n",
        "#Cargar y preparar los datos\n",
        "df = madrid_sale_train_df_expl.copy().astype(np.float32)  # Reducir precisión\n",
        "scaler = StandardScaler()\n",
        "df_scaled = scaler.fit_transform(df)\n",
        "\n",
        "#KernelPCA con kernel polinómico\n",
        "n_components = 36\n",
        "kpca = KernelPCA(\n",
        "    n_components=n_components,\n",
        "    kernel='poly',\n",
        "    degree=3,\n",
        "    coef0=0.5,\n",
        "    gamma=0.01,\n",
        "    eigen_solver='randomized',\n",
        "    n_jobs=-1,\n",
        "    fit_inverse_transform=False\n",
        ")\n",
        "\n",
        "\n",
        "X_kpca = kpca.fit_transform(df_scaled)\n",
        "\n",
        "#Calcular varianza explicada (estimada)\n",
        "component_variances = np.var(X_kpca, axis=0)\n",
        "explained_variance_ratio_kpca = component_variances / np.sum(component_variances)\n",
        "cumulative_variance_kpca = np.cumsum(explained_variance_ratio_kpca)\n",
        "\n",
        "#Tabla de varianza explicada\n",
        "df_varianza = pd.DataFrame({\n",
        "    'Componente': [f'PC{i+1}' for i in range(n_components)],\n",
        "    'Varianza Explicada (%)': explained_variance_ratio_kpca * 100,\n",
        "    'Varianza Acumulada (%)': cumulative_variance_kpca * 100\n",
        "})\n",
        "\n",
        "print(\"\\nVarianza explicada por cada componente principal (Kernel PCA - estimado):\")\n",
        "print(df_varianza.round(2))\n",
        "\n",
        "#Gráfico\n",
        "plt.figure(figsize=(10, 6))\n",
        "plt.plot(cumulative_variance_kpca * 100, marker='o')\n",
        "plt.ylabel('Varianza explicada acumulada (%)')\n",
        "plt.xlabel('Número de componentes principales (Kernel Polinomico)')\n",
        "plt.title('KPCA - Varianza explicada acumulada')\n",
        "plt.grid(True)\n",
        "plt.axhline(80, color='red', linestyle='--', label='80%')\n",
        "plt.legend()\n",
        "plt.tight_layout()\n",
        "plt.show()\n",
        "\n",
        "#Componentes necesarias para explicar el 80%\n",
        "n_components_80 = np.argmax(cumulative_variance_kpca >= 0.80) + 1\n",
        "print(f\"\\nComponentes necesarias para explicar el 80% de la varianza (estimado): {n_components_80}\")\n"
      ]
    },
    {
      "cell_type": "markdown",
      "metadata": {
        "id": "uySiik8_j8ms"
      },
      "source": [
        "#### Cosine"
      ]
    },
    {
      "cell_type": "code",
      "execution_count": null,
      "metadata": {
        "colab": {
          "base_uri": "https://localhost:8080/",
          "height": 1000
        },
        "id": "Esy9CBvmSs1I",
        "outputId": "c5eb4312-53c5-4cb7-f328-a6a30a02a189"
      },
      "outputs": [
        {
          "output_type": "stream",
          "name": "stdout",
          "text": [
            "\n",
            "Varianza explicada por cada componente principal (Kernel PCA - estimado):\n",
            "   Componente  Varianza Explicada (%)  Varianza Acumulada (%)\n",
            "0         PC1                   15.23               15.230000\n",
            "1         PC2                    9.43               24.660000\n",
            "2         PC3                    7.28               31.940001\n",
            "3         PC4                    5.27               37.209999\n",
            "4         PC5                    4.56               41.770000\n",
            "5         PC6                    4.27               46.040001\n",
            "6         PC7                    3.78               49.820000\n",
            "7         PC8                    3.16               52.970001\n",
            "8         PC9                    3.05               56.020000\n",
            "9        PC10                    2.93               58.950001\n",
            "10       PC11                    2.85               61.799999\n",
            "11       PC12                    2.79               64.589996\n",
            "12       PC13                    2.72               67.309998\n",
            "13       PC14                    2.52               69.820000\n",
            "14       PC15                    2.40               72.220001\n",
            "15       PC16                    2.38               74.599998\n",
            "16       PC17                    2.22               76.820000\n",
            "17       PC18                    2.18               79.000000\n",
            "18       PC19                    2.15               81.150002\n",
            "19       PC20                    2.05               83.199997\n",
            "20       PC21                    1.95               85.150002\n",
            "21       PC22                    1.83               86.970001\n",
            "22       PC23                    1.59               88.559998\n",
            "23       PC24                    1.50               90.070000\n",
            "24       PC25                    1.36               91.419998\n",
            "25       PC26                    1.34               92.769997\n",
            "26       PC27                    1.22               93.989998\n",
            "27       PC28                    1.21               95.199997\n",
            "28       PC29                    1.20               96.400002\n",
            "29       PC30                    1.06               97.470001\n",
            "30       PC31                    0.89               98.349998\n",
            "31       PC32                    0.74               99.089996\n",
            "32       PC33                    0.49               99.580002\n",
            "33       PC34                    0.42              100.000000\n",
            "34       PC35                    0.00              100.000000\n",
            "35       PC36                    0.00              100.000000\n"
          ]
        },
        {
          "output_type": "display_data",
          "data": {
            "text/plain": [
              "<Figure size 1000x600 with 1 Axes>"
            ],
            "image/png": "[encoded data removed]"
          },
          "metadata": {}
        },
        {
          "output_type": "stream",
          "name": "stdout",
          "text": [
            "\n",
            "Componentes necesarias para explicar el 80% de la varianza (estimado): 19\n"
          ]
        }
      ],
      "source": [
        "import pandas as pd\n",
        "import numpy as np\n",
        "from sklearn.preprocessing import StandardScaler\n",
        "from sklearn.decomposition import KernelPCA\n",
        "import matplotlib.pyplot as plt\n",
        "import seaborn as sns\n",
        "import gc\n",
        "\n",
        "# Liberar memoria\n",
        "gc.collect()\n",
        "\n",
        "#Cargar y preparar los datos\n",
        "df = madrid_sale_train_df_expl.copy().astype(np.float32)  # Reducir precisión\n",
        "scaler = StandardScaler()\n",
        "df_scaled = scaler.fit_transform(df)\n",
        "\n",
        "#KernelPCA\n",
        "n_components = 36\n",
        "kpca = KernelPCA(\n",
        "    n_components=n_components,\n",
        "    kernel='cosine',\n",
        "    eigen_solver='randomized',\n",
        "    n_jobs=-1,\n",
        "    fit_inverse_transform=False\n",
        ")\n",
        "X_kpca = kpca.fit_transform(df_scaled)\n",
        "\n",
        "#Calcular varianza explicada (estimada)\n",
        "component_variances = np.var(X_kpca, axis=0)\n",
        "explained_variance_ratio_kpca = component_variances / np.sum(component_variances)\n",
        "cumulative_variance_kpca = np.cumsum(explained_variance_ratio_kpca)\n",
        "\n",
        "#Tabla de varianza explicada\n",
        "df_varianza = pd.DataFrame({\n",
        "    'Componente': [f'PC{i+1}' for i in range(n_components)],\n",
        "    'Varianza Explicada (%)': explained_variance_ratio_kpca * 100,\n",
        "    'Varianza Acumulada (%)': cumulative_variance_kpca * 100\n",
        "})\n",
        "\n",
        "print(\"\\nVarianza explicada por cada componente principal (Kernel PCA - estimado):\")\n",
        "print(df_varianza.round(2))\n",
        "\n",
        "#Gráfico\n",
        "plt.figure(figsize=(10, 6))\n",
        "plt.plot(cumulative_variance_kpca * 100, marker='o')\n",
        "plt.ylabel('Varianza explicada acumulada (%)')\n",
        "plt.xlabel('Número de componentes principales (Kernel Cosine)')\n",
        "plt.title('KPCA - Varianza explicada acumulada')\n",
        "plt.grid(True)\n",
        "plt.axhline(80, color='red', linestyle='--', label='80%')\n",
        "plt.legend()\n",
        "plt.tight_layout()\n",
        "plt.show()\n",
        "\n",
        "# Paso 6: Componentes necesarias para explicar el 80%\n",
        "n_components_80 = np.argmax(cumulative_variance_kpca >= 0.80) + 1\n",
        "print(f\"\\nComponentes necesarias para explicar el 80% de la varianza (estimado): {n_components_80}\")\n",
        "\n"
      ]
    },
    {
      "cell_type": "markdown",
      "metadata": {
        "id": "i5kZehtVBnT1"
      },
      "source": [
        "Una vez que se sabe que con 19 componentes principales es suficiente, se va a aplicar correctamente"
      ]
    },
    {
      "cell_type": "code",
      "execution_count": 34,
      "metadata": {
        "id": "pX0potiRBsvL"
      },
      "outputs": [],
      "source": [
        "import pandas as pd\n",
        "import numpy as np\n",
        "from sklearn.preprocessing import StandardScaler\n",
        "from sklearn.decomposition import KernelPCA\n",
        "import matplotlib.pyplot as plt\n",
        "import seaborn as sns\n",
        "import gc\n",
        "# Liberar memoria\n",
        "gc.collect()\n",
        "\n",
        "# Paso 1: Cargar y preparar los datos de entrenamiento\n",
        "train_df = madrid_sale_train_df_expl.copy().astype(np.float32)\n",
        "scaler = StandardScaler()\n",
        "X_train_scaled = scaler.fit_transform(train_df)\n",
        "\n",
        "# Paso 2: KernelPCA con solver aleatorizado\n",
        "n_components = 19\n",
        "kpca = KernelPCA(\n",
        "    n_components=n_components,\n",
        "    kernel='cosine',\n",
        "    eigen_solver='randomized',\n",
        "    n_jobs=-1,\n",
        "    fit_inverse_transform=False\n",
        ")\n",
        "X_train_kpca = kpca.fit_transform(X_train_scaled)"
      ]
    },
    {
      "cell_type": "code",
      "source": [
        "#Guardamos para la aplicación\n",
        "joblib.dump(kpca, \"kpca.pkl\")\n",
        "# Guardar el scaler entrenado\n",
        "joblib.dump(scaler, \"scaler.pkl\")"
      ],
      "metadata": {
        "colab": {
          "base_uri": "https://localhost:8080/"
        },
        "id": "MsQc47v44L0n",
        "outputId": "dd11e114-5f0d-494f-fdfe-2b2e6ab6f848"
      },
      "execution_count": 35,
      "outputs": [
        {
          "output_type": "execute_result",
          "data": {
            "text/plain": [
              "['scaler.pkl']"
            ]
          },
          "metadata": {},
          "execution_count": 35
        }
      ]
    },
    {
      "cell_type": "markdown",
      "metadata": {
        "id": "LsxJlbSP1qtb"
      },
      "source": [
        "Realizamos un análisis de correlación de las 2 primeras componentes principales (que son las que mas varianza explican) contra las variables originales, para ver cuales son las que tienen mas peso."
      ]
    },
    {
      "cell_type": "code",
      "execution_count": 36,
      "metadata": {
        "colab": {
          "base_uri": "https://localhost:8080/",
          "height": 607
        },
        "id": "NaiWiWe6GK6A",
        "outputId": "a84c7536-a90f-4000-9f1f-998c2c217f05"
      },
      "outputs": [
        {
          "output_type": "display_data",
          "data": {
            "text/plain": [
              "<Figure size 1200x600 with 2 Axes>"
            ],
            "image/png": "[encoded data removed]"
          },
          "metadata": {}
        }
      ],
      "source": [
        "from scipy.stats import pearsonr, spearmanr, f_oneway\n",
        "\n",
        "# Paso 1: KPCA con 2 componentes ya realizado -> df_kpca\n",
        "df_kpca = pd.DataFrame(X_train_kpca[:, :2], columns=['KPCA_1', 'KPCA_2'])\n",
        "\n",
        "# Paso 2: Unimos KPCA con las variables originales\n",
        "df_full = pd.concat([df_kpca.reset_index(drop=True), madrid_sale_train_df_expl.reset_index(drop=True)], axis=1)\n",
        "\n",
        "# Inicializamos resultados\n",
        "correlaciones_pearson = {}\n",
        "correlaciones_spearman = {}\n",
        "anova_kpca1 = {}\n",
        "anova_kpca2 = {}\n",
        "\n",
        "excluded_cols = []  # Aquí puedes incluir variables a excluir si quieres\n",
        "for col in madrid_sale_train_df_expl.columns:\n",
        "    if col in excluded_cols:\n",
        "        continue\n",
        "\n",
        "    n_unique = madrid_sale_train_df_expl[col].nunique(dropna=True)\n",
        "\n",
        "    # Variables numéricas (continuas)\n",
        "    if n_unique > 10:\n",
        "        try:\n",
        "            valid_rows = df_full[['KPCA_1', 'KPCA_2', col]].dropna()\n",
        "            corr_pearson_1, _ = pearsonr(valid_rows['KPCA_1'], valid_rows[col])\n",
        "            corr_pearson_2, _ = pearsonr(valid_rows['KPCA_2'], valid_rows[col])\n",
        "            correlaciones_pearson[col] = (corr_pearson_1, corr_pearson_2)\n",
        "\n",
        "            corr_spear_1, _ = spearmanr(valid_rows['KPCA_1'], valid_rows[col])\n",
        "            corr_spear_2, _ = spearmanr(valid_rows['KPCA_2'], valid_rows[col])\n",
        "            correlaciones_spearman[col] = (corr_spear_1, corr_spear_2)\n",
        "        except Exception as e:\n",
        "            print(f\"Error en correlación con {col}: {e}\")\n",
        "\n",
        "    # Variables categóricas (pocas categorías)\n",
        "    elif n_unique <= 10:\n",
        "        try:\n",
        "            df_clean = df_full[[col, 'KPCA_1', 'KPCA_2']].dropna()\n",
        "            groups_1 = [group['KPCA_1'] for _, group in df_clean.groupby(col)]\n",
        "            groups_2 = [group['KPCA_2'] for _, group in df_clean.groupby(col)]\n",
        "\n",
        "            if len(groups_1) > 1:\n",
        "                anova_kpca1[col] = f_oneway(*groups_1).pvalue\n",
        "            if len(groups_2) > 1:\n",
        "                anova_kpca2[col] = f_oneway(*groups_2).pvalue\n",
        "        except Exception as e:\n",
        "            print(f\"Error en ANOVA con {col}: {e}\")\n",
        "\n",
        "# Convertimos a DataFrame para visualizar\n",
        "df_corrs = pd.DataFrame.from_dict(correlaciones_pearson, orient='index', columns=['KPCA_1', 'KPCA_2'])\n",
        "\n",
        "plt.figure(figsize=(12, 6))\n",
        "sns.heatmap(df_corrs, annot=True, cmap='coolwarm', center=0)\n",
        "plt.title(\"Correlación de Pearson entre variables numéricas y KPCA\")\n",
        "plt.tight_layout()\n",
        "plt.show()\n"
      ]
    },
    {
      "cell_type": "markdown",
      "metadata": {
        "id": "QhDB2W1Y_Zqb"
      },
      "source": [
        "## PCA al conjunto de test"
      ]
    },
    {
      "cell_type": "code",
      "execution_count": 37,
      "metadata": {
        "id": "uu28KzYAItKp"
      },
      "outputs": [],
      "source": [
        "#Cargar y preparar los datos de test\n",
        "test_df = madrid_sale_test_df_expl.copy().astype(np.float32)\n",
        "\n",
        "#Estandarización en test (usar el scaler ajustado en entrenamiento)\n",
        "X_test_scaled = scaler.transform(test_df)\n",
        "\n",
        "#Transformar el conjunto de test con KernelPCA\n",
        "X_test_kpca = kpca.transform(X_test_scaled)\n",
        "\n"
      ]
    },
    {
      "cell_type": "code",
      "execution_count": 38,
      "metadata": {
        "colab": {
          "base_uri": "https://localhost:8080/"
        },
        "id": "ntco3EKlx-mW",
        "outputId": "dc52734c-dc7a-4084-e386-fb37314a0d8d"
      },
      "outputs": [
        {
          "output_type": "stream",
          "name": "stdout",
          "text": [
            "Dimensiones del conjunto de entrenamiento transformado: (75851, 19)\n",
            "Dimensiones de la variable respuesta de entrenamiento: (75851,)\n",
            "Dimensiones del conjunto de test transformado: (18963, 19)\n",
            "Dimensiones de la variable respuesta de test: (18963,)\n"
          ]
        }
      ],
      "source": [
        "#Cambiar nombre a la variable respuesta\n",
        "y_train_kpca=madrid_sale_train_df_obj\n",
        "y_test_kpca=madrid_sale_test_df_obj\n",
        "#Verificar dimensiones\n",
        "print(f\"Dimensiones del conjunto de entrenamiento transformado: {X_train_kpca.shape}\")\n",
        "print(f\"Dimensiones de la variable respuesta de entrenamiento: {y_train_kpca.shape}\")\n",
        "\n",
        "print(f\"Dimensiones del conjunto de test transformado: {X_test_kpca.shape}\")\n",
        "print(f\"Dimensiones de la variable respuesta de test: {y_test_kpca.shape}\")"
      ]
    },
    {
      "cell_type": "markdown",
      "metadata": {
        "id": "Sc4zis4hC6CD"
      },
      "source": [
        "# Realización del modelo"
      ]
    },
    {
      "cell_type": "code",
      "source": [
        "import pandas as pd\n",
        "import numpy as np\n",
        "# Cargar\n",
        "X_train_kpca = np.load(\"X_train_kpca_wins.npy\")\n",
        "X_test_kpca = np.load(\"X_test_kpca_wins.npy\")\n",
        "y_train_kpca = np.load(\"y_train_kpca_wins.npy\")\n",
        "y_test_kpca = np.load(\"y_test_kpca_wins.npy\")\n"
      ],
      "metadata": {
        "id": "km8uDxgc8ryW"
      },
      "execution_count": 40,
      "outputs": []
    },
    {
      "cell_type": "markdown",
      "metadata": {
        "id": "aGnts6Uh48HL"
      },
      "source": [
        "## Regresión Lineal"
      ]
    },
    {
      "cell_type": "code",
      "execution_count": 41,
      "metadata": {
        "colab": {
          "base_uri": "https://localhost:8080/"
        },
        "id": "yretb3uHF_Aw",
        "outputId": "d918de6f-8890-4ce2-c306-317fbbba9c4c"
      },
      "outputs": [
        {
          "output_type": "stream",
          "name": "stdout",
          "text": [
            "\n",
            "Métricas de rendimiento y tiempos del modelo de regresión lineal:\n",
            "                   R²         RMSE          MAE  MAPE (%)  \\\n",
            "Entrenamiento  0.6753  209514.5915  139000.7423   48.6434   \n",
            "Test           0.6787  213016.8932  140512.6337   49.1098   \n",
            "\n",
            "               Ratio aceptable (<10%)  Tiempo (s)  \n",
            "Entrenamiento                 16.2239      0.0361  \n",
            "Test                          16.1367      0.0008  \n"
          ]
        }
      ],
      "source": [
        "import pandas as pd\n",
        "import numpy as np\n",
        "import time\n",
        "from sklearn.linear_model import LinearRegression\n",
        "from sklearn.metrics import (\n",
        "    mean_squared_error,\n",
        "    mean_absolute_error,\n",
        "    r2_score\n",
        ")\n",
        "\n",
        "# Definir el modelo\n",
        "modelo_lr = LinearRegression()\n",
        "\n",
        "# Medir tiempo de entrenamiento\n",
        "start_train = time.time()\n",
        "modelo_lr.fit(X_train_kpca, y_train_kpca)\n",
        "end_train = time.time()\n",
        "train_time = end_train - start_train\n",
        "\n",
        "# Medir tiempo de predicción en train\n",
        "start_pred_train = time.time()\n",
        "y_pred_train = modelo_lr.predict(X_train_kpca)\n",
        "end_pred_train = time.time()\n",
        "pred_time_train = end_pred_train - start_pred_train\n",
        "\n",
        "# Medir tiempo de predicción en test\n",
        "start_pred_test = time.time()\n",
        "y_pred_test = modelo_lr.predict(X_test_kpca)\n",
        "end_pred_test = time.time()\n",
        "pred_time_test = end_pred_test - start_pred_test\n",
        "\n",
        "# Función para métricas\n",
        "def calcular_metricas(y_true, y_pred):\n",
        "    mae = mean_absolute_error(y_true, y_pred)\n",
        "    rmse = np.sqrt(mean_squared_error(y_true, y_pred))\n",
        "    r2 = r2_score(y_true, y_pred)\n",
        "    mape = np.mean(np.abs((y_true - y_pred) / y_true)) * 100\n",
        "    ratio_aceptable = np.mean(np.abs((y_true - y_pred) / y_true) < 0.10) * 100\n",
        "    return r2, rmse, mae, mape, ratio_aceptable\n",
        "\n",
        "# Calcular métricas\n",
        "metrics_train = calcular_metricas(y_train_kpca, y_pred_train)\n",
        "metrics_test = calcular_metricas(y_test_kpca, y_pred_test)\n",
        "\n",
        "# Añadir tiempos a las métricas\n",
        "metrics_train += (train_time + pred_time_train,)\n",
        "metrics_test += (pred_time_test,)\n",
        "\n",
        "# Crear tabla resumen con tiempos\n",
        "df_metrics = pd.DataFrame(\n",
        "    [metrics_train, metrics_test],\n",
        "    index=[\"Entrenamiento\", \"Test\"],\n",
        "    columns=[\"R²\", \"RMSE\", \"MAE\", \"MAPE (%)\", \"Ratio aceptable (<10%)\", \"Tiempo (s)\"]\n",
        ")\n",
        "\n",
        "# Mostrar resultados\n",
        "print(\"\\nMétricas de rendimiento y tiempos del modelo de regresión lineal:\")\n",
        "print(df_metrics.round(4))\n"
      ]
    },
    {
      "cell_type": "markdown",
      "metadata": {
        "id": "rg6CvOIz8U2i"
      },
      "source": [
        "## Random forest"
      ]
    },
    {
      "cell_type": "markdown",
      "metadata": {
        "id": "EXSVz6IXC4XV"
      },
      "source": [
        "Para la realización del modelo Random Forest, se realizó una búsqueda exhaustiva de combinaciones de hiperparámetros clave con el fin de evaluar el impacto de cada uno en el desempeño predictivo. Las variables exploradas fueron las siguientes:\n",
        "*\tNúmero de árboles (n_estimators): Se probaron dos valores, 100 y 200 estimadores, para evaluar si aumentar la cantidad de árboles mejora la estabilidad y capacidad de generalización del modelo.\n",
        "*\tProfundidad máxima del árbol (max_depth): Se consideraron cuatro valores diferentes: None (sin límite), 5, 10 y 20. Esta variable controla la complejidad de cada árbol individual y tiene gran impacto en el balance entre sesgo y varianza, permitiendo observar cómo la profundidad afecta el sobreajuste.\n",
        "*\tNúmero mínimo de muestras para dividir un nodo (min_samples_split): Se exploraron los valores 2 y 5, para analizar cómo variar este umbral influye en la capacidad del modelo para generalizar evitando divisiones excesivamente específicas.\n",
        "*\tNúmero de características a considerar en cada división (max_features): Se probaron las opciones 'sqrt' y 'log2', dos estrategias comunes para seleccionar un subconjunto de variables en cada nodo, afectando la diversidad y correlación entre los árboles.\n"
      ]
    },
    {
      "cell_type": "code",
      "source": [
        "from sklearn.ensemble import RandomForestRegressor\n",
        "from sklearn.metrics import mean_squared_error, mean_absolute_error, r2_score\n",
        "from itertools import product\n",
        "import numpy as np\n",
        "import pandas as pd\n",
        "\n",
        "# Nuevo rango ampliado de hiperparámetros\n",
        "param_grid = {\n",
        "    'n_estimators':  [100, 200,300, 500],\n",
        "    'max_depth': [None, 20, 30, 40],\n",
        "    'min_samples_split': [2, 5],\n",
        "    'max_features': ['sqrt', 'log2']\n",
        "}\n",
        "\n",
        "# Crear combinaciones de hiperparámetros\n",
        "param_combinations = list(product(\n",
        "    param_grid['n_estimators'],\n",
        "    param_grid['max_depth'],\n",
        "    param_grid['min_samples_split'],\n",
        "    param_grid['max_features']\n",
        "))\n",
        "\n",
        "# Lista para guardar resultados\n",
        "resultados_2 = []\n",
        "\n",
        "# Iterar sobre combinaciones\n",
        "for n_est, depth, min_split, max_feat in param_combinations:\n",
        "    print(f\"Evaluando: n_estimators={n_est}, max_depth={depth}, min_samples_split={min_split}, max_features={max_feat}\")\n",
        "\n",
        "    modelo_rf = RandomForestRegressor(\n",
        "        n_estimators=n_est,\n",
        "        max_depth=depth,\n",
        "        min_samples_split=min_split,\n",
        "        max_features=max_feat,\n",
        "        random_state=42,\n",
        "        n_jobs=-1\n",
        "    )\n",
        "\n",
        "    modelo_rf.fit(X_train_kpca, y_train_kpca)\n",
        "\n",
        "    # Predicciones\n",
        "    y_pred_train = modelo_rf.predict(X_train_kpca)\n",
        "    y_pred_test = modelo_rf.predict(X_test_kpca)\n",
        "\n",
        "    # Métricas para train y test\n",
        "    r2_train, rmse_train, mae_train, mape_train, ratio_train = calcular_metricas(y_train_kpca, y_pred_train)\n",
        "    r2_test, rmse_test, mae_test, mape_test, ratio_test = calcular_metricas(y_test_kpca, y_pred_test)\n",
        "\n",
        "    resultados_2.append({\n",
        "        'n_estimators': n_est,\n",
        "        'max_depth': depth,\n",
        "        'min_samples_split': min_split,\n",
        "        'max_features': max_feat,\n",
        "        'R2_Train': r2_train,\n",
        "        'R2_Test': r2_test,\n",
        "        'RMSE_Train': rmse_train,\n",
        "        'RMSE_Test': rmse_test,\n",
        "        'MAE_Train': mae_train,\n",
        "        'MAE_Test': mae_test,\n",
        "        'MAPE_Train (%)': mape_train,\n",
        "        'MAPE_Test (%)': mape_test,\n",
        "        'Ratio_Train (<10%)': ratio_train,\n",
        "        'Ratio_Test (<10%)': ratio_test\n",
        "    })\n",
        "\n",
        "# Convertir a DataFrame\n",
        "df_resultados_2 = pd.DataFrame(resultados_2)"
      ],
      "metadata": {
        "id": "Zug-zQEyko8f",
        "colab": {
          "base_uri": "https://localhost:8080/"
        },
        "outputId": "c0461399-a6d0-480b-b63b-c2b8e54db4c9"
      },
      "execution_count": 43,
      "outputs": [
        {
          "output_type": "stream",
          "name": "stdout",
          "text": [
            "Evaluando: n_estimators=100, max_depth=None, min_samples_split=2, max_features=sqrt\n",
            "Evaluando: n_estimators=100, max_depth=None, min_samples_split=2, max_features=log2\n",
            "Evaluando: n_estimators=100, max_depth=None, min_samples_split=5, max_features=sqrt\n",
            "Evaluando: n_estimators=100, max_depth=None, min_samples_split=5, max_features=log2\n",
            "Evaluando: n_estimators=100, max_depth=20, min_samples_split=2, max_features=sqrt\n",
            "Evaluando: n_estimators=100, max_depth=20, min_samples_split=2, max_features=log2\n",
            "Evaluando: n_estimators=100, max_depth=20, min_samples_split=5, max_features=sqrt\n",
            "Evaluando: n_estimators=100, max_depth=20, min_samples_split=5, max_features=log2\n",
            "Evaluando: n_estimators=100, max_depth=30, min_samples_split=2, max_features=sqrt\n",
            "Evaluando: n_estimators=100, max_depth=30, min_samples_split=2, max_features=log2\n",
            "Evaluando: n_estimators=100, max_depth=30, min_samples_split=5, max_features=sqrt\n",
            "Evaluando: n_estimators=100, max_depth=30, min_samples_split=5, max_features=log2\n",
            "Evaluando: n_estimators=100, max_depth=40, min_samples_split=2, max_features=sqrt\n",
            "Evaluando: n_estimators=100, max_depth=40, min_samples_split=2, max_features=log2\n",
            "Evaluando: n_estimators=100, max_depth=40, min_samples_split=5, max_features=sqrt\n",
            "Evaluando: n_estimators=100, max_depth=40, min_samples_split=5, max_features=log2\n",
            "Evaluando: n_estimators=200, max_depth=None, min_samples_split=2, max_features=sqrt\n",
            "Evaluando: n_estimators=200, max_depth=None, min_samples_split=2, max_features=log2\n",
            "Evaluando: n_estimators=200, max_depth=None, min_samples_split=5, max_features=sqrt\n",
            "Evaluando: n_estimators=200, max_depth=None, min_samples_split=5, max_features=log2\n",
            "Evaluando: n_estimators=200, max_depth=20, min_samples_split=2, max_features=sqrt\n",
            "Evaluando: n_estimators=200, max_depth=20, min_samples_split=2, max_features=log2\n",
            "Evaluando: n_estimators=200, max_depth=20, min_samples_split=5, max_features=sqrt\n",
            "Evaluando: n_estimators=200, max_depth=20, min_samples_split=5, max_features=log2\n",
            "Evaluando: n_estimators=200, max_depth=30, min_samples_split=2, max_features=sqrt\n",
            "Evaluando: n_estimators=200, max_depth=30, min_samples_split=2, max_features=log2\n",
            "Evaluando: n_estimators=200, max_depth=30, min_samples_split=5, max_features=sqrt\n",
            "Evaluando: n_estimators=200, max_depth=30, min_samples_split=5, max_features=log2\n",
            "Evaluando: n_estimators=200, max_depth=40, min_samples_split=2, max_features=sqrt\n",
            "Evaluando: n_estimators=200, max_depth=40, min_samples_split=2, max_features=log2\n",
            "Evaluando: n_estimators=200, max_depth=40, min_samples_split=5, max_features=sqrt\n",
            "Evaluando: n_estimators=200, max_depth=40, min_samples_split=5, max_features=log2\n",
            "Evaluando: n_estimators=300, max_depth=None, min_samples_split=2, max_features=sqrt\n",
            "Evaluando: n_estimators=300, max_depth=None, min_samples_split=2, max_features=log2\n",
            "Evaluando: n_estimators=300, max_depth=None, min_samples_split=5, max_features=sqrt\n",
            "Evaluando: n_estimators=300, max_depth=None, min_samples_split=5, max_features=log2\n",
            "Evaluando: n_estimators=300, max_depth=20, min_samples_split=2, max_features=sqrt\n",
            "Evaluando: n_estimators=300, max_depth=20, min_samples_split=2, max_features=log2\n",
            "Evaluando: n_estimators=300, max_depth=20, min_samples_split=5, max_features=sqrt\n",
            "Evaluando: n_estimators=300, max_depth=20, min_samples_split=5, max_features=log2\n",
            "Evaluando: n_estimators=300, max_depth=30, min_samples_split=2, max_features=sqrt\n",
            "Evaluando: n_estimators=300, max_depth=30, min_samples_split=2, max_features=log2\n",
            "Evaluando: n_estimators=300, max_depth=30, min_samples_split=5, max_features=sqrt\n",
            "Evaluando: n_estimators=300, max_depth=30, min_samples_split=5, max_features=log2\n",
            "Evaluando: n_estimators=300, max_depth=40, min_samples_split=2, max_features=sqrt\n",
            "Evaluando: n_estimators=300, max_depth=40, min_samples_split=2, max_features=log2\n",
            "Evaluando: n_estimators=300, max_depth=40, min_samples_split=5, max_features=sqrt\n",
            "Evaluando: n_estimators=300, max_depth=40, min_samples_split=5, max_features=log2\n",
            "Evaluando: n_estimators=500, max_depth=None, min_samples_split=2, max_features=sqrt\n",
            "Evaluando: n_estimators=500, max_depth=None, min_samples_split=2, max_features=log2\n",
            "Evaluando: n_estimators=500, max_depth=None, min_samples_split=5, max_features=sqrt\n",
            "Evaluando: n_estimators=500, max_depth=None, min_samples_split=5, max_features=log2\n",
            "Evaluando: n_estimators=500, max_depth=20, min_samples_split=2, max_features=sqrt\n",
            "Evaluando: n_estimators=500, max_depth=20, min_samples_split=2, max_features=log2\n",
            "Evaluando: n_estimators=500, max_depth=20, min_samples_split=5, max_features=sqrt\n",
            "Evaluando: n_estimators=500, max_depth=20, min_samples_split=5, max_features=log2\n",
            "Evaluando: n_estimators=500, max_depth=30, min_samples_split=2, max_features=sqrt\n",
            "Evaluando: n_estimators=500, max_depth=30, min_samples_split=2, max_features=log2\n",
            "Evaluando: n_estimators=500, max_depth=30, min_samples_split=5, max_features=sqrt\n",
            "Evaluando: n_estimators=500, max_depth=30, min_samples_split=5, max_features=log2\n",
            "Evaluando: n_estimators=500, max_depth=40, min_samples_split=2, max_features=sqrt\n",
            "Evaluando: n_estimators=500, max_depth=40, min_samples_split=2, max_features=log2\n",
            "Evaluando: n_estimators=500, max_depth=40, min_samples_split=5, max_features=sqrt\n",
            "Evaluando: n_estimators=500, max_depth=40, min_samples_split=5, max_features=log2\n"
          ]
        }
      ]
    },
    {
      "cell_type": "code",
      "source": [
        "#Imprimimos resultados\n",
        "df_resultados_2.to_excel(\"resultados_random_forest_2_sin_outliers.xlsx\", index=False)"
      ],
      "metadata": {
        "id": "oAP-hEQSk5p8"
      },
      "execution_count": 44,
      "outputs": []
    },
    {
      "cell_type": "markdown",
      "source": [
        "Se va a realizar lo mismo, pero introduciendo el logaritmo de la variable objetivo"
      ],
      "metadata": {
        "id": "xjSIhMoGhN2W"
      }
    },
    {
      "cell_type": "code",
      "source": [
        "from sklearn.ensemble import RandomForestRegressor\n",
        "from sklearn.metrics import mean_squared_error, mean_absolute_error, r2_score\n",
        "from itertools import product\n",
        "import numpy as np\n",
        "import pandas as pd\n",
        "\n",
        "# Transformamos target a logarítmica\n",
        "y_train_log = np.log1p(y_train_kpca)\n",
        "y_test_log = np.log1p(y_test_kpca)\n",
        "\n",
        "# Definimos los valores a explorar\n",
        "param_grid = {\n",
        "    'n_estimators': [100, 200],\n",
        "    'max_depth': [None, 5, 10, 20],\n",
        "    'min_samples_split': [2, 5],\n",
        "    'max_features': ['sqrt', 'log2']\n",
        "}\n",
        "\n",
        "# Combinaciones de parámetros\n",
        "param_combinations = list(product(\n",
        "    param_grid['n_estimators'],\n",
        "    param_grid['max_depth'],\n",
        "    param_grid['min_samples_split'],\n",
        "    param_grid['max_features']\n",
        "))\n",
        "\n",
        "# Lista para guardar resultados\n",
        "resultados_3 = []\n",
        "\n",
        "# Iterar sobre combinaciones\n",
        "for n_est, depth, min_split, max_feat in param_combinations:\n",
        "    print(f\"Evaluando: n_estimators={n_est}, max_depth={depth}, min_samples_split={min_split}, max_features={max_feat}\")\n",
        "\n",
        "    modelo_rf = RandomForestRegressor(\n",
        "        n_estimators=n_est,\n",
        "        max_depth=depth,\n",
        "        min_samples_split=min_split,\n",
        "        max_features=max_feat,\n",
        "        random_state=42,\n",
        "        n_jobs=-1\n",
        "    )\n",
        "\n",
        "    # Entrenamiento con la variable target logarítmica\n",
        "    modelo_rf.fit(X_train_kpca, y_train_log)\n",
        "\n",
        "    # Predicciones en escala log\n",
        "    y_pred_train_log = modelo_rf.predict(X_train_kpca)\n",
        "    y_pred_test_log = modelo_rf.predict(X_test_kpca)\n",
        "\n",
        "    # Volvemos a la escala original\n",
        "    y_pred_train = np.expm1(y_pred_train_log)\n",
        "    y_pred_test = np.expm1(y_pred_test_log)\n",
        "\n",
        "    # Métricas usando valores reales en escala original\n",
        "    r2_train, rmse_train, mae_train, mape_train, ratio_train = calcular_metricas(y_train_kpca, y_pred_train)\n",
        "    r2_test, rmse_test, mae_test, mape_test, ratio_test = calcular_metricas(y_test_kpca, y_pred_test)\n",
        "\n",
        "    resultados_3.append({\n",
        "        'n_estimators': n_est,\n",
        "        'max_depth': depth,\n",
        "        'min_samples_split': min_split,\n",
        "        'max_features': max_feat,\n",
        "        'R2_Train': r2_train,\n",
        "        'R2_Test': r2_test,\n",
        "        'RMSE_Train': rmse_train,\n",
        "        'RMSE_Test': rmse_test,\n",
        "        'MAE_Train': mae_train,\n",
        "        'MAE_Test': mae_test,\n",
        "        'MAPE_Train (%)': mape_train,\n",
        "        'MAPE_Test (%)': mape_test,\n",
        "        'Ratio_Train (<10%)': ratio_train,\n",
        "        'Ratio_Test (<10%)': ratio_test\n",
        "    })\n",
        "\n",
        "# Convertir a DataFrame\n",
        "df_resultados_3 = pd.DataFrame(resultados_3)"
      ],
      "metadata": {
        "colab": {
          "base_uri": "https://localhost:8080/"
        },
        "id": "sHq7OtEFgpMR",
        "outputId": "da620325-60e3-49fa-88a8-97dc36d16162"
      },
      "execution_count": 45,
      "outputs": [
        {
          "output_type": "stream",
          "name": "stdout",
          "text": [
            "Evaluando: n_estimators=100, max_depth=None, min_samples_split=2, max_features=sqrt\n",
            "Evaluando: n_estimators=100, max_depth=None, min_samples_split=2, max_features=log2\n",
            "Evaluando: n_estimators=100, max_depth=None, min_samples_split=5, max_features=sqrt\n",
            "Evaluando: n_estimators=100, max_depth=None, min_samples_split=5, max_features=log2\n",
            "Evaluando: n_estimators=100, max_depth=5, min_samples_split=2, max_features=sqrt\n",
            "Evaluando: n_estimators=100, max_depth=5, min_samples_split=2, max_features=log2\n",
            "Evaluando: n_estimators=100, max_depth=5, min_samples_split=5, max_features=sqrt\n",
            "Evaluando: n_estimators=100, max_depth=5, min_samples_split=5, max_features=log2\n",
            "Evaluando: n_estimators=100, max_depth=10, min_samples_split=2, max_features=sqrt\n",
            "Evaluando: n_estimators=100, max_depth=10, min_samples_split=2, max_features=log2\n",
            "Evaluando: n_estimators=100, max_depth=10, min_samples_split=5, max_features=sqrt\n",
            "Evaluando: n_estimators=100, max_depth=10, min_samples_split=5, max_features=log2\n",
            "Evaluando: n_estimators=100, max_depth=20, min_samples_split=2, max_features=sqrt\n",
            "Evaluando: n_estimators=100, max_depth=20, min_samples_split=2, max_features=log2\n",
            "Evaluando: n_estimators=100, max_depth=20, min_samples_split=5, max_features=sqrt\n",
            "Evaluando: n_estimators=100, max_depth=20, min_samples_split=5, max_features=log2\n",
            "Evaluando: n_estimators=200, max_depth=None, min_samples_split=2, max_features=sqrt\n",
            "Evaluando: n_estimators=200, max_depth=None, min_samples_split=2, max_features=log2\n",
            "Evaluando: n_estimators=200, max_depth=None, min_samples_split=5, max_features=sqrt\n",
            "Evaluando: n_estimators=200, max_depth=None, min_samples_split=5, max_features=log2\n",
            "Evaluando: n_estimators=200, max_depth=5, min_samples_split=2, max_features=sqrt\n",
            "Evaluando: n_estimators=200, max_depth=5, min_samples_split=2, max_features=log2\n",
            "Evaluando: n_estimators=200, max_depth=5, min_samples_split=5, max_features=sqrt\n",
            "Evaluando: n_estimators=200, max_depth=5, min_samples_split=5, max_features=log2\n",
            "Evaluando: n_estimators=200, max_depth=10, min_samples_split=2, max_features=sqrt\n",
            "Evaluando: n_estimators=200, max_depth=10, min_samples_split=2, max_features=log2\n",
            "Evaluando: n_estimators=200, max_depth=10, min_samples_split=5, max_features=sqrt\n",
            "Evaluando: n_estimators=200, max_depth=10, min_samples_split=5, max_features=log2\n",
            "Evaluando: n_estimators=200, max_depth=20, min_samples_split=2, max_features=sqrt\n",
            "Evaluando: n_estimators=200, max_depth=20, min_samples_split=2, max_features=log2\n",
            "Evaluando: n_estimators=200, max_depth=20, min_samples_split=5, max_features=sqrt\n",
            "Evaluando: n_estimators=200, max_depth=20, min_samples_split=5, max_features=log2\n"
          ]
        }
      ]
    },
    {
      "cell_type": "code",
      "source": [
        "#Imprimimos resultados\n",
        "df_resultados_3.to_excel(\"resultados_random_forest_3_sin_outliers.xlsx\", index=False)"
      ],
      "metadata": {
        "id": "YzRLsBWahWFL"
      },
      "execution_count": 46,
      "outputs": []
    },
    {
      "cell_type": "markdown",
      "source": [
        "Modelo final"
      ],
      "metadata": {
        "id": "P2vsB3MAvo6l"
      }
    },
    {
      "cell_type": "code",
      "execution_count": 51,
      "metadata": {
        "id": "7xXAhtiJBpV_",
        "colab": {
          "base_uri": "https://localhost:8080/"
        },
        "outputId": "40bf20f4-78cc-4c96-b102-aebc96a7bee7"
      },
      "outputs": [
        {
          "output_type": "stream",
          "name": "stdout",
          "text": [
            "Tiempo de entrenamiento: 13.22 segundos\n",
            "Tiempo de predicción: 0.1981 segundos\n"
          ]
        }
      ],
      "source": [
        "import pandas as pd\n",
        "import numpy as np\n",
        "import time\n",
        "from sklearn.ensemble import RandomForestRegressor\n",
        "from sklearn.metrics import (\n",
        "    mean_squared_error,\n",
        "    mean_absolute_error,\n",
        "    r2_score\n",
        ")\n",
        "\n",
        "# Aplicar logaritmo a la variable objetivo de entrenamiento\n",
        "y_train_kpca_log = np.log(y_train_kpca)\n",
        "\n",
        "# Inicializar el modelo\n",
        "modelo_final_rf = RandomForestRegressor(\n",
        "    n_estimators=200,\n",
        "    max_depth=None,\n",
        "    min_samples_split=2,\n",
        "    max_features='sqrt',\n",
        "    random_state=42,\n",
        "    n_jobs=-1\n",
        ")\n",
        "\n",
        "# Entrenamiento\n",
        "start_train = time.time()\n",
        "modelo_final_rf.fit(X_train_kpca, y_train_kpca_log)\n",
        "end_train = time.time()\n",
        "train_time = end_train - start_train\n",
        "print(f\"Tiempo de entrenamiento: {train_time:.2f} segundos\")\n",
        "\n",
        "# Predicción (en log)\n",
        "start_pred = time.time()\n",
        "y_pred_log = modelo_final_rf.predict(X_test_kpca)\n",
        "end_pred = time.time()\n",
        "pred_time = end_pred - start_pred\n",
        "print(f\"Tiempo de predicción: {pred_time:.4f} segundos\")"
      ]
    },
    {
      "cell_type": "markdown",
      "metadata": {
        "id": "sNxVLLnaM-hq"
      },
      "source": [
        "## XGBoost"
      ]
    },
    {
      "cell_type": "code",
      "execution_count": 47,
      "metadata": {
        "id": "UWhR81HxtIuQ",
        "colab": {
          "base_uri": "https://localhost:8080/"
        },
        "outputId": "0b442eaf-df36-4650-f05a-44c885c0861c"
      },
      "outputs": [
        {
          "output_type": "stream",
          "name": "stdout",
          "text": [
            "Evaluando: n_estimators=100, max_depth=None, learning_rate=0.1, subsample=0.8, colsample_bytree=0.8\n",
            "Evaluando: n_estimators=100, max_depth=None, learning_rate=0.1, subsample=0.8, colsample_bytree=1\n",
            "Evaluando: n_estimators=100, max_depth=None, learning_rate=0.1, subsample=1, colsample_bytree=0.8\n",
            "Evaluando: n_estimators=100, max_depth=None, learning_rate=0.1, subsample=1, colsample_bytree=1\n",
            "Evaluando: n_estimators=100, max_depth=None, learning_rate=0.2, subsample=0.8, colsample_bytree=0.8\n",
            "Evaluando: n_estimators=100, max_depth=None, learning_rate=0.2, subsample=0.8, colsample_bytree=1\n",
            "Evaluando: n_estimators=100, max_depth=None, learning_rate=0.2, subsample=1, colsample_bytree=0.8\n",
            "Evaluando: n_estimators=100, max_depth=None, learning_rate=0.2, subsample=1, colsample_bytree=1\n",
            "Evaluando: n_estimators=100, max_depth=None, learning_rate=0.5, subsample=0.8, colsample_bytree=0.8\n",
            "Evaluando: n_estimators=100, max_depth=None, learning_rate=0.5, subsample=0.8, colsample_bytree=1\n",
            "Evaluando: n_estimators=100, max_depth=None, learning_rate=0.5, subsample=1, colsample_bytree=0.8\n",
            "Evaluando: n_estimators=100, max_depth=None, learning_rate=0.5, subsample=1, colsample_bytree=1\n",
            "Evaluando: n_estimators=100, max_depth=None, learning_rate=1, subsample=0.8, colsample_bytree=0.8\n",
            "Evaluando: n_estimators=100, max_depth=None, learning_rate=1, subsample=0.8, colsample_bytree=1\n",
            "Evaluando: n_estimators=100, max_depth=None, learning_rate=1, subsample=1, colsample_bytree=0.8\n",
            "Evaluando: n_estimators=100, max_depth=None, learning_rate=1, subsample=1, colsample_bytree=1\n",
            "Evaluando: n_estimators=100, max_depth=2, learning_rate=0.1, subsample=0.8, colsample_bytree=0.8\n",
            "Evaluando: n_estimators=100, max_depth=2, learning_rate=0.1, subsample=0.8, colsample_bytree=1\n",
            "Evaluando: n_estimators=100, max_depth=2, learning_rate=0.1, subsample=1, colsample_bytree=0.8\n",
            "Evaluando: n_estimators=100, max_depth=2, learning_rate=0.1, subsample=1, colsample_bytree=1\n",
            "Evaluando: n_estimators=100, max_depth=2, learning_rate=0.2, subsample=0.8, colsample_bytree=0.8\n",
            "Evaluando: n_estimators=100, max_depth=2, learning_rate=0.2, subsample=0.8, colsample_bytree=1\n",
            "Evaluando: n_estimators=100, max_depth=2, learning_rate=0.2, subsample=1, colsample_bytree=0.8\n",
            "Evaluando: n_estimators=100, max_depth=2, learning_rate=0.2, subsample=1, colsample_bytree=1\n",
            "Evaluando: n_estimators=100, max_depth=2, learning_rate=0.5, subsample=0.8, colsample_bytree=0.8\n",
            "Evaluando: n_estimators=100, max_depth=2, learning_rate=0.5, subsample=0.8, colsample_bytree=1\n",
            "Evaluando: n_estimators=100, max_depth=2, learning_rate=0.5, subsample=1, colsample_bytree=0.8\n",
            "Evaluando: n_estimators=100, max_depth=2, learning_rate=0.5, subsample=1, colsample_bytree=1\n",
            "Evaluando: n_estimators=100, max_depth=2, learning_rate=1, subsample=0.8, colsample_bytree=0.8\n",
            "Evaluando: n_estimators=100, max_depth=2, learning_rate=1, subsample=0.8, colsample_bytree=1\n",
            "Evaluando: n_estimators=100, max_depth=2, learning_rate=1, subsample=1, colsample_bytree=0.8\n",
            "Evaluando: n_estimators=100, max_depth=2, learning_rate=1, subsample=1, colsample_bytree=1\n",
            "Evaluando: n_estimators=100, max_depth=5, learning_rate=0.1, subsample=0.8, colsample_bytree=0.8\n",
            "Evaluando: n_estimators=100, max_depth=5, learning_rate=0.1, subsample=0.8, colsample_bytree=1\n",
            "Evaluando: n_estimators=100, max_depth=5, learning_rate=0.1, subsample=1, colsample_bytree=0.8\n",
            "Evaluando: n_estimators=100, max_depth=5, learning_rate=0.1, subsample=1, colsample_bytree=1\n",
            "Evaluando: n_estimators=100, max_depth=5, learning_rate=0.2, subsample=0.8, colsample_bytree=0.8\n",
            "Evaluando: n_estimators=100, max_depth=5, learning_rate=0.2, subsample=0.8, colsample_bytree=1\n",
            "Evaluando: n_estimators=100, max_depth=5, learning_rate=0.2, subsample=1, colsample_bytree=0.8\n",
            "Evaluando: n_estimators=100, max_depth=5, learning_rate=0.2, subsample=1, colsample_bytree=1\n",
            "Evaluando: n_estimators=100, max_depth=5, learning_rate=0.5, subsample=0.8, colsample_bytree=0.8\n",
            "Evaluando: n_estimators=100, max_depth=5, learning_rate=0.5, subsample=0.8, colsample_bytree=1\n",
            "Evaluando: n_estimators=100, max_depth=5, learning_rate=0.5, subsample=1, colsample_bytree=0.8\n",
            "Evaluando: n_estimators=100, max_depth=5, learning_rate=0.5, subsample=1, colsample_bytree=1\n",
            "Evaluando: n_estimators=100, max_depth=5, learning_rate=1, subsample=0.8, colsample_bytree=0.8\n",
            "Evaluando: n_estimators=100, max_depth=5, learning_rate=1, subsample=0.8, colsample_bytree=1\n",
            "Evaluando: n_estimators=100, max_depth=5, learning_rate=1, subsample=1, colsample_bytree=0.8\n",
            "Evaluando: n_estimators=100, max_depth=5, learning_rate=1, subsample=1, colsample_bytree=1\n",
            "Evaluando: n_estimators=100, max_depth=10, learning_rate=0.1, subsample=0.8, colsample_bytree=0.8\n",
            "Evaluando: n_estimators=100, max_depth=10, learning_rate=0.1, subsample=0.8, colsample_bytree=1\n",
            "Evaluando: n_estimators=100, max_depth=10, learning_rate=0.1, subsample=1, colsample_bytree=0.8\n",
            "Evaluando: n_estimators=100, max_depth=10, learning_rate=0.1, subsample=1, colsample_bytree=1\n",
            "Evaluando: n_estimators=100, max_depth=10, learning_rate=0.2, subsample=0.8, colsample_bytree=0.8\n",
            "Evaluando: n_estimators=100, max_depth=10, learning_rate=0.2, subsample=0.8, colsample_bytree=1\n",
            "Evaluando: n_estimators=100, max_depth=10, learning_rate=0.2, subsample=1, colsample_bytree=0.8\n",
            "Evaluando: n_estimators=100, max_depth=10, learning_rate=0.2, subsample=1, colsample_bytree=1\n",
            "Evaluando: n_estimators=100, max_depth=10, learning_rate=0.5, subsample=0.8, colsample_bytree=0.8\n",
            "Evaluando: n_estimators=100, max_depth=10, learning_rate=0.5, subsample=0.8, colsample_bytree=1\n",
            "Evaluando: n_estimators=100, max_depth=10, learning_rate=0.5, subsample=1, colsample_bytree=0.8\n",
            "Evaluando: n_estimators=100, max_depth=10, learning_rate=0.5, subsample=1, colsample_bytree=1\n",
            "Evaluando: n_estimators=100, max_depth=10, learning_rate=1, subsample=0.8, colsample_bytree=0.8\n",
            "Evaluando: n_estimators=100, max_depth=10, learning_rate=1, subsample=0.8, colsample_bytree=1\n",
            "Evaluando: n_estimators=100, max_depth=10, learning_rate=1, subsample=1, colsample_bytree=0.8\n",
            "Evaluando: n_estimators=100, max_depth=10, learning_rate=1, subsample=1, colsample_bytree=1\n",
            "Evaluando: n_estimators=100, max_depth=20, learning_rate=0.1, subsample=0.8, colsample_bytree=0.8\n",
            "Evaluando: n_estimators=100, max_depth=20, learning_rate=0.1, subsample=0.8, colsample_bytree=1\n",
            "Evaluando: n_estimators=100, max_depth=20, learning_rate=0.1, subsample=1, colsample_bytree=0.8\n",
            "Evaluando: n_estimators=100, max_depth=20, learning_rate=0.1, subsample=1, colsample_bytree=1\n",
            "Evaluando: n_estimators=100, max_depth=20, learning_rate=0.2, subsample=0.8, colsample_bytree=0.8\n",
            "Evaluando: n_estimators=100, max_depth=20, learning_rate=0.2, subsample=0.8, colsample_bytree=1\n",
            "Evaluando: n_estimators=100, max_depth=20, learning_rate=0.2, subsample=1, colsample_bytree=0.8\n",
            "Evaluando: n_estimators=100, max_depth=20, learning_rate=0.2, subsample=1, colsample_bytree=1\n",
            "Evaluando: n_estimators=100, max_depth=20, learning_rate=0.5, subsample=0.8, colsample_bytree=0.8\n",
            "Evaluando: n_estimators=100, max_depth=20, learning_rate=0.5, subsample=0.8, colsample_bytree=1\n",
            "Evaluando: n_estimators=100, max_depth=20, learning_rate=0.5, subsample=1, colsample_bytree=0.8\n",
            "Evaluando: n_estimators=100, max_depth=20, learning_rate=0.5, subsample=1, colsample_bytree=1\n",
            "Evaluando: n_estimators=100, max_depth=20, learning_rate=1, subsample=0.8, colsample_bytree=0.8\n",
            "Evaluando: n_estimators=100, max_depth=20, learning_rate=1, subsample=0.8, colsample_bytree=1\n",
            "Evaluando: n_estimators=100, max_depth=20, learning_rate=1, subsample=1, colsample_bytree=0.8\n",
            "Evaluando: n_estimators=100, max_depth=20, learning_rate=1, subsample=1, colsample_bytree=1\n",
            "Evaluando: n_estimators=100, max_depth=40, learning_rate=0.1, subsample=0.8, colsample_bytree=0.8\n",
            "Evaluando: n_estimators=100, max_depth=40, learning_rate=0.1, subsample=0.8, colsample_bytree=1\n",
            "Evaluando: n_estimators=100, max_depth=40, learning_rate=0.1, subsample=1, colsample_bytree=0.8\n",
            "Evaluando: n_estimators=100, max_depth=40, learning_rate=0.1, subsample=1, colsample_bytree=1\n",
            "Evaluando: n_estimators=100, max_depth=40, learning_rate=0.2, subsample=0.8, colsample_bytree=0.8\n",
            "Evaluando: n_estimators=100, max_depth=40, learning_rate=0.2, subsample=0.8, colsample_bytree=1\n",
            "Evaluando: n_estimators=100, max_depth=40, learning_rate=0.2, subsample=1, colsample_bytree=0.8\n",
            "Evaluando: n_estimators=100, max_depth=40, learning_rate=0.2, subsample=1, colsample_bytree=1\n",
            "Evaluando: n_estimators=100, max_depth=40, learning_rate=0.5, subsample=0.8, colsample_bytree=0.8\n",
            "Evaluando: n_estimators=100, max_depth=40, learning_rate=0.5, subsample=0.8, colsample_bytree=1\n",
            "Evaluando: n_estimators=100, max_depth=40, learning_rate=0.5, subsample=1, colsample_bytree=0.8\n",
            "Evaluando: n_estimators=100, max_depth=40, learning_rate=0.5, subsample=1, colsample_bytree=1\n",
            "Evaluando: n_estimators=100, max_depth=40, learning_rate=1, subsample=0.8, colsample_bytree=0.8\n",
            "Evaluando: n_estimators=100, max_depth=40, learning_rate=1, subsample=0.8, colsample_bytree=1\n",
            "Evaluando: n_estimators=100, max_depth=40, learning_rate=1, subsample=1, colsample_bytree=0.8\n",
            "Evaluando: n_estimators=100, max_depth=40, learning_rate=1, subsample=1, colsample_bytree=1\n",
            "Evaluando: n_estimators=100, max_depth=60, learning_rate=0.1, subsample=0.8, colsample_bytree=0.8\n",
            "Evaluando: n_estimators=100, max_depth=60, learning_rate=0.1, subsample=0.8, colsample_bytree=1\n",
            "Evaluando: n_estimators=100, max_depth=60, learning_rate=0.1, subsample=1, colsample_bytree=0.8\n",
            "Evaluando: n_estimators=100, max_depth=60, learning_rate=0.1, subsample=1, colsample_bytree=1\n",
            "Evaluando: n_estimators=100, max_depth=60, learning_rate=0.2, subsample=0.8, colsample_bytree=0.8\n",
            "Evaluando: n_estimators=100, max_depth=60, learning_rate=0.2, subsample=0.8, colsample_bytree=1\n",
            "Evaluando: n_estimators=100, max_depth=60, learning_rate=0.2, subsample=1, colsample_bytree=0.8\n",
            "Evaluando: n_estimators=100, max_depth=60, learning_rate=0.2, subsample=1, colsample_bytree=1\n",
            "Evaluando: n_estimators=100, max_depth=60, learning_rate=0.5, subsample=0.8, colsample_bytree=0.8\n",
            "Evaluando: n_estimators=100, max_depth=60, learning_rate=0.5, subsample=0.8, colsample_bytree=1\n",
            "Evaluando: n_estimators=100, max_depth=60, learning_rate=0.5, subsample=1, colsample_bytree=0.8\n",
            "Evaluando: n_estimators=100, max_depth=60, learning_rate=0.5, subsample=1, colsample_bytree=1\n",
            "Evaluando: n_estimators=100, max_depth=60, learning_rate=1, subsample=0.8, colsample_bytree=0.8\n",
            "Evaluando: n_estimators=100, max_depth=60, learning_rate=1, subsample=0.8, colsample_bytree=1\n",
            "Evaluando: n_estimators=100, max_depth=60, learning_rate=1, subsample=1, colsample_bytree=0.8\n",
            "Evaluando: n_estimators=100, max_depth=60, learning_rate=1, subsample=1, colsample_bytree=1\n",
            "Evaluando: n_estimators=200, max_depth=None, learning_rate=0.1, subsample=0.8, colsample_bytree=0.8\n",
            "Evaluando: n_estimators=200, max_depth=None, learning_rate=0.1, subsample=0.8, colsample_bytree=1\n",
            "Evaluando: n_estimators=200, max_depth=None, learning_rate=0.1, subsample=1, colsample_bytree=0.8\n",
            "Evaluando: n_estimators=200, max_depth=None, learning_rate=0.1, subsample=1, colsample_bytree=1\n",
            "Evaluando: n_estimators=200, max_depth=None, learning_rate=0.2, subsample=0.8, colsample_bytree=0.8\n",
            "Evaluando: n_estimators=200, max_depth=None, learning_rate=0.2, subsample=0.8, colsample_bytree=1\n",
            "Evaluando: n_estimators=200, max_depth=None, learning_rate=0.2, subsample=1, colsample_bytree=0.8\n",
            "Evaluando: n_estimators=200, max_depth=None, learning_rate=0.2, subsample=1, colsample_bytree=1\n",
            "Evaluando: n_estimators=200, max_depth=None, learning_rate=0.5, subsample=0.8, colsample_bytree=0.8\n",
            "Evaluando: n_estimators=200, max_depth=None, learning_rate=0.5, subsample=0.8, colsample_bytree=1\n",
            "Evaluando: n_estimators=200, max_depth=None, learning_rate=0.5, subsample=1, colsample_bytree=0.8\n",
            "Evaluando: n_estimators=200, max_depth=None, learning_rate=0.5, subsample=1, colsample_bytree=1\n",
            "Evaluando: n_estimators=200, max_depth=None, learning_rate=1, subsample=0.8, colsample_bytree=0.8\n",
            "Evaluando: n_estimators=200, max_depth=None, learning_rate=1, subsample=0.8, colsample_bytree=1\n",
            "Evaluando: n_estimators=200, max_depth=None, learning_rate=1, subsample=1, colsample_bytree=0.8\n",
            "Evaluando: n_estimators=200, max_depth=None, learning_rate=1, subsample=1, colsample_bytree=1\n",
            "Evaluando: n_estimators=200, max_depth=2, learning_rate=0.1, subsample=0.8, colsample_bytree=0.8\n",
            "Evaluando: n_estimators=200, max_depth=2, learning_rate=0.1, subsample=0.8, colsample_bytree=1\n",
            "Evaluando: n_estimators=200, max_depth=2, learning_rate=0.1, subsample=1, colsample_bytree=0.8\n",
            "Evaluando: n_estimators=200, max_depth=2, learning_rate=0.1, subsample=1, colsample_bytree=1\n",
            "Evaluando: n_estimators=200, max_depth=2, learning_rate=0.2, subsample=0.8, colsample_bytree=0.8\n",
            "Evaluando: n_estimators=200, max_depth=2, learning_rate=0.2, subsample=0.8, colsample_bytree=1\n",
            "Evaluando: n_estimators=200, max_depth=2, learning_rate=0.2, subsample=1, colsample_bytree=0.8\n",
            "Evaluando: n_estimators=200, max_depth=2, learning_rate=0.2, subsample=1, colsample_bytree=1\n",
            "Evaluando: n_estimators=200, max_depth=2, learning_rate=0.5, subsample=0.8, colsample_bytree=0.8\n",
            "Evaluando: n_estimators=200, max_depth=2, learning_rate=0.5, subsample=0.8, colsample_bytree=1\n",
            "Evaluando: n_estimators=200, max_depth=2, learning_rate=0.5, subsample=1, colsample_bytree=0.8\n",
            "Evaluando: n_estimators=200, max_depth=2, learning_rate=0.5, subsample=1, colsample_bytree=1\n",
            "Evaluando: n_estimators=200, max_depth=2, learning_rate=1, subsample=0.8, colsample_bytree=0.8\n",
            "Evaluando: n_estimators=200, max_depth=2, learning_rate=1, subsample=0.8, colsample_bytree=1\n",
            "Evaluando: n_estimators=200, max_depth=2, learning_rate=1, subsample=1, colsample_bytree=0.8\n",
            "Evaluando: n_estimators=200, max_depth=2, learning_rate=1, subsample=1, colsample_bytree=1\n",
            "Evaluando: n_estimators=200, max_depth=5, learning_rate=0.1, subsample=0.8, colsample_bytree=0.8\n",
            "Evaluando: n_estimators=200, max_depth=5, learning_rate=0.1, subsample=0.8, colsample_bytree=1\n",
            "Evaluando: n_estimators=200, max_depth=5, learning_rate=0.1, subsample=1, colsample_bytree=0.8\n",
            "Evaluando: n_estimators=200, max_depth=5, learning_rate=0.1, subsample=1, colsample_bytree=1\n",
            "Evaluando: n_estimators=200, max_depth=5, learning_rate=0.2, subsample=0.8, colsample_bytree=0.8\n",
            "Evaluando: n_estimators=200, max_depth=5, learning_rate=0.2, subsample=0.8, colsample_bytree=1\n",
            "Evaluando: n_estimators=200, max_depth=5, learning_rate=0.2, subsample=1, colsample_bytree=0.8\n",
            "Evaluando: n_estimators=200, max_depth=5, learning_rate=0.2, subsample=1, colsample_bytree=1\n",
            "Evaluando: n_estimators=200, max_depth=5, learning_rate=0.5, subsample=0.8, colsample_bytree=0.8\n",
            "Evaluando: n_estimators=200, max_depth=5, learning_rate=0.5, subsample=0.8, colsample_bytree=1\n",
            "Evaluando: n_estimators=200, max_depth=5, learning_rate=0.5, subsample=1, colsample_bytree=0.8\n",
            "Evaluando: n_estimators=200, max_depth=5, learning_rate=0.5, subsample=1, colsample_bytree=1\n",
            "Evaluando: n_estimators=200, max_depth=5, learning_rate=1, subsample=0.8, colsample_bytree=0.8\n",
            "Evaluando: n_estimators=200, max_depth=5, learning_rate=1, subsample=0.8, colsample_bytree=1\n",
            "Evaluando: n_estimators=200, max_depth=5, learning_rate=1, subsample=1, colsample_bytree=0.8\n",
            "Evaluando: n_estimators=200, max_depth=5, learning_rate=1, subsample=1, colsample_bytree=1\n",
            "Evaluando: n_estimators=200, max_depth=10, learning_rate=0.1, subsample=0.8, colsample_bytree=0.8\n",
            "Evaluando: n_estimators=200, max_depth=10, learning_rate=0.1, subsample=0.8, colsample_bytree=1\n",
            "Evaluando: n_estimators=200, max_depth=10, learning_rate=0.1, subsample=1, colsample_bytree=0.8\n",
            "Evaluando: n_estimators=200, max_depth=10, learning_rate=0.1, subsample=1, colsample_bytree=1\n",
            "Evaluando: n_estimators=200, max_depth=10, learning_rate=0.2, subsample=0.8, colsample_bytree=0.8\n",
            "Evaluando: n_estimators=200, max_depth=10, learning_rate=0.2, subsample=0.8, colsample_bytree=1\n",
            "Evaluando: n_estimators=200, max_depth=10, learning_rate=0.2, subsample=1, colsample_bytree=0.8\n",
            "Evaluando: n_estimators=200, max_depth=10, learning_rate=0.2, subsample=1, colsample_bytree=1\n",
            "Evaluando: n_estimators=200, max_depth=10, learning_rate=0.5, subsample=0.8, colsample_bytree=0.8\n",
            "Evaluando: n_estimators=200, max_depth=10, learning_rate=0.5, subsample=0.8, colsample_bytree=1\n",
            "Evaluando: n_estimators=200, max_depth=10, learning_rate=0.5, subsample=1, colsample_bytree=0.8\n",
            "Evaluando: n_estimators=200, max_depth=10, learning_rate=0.5, subsample=1, colsample_bytree=1\n",
            "Evaluando: n_estimators=200, max_depth=10, learning_rate=1, subsample=0.8, colsample_bytree=0.8\n",
            "Evaluando: n_estimators=200, max_depth=10, learning_rate=1, subsample=0.8, colsample_bytree=1\n",
            "Evaluando: n_estimators=200, max_depth=10, learning_rate=1, subsample=1, colsample_bytree=0.8\n",
            "Evaluando: n_estimators=200, max_depth=10, learning_rate=1, subsample=1, colsample_bytree=1\n",
            "Evaluando: n_estimators=200, max_depth=20, learning_rate=0.1, subsample=0.8, colsample_bytree=0.8\n",
            "Evaluando: n_estimators=200, max_depth=20, learning_rate=0.1, subsample=0.8, colsample_bytree=1\n",
            "Evaluando: n_estimators=200, max_depth=20, learning_rate=0.1, subsample=1, colsample_bytree=0.8\n",
            "Evaluando: n_estimators=200, max_depth=20, learning_rate=0.1, subsample=1, colsample_bytree=1\n",
            "Evaluando: n_estimators=200, max_depth=20, learning_rate=0.2, subsample=0.8, colsample_bytree=0.8\n",
            "Evaluando: n_estimators=200, max_depth=20, learning_rate=0.2, subsample=0.8, colsample_bytree=1\n",
            "Evaluando: n_estimators=200, max_depth=20, learning_rate=0.2, subsample=1, colsample_bytree=0.8\n",
            "Evaluando: n_estimators=200, max_depth=20, learning_rate=0.2, subsample=1, colsample_bytree=1\n",
            "Evaluando: n_estimators=200, max_depth=20, learning_rate=0.5, subsample=0.8, colsample_bytree=0.8\n",
            "Evaluando: n_estimators=200, max_depth=20, learning_rate=0.5, subsample=0.8, colsample_bytree=1\n",
            "Evaluando: n_estimators=200, max_depth=20, learning_rate=0.5, subsample=1, colsample_bytree=0.8\n",
            "Evaluando: n_estimators=200, max_depth=20, learning_rate=0.5, subsample=1, colsample_bytree=1\n",
            "Evaluando: n_estimators=200, max_depth=20, learning_rate=1, subsample=0.8, colsample_bytree=0.8\n",
            "Evaluando: n_estimators=200, max_depth=20, learning_rate=1, subsample=0.8, colsample_bytree=1\n",
            "Evaluando: n_estimators=200, max_depth=20, learning_rate=1, subsample=1, colsample_bytree=0.8\n",
            "Evaluando: n_estimators=200, max_depth=20, learning_rate=1, subsample=1, colsample_bytree=1\n",
            "Evaluando: n_estimators=200, max_depth=40, learning_rate=0.1, subsample=0.8, colsample_bytree=0.8\n",
            "Evaluando: n_estimators=200, max_depth=40, learning_rate=0.1, subsample=0.8, colsample_bytree=1\n",
            "Evaluando: n_estimators=200, max_depth=40, learning_rate=0.1, subsample=1, colsample_bytree=0.8\n",
            "Evaluando: n_estimators=200, max_depth=40, learning_rate=0.1, subsample=1, colsample_bytree=1\n",
            "Evaluando: n_estimators=200, max_depth=40, learning_rate=0.2, subsample=0.8, colsample_bytree=0.8\n",
            "Evaluando: n_estimators=200, max_depth=40, learning_rate=0.2, subsample=0.8, colsample_bytree=1\n",
            "Evaluando: n_estimators=200, max_depth=40, learning_rate=0.2, subsample=1, colsample_bytree=0.8\n",
            "Evaluando: n_estimators=200, max_depth=40, learning_rate=0.2, subsample=1, colsample_bytree=1\n",
            "Evaluando: n_estimators=200, max_depth=40, learning_rate=0.5, subsample=0.8, colsample_bytree=0.8\n",
            "Evaluando: n_estimators=200, max_depth=40, learning_rate=0.5, subsample=0.8, colsample_bytree=1\n",
            "Evaluando: n_estimators=200, max_depth=40, learning_rate=0.5, subsample=1, colsample_bytree=0.8\n",
            "Evaluando: n_estimators=200, max_depth=40, learning_rate=0.5, subsample=1, colsample_bytree=1\n",
            "Evaluando: n_estimators=200, max_depth=40, learning_rate=1, subsample=0.8, colsample_bytree=0.8\n",
            "Evaluando: n_estimators=200, max_depth=40, learning_rate=1, subsample=0.8, colsample_bytree=1\n",
            "Evaluando: n_estimators=200, max_depth=40, learning_rate=1, subsample=1, colsample_bytree=0.8\n",
            "Evaluando: n_estimators=200, max_depth=40, learning_rate=1, subsample=1, colsample_bytree=1\n",
            "Evaluando: n_estimators=200, max_depth=60, learning_rate=0.1, subsample=0.8, colsample_bytree=0.8\n",
            "Evaluando: n_estimators=200, max_depth=60, learning_rate=0.1, subsample=0.8, colsample_bytree=1\n",
            "Evaluando: n_estimators=200, max_depth=60, learning_rate=0.1, subsample=1, colsample_bytree=0.8\n",
            "Evaluando: n_estimators=200, max_depth=60, learning_rate=0.1, subsample=1, colsample_bytree=1\n",
            "Evaluando: n_estimators=200, max_depth=60, learning_rate=0.2, subsample=0.8, colsample_bytree=0.8\n",
            "Evaluando: n_estimators=200, max_depth=60, learning_rate=0.2, subsample=0.8, colsample_bytree=1\n",
            "Evaluando: n_estimators=200, max_depth=60, learning_rate=0.2, subsample=1, colsample_bytree=0.8\n",
            "Evaluando: n_estimators=200, max_depth=60, learning_rate=0.2, subsample=1, colsample_bytree=1\n",
            "Evaluando: n_estimators=200, max_depth=60, learning_rate=0.5, subsample=0.8, colsample_bytree=0.8\n",
            "Evaluando: n_estimators=200, max_depth=60, learning_rate=0.5, subsample=0.8, colsample_bytree=1\n",
            "Evaluando: n_estimators=200, max_depth=60, learning_rate=0.5, subsample=1, colsample_bytree=0.8\n",
            "Evaluando: n_estimators=200, max_depth=60, learning_rate=0.5, subsample=1, colsample_bytree=1\n",
            "Evaluando: n_estimators=200, max_depth=60, learning_rate=1, subsample=0.8, colsample_bytree=0.8\n",
            "Evaluando: n_estimators=200, max_depth=60, learning_rate=1, subsample=0.8, colsample_bytree=1\n",
            "Evaluando: n_estimators=200, max_depth=60, learning_rate=1, subsample=1, colsample_bytree=0.8\n",
            "Evaluando: n_estimators=200, max_depth=60, learning_rate=1, subsample=1, colsample_bytree=1\n",
            "     n_estimators  max_depth  learning_rate  subsample  colsample_bytree  \\\n",
            "161           200       10.0            0.1        0.8               1.0   \n",
            "162           200       10.0            0.1        1.0               0.8   \n",
            "163           200       10.0            0.1        1.0               1.0   \n",
            "167           200       10.0            0.2        1.0               1.0   \n",
            "160           200       10.0            0.1        0.8               0.8   \n",
            "\n",
            "     R2_Train  R2_Test  RMSE_Train  RMSE_Test  MAE_Train  MAE_Test  \\\n",
            "161      0.99     0.89    43614.18  124876.10   29081.61  66250.57   \n",
            "162      0.98     0.89    45352.86  125411.81   29739.48  66957.11   \n",
            "163      0.99     0.89    44998.89  126037.70   29461.18  66653.11   \n",
            "167      0.99     0.89    27195.30  126300.92   18304.86  65882.75   \n",
            "160      0.99     0.89    44536.61  126418.91   29722.51  67769.99   \n",
            "\n",
            "     MAPE_Train (%)  MAPE_Test (%)  Ratio_Train (<10%)  Ratio_Test (<10%)  \n",
            "161           10.38          18.56               64.08              41.78  \n",
            "162           10.50          19.03               63.88              41.62  \n",
            "163           10.36          18.53               64.08              42.15  \n",
            "167            6.93          18.39               78.65              44.85  \n",
            "160           10.59          19.22               63.29              41.53  \n"
          ]
        }
      ],
      "source": [
        "from xgboost import XGBRegressor\n",
        "from sklearn.metrics import mean_squared_error, mean_absolute_error, r2_score\n",
        "from itertools import product\n",
        "import numpy as np\n",
        "import pandas as pd\n",
        "\n",
        "# Definir la malla de hiperparámetros a explorar\n",
        "param_grid = {\n",
        "    'n_estimators': [100, 200],\n",
        "    'max_depth': [None, 2, 5, 10, 20, 40, 60],\n",
        "    'learning_rate': [0.1, 0.2, 0.5, 1],\n",
        "    'subsample': [0.8, 1],\n",
        "    'colsample_bytree': [0.8, 1]\n",
        "}\n",
        "\n",
        "# Generar combinaciones de parámetros\n",
        "param_combinations = list(product(\n",
        "    param_grid['n_estimators'],\n",
        "    param_grid['max_depth'],\n",
        "    param_grid['learning_rate'],\n",
        "    param_grid['subsample'],\n",
        "    param_grid['colsample_bytree']\n",
        "))\n",
        "\n",
        "# Lista para guardar resultados\n",
        "resultados = []\n",
        "\n",
        "\n",
        "# Iterar sobre todas las combinaciones\n",
        "for n_est, depth, lr, subs, colsample in param_combinations:\n",
        "    print(f\"Evaluando: n_estimators={n_est}, max_depth={depth}, learning_rate={lr}, subsample={subs}, colsample_bytree={colsample}\")\n",
        "\n",
        "    modelo_xgb = XGBRegressor(\n",
        "        n_estimators=n_est,\n",
        "        max_depth=depth,\n",
        "        learning_rate=lr,\n",
        "        subsample=subs,\n",
        "        colsample_bytree=colsample,\n",
        "        random_state=42,\n",
        "        n_jobs=-1,\n",
        "        verbosity=0\n",
        "    )\n",
        "\n",
        "    modelo_xgb.fit(X_train_kpca, y_train_kpca)\n",
        "\n",
        "    # Predicciones\n",
        "    y_pred_train = modelo_xgb.predict(X_train_kpca)\n",
        "    y_pred_test = modelo_xgb.predict(X_test_kpca)\n",
        "\n",
        "    # Calcular métricas\n",
        "    r2_train, rmse_train, mae_train, mape_train, ratio_train = calcular_metricas(y_train_kpca, y_pred_train)\n",
        "    r2_test, rmse_test, mae_test, mape_test, ratio_test = calcular_metricas(y_test_kpca, y_pred_test)\n",
        "\n",
        "    resultados.append({\n",
        "        'n_estimators': n_est,\n",
        "        'max_depth': depth,\n",
        "        'learning_rate': lr,\n",
        "        'subsample': subs,\n",
        "        'colsample_bytree': colsample,\n",
        "        'R2_Train': r2_train,\n",
        "        'R2_Test': r2_test,\n",
        "\n",
        "        'RMSE_Train': rmse_train,\n",
        "        'RMSE_Test': rmse_test,\n",
        "        'MAE_Train': mae_train,\n",
        "        'MAE_Test': mae_test,\n",
        "        'MAPE_Train (%)': mape_train,\n",
        "        'MAPE_Test (%)': mape_test,\n",
        "        'Ratio_Train (<10%)': ratio_train,\n",
        "        'Ratio_Test (<10%)': ratio_test\n",
        "    })\n",
        "\n",
        "# Convertir a DataFrame y ordenar\n",
        "df_resultados_xgb = pd.DataFrame(resultados)\n",
        "df_resultados_xgb_ordenado = df_resultados_xgb.sort_values(by='R2_Test', ascending=False)\n",
        "\n",
        "# Mostrar top 5 mejores configuraciones\n",
        "print(df_resultados_xgb_ordenado.round(2).head())\n"
      ]
    },
    {
      "cell_type": "code",
      "execution_count": 48,
      "metadata": {
        "id": "HUHq2HcxBy4I"
      },
      "outputs": [],
      "source": [
        "df_resultados_xgb.to_excel(\"resultados_XGB_sin_outliers.xlsx\", index=False)"
      ]
    },
    {
      "cell_type": "markdown",
      "source": [
        "Ahora se prueba con la variable objetivo logaritmica"
      ],
      "metadata": {
        "id": "lwcYdr2toBWP"
      }
    },
    {
      "cell_type": "code",
      "source": [
        "from xgboost import XGBRegressor\n",
        "from sklearn.metrics import mean_squared_error, mean_absolute_error, r2_score\n",
        "from itertools import product\n",
        "import numpy as np\n",
        "import pandas as pd\n",
        "\n",
        "# Definir la malla de hiperparámetros a explorar\n",
        "param_grid = {\n",
        "    'n_estimators': [100, 200],\n",
        "    'max_depth': [20, 40, 60],\n",
        "    'learning_rate': [0.1],\n",
        "    'subsample': [0.8],\n",
        "    'colsample_bytree': [1]\n",
        "}\n",
        "\n",
        "# Generar combinaciones de parámetros\n",
        "param_combinations = list(product(\n",
        "    param_grid['n_estimators'],\n",
        "    param_grid['max_depth'],\n",
        "    param_grid['learning_rate'],\n",
        "    param_grid['subsample'],\n",
        "    param_grid['colsample_bytree']\n",
        "))\n",
        "\n",
        "# Lista para guardar resultados\n",
        "resultados_3 = []\n",
        "\n",
        "# Aplicar transformación logarítmica a la variable objetivo\n",
        "y_train_log = np.log(y_train_kpca)\n",
        "y_test_log = np.log(y_test_kpca)\n",
        "\n",
        "# Función de métricas adaptada para predicciones log-transformadas\n",
        "def calcular_metricas_log(y_true_log, y_pred_log):\n",
        "    y_true = np.exp(y_true_log)\n",
        "    y_pred = np.exp(y_pred_log)\n",
        "    mae = mean_absolute_error(y_true, y_pred)\n",
        "    rmse = np.sqrt(mean_squared_error(y_true, y_pred))\n",
        "    r2 = r2_score(y_true, y_pred)\n",
        "    mape = np.mean(np.abs((y_true - y_pred) / y_true)) * 100\n",
        "    ratio_aceptable = np.mean(np.abs((y_true - y_pred) / y_true) < 0.10) * 100\n",
        "    return r2, rmse, mae, mape, ratio_aceptable\n",
        "\n",
        "# Iterar sobre todas las combinaciones\n",
        "for n_est, depth, lr, subs, colsample in param_combinations:\n",
        "    print(f\"Evaluando: n_estimators={n_est}, max_depth={depth}, learning_rate={lr}, subsample={subs}, colsample_bytree={colsample}\")\n",
        "\n",
        "    modelo_xgb = XGBRegressor(\n",
        "        n_estimators=n_est,\n",
        "        max_depth=depth,\n",
        "        learning_rate=lr,\n",
        "        subsample=subs,\n",
        "        colsample_bytree=colsample,\n",
        "        random_state=42,\n",
        "        n_jobs=-1,\n",
        "        verbosity=0\n",
        "    )\n",
        "\n",
        "    modelo_xgb.fit(X_train_kpca, y_train_log)\n",
        "\n",
        "    # Predicciones en escala log\n",
        "    y_pred_train_log = modelo_xgb.predict(X_train_kpca)\n",
        "    y_pred_test_log = modelo_xgb.predict(X_test_kpca)\n",
        "\n",
        "    # Calcular métricas destransformando a escala original\n",
        "    r2_train, rmse_train, mae_train, mape_train, ratio_train = calcular_metricas_log(y_train_log, y_pred_train_log)\n",
        "    r2_test, rmse_test, mae_test, mape_test, ratio_test = calcular_metricas_log(y_test_log, y_pred_test_log)\n",
        "\n",
        "    resultados_3.append({\n",
        "        'n_estimators': n_est,\n",
        "        'max_depth': depth,\n",
        "        'learning_rate': lr,\n",
        "        'subsample': subs,\n",
        "        'colsample_bytree': colsample,\n",
        "        'R2_Train': r2_train,\n",
        "        'R2_Test': r2_test,\n",
        "        'RMSE_Train': rmse_train,\n",
        "        'RMSE_Test': rmse_test,\n",
        "        'MAE_Train': mae_train,\n",
        "        'MAE_Test': mae_test,\n",
        "        'MAPE_Train (%)': mape_train,\n",
        "        'MAPE_Test (%)': mape_test,\n",
        "        'Ratio_Train (<10%)': ratio_train,\n",
        "        'Ratio_Test (<10%)': ratio_test\n",
        "    })\n",
        "\n",
        "# Convertir a DataFrame y ordenar\n",
        "df_resultados_3_xgb = pd.DataFrame(resultados_3)"
      ],
      "metadata": {
        "id": "XZjToBW7oEVZ",
        "colab": {
          "base_uri": "https://localhost:8080/"
        },
        "outputId": "d3e6d82a-4b98-403f-c651-96866694b8be"
      },
      "execution_count": 49,
      "outputs": [
        {
          "output_type": "stream",
          "name": "stdout",
          "text": [
            "Evaluando: n_estimators=100, max_depth=20, learning_rate=0.1, subsample=0.8, colsample_bytree=1\n",
            "Evaluando: n_estimators=100, max_depth=40, learning_rate=0.1, subsample=0.8, colsample_bytree=1\n",
            "Evaluando: n_estimators=100, max_depth=60, learning_rate=0.1, subsample=0.8, colsample_bytree=1\n",
            "Evaluando: n_estimators=200, max_depth=20, learning_rate=0.1, subsample=0.8, colsample_bytree=1\n",
            "Evaluando: n_estimators=200, max_depth=40, learning_rate=0.1, subsample=0.8, colsample_bytree=1\n",
            "Evaluando: n_estimators=200, max_depth=60, learning_rate=0.1, subsample=0.8, colsample_bytree=1\n"
          ]
        }
      ]
    },
    {
      "cell_type": "code",
      "source": [
        "df_resultados_3_xgb.to_excel(\"resultados_XGB_3_sin_outliers.xlsx\", index=False)"
      ],
      "metadata": {
        "id": "Yfz_lboDq5CQ"
      },
      "execution_count": 50,
      "outputs": []
    },
    {
      "cell_type": "markdown",
      "source": [
        "Modelo definitivo:"
      ],
      "metadata": {
        "id": "q43cHPIzyNOU"
      }
    },
    {
      "cell_type": "code",
      "source": [
        "from xgboost import XGBRegressor\n",
        "from sklearn.metrics import mean_squared_error, mean_absolute_error, r2_score\n",
        "import numpy as np\n",
        "import pandas as pd\n",
        "import time\n",
        "\n",
        "# Aplicar transformación logarítmica a la variable objetivo\n",
        "y_train_log = np.log(y_train_kpca)\n",
        "y_test_log = np.log(y_test_kpca)\n",
        "\n",
        "# Función de métricas adaptada para predicciones log-transformadas\n",
        "def calcular_metricas_log(y_true_log, y_pred_log):\n",
        "    y_true = np.exp(y_true_log)\n",
        "    y_pred = np.exp(y_pred_log)\n",
        "    mae = mean_absolute_error(y_true, y_pred)\n",
        "    rmse = np.sqrt(mean_squared_error(y_true, y_pred))\n",
        "    r2 = r2_score(y_true, y_pred)\n",
        "    mape = np.mean(np.abs((y_true - y_pred) / y_true)) * 100\n",
        "    ratio_aceptable = np.mean(np.abs((y_true - y_pred) / y_true) < 0.10) * 100\n",
        "    return r2, rmse, mae, mape, ratio_aceptable\n",
        "\n",
        "# Inicializar el modelo con los hiperparámetros indicados\n",
        "modelo_xgb = XGBRegressor(\n",
        "    n_estimators=200,\n",
        "    max_depth=20,\n",
        "    learning_rate=0.1,\n",
        "    subsample=0.8,\n",
        "    colsample_bytree=1,\n",
        "    random_state=42,\n",
        "    n_jobs=-1,\n",
        "    verbosity=0\n",
        ")\n",
        "\n",
        "# Tiempo de entrenamiento\n",
        "start_train = time.time()\n",
        "modelo_xgb.fit(X_train_kpca, y_train_log)\n",
        "end_train = time.time()\n",
        "train_time = end_train - start_train\n",
        "\n",
        "# Tiempo de predicción\n",
        "start_pred = time.time()\n",
        "y_pred_test_log = modelo_xgb.predict(X_test_kpca)\n",
        "end_pred = time.time()\n",
        "pred_time = end_pred - start_pred\n",
        "\n",
        "# Calcular métricas en escala original\n",
        "r2_test, rmse_test, mae_test, mape_test, ratio_test = calcular_metricas_log(y_test_log, y_pred_test_log)\n",
        "\n",
        "# Mostrar resultados\n",
        "print(f\"Tiempo de entrenamiento: {train_time:.2f} segundos\")\n",
        "print(f\"Tiempo de predicción: {pred_time:.4f} segundos\")"
      ],
      "metadata": {
        "colab": {
          "base_uri": "https://localhost:8080/"
        },
        "id": "u2AVo4AoyOoK",
        "outputId": "9ae96cef-e2f2-479f-d34b-4da2946e771c"
      },
      "execution_count": 53,
      "outputs": [
        {
          "output_type": "stream",
          "name": "stdout",
          "text": [
            "Tiempo de entrenamiento: 61.77 segundos\n",
            "Tiempo de predicción: 0.1343 segundos\n"
          ]
        }
      ]
    },
    {
      "cell_type": "markdown",
      "source": [
        "Guardamos el modelo para la aplicación"
      ],
      "metadata": {
        "id": "Ik4rs85L4bsZ"
      }
    },
    {
      "cell_type": "code",
      "source": [
        "# Guardar el modelo XGBoost\n",
        "joblib.dump(modelo_xgb, \"modelo_xgb.pkl\")"
      ],
      "metadata": {
        "colab": {
          "base_uri": "https://localhost:8080/"
        },
        "id": "Hdz9H0VP2Sp0",
        "outputId": "5af6d9dd-db02-4bf2-c6db-7b9c720acca3"
      },
      "execution_count": 84,
      "outputs": [
        {
          "output_type": "execute_result",
          "data": {
            "text/plain": [
              "['modelo_xgb.pkl']"
            ]
          },
          "metadata": {},
          "execution_count": 84
        }
      ]
    },
    {
      "cell_type": "markdown",
      "metadata": {
        "id": "APfzQAyzKo2k"
      },
      "source": [
        "## Red Neuronal Densa"
      ]
    },
    {
      "cell_type": "code",
      "execution_count": 54,
      "metadata": {
        "colab": {
          "base_uri": "https://localhost:8080/"
        },
        "id": "0oLS2hv_K0so",
        "outputId": "01b6cac2-2679-41cc-8ee3-740017198f96"
      },
      "outputs": [
        {
          "output_type": "stream",
          "name": "stderr",
          "text": [
            "/usr/local/lib/python3.11/dist-packages/keras/src/layers/core/dense.py:87: UserWarning: Do not pass an `input_shape`/`input_dim` argument to a layer. When using Sequential models, prefer using an `Input(shape)` object as the first layer in the model instead.\n",
            "  super().__init__(activity_regularizer=activity_regularizer, **kwargs)\n"
          ]
        },
        {
          "output_type": "stream",
          "name": "stdout",
          "text": [
            "Epoch 1/200\n",
            "\u001b[1m1897/1897\u001b[0m \u001b[32m━━━━━━━━━━━━━━━━━━━━\u001b[0m\u001b[37m\u001b[0m \u001b[1m11s\u001b[0m 4ms/step - loss: 173156368384.0000 - mae: 283444.8750 - val_loss: 38953496576.0000 - val_mae: 129567.2188\n",
            "Epoch 2/200\n",
            "\u001b[1m1897/1897\u001b[0m \u001b[32m━━━━━━━━━━━━━━━━━━━━\u001b[0m\u001b[37m\u001b[0m \u001b[1m5s\u001b[0m 2ms/step - loss: 44067250176.0000 - mae: 138264.7656 - val_loss: 27131428864.0000 - val_mae: 101062.7891\n",
            "Epoch 3/200\n",
            "\u001b[1m1897/1897\u001b[0m \u001b[32m━━━━━━━━━━━━━━━━━━━━\u001b[0m\u001b[37m\u001b[0m \u001b[1m5s\u001b[0m 3ms/step - loss: 36097212416.0000 - mae: 117885.5547 - val_loss: 24419753984.0000 - val_mae: 93300.7969\n",
            "Epoch 4/200\n",
            "\u001b[1m1897/1897\u001b[0m \u001b[32m━━━━━━━━━━━━━━━━━━━━\u001b[0m\u001b[37m\u001b[0m \u001b[1m5s\u001b[0m 2ms/step - loss: 33461071872.0000 - mae: 112231.0859 - val_loss: 24055439360.0000 - val_mae: 90841.4375\n",
            "Epoch 5/200\n",
            "\u001b[1m1897/1897\u001b[0m \u001b[32m━━━━━━━━━━━━━━━━━━━━\u001b[0m\u001b[37m\u001b[0m \u001b[1m5s\u001b[0m 2ms/step - loss: 31599558656.0000 - mae: 109673.2188 - val_loss: 23168759808.0000 - val_mae: 90122.2969\n",
            "Epoch 6/200\n",
            "\u001b[1m1897/1897\u001b[0m \u001b[32m━━━━━━━━━━━━━━━━━━━━\u001b[0m\u001b[37m\u001b[0m \u001b[1m5s\u001b[0m 2ms/step - loss: 31801141248.0000 - mae: 110690.5781 - val_loss: 23074054144.0000 - val_mae: 88141.2109\n",
            "Epoch 7/200\n",
            "\u001b[1m1897/1897\u001b[0m \u001b[32m━━━━━━━━━━━━━━━━━━━━\u001b[0m\u001b[37m\u001b[0m \u001b[1m5s\u001b[0m 2ms/step - loss: 31335399424.0000 - mae: 109463.8828 - val_loss: 22910586880.0000 - val_mae: 88641.3906\n",
            "Epoch 8/200\n",
            "\u001b[1m1897/1897\u001b[0m \u001b[32m━━━━━━━━━━━━━━━━━━━━\u001b[0m\u001b[37m\u001b[0m \u001b[1m5s\u001b[0m 3ms/step - loss: 31888988160.0000 - mae: 109556.6250 - val_loss: 22456967168.0000 - val_mae: 87414.8438\n",
            "Epoch 9/200\n",
            "\u001b[1m1897/1897\u001b[0m \u001b[32m━━━━━━━━━━━━━━━━━━━━\u001b[0m\u001b[37m\u001b[0m \u001b[1m5s\u001b[0m 2ms/step - loss: 30663512064.0000 - mae: 108400.6641 - val_loss: 22273837056.0000 - val_mae: 87758.7266\n",
            "Epoch 10/200\n",
            "\u001b[1m1897/1897\u001b[0m \u001b[32m━━━━━━━━━━━━━━━━━━━━\u001b[0m\u001b[37m\u001b[0m \u001b[1m5s\u001b[0m 3ms/step - loss: 31679754240.0000 - mae: 110100.2500 - val_loss: 22441273344.0000 - val_mae: 87111.5547\n",
            "Epoch 11/200\n",
            "\u001b[1m1897/1897\u001b[0m \u001b[32m━━━━━━━━━━━━━━━━━━━━\u001b[0m\u001b[37m\u001b[0m \u001b[1m5s\u001b[0m 2ms/step - loss: 31100680192.0000 - mae: 108530.4375 - val_loss: 21861365760.0000 - val_mae: 86642.3516\n",
            "Epoch 12/200\n",
            "\u001b[1m1897/1897\u001b[0m \u001b[32m━━━━━━━━━━━━━━━━━━━━\u001b[0m\u001b[37m\u001b[0m \u001b[1m5s\u001b[0m 2ms/step - loss: 30139424768.0000 - mae: 107099.1875 - val_loss: 21551847424.0000 - val_mae: 86285.5312\n",
            "Epoch 13/200\n",
            "\u001b[1m1897/1897\u001b[0m \u001b[32m━━━━━━━━━━━━━━━━━━━━\u001b[0m\u001b[37m\u001b[0m \u001b[1m5s\u001b[0m 3ms/step - loss: 30738743296.0000 - mae: 108313.1641 - val_loss: 21841168384.0000 - val_mae: 85928.8359\n",
            "Epoch 14/200\n",
            "\u001b[1m1897/1897\u001b[0m \u001b[32m━━━━━━━━━━━━━━━━━━━━\u001b[0m\u001b[37m\u001b[0m \u001b[1m5s\u001b[0m 2ms/step - loss: 30188699648.0000 - mae: 107455.6641 - val_loss: 21351829504.0000 - val_mae: 85201.8047\n",
            "Epoch 15/200\n",
            "\u001b[1m1897/1897\u001b[0m \u001b[32m━━━━━━━━━━━━━━━━━━━━\u001b[0m\u001b[37m\u001b[0m \u001b[1m5s\u001b[0m 3ms/step - loss: 30040596480.0000 - mae: 106860.6641 - val_loss: 21250797568.0000 - val_mae: 84581.2266\n",
            "Epoch 16/200\n",
            "\u001b[1m1897/1897\u001b[0m \u001b[32m━━━━━━━━━━━━━━━━━━━━\u001b[0m\u001b[37m\u001b[0m \u001b[1m5s\u001b[0m 2ms/step - loss: 29347715072.0000 - mae: 105957.7969 - val_loss: 21275463680.0000 - val_mae: 85699.0312\n",
            "Epoch 17/200\n",
            "\u001b[1m1897/1897\u001b[0m \u001b[32m━━━━━━━━━━━━━━━━━━━━\u001b[0m\u001b[37m\u001b[0m \u001b[1m5s\u001b[0m 2ms/step - loss: 28665051136.0000 - mae: 105126.0312 - val_loss: 21579814912.0000 - val_mae: 85608.3984\n",
            "Epoch 18/200\n",
            "\u001b[1m1897/1897\u001b[0m \u001b[32m━━━━━━━━━━━━━━━━━━━━\u001b[0m\u001b[37m\u001b[0m \u001b[1m5s\u001b[0m 2ms/step - loss: 29799954432.0000 - mae: 106255.7891 - val_loss: 21178648576.0000 - val_mae: 84364.1484\n",
            "Epoch 19/200\n",
            "\u001b[1m1897/1897\u001b[0m \u001b[32m━━━━━━━━━━━━━━━━━━━━\u001b[0m\u001b[37m\u001b[0m \u001b[1m5s\u001b[0m 2ms/step - loss: 28978915328.0000 - mae: 105334.9531 - val_loss: 21147449344.0000 - val_mae: 84152.6016\n",
            "Epoch 20/200\n",
            "\u001b[1m1897/1897\u001b[0m \u001b[32m━━━━━━━━━━━━━━━━━━━━\u001b[0m\u001b[37m\u001b[0m \u001b[1m5s\u001b[0m 2ms/step - loss: 28994103296.0000 - mae: 105383.4688 - val_loss: 21478313984.0000 - val_mae: 84499.6172\n",
            "Epoch 21/200\n",
            "\u001b[1m1897/1897\u001b[0m \u001b[32m━━━━━━━━━━━━━━━━━━━━\u001b[0m\u001b[37m\u001b[0m \u001b[1m5s\u001b[0m 2ms/step - loss: 29419071488.0000 - mae: 105719.8125 - val_loss: 21028673536.0000 - val_mae: 84262.6484\n",
            "Epoch 22/200\n",
            "\u001b[1m1897/1897\u001b[0m \u001b[32m━━━━━━━━━━━━━━━━━━━━\u001b[0m\u001b[37m\u001b[0m \u001b[1m5s\u001b[0m 2ms/step - loss: 29401321472.0000 - mae: 106453.3984 - val_loss: 21232648192.0000 - val_mae: 84358.7812\n",
            "Epoch 23/200\n",
            "\u001b[1m1897/1897\u001b[0m \u001b[32m━━━━━━━━━━━━━━━━━━━━\u001b[0m\u001b[37m\u001b[0m \u001b[1m5s\u001b[0m 2ms/step - loss: 28910682112.0000 - mae: 104793.5391 - val_loss: 21288337408.0000 - val_mae: 85197.0078\n",
            "\u001b[1m593/593\u001b[0m \u001b[32m━━━━━━━━━━━━━━━━━━━━\u001b[0m\u001b[37m\u001b[0m \u001b[1m1s\u001b[0m 2ms/step\n"
          ]
        }
      ],
      "source": [
        "import tensorflow as tf\n",
        "from tensorflow.keras.models import Sequential\n",
        "from tensorflow.keras.layers import Dense, Dropout, BatchNormalization\n",
        "from tensorflow.keras.callbacks import EarlyStopping\n",
        "from sklearn.preprocessing import StandardScaler\n",
        "import time\n",
        "\n",
        "# Escalar los datos (muy importante para redes neuronales)\n",
        "scaler = StandardScaler()\n",
        "X_train_scaled = scaler.fit_transform(X_train_kpca)\n",
        "X_test_scaled = scaler.transform(X_test_kpca)\n",
        "\n",
        "# Crear modelo\n",
        "modelo_dnn = Sequential([\n",
        "    Dense(128, activation='relu', input_shape=(X_train_scaled.shape[1],)),\n",
        "    BatchNormalization(),\n",
        "    Dropout(0.3),\n",
        "\n",
        "    Dense(64, activation='relu'),\n",
        "    Dropout(0.3),\n",
        "\n",
        "    Dense(32, activation='relu'),\n",
        "\n",
        "    Dense(1)  # Salida de regresión\n",
        "])\n",
        "\n",
        "# Compilar el modelo\n",
        "modelo_dnn.compile(\n",
        "    optimizer=tf.keras.optimizers.Adam(learning_rate=0.001),\n",
        "    loss='mean_squared_error',\n",
        "    metrics=['mae']\n",
        ")\n",
        "\n",
        "# Early stopping para val_mae con paciencia de 4 épocas\n",
        "early_stop = EarlyStopping(monitor='val_mae', patience=4, restore_best_weights=True)\n",
        "\n",
        "# Entrenar\n",
        "start_train = time.time()\n",
        "historial = modelo_dnn.fit(\n",
        "    X_train_scaled,\n",
        "    y_train_kpca,\n",
        "    validation_split=0.2,\n",
        "    epochs=200,\n",
        "    batch_size=32,\n",
        "    callbacks=[early_stop],\n",
        "    verbose=1\n",
        ")\n",
        "end_train = time.time()\n",
        "\n",
        "# Tiempo de entrenamiento\n",
        "tiempo_entrenamiento = end_train - start_train\n",
        "\n",
        "# Predicción\n",
        "start_pred = time.time()\n",
        "y_pred_dnn = modelo_dnn.predict(X_test_scaled).flatten()\n",
        "end_pred = time.time()\n",
        "\n",
        "tiempo_prediccion = end_pred - start_pred\n"
      ]
    },
    {
      "cell_type": "code",
      "execution_count": 55,
      "metadata": {
        "colab": {
          "base_uri": "https://localhost:8080/"
        },
        "id": "T106gwgKLdz-",
        "outputId": "e6191f37-31f0-4d9b-8716-f857ab12bc02"
      },
      "outputs": [
        {
          "output_type": "stream",
          "name": "stdout",
          "text": [
            "R²: 0.838\n",
            "RMSE: 151,248.04\n",
            "MAE: 85,844.68\n",
            "MAPE: 23.14%\n",
            "Ratio aceptable (<10%): 29.49%\n",
            "Tiempo entrenamiento: 115.21s\n",
            "Tiempo predicción: 1.81s\n"
          ]
        }
      ],
      "source": [
        "# Evaluar\n",
        "r2, rmse, mae, mape, ratio = calcular_metricas(y_test_kpca, y_pred_dnn)\n",
        "\n",
        "# Mostrar resultados\n",
        "print(f\"R²: {r2:.3f}\")\n",
        "print(f\"RMSE: {rmse:,.2f}\")\n",
        "print(f\"MAE: {mae:,.2f}\")\n",
        "print(f\"MAPE: {mape:.2f}%\")\n",
        "print(f\"Ratio aceptable (<10%): {ratio:.2f}%\")\n",
        "print(f\"Tiempo entrenamiento: {tiempo_entrenamiento:.2f}s\")\n",
        "print(f\"Tiempo predicción: {tiempo_prediccion:.2f}s\")\n"
      ]
    },
    {
      "cell_type": "code",
      "source": [
        "def evaluar_modelo(y_true, y_pred, nombre_modelo=\"Modelo\"):\n",
        "    r2 = r2_score(y_true, y_pred)\n",
        "    mae = mean_absolute_error(y_true, y_pred)\n",
        "    rmse = np.sqrt(mean_squared_error(y_true, y_pred))\n",
        "    mape = np.mean(np.abs((y_true - y_pred) / y_true)) * 100\n",
        "\n",
        "    print(f\"\\nResultados - {nombre_modelo}\")\n",
        "    print(f\"R2 Score:         {r2:.4f}\")\n",
        "    print(f\"MAE:              {mae:.2f}\")\n",
        "    print(f\"RMSE:             {rmse:.2f}\")\n",
        "    print(f\"MAPE (%):         {mape:.2f}\")\n"
      ],
      "metadata": {
        "id": "PiSIe9NW6BMk"
      },
      "execution_count": 56,
      "outputs": []
    },
    {
      "cell_type": "markdown",
      "source": [
        "Probamos transformaciones. Primero transformamos variable target"
      ],
      "metadata": {
        "id": "p_UEVGdm4phP"
      }
    },
    {
      "cell_type": "code",
      "source": [
        "import numpy as np\n",
        "from sklearn.preprocessing import StandardScaler\n",
        "import tensorflow as tf\n",
        "from tensorflow.keras.models import Sequential\n",
        "from tensorflow.keras.layers import Dense, Dropout, BatchNormalization\n",
        "from tensorflow.keras.callbacks import EarlyStopping\n",
        "\n",
        "# Escalado\n",
        "scaler = StandardScaler()\n",
        "X_train_scaled = scaler.fit_transform(X_train_kpca)\n",
        "X_test_scaled = scaler.transform(X_test_kpca)\n",
        "\n",
        "# Transformación logarítmica\n",
        "y_train_log = np.log1p(y_train_kpca)\n",
        "y_test_log = np.log1p(y_test_kpca)\n",
        "\n",
        "# Modelo\n",
        "modelo_dnn = Sequential([\n",
        "    Dense(128, activation='relu', input_shape=(X_train_scaled.shape[1],)),\n",
        "    BatchNormalization(),\n",
        "    Dropout(0.3),\n",
        "    Dense(64, activation='relu'),\n",
        "    Dropout(0.3),\n",
        "    Dense(32, activation='relu'),\n",
        "    Dense(1)\n",
        "])\n",
        "\n",
        "modelo_dnn.compile(\n",
        "    optimizer=tf.keras.optimizers.Adam(learning_rate=0.001),\n",
        "    loss='mean_squared_error',\n",
        "    metrics=['mae']\n",
        ")\n",
        "\n",
        "early_stop = EarlyStopping(monitor='val_loss', patience=4, restore_best_weights=True)\n",
        "\n",
        "historial = modelo_dnn.fit(\n",
        "    X_train_scaled,\n",
        "    y_train_log,\n",
        "    validation_split=0.2,\n",
        "    epochs=200,\n",
        "    batch_size=32,\n",
        "    callbacks=[early_stop],\n",
        "    verbose=1\n",
        ")\n",
        "\n",
        "# Predicción y deslog\n",
        "y_pred_dnn_log = np.expm1(modelo_dnn.predict(X_test_scaled).flatten())\n"
      ],
      "metadata": {
        "colab": {
          "base_uri": "https://localhost:8080/"
        },
        "id": "uoNdBAAe4tEz",
        "outputId": "691186cb-2c13-496b-d97a-55a8cc2f7a28"
      },
      "execution_count": 57,
      "outputs": [
        {
          "output_type": "stream",
          "name": "stdout",
          "text": [
            "Epoch 1/200\n"
          ]
        },
        {
          "output_type": "stream",
          "name": "stderr",
          "text": [
            "/usr/local/lib/python3.11/dist-packages/keras/src/layers/core/dense.py:87: UserWarning: Do not pass an `input_shape`/`input_dim` argument to a layer. When using Sequential models, prefer using an `Input(shape)` object as the first layer in the model instead.\n",
            "  super().__init__(activity_regularizer=activity_regularizer, **kwargs)\n"
          ]
        },
        {
          "output_type": "stream",
          "name": "stdout",
          "text": [
            "\u001b[1m1897/1897\u001b[0m \u001b[32m━━━━━━━━━━━━━━━━━━━━\u001b[0m\u001b[37m\u001b[0m \u001b[1m9s\u001b[0m 3ms/step - loss: 19.8919 - mae: 2.9650 - val_loss: 1.4537 - val_mae: 1.1015\n",
            "Epoch 2/200\n",
            "\u001b[1m1897/1897\u001b[0m \u001b[32m━━━━━━━━━━━━━━━━━━━━\u001b[0m\u001b[37m\u001b[0m \u001b[1m5s\u001b[0m 3ms/step - loss: 1.5006 - mae: 0.9643 - val_loss: 0.4322 - val_mae: 0.5829\n",
            "Epoch 3/200\n",
            "\u001b[1m1897/1897\u001b[0m \u001b[32m━━━━━━━━━━━━━━━━━━━━\u001b[0m\u001b[37m\u001b[0m \u001b[1m5s\u001b[0m 3ms/step - loss: 0.2665 - mae: 0.4032 - val_loss: 0.1069 - val_mae: 0.2566\n",
            "Epoch 4/200\n",
            "\u001b[1m1897/1897\u001b[0m \u001b[32m━━━━━━━━━━━━━━━━━━━━\u001b[0m\u001b[37m\u001b[0m \u001b[1m5s\u001b[0m 2ms/step - loss: 0.1601 - mae: 0.3099 - val_loss: 0.0915 - val_mae: 0.2352\n",
            "Epoch 5/200\n",
            "\u001b[1m1897/1897\u001b[0m \u001b[32m━━━━━━━━━━━━━━━━━━━━\u001b[0m\u001b[37m\u001b[0m \u001b[1m5s\u001b[0m 3ms/step - loss: 0.1373 - mae: 0.2885 - val_loss: 0.0843 - val_mae: 0.2256\n",
            "Epoch 6/200\n",
            "\u001b[1m1897/1897\u001b[0m \u001b[32m━━━━━━━━━━━━━━━━━━━━\u001b[0m\u001b[37m\u001b[0m \u001b[1m5s\u001b[0m 2ms/step - loss: 0.1246 - mae: 0.2754 - val_loss: 0.0920 - val_mae: 0.2362\n",
            "Epoch 7/200\n",
            "\u001b[1m1897/1897\u001b[0m \u001b[32m━━━━━━━━━━━━━━━━━━━━\u001b[0m\u001b[37m\u001b[0m \u001b[1m5s\u001b[0m 3ms/step - loss: 0.1131 - mae: 0.2609 - val_loss: 0.0806 - val_mae: 0.2198\n",
            "Epoch 8/200\n",
            "\u001b[1m1897/1897\u001b[0m \u001b[32m━━━━━━━━━━━━━━━━━━━━\u001b[0m\u001b[37m\u001b[0m \u001b[1m5s\u001b[0m 3ms/step - loss: 0.1037 - mae: 0.2500 - val_loss: 0.0824 - val_mae: 0.2220\n",
            "Epoch 9/200\n",
            "\u001b[1m1897/1897\u001b[0m \u001b[32m━━━━━━━━━━━━━━━━━━━━\u001b[0m\u001b[37m\u001b[0m \u001b[1m5s\u001b[0m 3ms/step - loss: 0.1018 - mae: 0.2475 - val_loss: 0.0877 - val_mae: 0.2301\n",
            "Epoch 10/200\n",
            "\u001b[1m1897/1897\u001b[0m \u001b[32m━━━━━━━━━━━━━━━━━━━━\u001b[0m\u001b[37m\u001b[0m \u001b[1m5s\u001b[0m 3ms/step - loss: 0.1009 - mae: 0.2458 - val_loss: 0.0871 - val_mae: 0.2299\n",
            "Epoch 11/200\n",
            "\u001b[1m1897/1897\u001b[0m \u001b[32m━━━━━━━━━━━━━━━━━━━━\u001b[0m\u001b[37m\u001b[0m \u001b[1m5s\u001b[0m 2ms/step - loss: 0.0954 - mae: 0.2391 - val_loss: 0.0839 - val_mae: 0.2253\n",
            "\u001b[1m593/593\u001b[0m \u001b[32m━━━━━━━━━━━━━━━━━━━━\u001b[0m\u001b[37m\u001b[0m \u001b[1m1s\u001b[0m 1ms/step\n"
          ]
        }
      ]
    },
    {
      "cell_type": "code",
      "source": [
        "evaluar_modelo(y_test_kpca, y_pred_dnn_log, \"DNN Básico\")\n"
      ],
      "metadata": {
        "colab": {
          "base_uri": "https://localhost:8080/"
        },
        "id": "zo4JEAvm6DtI",
        "outputId": "47fa1acc-8ac9-4d13-8369-6c442a28ecc4"
      },
      "execution_count": 58,
      "outputs": [
        {
          "output_type": "stream",
          "name": "stdout",
          "text": [
            "\n",
            "Resultados - DNN Básico\n",
            "R2 Score:         0.8412\n",
            "MAE:              85587.59\n",
            "RMSE:             149771.18\n",
            "MAPE (%):         24.41\n"
          ]
        }
      ]
    },
    {
      "cell_type": "markdown",
      "source": [
        "Segundo, se hace la red mas profunda"
      ],
      "metadata": {
        "id": "8wmRm6yu4wV4"
      }
    },
    {
      "cell_type": "code",
      "source": [
        "import tensorflow as tf\n",
        "from tensorflow.keras.models import Sequential\n",
        "from tensorflow.keras.layers import Dense, Dropout, BatchNormalization\n",
        "from tensorflow.keras.callbacks import EarlyStopping\n",
        "from sklearn.preprocessing import StandardScaler\n",
        "import time\n",
        "\n",
        "# Escalar los datos (muy importante para redes neuronales)\n",
        "scaler = StandardScaler()\n",
        "X_train_scaled = scaler.fit_transform(X_train_kpca)\n",
        "X_test_scaled = scaler.transform(X_test_kpca)\n",
        "\n",
        "# Crear modelo\n",
        "modelo_dnn = Sequential([\n",
        "    Dense(256, activation='relu', input_shape=(X_train_scaled.shape[1],)),\n",
        "    BatchNormalization(),\n",
        "    Dropout(0.4),\n",
        "    Dense(128, activation='relu'),\n",
        "    BatchNormalization(),\n",
        "    Dropout(0.3),\n",
        "    Dense(64, activation='relu'),\n",
        "    Dropout(0.2),\n",
        "    Dense(1)\n",
        "])\n",
        "\n",
        "\n",
        "# Compilar el modelo\n",
        "modelo_dnn.compile(\n",
        "    optimizer=tf.keras.optimizers.Adam(learning_rate=0.001),\n",
        "    loss='mean_squared_error',\n",
        "    metrics=['mae']\n",
        ")\n",
        "\n",
        "# Early stopping para val_mae con paciencia de 6 épocas\n",
        "early_stop = EarlyStopping(monitor='val_mae', patience=6, restore_best_weights=True)\n",
        "\n",
        "# Entrenar\n",
        "start_train = time.time()\n",
        "historial = modelo_dnn.fit(\n",
        "    X_train_scaled,\n",
        "    y_train_kpca,\n",
        "    validation_split=0.2,\n",
        "    epochs=200,\n",
        "    batch_size=32,\n",
        "    callbacks=[early_stop],\n",
        "    verbose=1\n",
        ")\n",
        "end_train = time.time()\n",
        "\n",
        "# Tiempo de entrenamiento\n",
        "tiempo_entrenamiento = end_train - start_train\n",
        "\n",
        "# Predicción\n",
        "start_pred = time.time()\n",
        "y_pred_dnn_profundo = modelo_dnn.predict(X_test_scaled).flatten()\n",
        "end_pred = time.time()\n",
        "\n",
        "tiempo_prediccion = end_pred - start_pred\n"
      ],
      "metadata": {
        "colab": {
          "base_uri": "https://localhost:8080/"
        },
        "id": "AVz0lI-C42RR",
        "outputId": "a3233d4c-d3c7-44ea-af5e-c6380589c550"
      },
      "execution_count": 59,
      "outputs": [
        {
          "output_type": "stream",
          "name": "stdout",
          "text": [
            "Epoch 1/200\n"
          ]
        },
        {
          "output_type": "stream",
          "name": "stderr",
          "text": [
            "/usr/local/lib/python3.11/dist-packages/keras/src/layers/core/dense.py:87: UserWarning: Do not pass an `input_shape`/`input_dim` argument to a layer. When using Sequential models, prefer using an `Input(shape)` object as the first layer in the model instead.\n",
            "  super().__init__(activity_regularizer=activity_regularizer, **kwargs)\n"
          ]
        },
        {
          "output_type": "stream",
          "name": "stdout",
          "text": [
            "\u001b[1m1897/1897\u001b[0m \u001b[32m━━━━━━━━━━━━━━━━━━━━\u001b[0m\u001b[37m\u001b[0m \u001b[1m11s\u001b[0m 4ms/step - loss: 266977656832.0000 - mae: 373636.2500 - val_loss: 90568261632.0000 - val_mae: 209390.6875\n",
            "Epoch 2/200\n",
            "\u001b[1m1897/1897\u001b[0m \u001b[32m━━━━━━━━━━━━━━━━━━━━\u001b[0m\u001b[37m\u001b[0m \u001b[1m5s\u001b[0m 3ms/step - loss: 64481587200.0000 - mae: 162520.4219 - val_loss: 24962744320.0000 - val_mae: 99538.6875\n",
            "Epoch 3/200\n",
            "\u001b[1m1897/1897\u001b[0m \u001b[32m━━━━━━━━━━━━━━━━━━━━\u001b[0m\u001b[37m\u001b[0m \u001b[1m5s\u001b[0m 3ms/step - loss: 37161205760.0000 - mae: 123346.3359 - val_loss: 23679895552.0000 - val_mae: 94474.5469\n",
            "Epoch 4/200\n",
            "\u001b[1m1897/1897\u001b[0m \u001b[32m━━━━━━━━━━━━━━━━━━━━\u001b[0m\u001b[37m\u001b[0m \u001b[1m5s\u001b[0m 3ms/step - loss: 34090078208.0000 - mae: 116321.1016 - val_loss: 22754349056.0000 - val_mae: 88531.5859\n",
            "Epoch 5/200\n",
            "\u001b[1m1897/1897\u001b[0m \u001b[32m━━━━━━━━━━━━━━━━━━━━\u001b[0m\u001b[37m\u001b[0m \u001b[1m5s\u001b[0m 3ms/step - loss: 34204950528.0000 - mae: 114576.3906 - val_loss: 22013618176.0000 - val_mae: 86406.8594\n",
            "Epoch 6/200\n",
            "\u001b[1m1897/1897\u001b[0m \u001b[32m━━━━━━━━━━━━━━━━━━━━\u001b[0m\u001b[37m\u001b[0m \u001b[1m5s\u001b[0m 3ms/step - loss: 32321214464.0000 - mae: 111510.5781 - val_loss: 21364963328.0000 - val_mae: 84056.8984\n",
            "Epoch 7/200\n",
            "\u001b[1m1897/1897\u001b[0m \u001b[32m━━━━━━━━━━━━━━━━━━━━\u001b[0m\u001b[37m\u001b[0m \u001b[1m5s\u001b[0m 3ms/step - loss: 31484346368.0000 - mae: 111199.6172 - val_loss: 20146937856.0000 - val_mae: 84067.0859\n",
            "Epoch 8/200\n",
            "\u001b[1m1897/1897\u001b[0m \u001b[32m━━━━━━━━━━━━━━━━━━━━\u001b[0m\u001b[37m\u001b[0m \u001b[1m5s\u001b[0m 3ms/step - loss: 30604236800.0000 - mae: 108437.8594 - val_loss: 19764484096.0000 - val_mae: 82486.3438\n",
            "Epoch 9/200\n",
            "\u001b[1m1897/1897\u001b[0m \u001b[32m━━━━━━━━━━━━━━━━━━━━\u001b[0m\u001b[37m\u001b[0m \u001b[1m5s\u001b[0m 3ms/step - loss: 30758260736.0000 - mae: 108879.9531 - val_loss: 19787130880.0000 - val_mae: 80969.4922\n",
            "Epoch 10/200\n",
            "\u001b[1m1897/1897\u001b[0m \u001b[32m━━━━━━━━━━━━━━━━━━━━\u001b[0m\u001b[37m\u001b[0m \u001b[1m5s\u001b[0m 3ms/step - loss: 29597491200.0000 - mae: 108299.0391 - val_loss: 19153076224.0000 - val_mae: 80382.2734\n",
            "Epoch 11/200\n",
            "\u001b[1m1897/1897\u001b[0m \u001b[32m━━━━━━━━━━━━━━━━━━━━\u001b[0m\u001b[37m\u001b[0m \u001b[1m5s\u001b[0m 3ms/step - loss: 28640892928.0000 - mae: 106168.0156 - val_loss: 18850959360.0000 - val_mae: 79865.7031\n",
            "Epoch 12/200\n",
            "\u001b[1m1897/1897\u001b[0m \u001b[32m━━━━━━━━━━━━━━━━━━━━\u001b[0m\u001b[37m\u001b[0m \u001b[1m5s\u001b[0m 3ms/step - loss: 29679378432.0000 - mae: 107974.5781 - val_loss: 19393626112.0000 - val_mae: 80498.4141\n",
            "Epoch 13/200\n",
            "\u001b[1m1897/1897\u001b[0m \u001b[32m━━━━━━━━━━━━━━━━━━━━\u001b[0m\u001b[37m\u001b[0m \u001b[1m5s\u001b[0m 3ms/step - loss: 28565659648.0000 - mae: 105416.4141 - val_loss: 19177119744.0000 - val_mae: 80430.3594\n",
            "Epoch 14/200\n",
            "\u001b[1m1897/1897\u001b[0m \u001b[32m━━━━━━━━━━━━━━━━━━━━\u001b[0m\u001b[37m\u001b[0m \u001b[1m5s\u001b[0m 3ms/step - loss: 29080662016.0000 - mae: 106641.0234 - val_loss: 18964189184.0000 - val_mae: 79566.9766\n",
            "Epoch 15/200\n",
            "\u001b[1m1897/1897\u001b[0m \u001b[32m━━━━━━━━━━━━━━━━━━━━\u001b[0m\u001b[37m\u001b[0m \u001b[1m5s\u001b[0m 3ms/step - loss: 29702518784.0000 - mae: 106314.1250 - val_loss: 18329653248.0000 - val_mae: 78689.2188\n",
            "Epoch 16/200\n",
            "\u001b[1m1897/1897\u001b[0m \u001b[32m━━━━━━━━━━━━━━━━━━━━\u001b[0m\u001b[37m\u001b[0m \u001b[1m5s\u001b[0m 3ms/step - loss: 28034945024.0000 - mae: 104565.9297 - val_loss: 19881635840.0000 - val_mae: 81469.4844\n",
            "Epoch 17/200\n",
            "\u001b[1m1897/1897\u001b[0m \u001b[32m━━━━━━━━━━━━━━━━━━━━\u001b[0m\u001b[37m\u001b[0m \u001b[1m5s\u001b[0m 3ms/step - loss: 29270611968.0000 - mae: 106842.5000 - val_loss: 18424184832.0000 - val_mae: 78785.7344\n",
            "Epoch 18/200\n",
            "\u001b[1m1897/1897\u001b[0m \u001b[32m━━━━━━━━━━━━━━━━━━━━\u001b[0m\u001b[37m\u001b[0m \u001b[1m5s\u001b[0m 3ms/step - loss: 29251571712.0000 - mae: 106770.7578 - val_loss: 18674900992.0000 - val_mae: 78620.4062\n",
            "Epoch 19/200\n",
            "\u001b[1m1897/1897\u001b[0m \u001b[32m━━━━━━━━━━━━━━━━━━━━\u001b[0m\u001b[37m\u001b[0m \u001b[1m5s\u001b[0m 3ms/step - loss: 28609843200.0000 - mae: 105468.9922 - val_loss: 18788605952.0000 - val_mae: 78963.5547\n",
            "Epoch 20/200\n",
            "\u001b[1m1897/1897\u001b[0m \u001b[32m━━━━━━━━━━━━━━━━━━━━\u001b[0m\u001b[37m\u001b[0m \u001b[1m5s\u001b[0m 3ms/step - loss: 28361803776.0000 - mae: 104763.2500 - val_loss: 19584391168.0000 - val_mae: 78990.6641\n",
            "Epoch 21/200\n",
            "\u001b[1m1897/1897\u001b[0m \u001b[32m━━━━━━━━━━━━━━━━━━━━\u001b[0m\u001b[37m\u001b[0m \u001b[1m5s\u001b[0m 3ms/step - loss: 28148598784.0000 - mae: 104562.2109 - val_loss: 17950869504.0000 - val_mae: 77570.7891\n",
            "Epoch 22/200\n",
            "\u001b[1m1897/1897\u001b[0m \u001b[32m━━━━━━━━━━━━━━━━━━━━\u001b[0m\u001b[37m\u001b[0m \u001b[1m5s\u001b[0m 3ms/step - loss: 27936530432.0000 - mae: 103779.4141 - val_loss: 17993404416.0000 - val_mae: 77709.1172\n",
            "Epoch 23/200\n",
            "\u001b[1m1897/1897\u001b[0m \u001b[32m━━━━━━━━━━━━━━━━━━━━\u001b[0m\u001b[37m\u001b[0m \u001b[1m5s\u001b[0m 3ms/step - loss: 27455053824.0000 - mae: 103524.7266 - val_loss: 18674786304.0000 - val_mae: 80596.7656\n",
            "Epoch 24/200\n",
            "\u001b[1m1897/1897\u001b[0m \u001b[32m━━━━━━━━━━━━━━━━━━━━\u001b[0m\u001b[37m\u001b[0m \u001b[1m5s\u001b[0m 3ms/step - loss: 27525226496.0000 - mae: 103292.6719 - val_loss: 18242637824.0000 - val_mae: 77412.9766\n",
            "Epoch 25/200\n",
            "\u001b[1m1897/1897\u001b[0m \u001b[32m━━━━━━━━━━━━━━━━━━━━\u001b[0m\u001b[37m\u001b[0m \u001b[1m5s\u001b[0m 3ms/step - loss: 27320268800.0000 - mae: 102390.8516 - val_loss: 17747632128.0000 - val_mae: 77155.7031\n",
            "Epoch 26/200\n",
            "\u001b[1m1897/1897\u001b[0m \u001b[32m━━━━━━━━━━━━━━━━━━━━\u001b[0m\u001b[37m\u001b[0m \u001b[1m5s\u001b[0m 3ms/step - loss: 27408760832.0000 - mae: 103401.4922 - val_loss: 18561017856.0000 - val_mae: 78485.2109\n",
            "Epoch 27/200\n",
            "\u001b[1m1897/1897\u001b[0m \u001b[32m━━━━━━━━━━━━━━━━━━━━\u001b[0m\u001b[37m\u001b[0m \u001b[1m5s\u001b[0m 3ms/step - loss: 27600869376.0000 - mae: 103555.0000 - val_loss: 17692663808.0000 - val_mae: 76280.8516\n",
            "Epoch 28/200\n",
            "\u001b[1m1897/1897\u001b[0m \u001b[32m━━━━━━━━━━━━━━━━━━━━\u001b[0m\u001b[37m\u001b[0m \u001b[1m5s\u001b[0m 3ms/step - loss: 27481630720.0000 - mae: 103201.1562 - val_loss: 17742147584.0000 - val_mae: 76831.0938\n",
            "Epoch 29/200\n",
            "\u001b[1m1897/1897\u001b[0m \u001b[32m━━━━━━━━━━━━━━━━━━━━\u001b[0m\u001b[37m\u001b[0m \u001b[1m5s\u001b[0m 3ms/step - loss: 26920658944.0000 - mae: 101837.2266 - val_loss: 17751543808.0000 - val_mae: 77922.4922\n",
            "Epoch 30/200\n",
            "\u001b[1m1897/1897\u001b[0m \u001b[32m━━━━━━━━━━━━━━━━━━━━\u001b[0m\u001b[37m\u001b[0m \u001b[1m5s\u001b[0m 3ms/step - loss: 26970697728.0000 - mae: 102602.0781 - val_loss: 17265647616.0000 - val_mae: 76699.2344\n",
            "Epoch 31/200\n",
            "\u001b[1m1897/1897\u001b[0m \u001b[32m━━━━━━━━━━━━━━━━━━━━\u001b[0m\u001b[37m\u001b[0m \u001b[1m5s\u001b[0m 3ms/step - loss: 25500018688.0000 - mae: 100056.9062 - val_loss: 17132427264.0000 - val_mae: 77746.7891\n",
            "Epoch 32/200\n",
            "\u001b[1m1897/1897\u001b[0m \u001b[32m━━━━━━━━━━━━━━━━━━━━\u001b[0m\u001b[37m\u001b[0m \u001b[1m5s\u001b[0m 3ms/step - loss: 26570237952.0000 - mae: 102028.9062 - val_loss: 18778660864.0000 - val_mae: 78054.6641\n",
            "Epoch 33/200\n",
            "\u001b[1m1897/1897\u001b[0m \u001b[32m━━━━━━━━━━━━━━━━━━━━\u001b[0m\u001b[37m\u001b[0m \u001b[1m5s\u001b[0m 3ms/step - loss: 26349150208.0000 - mae: 101507.4375 - val_loss: 17588074496.0000 - val_mae: 77529.7188\n",
            "\u001b[1m593/593\u001b[0m \u001b[32m━━━━━━━━━━━━━━━━━━━━\u001b[0m\u001b[37m\u001b[0m \u001b[1m1s\u001b[0m 1ms/step\n"
          ]
        }
      ]
    },
    {
      "cell_type": "code",
      "source": [
        "evaluar_modelo(y_test_kpca, y_pred_dnn_profundo, \"DNN Profundo\")\n"
      ],
      "metadata": {
        "colab": {
          "base_uri": "https://localhost:8080/"
        },
        "id": "zVGmKLqe6TQM",
        "outputId": "afb770ec-d9b3-41a3-fc28-4958695b9d3e"
      },
      "execution_count": 60,
      "outputs": [
        {
          "output_type": "stream",
          "name": "stdout",
          "text": [
            "\n",
            "Resultados - DNN Profundo\n",
            "R2 Score:         0.8628\n",
            "MAE:              78333.90\n",
            "RMSE:             139211.94\n",
            "MAPE (%):         21.02\n"
          ]
        }
      ]
    },
    {
      "cell_type": "markdown",
      "source": [
        "Cambiamos transformador"
      ],
      "metadata": {
        "id": "XLu1uHjz5B9G"
      }
    },
    {
      "cell_type": "code",
      "source": [
        "import tensorflow as tf\n",
        "from tensorflow.keras.models import Sequential\n",
        "from tensorflow.keras.layers import Dense, Dropout, BatchNormalization\n",
        "from tensorflow.keras.callbacks import EarlyStopping\n",
        "from sklearn.preprocessing import StandardScaler\n",
        "import time\n",
        "from tensorflow.keras.optimizers import RMSprop\n",
        "\n",
        "\n",
        "# Escalar los datos (muy importante para redes neuronales)\n",
        "scaler = StandardScaler()\n",
        "X_train_scaled = scaler.fit_transform(X_train_kpca)\n",
        "X_test_scaled = scaler.transform(X_test_kpca)\n",
        "\n",
        "# Crear modelo\n",
        "modelo_dnn = Sequential([\n",
        "    Dense(256, activation='relu', input_shape=(X_train_scaled.shape[1],)),\n",
        "    BatchNormalization(),\n",
        "    Dropout(0.4),\n",
        "    Dense(128, activation='relu'),\n",
        "    BatchNormalization(),\n",
        "    Dropout(0.3),\n",
        "    Dense(64, activation='relu'),\n",
        "    Dropout(0.2),\n",
        "    Dense(1)\n",
        "])\n",
        "\n",
        "\n",
        "# Compilar el modelo\n",
        "modelo_dnn.compile(\n",
        "    optimizer=RMSprop(learning_rate=0.0005),\n",
        "    loss='mean_squared_error',\n",
        "    metrics=['mae']\n",
        ")\n",
        "\n",
        "# Early stopping para val_mae con paciencia de 4 épocas\n",
        "early_stop = EarlyStopping(monitor='val_mae', patience=4, restore_best_weights=True)\n",
        "\n",
        "# Entrenar\n",
        "start_train = time.time()\n",
        "historial = modelo_dnn.fit(\n",
        "    X_train_scaled,\n",
        "    y_train_kpca,\n",
        "    validation_split=0.2,\n",
        "    epochs=200,\n",
        "    batch_size=32,\n",
        "    callbacks=[early_stop],\n",
        "    verbose=1\n",
        ")\n",
        "end_train = time.time()\n",
        "\n",
        "# Tiempo de entrenamiento\n",
        "tiempo_entrenamiento = end_train - start_train\n",
        "\n",
        "# Predicción\n",
        "start_pred = time.time()\n",
        "y_pred_dnn_rmsprop = modelo_dnn.predict(X_test_scaled).flatten()\n",
        "end_pred = time.time()\n",
        "\n",
        "tiempo_prediccion = end_pred - start_pred\n"
      ],
      "metadata": {
        "colab": {
          "base_uri": "https://localhost:8080/"
        },
        "id": "kxQVS3Fu5DkP",
        "outputId": "75f32e92-c18a-47e2-877d-2d45b73c8c45"
      },
      "execution_count": 61,
      "outputs": [
        {
          "output_type": "stream",
          "name": "stdout",
          "text": [
            "Epoch 1/200\n"
          ]
        },
        {
          "output_type": "stream",
          "name": "stderr",
          "text": [
            "/usr/local/lib/python3.11/dist-packages/keras/src/layers/core/dense.py:87: UserWarning: Do not pass an `input_shape`/`input_dim` argument to a layer. When using Sequential models, prefer using an `Input(shape)` object as the first layer in the model instead.\n",
            "  super().__init__(activity_regularizer=activity_regularizer, **kwargs)\n"
          ]
        },
        {
          "output_type": "stream",
          "name": "stdout",
          "text": [
            "\u001b[1m1897/1897\u001b[0m \u001b[32m━━━━━━━━━━━━━━━━━━━━\u001b[0m\u001b[37m\u001b[0m \u001b[1m10s\u001b[0m 4ms/step - loss: 293471191040.0000 - mae: 392200.8125 - val_loss: 278801907712.0000 - val_mae: 382572.9062\n",
            "Epoch 2/200\n",
            "\u001b[1m1897/1897\u001b[0m \u001b[32m━━━━━━━━━━━━━━━━━━━━\u001b[0m\u001b[37m\u001b[0m \u001b[1m5s\u001b[0m 3ms/step - loss: 266138058752.0000 - mae: 375273.0000 - val_loss: 233488367616.0000 - val_mae: 350439.6562\n",
            "Epoch 3/200\n",
            "\u001b[1m1897/1897\u001b[0m \u001b[32m━━━━━━━━━━━━━━━━━━━━\u001b[0m\u001b[37m\u001b[0m \u001b[1m5s\u001b[0m 3ms/step - loss: 210656624640.0000 - mae: 330759.8438 - val_loss: 142542094336.0000 - val_mae: 270314.1875\n",
            "Epoch 4/200\n",
            "\u001b[1m1897/1897\u001b[0m \u001b[32m━━━━━━━━━━━━━━━━━━━━\u001b[0m\u001b[37m\u001b[0m \u001b[1m5s\u001b[0m 3ms/step - loss: 118270050304.0000 - mae: 234057.4219 - val_loss: 48247472128.0000 - val_mae: 138811.6250\n",
            "Epoch 5/200\n",
            "\u001b[1m1897/1897\u001b[0m \u001b[32m━━━━━━━━━━━━━━━━━━━━\u001b[0m\u001b[37m\u001b[0m \u001b[1m5s\u001b[0m 3ms/step - loss: 47956942848.0000 - mae: 135619.4844 - val_loss: 24605270016.0000 - val_mae: 97049.2344\n",
            "Epoch 6/200\n",
            "\u001b[1m1897/1897\u001b[0m \u001b[32m━━━━━━━━━━━━━━━━━━━━\u001b[0m\u001b[37m\u001b[0m \u001b[1m5s\u001b[0m 3ms/step - loss: 36114247680.0000 - mae: 122410.4688 - val_loss: 23725639680.0000 - val_mae: 94480.7578\n",
            "Epoch 7/200\n",
            "\u001b[1m1897/1897\u001b[0m \u001b[32m━━━━━━━━━━━━━━━━━━━━\u001b[0m\u001b[37m\u001b[0m \u001b[1m5s\u001b[0m 3ms/step - loss: 36775800832.0000 - mae: 121158.9375 - val_loss: 22882260992.0000 - val_mae: 91302.7422\n",
            "Epoch 8/200\n",
            "\u001b[1m1897/1897\u001b[0m \u001b[32m━━━━━━━━━━━━━━━━━━━━\u001b[0m\u001b[37m\u001b[0m \u001b[1m5s\u001b[0m 3ms/step - loss: 35483369472.0000 - mae: 118074.9922 - val_loss: 22867406848.0000 - val_mae: 88517.4062\n",
            "Epoch 9/200\n",
            "\u001b[1m1897/1897\u001b[0m \u001b[32m━━━━━━━━━━━━━━━━━━━━\u001b[0m\u001b[37m\u001b[0m \u001b[1m5s\u001b[0m 3ms/step - loss: 34256871424.0000 - mae: 115675.0391 - val_loss: 22013706240.0000 - val_mae: 87029.0547\n",
            "Epoch 10/200\n",
            "\u001b[1m1897/1897\u001b[0m \u001b[32m━━━━━━━━━━━━━━━━━━━━\u001b[0m\u001b[37m\u001b[0m \u001b[1m5s\u001b[0m 3ms/step - loss: 33139929088.0000 - mae: 113780.5625 - val_loss: 21329149952.0000 - val_mae: 85923.6094\n",
            "Epoch 11/200\n",
            "\u001b[1m1897/1897\u001b[0m \u001b[32m━━━━━━━━━━━━━━━━━━━━\u001b[0m\u001b[37m\u001b[0m \u001b[1m5s\u001b[0m 3ms/step - loss: 32408854528.0000 - mae: 112815.8438 - val_loss: 21275326464.0000 - val_mae: 84281.7266\n",
            "Epoch 12/200\n",
            "\u001b[1m1897/1897\u001b[0m \u001b[32m━━━━━━━━━━━━━━━━━━━━\u001b[0m\u001b[37m\u001b[0m \u001b[1m5s\u001b[0m 3ms/step - loss: 31301754880.0000 - mae: 110868.1719 - val_loss: 21405974528.0000 - val_mae: 84449.4375\n",
            "Epoch 13/200\n",
            "\u001b[1m1897/1897\u001b[0m \u001b[32m━━━━━━━━━━━━━━━━━━━━\u001b[0m\u001b[37m\u001b[0m \u001b[1m5s\u001b[0m 3ms/step - loss: 31322544128.0000 - mae: 110561.0469 - val_loss: 20413480960.0000 - val_mae: 82409.2031\n",
            "Epoch 14/200\n",
            "\u001b[1m1897/1897\u001b[0m \u001b[32m━━━━━━━━━━━━━━━━━━━━\u001b[0m\u001b[37m\u001b[0m \u001b[1m5s\u001b[0m 3ms/step - loss: 30636597248.0000 - mae: 109255.9453 - val_loss: 19835965440.0000 - val_mae: 82079.4766\n",
            "Epoch 15/200\n",
            "\u001b[1m1897/1897\u001b[0m \u001b[32m━━━━━━━━━━━━━━━━━━━━\u001b[0m\u001b[37m\u001b[0m \u001b[1m5s\u001b[0m 3ms/step - loss: 30682722304.0000 - mae: 109431.6406 - val_loss: 19902167040.0000 - val_mae: 81041.1172\n",
            "Epoch 16/200\n",
            "\u001b[1m1897/1897\u001b[0m \u001b[32m━━━━━━━━━━━━━━━━━━━━\u001b[0m\u001b[37m\u001b[0m \u001b[1m5s\u001b[0m 3ms/step - loss: 29708302336.0000 - mae: 107175.7422 - val_loss: 19037911040.0000 - val_mae: 80406.5234\n",
            "Epoch 17/200\n",
            "\u001b[1m1897/1897\u001b[0m \u001b[32m━━━━━━━━━━━━━━━━━━━━\u001b[0m\u001b[37m\u001b[0m \u001b[1m5s\u001b[0m 3ms/step - loss: 29922881536.0000 - mae: 107901.8672 - val_loss: 19799945216.0000 - val_mae: 81691.7188\n",
            "Epoch 18/200\n",
            "\u001b[1m1897/1897\u001b[0m \u001b[32m━━━━━━━━━━━━━━━━━━━━\u001b[0m\u001b[37m\u001b[0m \u001b[1m5s\u001b[0m 3ms/step - loss: 30602524672.0000 - mae: 108229.7188 - val_loss: 18778400768.0000 - val_mae: 79665.1562\n",
            "Epoch 19/200\n",
            "\u001b[1m1897/1897\u001b[0m \u001b[32m━━━━━━━━━━━━━━━━━━━━\u001b[0m\u001b[37m\u001b[0m \u001b[1m5s\u001b[0m 3ms/step - loss: 29351641088.0000 - mae: 105954.8750 - val_loss: 18568638464.0000 - val_mae: 79105.0781\n",
            "Epoch 20/200\n",
            "\u001b[1m1897/1897\u001b[0m \u001b[32m━━━━━━━━━━━━━━━━━━━━\u001b[0m\u001b[37m\u001b[0m \u001b[1m5s\u001b[0m 3ms/step - loss: 28401750016.0000 - mae: 105186.5078 - val_loss: 18206439424.0000 - val_mae: 78280.3672\n",
            "Epoch 21/200\n",
            "\u001b[1m1897/1897\u001b[0m \u001b[32m━━━━━━━━━━━━━━━━━━━━\u001b[0m\u001b[37m\u001b[0m \u001b[1m5s\u001b[0m 3ms/step - loss: 28820707328.0000 - mae: 106006.4141 - val_loss: 18323329024.0000 - val_mae: 77858.7422\n",
            "Epoch 22/200\n",
            "\u001b[1m1897/1897\u001b[0m \u001b[32m━━━━━━━━━━━━━━━━━━━━\u001b[0m\u001b[37m\u001b[0m \u001b[1m5s\u001b[0m 3ms/step - loss: 29144115200.0000 - mae: 105800.0078 - val_loss: 18055821312.0000 - val_mae: 77752.4062\n",
            "Epoch 23/200\n",
            "\u001b[1m1897/1897\u001b[0m \u001b[32m━━━━━━━━━━━━━━━━━━━━\u001b[0m\u001b[37m\u001b[0m \u001b[1m5s\u001b[0m 3ms/step - loss: 28675971072.0000 - mae: 104629.3047 - val_loss: 17879181312.0000 - val_mae: 78088.8594\n",
            "Epoch 24/200\n",
            "\u001b[1m1897/1897\u001b[0m \u001b[32m━━━━━━━━━━━━━━━━━━━━\u001b[0m\u001b[37m\u001b[0m \u001b[1m5s\u001b[0m 3ms/step - loss: 28252229632.0000 - mae: 105031.9062 - val_loss: 18070896640.0000 - val_mae: 77872.2266\n",
            "Epoch 25/200\n",
            "\u001b[1m1897/1897\u001b[0m \u001b[32m━━━━━━━━━━━━━━━━━━━━\u001b[0m\u001b[37m\u001b[0m \u001b[1m5s\u001b[0m 3ms/step - loss: 28237426688.0000 - mae: 104940.9453 - val_loss: 17876678656.0000 - val_mae: 77199.0625\n",
            "Epoch 26/200\n",
            "\u001b[1m1897/1897\u001b[0m \u001b[32m━━━━━━━━━━━━━━━━━━━━\u001b[0m\u001b[37m\u001b[0m \u001b[1m5s\u001b[0m 3ms/step - loss: 27993409536.0000 - mae: 103750.2109 - val_loss: 18210598912.0000 - val_mae: 78133.6172\n",
            "Epoch 27/200\n",
            "\u001b[1m1897/1897\u001b[0m \u001b[32m━━━━━━━━━━━━━━━━━━━━\u001b[0m\u001b[37m\u001b[0m \u001b[1m5s\u001b[0m 3ms/step - loss: 27793561600.0000 - mae: 103729.9766 - val_loss: 18012909568.0000 - val_mae: 77398.4688\n",
            "Epoch 28/200\n",
            "\u001b[1m1897/1897\u001b[0m \u001b[32m━━━━━━━━━━━━━━━━━━━━\u001b[0m\u001b[37m\u001b[0m \u001b[1m5s\u001b[0m 3ms/step - loss: 27574722560.0000 - mae: 103058.1484 - val_loss: 18091499520.0000 - val_mae: 78660.9922\n",
            "Epoch 29/200\n",
            "\u001b[1m1897/1897\u001b[0m \u001b[32m━━━━━━━━━━━━━━━━━━━━\u001b[0m\u001b[37m\u001b[0m \u001b[1m5s\u001b[0m 3ms/step - loss: 27374749696.0000 - mae: 103557.4688 - val_loss: 18014158848.0000 - val_mae: 78809.1641\n",
            "\u001b[1m593/593\u001b[0m \u001b[32m━━━━━━━━━━━━━━━━━━━━\u001b[0m\u001b[37m\u001b[0m \u001b[1m1s\u001b[0m 1ms/step\n"
          ]
        }
      ]
    },
    {
      "cell_type": "code",
      "source": [
        "evaluar_modelo(y_test_kpca, y_pred_dnn_rmsprop, \"DNN con RMSprop\")"
      ],
      "metadata": {
        "colab": {
          "base_uri": "https://localhost:8080/"
        },
        "id": "npVB3iAb6fjM",
        "outputId": "6288b28d-ca24-435a-88e9-3f2b153749d1"
      },
      "execution_count": 62,
      "outputs": [
        {
          "output_type": "stream",
          "name": "stdout",
          "text": [
            "\n",
            "Resultados - DNN con RMSprop\n",
            "R2 Score:         0.8616\n",
            "MAE:              78684.49\n",
            "RMSE:             139804.59\n",
            "MAPE (%):         21.35\n"
          ]
        }
      ]
    },
    {
      "cell_type": "markdown",
      "source": [
        "Todo lo anterior junto"
      ],
      "metadata": {
        "id": "9L-Vta195NNV"
      }
    },
    {
      "cell_type": "code",
      "source": [
        "import numpy as np\n",
        "import tensorflow as tf\n",
        "import time\n",
        "from tensorflow.keras.models import Sequential\n",
        "from tensorflow.keras.layers import Dense, Dropout, BatchNormalization\n",
        "from tensorflow.keras.callbacks import EarlyStopping, ReduceLROnPlateau\n",
        "from sklearn.preprocessing import StandardScaler\n",
        "from sklearn.metrics import mean_absolute_error, mean_squared_error, r2_score\n",
        "\n",
        "# Escalado\n",
        "scaler = StandardScaler()\n",
        "X_train_scaled = scaler.fit_transform(X_train_kpca)\n",
        "X_test_scaled = scaler.transform(X_test_kpca)\n",
        "\n",
        "# Transformación logarítmica\n",
        "y_train_log = np.log1p(y_train_kpca)\n",
        "y_test_log = np.log1p(y_test_kpca)\n",
        "\n",
        "# Modelo profundo + regularización\n",
        "modelo_dnn = Sequential([\n",
        "    Dense(256, activation='relu', input_shape=(X_train_scaled.shape[1],)),\n",
        "    BatchNormalization(),\n",
        "    Dropout(0.4),\n",
        "    Dense(128, activation='relu'),\n",
        "    BatchNormalization(),\n",
        "    Dropout(0.3),\n",
        "    Dense(64, activation='relu'),\n",
        "    Dropout(0.2),\n",
        "    Dense(1)\n",
        "])\n",
        "\n",
        "# Compilar con RMSprop\n",
        "modelo_dnn.compile(\n",
        "    optimizer=tf.keras.optimizers.RMSprop(learning_rate=0.0005),\n",
        "    loss='mean_squared_error',\n",
        "    metrics=['mae']\n",
        ")\n",
        "\n",
        "# Callbacks\n",
        "early_stop = EarlyStopping(monitor='val_loss', patience=10, restore_best_weights=True)\n",
        "reduce_lr = ReduceLROnPlateau(monitor='val_loss', factor=0.5, patience=5, min_lr=1e-6, verbose=1)\n",
        "\n",
        "# Tiempo de entrenamiento\n",
        "start_train = time.time()\n",
        "historial = modelo_dnn.fit(\n",
        "    X_train_scaled,\n",
        "    y_train_log,\n",
        "    validation_split=0.2,\n",
        "    epochs=300,\n",
        "    batch_size=64,\n",
        "    callbacks=[early_stop, reduce_lr],\n",
        "    verbose=1\n",
        ")\n",
        "end_train = time.time()\n",
        "train_time = end_train - start_train\n",
        "\n",
        "# Tiempo de predicción\n",
        "start_pred = time.time()\n",
        "y_pred_log = modelo_dnn.predict(X_test_scaled).flatten()\n",
        "end_pred = time.time()\n",
        "pred_time = end_pred - start_pred\n",
        "\n",
        "# Deslogaritmizar\n",
        "y_pred = np.expm1(y_pred_log)\n",
        "y_true = y_test_kpca\n",
        "\n",
        "# Evaluación\n",
        "mae = mean_absolute_error(y_true, y_pred)\n",
        "rmse = np.sqrt(mean_squared_error(y_true, y_pred))\n",
        "r2 = r2_score(y_true, y_pred)\n",
        "mape = np.mean(np.abs((y_true - y_pred) / y_true)) * 100\n",
        "ratio_10 = np.mean(np.abs((y_true - y_pred) / y_true) < 0.10) * 100\n",
        "\n",
        "# Mostrar resultados\n",
        "print(f\"\\n📊 Resultados del modelo DNN (con log transform):\")\n",
        "print(f\"🕒 Tiempo de entrenamiento: {train_time:.2f} segundos\")\n",
        "print(f\"🕒 Tiempo de predicción: {pred_time:.4f} segundos\")\n",
        "print(f\"R²: {r2:.4f}\")\n",
        "print(f\"RMSE: {rmse:,.2f}\")\n",
        "print(f\"MAE: {mae:,.2f}\")\n",
        "print(f\"MAPE: {mape:.2f}%\")\n",
        "print(f\"Ratio de errores <10%: {ratio_10:.2f}%\")\n"
      ],
      "metadata": {
        "colab": {
          "base_uri": "https://localhost:8080/"
        },
        "id": "yVcrPPuu5OP_",
        "outputId": "4fdc4cec-6877-468f-ee7b-5f9edbb0ebcc"
      },
      "execution_count": 63,
      "outputs": [
        {
          "output_type": "stream",
          "name": "stdout",
          "text": [
            "Epoch 1/300\n"
          ]
        },
        {
          "output_type": "stream",
          "name": "stderr",
          "text": [
            "/usr/local/lib/python3.11/dist-packages/keras/src/layers/core/dense.py:87: UserWarning: Do not pass an `input_shape`/`input_dim` argument to a layer. When using Sequential models, prefer using an `Input(shape)` object as the first layer in the model instead.\n",
            "  super().__init__(activity_regularizer=activity_regularizer, **kwargs)\n"
          ]
        },
        {
          "output_type": "stream",
          "name": "stdout",
          "text": [
            "\u001b[1m949/949\u001b[0m \u001b[32m━━━━━━━━━━━━━━━━━━━━\u001b[0m\u001b[37m\u001b[0m \u001b[1m8s\u001b[0m 5ms/step - loss: 36.4231 - mae: 4.5909 - val_loss: 0.4150 - val_mae: 0.5143 - learning_rate: 5.0000e-04\n",
            "Epoch 2/300\n",
            "\u001b[1m949/949\u001b[0m \u001b[32m━━━━━━━━━━━━━━━━━━━━\u001b[0m\u001b[37m\u001b[0m \u001b[1m2s\u001b[0m 3ms/step - loss: 3.0892 - mae: 1.4001 - val_loss: 0.5220 - val_mae: 0.5991 - learning_rate: 5.0000e-04\n",
            "Epoch 3/300\n",
            "\u001b[1m949/949\u001b[0m \u001b[32m━━━━━━━━━━━━━━━━━━━━\u001b[0m\u001b[37m\u001b[0m \u001b[1m3s\u001b[0m 3ms/step - loss: 2.1614 - mae: 1.1709 - val_loss: 0.4350 - val_mae: 0.5361 - learning_rate: 5.0000e-04\n",
            "Epoch 4/300\n",
            "\u001b[1m949/949\u001b[0m \u001b[32m━━━━━━━━━━━━━━━━━━━━\u001b[0m\u001b[37m\u001b[0m \u001b[1m3s\u001b[0m 3ms/step - loss: 1.6872 - mae: 1.0309 - val_loss: 0.5032 - val_mae: 0.6099 - learning_rate: 5.0000e-04\n",
            "Epoch 5/300\n",
            "\u001b[1m949/949\u001b[0m \u001b[32m━━━━━━━━━━━━━━━━━━━━\u001b[0m\u001b[37m\u001b[0m \u001b[1m3s\u001b[0m 3ms/step - loss: 1.3913 - mae: 0.9390 - val_loss: 0.3418 - val_mae: 0.4713 - learning_rate: 5.0000e-04\n",
            "Epoch 6/300\n",
            "\u001b[1m949/949\u001b[0m \u001b[32m━━━━━━━━━━━━━━━━━━━━\u001b[0m\u001b[37m\u001b[0m \u001b[1m3s\u001b[0m 3ms/step - loss: 1.2074 - mae: 0.8755 - val_loss: 0.4407 - val_mae: 0.5720 - learning_rate: 5.0000e-04\n",
            "Epoch 7/300\n",
            "\u001b[1m949/949\u001b[0m \u001b[32m━━━━━━━━━━━━━━━━━━━━\u001b[0m\u001b[37m\u001b[0m \u001b[1m3s\u001b[0m 3ms/step - loss: 1.0289 - mae: 0.8045 - val_loss: 0.1742 - val_mae: 0.3344 - learning_rate: 5.0000e-04\n",
            "Epoch 8/300\n",
            "\u001b[1m949/949\u001b[0m \u001b[32m━━━━━━━━━━━━━━━━━━━━\u001b[0m\u001b[37m\u001b[0m \u001b[1m3s\u001b[0m 3ms/step - loss: 0.9040 - mae: 0.7568 - val_loss: 0.1539 - val_mae: 0.3100 - learning_rate: 5.0000e-04\n",
            "Epoch 9/300\n",
            "\u001b[1m949/949\u001b[0m \u001b[32m━━━━━━━━━━━━━━━━━━━━\u001b[0m\u001b[37m\u001b[0m \u001b[1m3s\u001b[0m 3ms/step - loss: 0.8218 - mae: 0.7210 - val_loss: 0.2046 - val_mae: 0.3650 - learning_rate: 5.0000e-04\n",
            "Epoch 10/300\n",
            "\u001b[1m949/949\u001b[0m \u001b[32m━━━━━━━━━━━━━━━━━━━━\u001b[0m\u001b[37m\u001b[0m \u001b[1m3s\u001b[0m 3ms/step - loss: 0.7305 - mae: 0.6802 - val_loss: 0.1438 - val_mae: 0.3010 - learning_rate: 5.0000e-04\n",
            "Epoch 11/300\n",
            "\u001b[1m949/949\u001b[0m \u001b[32m━━━━━━━━━━━━━━━━━━━━\u001b[0m\u001b[37m\u001b[0m \u001b[1m3s\u001b[0m 3ms/step - loss: 0.6710 - mae: 0.6521 - val_loss: 0.1186 - val_mae: 0.2733 - learning_rate: 5.0000e-04\n",
            "Epoch 12/300\n",
            "\u001b[1m949/949\u001b[0m \u001b[32m━━━━━━━━━━━━━━━━━━━━\u001b[0m\u001b[37m\u001b[0m \u001b[1m3s\u001b[0m 3ms/step - loss: 0.6211 - mae: 0.6267 - val_loss: 0.2398 - val_mae: 0.4070 - learning_rate: 5.0000e-04\n",
            "Epoch 13/300\n",
            "\u001b[1m949/949\u001b[0m \u001b[32m━━━━━━━━━━━━━━━━━━━━\u001b[0m\u001b[37m\u001b[0m \u001b[1m2s\u001b[0m 3ms/step - loss: 0.5820 - mae: 0.6050 - val_loss: 0.1359 - val_mae: 0.2918 - learning_rate: 5.0000e-04\n",
            "Epoch 14/300\n",
            "\u001b[1m949/949\u001b[0m \u001b[32m━━━━━━━━━━━━━━━━━━━━\u001b[0m\u001b[37m\u001b[0m \u001b[1m2s\u001b[0m 3ms/step - loss: 0.5464 - mae: 0.5879 - val_loss: 0.1111 - val_mae: 0.2655 - learning_rate: 5.0000e-04\n",
            "Epoch 15/300\n",
            "\u001b[1m949/949\u001b[0m \u001b[32m━━━━━━━━━━━━━━━━━━━━\u001b[0m\u001b[37m\u001b[0m \u001b[1m2s\u001b[0m 3ms/step - loss: 0.5196 - mae: 0.5744 - val_loss: 0.1143 - val_mae: 0.2688 - learning_rate: 5.0000e-04\n",
            "Epoch 16/300\n",
            "\u001b[1m949/949\u001b[0m \u001b[32m━━━━━━━━━━━━━━━━━━━━\u001b[0m\u001b[37m\u001b[0m \u001b[1m3s\u001b[0m 3ms/step - loss: 0.5017 - mae: 0.5627 - val_loss: 0.1149 - val_mae: 0.2710 - learning_rate: 5.0000e-04\n",
            "Epoch 17/300\n",
            "\u001b[1m949/949\u001b[0m \u001b[32m━━━━━━━━━━━━━━━━━━━━\u001b[0m\u001b[37m\u001b[0m \u001b[1m3s\u001b[0m 3ms/step - loss: 0.4809 - mae: 0.5502 - val_loss: 0.0923 - val_mae: 0.2365 - learning_rate: 5.0000e-04\n",
            "Epoch 18/300\n",
            "\u001b[1m949/949\u001b[0m \u001b[32m━━━━━━━━━━━━━━━━━━━━\u001b[0m\u001b[37m\u001b[0m \u001b[1m2s\u001b[0m 3ms/step - loss: 0.4660 - mae: 0.5417 - val_loss: 0.0918 - val_mae: 0.2350 - learning_rate: 5.0000e-04\n",
            "Epoch 19/300\n",
            "\u001b[1m949/949\u001b[0m \u001b[32m━━━━━━━━━━━━━━━━━━━━\u001b[0m\u001b[37m\u001b[0m \u001b[1m3s\u001b[0m 3ms/step - loss: 0.4504 - mae: 0.5320 - val_loss: 0.0850 - val_mae: 0.2269 - learning_rate: 5.0000e-04\n",
            "Epoch 20/300\n",
            "\u001b[1m949/949\u001b[0m \u001b[32m━━━━━━━━━━━━━━━━━━━━\u001b[0m\u001b[37m\u001b[0m \u001b[1m2s\u001b[0m 3ms/step - loss: 0.4373 - mae: 0.5254 - val_loss: 0.1024 - val_mae: 0.2491 - learning_rate: 5.0000e-04\n",
            "Epoch 21/300\n",
            "\u001b[1m949/949\u001b[0m \u001b[32m━━━━━━━━━━━━━━━━━━━━\u001b[0m\u001b[37m\u001b[0m \u001b[1m3s\u001b[0m 3ms/step - loss: 0.4312 - mae: 0.5218 - val_loss: 0.0971 - val_mae: 0.2421 - learning_rate: 5.0000e-04\n",
            "Epoch 22/300\n",
            "\u001b[1m949/949\u001b[0m \u001b[32m━━━━━━━━━━━━━━━━━━━━\u001b[0m\u001b[37m\u001b[0m \u001b[1m2s\u001b[0m 3ms/step - loss: 0.4217 - mae: 0.5153 - val_loss: 0.0819 - val_mae: 0.2225 - learning_rate: 5.0000e-04\n",
            "Epoch 23/300\n",
            "\u001b[1m949/949\u001b[0m \u001b[32m━━━━━━━━━━━━━━━━━━━━\u001b[0m\u001b[37m\u001b[0m \u001b[1m2s\u001b[0m 3ms/step - loss: 0.4102 - mae: 0.5079 - val_loss: 0.0910 - val_mae: 0.2328 - learning_rate: 5.0000e-04\n",
            "Epoch 24/300\n",
            "\u001b[1m949/949\u001b[0m \u001b[32m━━━━━━━━━━━━━━━━━━━━\u001b[0m\u001b[37m\u001b[0m \u001b[1m2s\u001b[0m 3ms/step - loss: 0.3988 - mae: 0.5019 - val_loss: 0.0794 - val_mae: 0.2184 - learning_rate: 5.0000e-04\n",
            "Epoch 25/300\n",
            "\u001b[1m949/949\u001b[0m \u001b[32m━━━━━━━━━━━━━━━━━━━━\u001b[0m\u001b[37m\u001b[0m \u001b[1m2s\u001b[0m 3ms/step - loss: 0.3886 - mae: 0.4938 - val_loss: 0.0818 - val_mae: 0.2225 - learning_rate: 5.0000e-04\n",
            "Epoch 26/300\n",
            "\u001b[1m949/949\u001b[0m \u001b[32m━━━━━━━━━━━━━━━━━━━━\u001b[0m\u001b[37m\u001b[0m \u001b[1m3s\u001b[0m 3ms/step - loss: 0.3803 - mae: 0.4883 - val_loss: 0.0808 - val_mae: 0.2204 - learning_rate: 5.0000e-04\n",
            "Epoch 27/300\n",
            "\u001b[1m949/949\u001b[0m \u001b[32m━━━━━━━━━━━━━━━━━━━━\u001b[0m\u001b[37m\u001b[0m \u001b[1m2s\u001b[0m 3ms/step - loss: 0.3658 - mae: 0.4801 - val_loss: 0.0727 - val_mae: 0.2090 - learning_rate: 5.0000e-04\n",
            "Epoch 28/300\n",
            "\u001b[1m949/949\u001b[0m \u001b[32m━━━━━━━━━━━━━━━━━━━━\u001b[0m\u001b[37m\u001b[0m \u001b[1m3s\u001b[0m 3ms/step - loss: 0.3556 - mae: 0.4726 - val_loss: 0.0821 - val_mae: 0.2226 - learning_rate: 5.0000e-04\n",
            "Epoch 29/300\n",
            "\u001b[1m949/949\u001b[0m \u001b[32m━━━━━━━━━━━━━━━━━━━━\u001b[0m\u001b[37m\u001b[0m \u001b[1m2s\u001b[0m 3ms/step - loss: 0.3500 - mae: 0.4695 - val_loss: 0.0705 - val_mae: 0.2043 - learning_rate: 5.0000e-04\n",
            "Epoch 30/300\n",
            "\u001b[1m949/949\u001b[0m \u001b[32m━━━━━━━━━━━━━━━━━━━━\u001b[0m\u001b[37m\u001b[0m \u001b[1m2s\u001b[0m 3ms/step - loss: 0.3440 - mae: 0.4660 - val_loss: 0.0717 - val_mae: 0.2060 - learning_rate: 5.0000e-04\n",
            "Epoch 31/300\n",
            "\u001b[1m949/949\u001b[0m \u001b[32m━━━━━━━━━━━━━━━━━━━━\u001b[0m\u001b[37m\u001b[0m \u001b[1m3s\u001b[0m 3ms/step - loss: 0.3417 - mae: 0.4632 - val_loss: 0.0697 - val_mae: 0.2036 - learning_rate: 5.0000e-04\n",
            "Epoch 32/300\n",
            "\u001b[1m949/949\u001b[0m \u001b[32m━━━━━━━━━━━━━━━━━━━━\u001b[0m\u001b[37m\u001b[0m \u001b[1m2s\u001b[0m 3ms/step - loss: 0.3232 - mae: 0.4506 - val_loss: 0.1183 - val_mae: 0.2731 - learning_rate: 5.0000e-04\n",
            "Epoch 33/300\n",
            "\u001b[1m949/949\u001b[0m \u001b[32m━━━━━━━━━━━━━━━━━━━━\u001b[0m\u001b[37m\u001b[0m \u001b[1m2s\u001b[0m 3ms/step - loss: 0.3160 - mae: 0.4455 - val_loss: 0.0849 - val_mae: 0.2290 - learning_rate: 5.0000e-04\n",
            "Epoch 34/300\n",
            "\u001b[1m949/949\u001b[0m \u001b[32m━━━━━━━━━━━━━━━━━━━━\u001b[0m\u001b[37m\u001b[0m \u001b[1m2s\u001b[0m 3ms/step - loss: 0.3130 - mae: 0.4428 - val_loss: 0.0721 - val_mae: 0.2075 - learning_rate: 5.0000e-04\n",
            "Epoch 35/300\n",
            "\u001b[1m949/949\u001b[0m \u001b[32m━━━━━━━━━━━━━━━━━━━━\u001b[0m\u001b[37m\u001b[0m \u001b[1m3s\u001b[0m 3ms/step - loss: 0.3031 - mae: 0.4364 - val_loss: 0.0767 - val_mae: 0.2142 - learning_rate: 5.0000e-04\n",
            "Epoch 36/300\n",
            "\u001b[1m940/949\u001b[0m \u001b[32m━━━━━━━━━━━━━━━━━━━\u001b[0m\u001b[37m━\u001b[0m \u001b[1m0s\u001b[0m 2ms/step - loss: 0.2983 - mae: 0.4326\n",
            "Epoch 36: ReduceLROnPlateau reducing learning rate to 0.0002500000118743628.\n",
            "\u001b[1m949/949\u001b[0m \u001b[32m━━━━━━━━━━━━━━━━━━━━\u001b[0m\u001b[37m\u001b[0m \u001b[1m2s\u001b[0m 3ms/step - loss: 0.2983 - mae: 0.4326 - val_loss: 0.0789 - val_mae: 0.2179 - learning_rate: 5.0000e-04\n",
            "Epoch 37/300\n",
            "\u001b[1m949/949\u001b[0m \u001b[32m━━━━━━━━━━━━━━━━━━━━\u001b[0m\u001b[37m\u001b[0m \u001b[1m2s\u001b[0m 3ms/step - loss: 0.2932 - mae: 0.4289 - val_loss: 0.0694 - val_mae: 0.2030 - learning_rate: 2.5000e-04\n",
            "Epoch 38/300\n",
            "\u001b[1m949/949\u001b[0m \u001b[32m━━━━━━━━━━━━━━━━━━━━\u001b[0m\u001b[37m\u001b[0m \u001b[1m2s\u001b[0m 3ms/step - loss: 0.2853 - mae: 0.4223 - val_loss: 0.0683 - val_mae: 0.2012 - learning_rate: 2.5000e-04\n",
            "Epoch 39/300\n",
            "\u001b[1m949/949\u001b[0m \u001b[32m━━━━━━━━━━━━━━━━━━━━\u001b[0m\u001b[37m\u001b[0m \u001b[1m2s\u001b[0m 3ms/step - loss: 0.2844 - mae: 0.4202 - val_loss: 0.0727 - val_mae: 0.2083 - learning_rate: 2.5000e-04\n",
            "Epoch 40/300\n",
            "\u001b[1m949/949\u001b[0m \u001b[32m━━━━━━━━━━━━━━━━━━━━\u001b[0m\u001b[37m\u001b[0m \u001b[1m3s\u001b[0m 3ms/step - loss: 0.2781 - mae: 0.4176 - val_loss: 0.0667 - val_mae: 0.1986 - learning_rate: 2.5000e-04\n",
            "Epoch 41/300\n",
            "\u001b[1m949/949\u001b[0m \u001b[32m━━━━━━━━━━━━━━━━━━━━\u001b[0m\u001b[37m\u001b[0m \u001b[1m2s\u001b[0m 3ms/step - loss: 0.2767 - mae: 0.4163 - val_loss: 0.0677 - val_mae: 0.2002 - learning_rate: 2.5000e-04\n",
            "Epoch 42/300\n",
            "\u001b[1m949/949\u001b[0m \u001b[32m━━━━━━━━━━━━━━━━━━━━\u001b[0m\u001b[37m\u001b[0m \u001b[1m2s\u001b[0m 3ms/step - loss: 0.2764 - mae: 0.4154 - val_loss: 0.0647 - val_mae: 0.1952 - learning_rate: 2.5000e-04\n",
            "Epoch 43/300\n",
            "\u001b[1m949/949\u001b[0m \u001b[32m━━━━━━━━━━━━━━━━━━━━\u001b[0m\u001b[37m\u001b[0m \u001b[1m3s\u001b[0m 3ms/step - loss: 0.2732 - mae: 0.4135 - val_loss: 0.0653 - val_mae: 0.1960 - learning_rate: 2.5000e-04\n",
            "Epoch 44/300\n",
            "\u001b[1m949/949\u001b[0m \u001b[32m━━━━━━━━━━━━━━━━━━━━\u001b[0m\u001b[37m\u001b[0m \u001b[1m3s\u001b[0m 3ms/step - loss: 0.2676 - mae: 0.4085 - val_loss: 0.0642 - val_mae: 0.1940 - learning_rate: 2.5000e-04\n",
            "Epoch 45/300\n",
            "\u001b[1m949/949\u001b[0m \u001b[32m━━━━━━━━━━━━━━━━━━━━\u001b[0m\u001b[37m\u001b[0m \u001b[1m2s\u001b[0m 3ms/step - loss: 0.2664 - mae: 0.4085 - val_loss: 0.0637 - val_mae: 0.1928 - learning_rate: 2.5000e-04\n",
            "Epoch 46/300\n",
            "\u001b[1m949/949\u001b[0m \u001b[32m━━━━━━━━━━━━━━━━━━━━\u001b[0m\u001b[37m\u001b[0m \u001b[1m2s\u001b[0m 3ms/step - loss: 0.2590 - mae: 0.4029 - val_loss: 0.0641 - val_mae: 0.1940 - learning_rate: 2.5000e-04\n",
            "Epoch 47/300\n",
            "\u001b[1m949/949\u001b[0m \u001b[32m━━━━━━━━━━━━━━━━━━━━\u001b[0m\u001b[37m\u001b[0m \u001b[1m2s\u001b[0m 3ms/step - loss: 0.2608 - mae: 0.4040 - val_loss: 0.0701 - val_mae: 0.2044 - learning_rate: 2.5000e-04\n",
            "Epoch 48/300\n",
            "\u001b[1m949/949\u001b[0m \u001b[32m━━━━━━━━━━━━━━━━━━━━\u001b[0m\u001b[37m\u001b[0m \u001b[1m2s\u001b[0m 3ms/step - loss: 0.2541 - mae: 0.3984 - val_loss: 0.0672 - val_mae: 0.1993 - learning_rate: 2.5000e-04\n",
            "Epoch 49/300\n",
            "\u001b[1m949/949\u001b[0m \u001b[32m━━━━━━━━━━━━━━━━━━━━\u001b[0m\u001b[37m\u001b[0m \u001b[1m3s\u001b[0m 3ms/step - loss: 0.2547 - mae: 0.3994 - val_loss: 0.0639 - val_mae: 0.1936 - learning_rate: 2.5000e-04\n",
            "Epoch 50/300\n",
            "\u001b[1m949/949\u001b[0m \u001b[32m━━━━━━━━━━━━━━━━━━━━\u001b[0m\u001b[37m\u001b[0m \u001b[1m2s\u001b[0m 3ms/step - loss: 0.2497 - mae: 0.3936 - val_loss: 0.0625 - val_mae: 0.1914 - learning_rate: 2.5000e-04\n",
            "Epoch 51/300\n",
            "\u001b[1m949/949\u001b[0m \u001b[32m━━━━━━━━━━━━━━━━━━━━\u001b[0m\u001b[37m\u001b[0m \u001b[1m2s\u001b[0m 3ms/step - loss: 0.2497 - mae: 0.3953 - val_loss: 0.0649 - val_mae: 0.1957 - learning_rate: 2.5000e-04\n",
            "Epoch 52/300\n",
            "\u001b[1m949/949\u001b[0m \u001b[32m━━━━━━━━━━━━━━━━━━━━\u001b[0m\u001b[37m\u001b[0m \u001b[1m2s\u001b[0m 3ms/step - loss: 0.2441 - mae: 0.3896 - val_loss: 0.0626 - val_mae: 0.1915 - learning_rate: 2.5000e-04\n",
            "Epoch 53/300\n",
            "\u001b[1m949/949\u001b[0m \u001b[32m━━━━━━━━━━━━━━━━━━━━\u001b[0m\u001b[37m\u001b[0m \u001b[1m2s\u001b[0m 3ms/step - loss: 0.2447 - mae: 0.3907 - val_loss: 0.0659 - val_mae: 0.1964 - learning_rate: 2.5000e-04\n",
            "Epoch 54/300\n",
            "\u001b[1m949/949\u001b[0m \u001b[32m━━━━━━━━━━━━━━━━━━━━\u001b[0m\u001b[37m\u001b[0m \u001b[1m3s\u001b[0m 3ms/step - loss: 0.2404 - mae: 0.3878 - val_loss: 0.0630 - val_mae: 0.1922 - learning_rate: 2.5000e-04\n",
            "Epoch 55/300\n",
            "\u001b[1m945/949\u001b[0m \u001b[32m━━━━━━━━━━━━━━━━━━━\u001b[0m\u001b[37m━\u001b[0m \u001b[1m0s\u001b[0m 2ms/step - loss: 0.2321 - mae: 0.3820\n",
            "Epoch 55: ReduceLROnPlateau reducing learning rate to 0.0001250000059371814.\n",
            "\u001b[1m949/949\u001b[0m \u001b[32m━━━━━━━━━━━━━━━━━━━━\u001b[0m\u001b[37m\u001b[0m \u001b[1m2s\u001b[0m 3ms/step - loss: 0.2321 - mae: 0.3820 - val_loss: 0.0659 - val_mae: 0.1970 - learning_rate: 2.5000e-04\n",
            "Epoch 56/300\n",
            "\u001b[1m949/949\u001b[0m \u001b[32m━━━━━━━━━━━━━━━━━━━━\u001b[0m\u001b[37m\u001b[0m \u001b[1m3s\u001b[0m 3ms/step - loss: 0.2331 - mae: 0.3811 - val_loss: 0.0619 - val_mae: 0.1904 - learning_rate: 1.2500e-04\n",
            "Epoch 57/300\n",
            "\u001b[1m949/949\u001b[0m \u001b[32m━━━━━━━━━━━━━━━━━━━━\u001b[0m\u001b[37m\u001b[0m \u001b[1m2s\u001b[0m 3ms/step - loss: 0.2324 - mae: 0.3807 - val_loss: 0.0674 - val_mae: 0.1988 - learning_rate: 1.2500e-04\n",
            "Epoch 58/300\n",
            "\u001b[1m949/949\u001b[0m \u001b[32m━━━━━━━━━━━━━━━━━━━━\u001b[0m\u001b[37m\u001b[0m \u001b[1m3s\u001b[0m 3ms/step - loss: 0.2324 - mae: 0.3809 - val_loss: 0.0630 - val_mae: 0.1921 - learning_rate: 1.2500e-04\n",
            "Epoch 59/300\n",
            "\u001b[1m949/949\u001b[0m \u001b[32m━━━━━━━━━━━━━━━━━━━━\u001b[0m\u001b[37m\u001b[0m \u001b[1m2s\u001b[0m 3ms/step - loss: 0.2309 - mae: 0.3786 - val_loss: 0.0621 - val_mae: 0.1908 - learning_rate: 1.2500e-04\n",
            "Epoch 60/300\n",
            "\u001b[1m949/949\u001b[0m \u001b[32m━━━━━━━━━━━━━━━━━━━━\u001b[0m\u001b[37m\u001b[0m \u001b[1m2s\u001b[0m 3ms/step - loss: 0.2255 - mae: 0.3746 - val_loss: 0.0619 - val_mae: 0.1903 - learning_rate: 1.2500e-04\n",
            "Epoch 61/300\n",
            "\u001b[1m927/949\u001b[0m \u001b[32m━━━━━━━━━━━━━━━━━━━\u001b[0m\u001b[37m━\u001b[0m \u001b[1m0s\u001b[0m 2ms/step - loss: 0.2239 - mae: 0.3732\n",
            "Epoch 61: ReduceLROnPlateau reducing learning rate to 6.25000029685907e-05.\n",
            "\u001b[1m949/949\u001b[0m \u001b[32m━━━━━━━━━━━━━━━━━━━━\u001b[0m\u001b[37m\u001b[0m \u001b[1m2s\u001b[0m 3ms/step - loss: 0.2239 - mae: 0.3732 - val_loss: 0.0623 - val_mae: 0.1913 - learning_rate: 1.2500e-04\n",
            "Epoch 62/300\n",
            "\u001b[1m949/949\u001b[0m \u001b[32m━━━━━━━━━━━━━━━━━━━━\u001b[0m\u001b[37m\u001b[0m \u001b[1m2s\u001b[0m 3ms/step - loss: 0.2258 - mae: 0.3759 - val_loss: 0.0620 - val_mae: 0.1905 - learning_rate: 6.2500e-05\n",
            "Epoch 63/300\n",
            "\u001b[1m949/949\u001b[0m \u001b[32m━━━━━━━━━━━━━━━━━━━━\u001b[0m\u001b[37m\u001b[0m \u001b[1m3s\u001b[0m 3ms/step - loss: 0.2295 - mae: 0.3779 - val_loss: 0.0617 - val_mae: 0.1900 - learning_rate: 6.2500e-05\n",
            "Epoch 64/300\n",
            "\u001b[1m949/949\u001b[0m \u001b[32m━━━━━━━━━━━━━━━━━━━━\u001b[0m\u001b[37m\u001b[0m \u001b[1m2s\u001b[0m 3ms/step - loss: 0.2260 - mae: 0.3738 - val_loss: 0.0618 - val_mae: 0.1902 - learning_rate: 6.2500e-05\n",
            "Epoch 65/300\n",
            "\u001b[1m949/949\u001b[0m \u001b[32m━━━━━━━━━━━━━━━━━━━━\u001b[0m\u001b[37m\u001b[0m \u001b[1m2s\u001b[0m 3ms/step - loss: 0.2233 - mae: 0.3731 - val_loss: 0.0619 - val_mae: 0.1903 - learning_rate: 6.2500e-05\n",
            "Epoch 66/300\n",
            "\u001b[1m949/949\u001b[0m \u001b[32m━━━━━━━━━━━━━━━━━━━━\u001b[0m\u001b[37m\u001b[0m \u001b[1m2s\u001b[0m 3ms/step - loss: 0.2208 - mae: 0.3713 - val_loss: 0.0640 - val_mae: 0.1940 - learning_rate: 6.2500e-05\n",
            "Epoch 67/300\n",
            "\u001b[1m949/949\u001b[0m \u001b[32m━━━━━━━━━━━━━━━━━━━━\u001b[0m\u001b[37m\u001b[0m \u001b[1m3s\u001b[0m 3ms/step - loss: 0.2232 - mae: 0.3715 - val_loss: 0.0617 - val_mae: 0.1899 - learning_rate: 6.2500e-05\n",
            "Epoch 68/300\n",
            "\u001b[1m949/949\u001b[0m \u001b[32m━━━━━━━━━━━━━━━━━━━━\u001b[0m\u001b[37m\u001b[0m \u001b[1m3s\u001b[0m 3ms/step - loss: 0.2205 - mae: 0.3702 - val_loss: 0.0613 - val_mae: 0.1893 - learning_rate: 6.2500e-05\n",
            "Epoch 69/300\n",
            "\u001b[1m949/949\u001b[0m \u001b[32m━━━━━━━━━━━━━━━━━━━━\u001b[0m\u001b[37m\u001b[0m \u001b[1m2s\u001b[0m 3ms/step - loss: 0.2222 - mae: 0.3727 - val_loss: 0.0625 - val_mae: 0.1912 - learning_rate: 6.2500e-05\n",
            "Epoch 70/300\n",
            "\u001b[1m949/949\u001b[0m \u001b[32m━━━━━━━━━━━━━━━━━━━━\u001b[0m\u001b[37m\u001b[0m \u001b[1m2s\u001b[0m 3ms/step - loss: 0.2227 - mae: 0.3723 - val_loss: 0.0611 - val_mae: 0.1890 - learning_rate: 6.2500e-05\n",
            "Epoch 71/300\n",
            "\u001b[1m949/949\u001b[0m \u001b[32m━━━━━━━━━━━━━━━━━━━━\u001b[0m\u001b[37m\u001b[0m \u001b[1m2s\u001b[0m 3ms/step - loss: 0.2186 - mae: 0.3693 - val_loss: 0.0615 - val_mae: 0.1896 - learning_rate: 6.2500e-05\n",
            "Epoch 72/300\n",
            "\u001b[1m949/949\u001b[0m \u001b[32m━━━━━━━━━━━━━━━━━━━━\u001b[0m\u001b[37m\u001b[0m \u001b[1m3s\u001b[0m 3ms/step - loss: 0.2183 - mae: 0.3682 - val_loss: 0.0612 - val_mae: 0.1890 - learning_rate: 6.2500e-05\n",
            "Epoch 73/300\n",
            "\u001b[1m949/949\u001b[0m \u001b[32m━━━━━━━━━━━━━━━━━━━━\u001b[0m\u001b[37m\u001b[0m \u001b[1m2s\u001b[0m 3ms/step - loss: 0.2190 - mae: 0.3687 - val_loss: 0.0634 - val_mae: 0.1929 - learning_rate: 6.2500e-05\n",
            "Epoch 74/300\n",
            "\u001b[1m949/949\u001b[0m \u001b[32m━━━━━━━━━━━━━━━━━━━━\u001b[0m\u001b[37m\u001b[0m \u001b[1m2s\u001b[0m 3ms/step - loss: 0.2199 - mae: 0.3700 - val_loss: 0.0634 - val_mae: 0.1929 - learning_rate: 6.2500e-05\n",
            "Epoch 75/300\n",
            "\u001b[1m949/949\u001b[0m \u001b[32m━━━━━━━━━━━━━━━━━━━━\u001b[0m\u001b[37m\u001b[0m \u001b[1m2s\u001b[0m 3ms/step - loss: 0.2186 - mae: 0.3677 - val_loss: 0.0608 - val_mae: 0.1884 - learning_rate: 6.2500e-05\n",
            "Epoch 76/300\n",
            "\u001b[1m949/949\u001b[0m \u001b[32m━━━━━━━━━━━━━━━━━━━━\u001b[0m\u001b[37m\u001b[0m \u001b[1m2s\u001b[0m 3ms/step - loss: 0.2158 - mae: 0.3663 - val_loss: 0.0634 - val_mae: 0.1928 - learning_rate: 6.2500e-05\n",
            "Epoch 77/300\n",
            "\u001b[1m949/949\u001b[0m \u001b[32m━━━━━━━━━━━━━━━━━━━━\u001b[0m\u001b[37m\u001b[0m \u001b[1m3s\u001b[0m 3ms/step - loss: 0.2167 - mae: 0.3674 - val_loss: 0.0622 - val_mae: 0.1907 - learning_rate: 6.2500e-05\n",
            "Epoch 78/300\n",
            "\u001b[1m949/949\u001b[0m \u001b[32m━━━━━━━━━━━━━━━━━━━━\u001b[0m\u001b[37m\u001b[0m \u001b[1m3s\u001b[0m 3ms/step - loss: 0.2152 - mae: 0.3659 - val_loss: 0.0620 - val_mae: 0.1903 - learning_rate: 6.2500e-05\n",
            "Epoch 79/300\n",
            "\u001b[1m949/949\u001b[0m \u001b[32m━━━━━━━━━━━━━━━━━━━━\u001b[0m\u001b[37m\u001b[0m \u001b[1m2s\u001b[0m 3ms/step - loss: 0.2137 - mae: 0.3647 - val_loss: 0.0608 - val_mae: 0.1885 - learning_rate: 6.2500e-05\n",
            "Epoch 80/300\n",
            "\u001b[1m928/949\u001b[0m \u001b[32m━━━━━━━━━━━━━━━━━━━\u001b[0m\u001b[37m━\u001b[0m \u001b[1m0s\u001b[0m 2ms/step - loss: 0.2104 - mae: 0.3611\n",
            "Epoch 80: ReduceLROnPlateau reducing learning rate to 3.125000148429535e-05.\n",
            "\u001b[1m949/949\u001b[0m \u001b[32m━━━━━━━━━━━━━━━━━━━━\u001b[0m\u001b[37m\u001b[0m \u001b[1m2s\u001b[0m 3ms/step - loss: 0.2105 - mae: 0.3611 - val_loss: 0.0618 - val_mae: 0.1902 - learning_rate: 6.2500e-05\n",
            "Epoch 81/300\n",
            "\u001b[1m949/949\u001b[0m \u001b[32m━━━━━━━━━━━━━━━━━━━━\u001b[0m\u001b[37m\u001b[0m \u001b[1m3s\u001b[0m 3ms/step - loss: 0.2124 - mae: 0.3635 - val_loss: 0.0609 - val_mae: 0.1885 - learning_rate: 3.1250e-05\n",
            "Epoch 82/300\n",
            "\u001b[1m949/949\u001b[0m \u001b[32m━━━━━━━━━━━━━━━━━━━━\u001b[0m\u001b[37m\u001b[0m \u001b[1m3s\u001b[0m 3ms/step - loss: 0.2120 - mae: 0.3631 - val_loss: 0.0620 - val_mae: 0.1905 - learning_rate: 3.1250e-05\n",
            "Epoch 83/300\n",
            "\u001b[1m949/949\u001b[0m \u001b[32m━━━━━━━━━━━━━━━━━━━━\u001b[0m\u001b[37m\u001b[0m \u001b[1m2s\u001b[0m 3ms/step - loss: 0.2137 - mae: 0.3647 - val_loss: 0.0617 - val_mae: 0.1898 - learning_rate: 3.1250e-05\n",
            "Epoch 84/300\n",
            "\u001b[1m949/949\u001b[0m \u001b[32m━━━━━━━━━━━━━━━━━━━━\u001b[0m\u001b[37m\u001b[0m \u001b[1m3s\u001b[0m 3ms/step - loss: 0.2110 - mae: 0.3628 - val_loss: 0.0614 - val_mae: 0.1893 - learning_rate: 3.1250e-05\n",
            "Epoch 85/300\n",
            "\u001b[1m934/949\u001b[0m \u001b[32m━━━━━━━━━━━━━━━━━━━\u001b[0m\u001b[37m━\u001b[0m \u001b[1m0s\u001b[0m 2ms/step - loss: 0.2113 - mae: 0.3631\n",
            "Epoch 85: ReduceLROnPlateau reducing learning rate to 1.5625000742147677e-05.\n",
            "\u001b[1m949/949\u001b[0m \u001b[32m━━━━━━━━━━━━━━━━━━━━\u001b[0m\u001b[37m\u001b[0m \u001b[1m2s\u001b[0m 3ms/step - loss: 0.2113 - mae: 0.3631 - val_loss: 0.0613 - val_mae: 0.1892 - learning_rate: 3.1250e-05\n",
            "\u001b[1m593/593\u001b[0m \u001b[32m━━━━━━━━━━━━━━━━━━━━\u001b[0m\u001b[37m\u001b[0m \u001b[1m1s\u001b[0m 2ms/step\n",
            "\n",
            "📊 Resultados del modelo DNN (con log transform):\n",
            "🕒 Tiempo de entrenamiento: 218.36 segundos\n",
            "🕒 Tiempo de predicción: 1.3819 segundos\n",
            "R²: 0.8551\n",
            "RMSE: 143,036.21\n",
            "MAE: 77,457.79\n",
            "MAPE: 19.38%\n",
            "Ratio de errores <10%: 35.06%\n"
          ]
        }
      ]
    },
    {
      "cell_type": "markdown",
      "metadata": {
        "id": "Hm_w_M5F-TbU"
      },
      "source": [
        "## Modelo transformer"
      ]
    },
    {
      "cell_type": "code",
      "source": [
        "import torch\n",
        "import torch.nn as nn\n",
        "import math\n",
        "import numpy as np\n",
        "import time\n",
        "from sklearn.preprocessing import StandardScaler\n",
        "from torch.utils.data import DataLoader, TensorDataset\n",
        "from sklearn.metrics import mean_absolute_error\n",
        "\n",
        "# === Positional Encoding ===\n",
        "class PositionalEncoding(nn.Module):\n",
        "    def __init__(self, d_model, max_len=5000):\n",
        "        super().__init__()\n",
        "        pe = torch.zeros(max_len, d_model)\n",
        "        pos = torch.arange(0, max_len, dtype=torch.float).unsqueeze(1)\n",
        "        div_term = torch.exp(torch.arange(0, d_model, 2).float() * (-math.log(10000.0) / d_model))\n",
        "        pe[:, 0::2] = torch.sin(pos * div_term)\n",
        "        pe[:, 1::2] = torch.cos(pos * div_term)\n",
        "        pe = pe.unsqueeze(0)\n",
        "        self.register_buffer('pe', pe)\n",
        "\n",
        "    def forward(self, x):\n",
        "        return x + self.pe[:, :x.size(1)]\n",
        "\n",
        "# === Modelo Transformer ===\n",
        "class EnhancedTransformerRegressor(nn.Module):\n",
        "    def __init__(self, input_dim, d_model=64, nhead=8, num_layers=4, dim_feedforward=256, dropout=0.2):\n",
        "        super().__init__()\n",
        "        self.embedding = nn.Linear(1, d_model)\n",
        "        self.positional_encoding = PositionalEncoding(d_model)\n",
        "        encoder_layers = nn.TransformerEncoderLayer(\n",
        "            d_model=d_model, nhead=nhead, dim_feedforward=dim_feedforward,\n",
        "            dropout=dropout, activation='gelu', batch_first=True, norm_first=True\n",
        "        )\n",
        "        self.transformer_encoder = nn.TransformerEncoder(encoder_layers, num_layers=num_layers)\n",
        "        self.regressor = nn.Sequential(\n",
        "            nn.LayerNorm(d_model * input_dim),\n",
        "            nn.Linear(d_model * input_dim, 256),\n",
        "            nn.ReLU(),\n",
        "            nn.Dropout(0.3),\n",
        "            nn.Linear(256, 64),\n",
        "            nn.ReLU(),\n",
        "            nn.Linear(64, 1)\n",
        "        )\n",
        "\n",
        "    def forward(self, x):\n",
        "        x = x.unsqueeze(-1)\n",
        "        x = self.embedding(x)\n",
        "        x = self.positional_encoding(x)\n",
        "        x = self.transformer_encoder(x)\n",
        "        x = x.flatten(start_dim=1)\n",
        "        return self.regressor(x)\n",
        "\n",
        "# === Escalado ===\n",
        "scaler_y = StandardScaler()\n",
        "y_train_scaled = scaler_y.fit_transform(y_train_kpca.reshape(-1, 1))\n",
        "y_test_scaled = scaler_y.transform(y_test_kpca.reshape(-1, 1))\n",
        "\n",
        "# === DataLoader ===\n",
        "train_dataset = TensorDataset(\n",
        "    torch.tensor(X_train_kpca, dtype=torch.float32),\n",
        "    torch.tensor(y_train_scaled, dtype=torch.float32)\n",
        ")\n",
        "test_dataset = TensorDataset(\n",
        "    torch.tensor(X_test_kpca, dtype=torch.float32),\n",
        "    torch.tensor(y_test_scaled, dtype=torch.float32)\n",
        ")\n",
        "train_loader = DataLoader(train_dataset, batch_size=64, shuffle=True)\n",
        "test_loader = DataLoader(test_dataset, batch_size=64)\n",
        "\n",
        "# === Entrenamiento con EarlyStopping ===\n",
        "device = torch.device(\"cuda\" if torch.cuda.is_available() else \"cpu\")\n",
        "model = EnhancedTransformerRegressor(input_dim=X_train_kpca.shape[1]).to(device)\n",
        "criterion = nn.MSELoss()\n",
        "optimizer = torch.optim.Adam(model.parameters(), lr=1e-3, weight_decay=1e-4)\n",
        "\n",
        "# --- Early stopping manual ---\n",
        "patience = 4\n",
        "best_mae = float('inf')\n",
        "epochs_no_improve = 0\n",
        "best_model_state = None\n",
        "num_epochs = 100\n",
        "\n",
        "def get_preds(loader):\n",
        "    model.eval()\n",
        "    preds, trues = [], []\n",
        "    with torch.no_grad():\n",
        "        for xb, yb in loader:\n",
        "            xb = xb.to(device)\n",
        "            pred = model(xb).cpu().numpy()\n",
        "            preds.append(pred)\n",
        "            trues.append(yb.numpy())\n",
        "    return np.vstack(preds).flatten(), np.vstack(trues).flatten()\n",
        "\n",
        "start_train = time.time()\n",
        "for epoch in range(num_epochs):\n",
        "    model.train()\n",
        "    total_loss = 0\n",
        "    for xb, yb in train_loader:\n",
        "        xb, yb = xb.to(device), yb.to(device)\n",
        "        optimizer.zero_grad()\n",
        "        preds = model(xb)\n",
        "        loss = criterion(preds, yb)\n",
        "        loss.backward()\n",
        "        optimizer.step()\n",
        "        total_loss += loss.item() * xb.size(0)\n",
        "\n",
        "    avg_train_loss = total_loss / len(train_loader.dataset)\n",
        "\n",
        "    # === Evaluar en test para MAE ===\n",
        "    val_preds_scaled, val_true_scaled = get_preds(test_loader)\n",
        "    val_mae = mean_absolute_error(val_true_scaled, val_preds_scaled)\n",
        "\n",
        "    print(f\"Epoch {epoch+1}/{num_epochs} | Train Loss: {avg_train_loss:.4f} | Val MAE: {val_mae:.4f}\")\n",
        "\n",
        "    if val_mae < best_mae:\n",
        "        best_mae = val_mae\n",
        "        best_model_state = model.state_dict()\n",
        "        epochs_no_improve = 0\n",
        "    else:\n",
        "        epochs_no_improve += 1\n",
        "        if epochs_no_improve >= patience:\n",
        "            print(f\"\\n🛑 Early stopping: no mejora en {patience} épocas consecutivas.\")\n",
        "            break\n",
        "\n",
        "# Restaurar mejores pesos\n",
        "if best_model_state:\n",
        "    model.load_state_dict(best_model_state)\n",
        "\n",
        "end_train = time.time()\n",
        "print(f\"\\n⏱️ Tiempo total de entrenamiento: {end_train - start_train:.2f} segundos\")\n",
        "\n",
        "# === Predicción y desescalado ===\n",
        "# === Tiempo de predicción en test ===\n",
        "train_preds_scaled, train_true_scaled = get_preds(train_loader)\n",
        "start_test = time.time()\n",
        "test_preds_scaled, test_true_scaled = get_preds(test_loader)\n",
        "end_test = time.time()\n",
        "print(f\"\\n⏱️ Tiempo de predicción en test: {end_test - start_test:.4f} segundos\")\n",
        "\n",
        "train_preds = scaler_y.inverse_transform(train_preds_scaled.reshape(-1, 1)).flatten()\n",
        "train_true = scaler_y.inverse_transform(train_true_scaled.reshape(-1, 1)).flatten()\n",
        "test_preds = scaler_y.inverse_transform(test_preds_scaled.reshape(-1, 1)).flatten()\n",
        "test_true = scaler_y.inverse_transform(test_true_scaled.reshape(-1, 1)).flatten()\n"
      ],
      "metadata": {
        "colab": {
          "base_uri": "https://localhost:8080/"
        },
        "id": "x9KX3a1_I0w2",
        "outputId": "275b3dde-294a-4ad6-dc3d-dcc34f38ceeb"
      },
      "execution_count": 71,
      "outputs": [
        {
          "output_type": "stream",
          "name": "stderr",
          "text": [
            "/usr/local/lib/python3.11/dist-packages/torch/nn/modules/transformer.py:385: UserWarning: enable_nested_tensor is True, but self.use_nested_tensor is False because encoder_layer.norm_first was True\n",
            "  warnings.warn(\n"
          ]
        },
        {
          "output_type": "stream",
          "name": "stdout",
          "text": [
            "Epoch 1/100 | Train Loss: 0.2385 | Val MAE: 0.2530\n",
            "Epoch 2/100 | Train Loss: 0.1853 | Val MAE: 0.2358\n",
            "Epoch 3/100 | Train Loss: 0.1799 | Val MAE: 0.2293\n",
            "Epoch 4/100 | Train Loss: 0.1740 | Val MAE: 0.2263\n",
            "Epoch 5/100 | Train Loss: 0.1694 | Val MAE: 0.2309\n",
            "Epoch 6/100 | Train Loss: 0.1655 | Val MAE: 0.2325\n",
            "Epoch 7/100 | Train Loss: 0.1644 | Val MAE: 0.2517\n",
            "Epoch 8/100 | Train Loss: 0.1616 | Val MAE: 0.2300\n",
            "\n",
            "🛑 Early stopping: no mejora en 4 épocas consecutivas.\n",
            "\n",
            "⏱️ Tiempo total de entrenamiento: 124.76 segundos\n",
            "\n",
            "⏱️ Tiempo de predicción en test: 0.7558 segundos\n"
          ]
        }
      ]
    },
    {
      "cell_type": "code",
      "source": [
        "# Métricas\n",
        "def mape(y_true, y_pred):\n",
        "    return np.mean(np.abs((y_true - y_pred) / y_true)) * 100\n",
        "\n",
        "def ratio_under_10(y_true, y_pred):\n",
        "    return np.mean(np.abs(y_true - y_pred) / y_true < 0.10) * 100\n",
        "\n",
        "print(\"\\nTrain metrics:\")\n",
        "print(f\"R2: {r2_score(train_true, train_preds):.4f}\")\n",
        "print(f\"RMSE: {mean_squared_error(train_true, train_preds):.2f}\")\n",
        "print(f\"MAE: {mean_absolute_error(train_true, train_preds):.2f}\")\n",
        "print(f\"MAPE (%): {mape(train_true, train_preds):.2f}\")\n",
        "print(f\"Ratio (<10% error) (%): {ratio_under_10(train_true, train_preds):.2f}\")\n",
        "\n",
        "print(\"\\nTest metrics:\")\n",
        "print(f\"R2: {r2_score(test_true, test_preds):.4f}\")\n",
        "print(f\"RMSE: {mean_squared_error(test_true, test_preds):.2f}\")\n",
        "print(f\"MAE: {mean_absolute_error(test_true, test_preds):.2f}\")\n",
        "print(f\"MAPE (%): {mape(test_true, test_preds):.2f}\")\n",
        "print(f\"Ratio (<10% error) (%): {ratio_under_10(test_true, test_preds):.2f}\")\n",
        "\n",
        "print(\"\\nPrimeros 5 valores predichos vs reales (test):\")\n",
        "for pred, real in zip(test_preds[:5], test_true[:5]):\n",
        "    print(f\"Predicho: {pred:.2f}, Real: {real:.2f}\")\n"
      ],
      "metadata": {
        "colab": {
          "base_uri": "https://localhost:8080/"
        },
        "id": "2tLo5s8ELgzb",
        "outputId": "19874a5e-65aa-4a1e-8e7d-ada0897a0e02"
      },
      "execution_count": 72,
      "outputs": [
        {
          "output_type": "stream",
          "name": "stdout",
          "text": [
            "\n",
            "Train metrics:\n",
            "R2: 0.8518\n",
            "RMSE: 20031991808.00\n",
            "MAE: 82395.27\n",
            "MAPE (%): 22.08\n",
            "Ratio (<10% error) (%): 29.73\n",
            "\n",
            "Test metrics:\n",
            "R2: 0.8472\n",
            "RMSE: 21572427776.00\n",
            "MAE: 84561.77\n",
            "MAPE (%): 22.37\n",
            "Ratio (<10% error) (%): 29.78\n",
            "\n",
            "Primeros 5 valores predichos vs reales (test):\n",
            "Predicho: 106914.41, Real: 105000.01\n",
            "Predicho: 422690.03, Real: 399000.00\n",
            "Predicho: 1351990.12, Real: 777000.00\n",
            "Predicho: 105097.26, Real: 135000.00\n",
            "Predicho: 216497.44, Real: 319000.00\n"
          ]
        }
      ]
    },
    {
      "cell_type": "code",
      "execution_count": 70,
      "metadata": {
        "colab": {
          "base_uri": "https://localhost:8080/"
        },
        "id": "-hS_OciqLlSw",
        "outputId": "47c2c945-6e93-4253-89ff-182326d18852"
      },
      "outputs": [
        {
          "output_type": "stream",
          "name": "stderr",
          "text": [
            "/usr/local/lib/python3.11/dist-packages/torch/nn/modules/transformer.py:385: UserWarning: enable_nested_tensor is True, but self.use_nested_tensor is False because encoder_layer.self_attn.batch_first was not True(use batch_first for better inference performance)\n",
            "  warnings.warn(\n"
          ]
        },
        {
          "output_type": "stream",
          "name": "stdout",
          "text": [
            "Epoch 1, Train Loss: 0.2635, Val Loss: 0.2088\n",
            "Epoch 2, Train Loss: 0.1891, Val Loss: 0.1810\n",
            "Epoch 3, Train Loss: 0.1770, Val Loss: 0.1655\n",
            "Epoch 4, Train Loss: 0.1743, Val Loss: 0.1583\n",
            "Epoch 5, Train Loss: 0.1665, Val Loss: 0.1518\n",
            "Epoch 6, Train Loss: 0.1635, Val Loss: 0.1553\n",
            "Epoch 7, Train Loss: 0.1605, Val Loss: 0.1603\n",
            "Epoch 8, Train Loss: 0.1552, Val Loss: 0.1502\n",
            "Epoch 9, Train Loss: 0.1532, Val Loss: 0.1717\n",
            "Epoch 10, Train Loss: 0.1518, Val Loss: 0.1454\n",
            "Epoch 11, Train Loss: 0.1480, Val Loss: 0.1414\n",
            "Epoch 12, Train Loss: 0.1455, Val Loss: 0.1445\n",
            "Epoch 13, Train Loss: 0.1444, Val Loss: 0.1503\n",
            "Epoch 14, Train Loss: 0.1423, Val Loss: 0.1406\n",
            "Epoch 15, Train Loss: 0.1398, Val Loss: 0.1388\n",
            "Epoch 16, Train Loss: 0.1386, Val Loss: 0.1376\n",
            "Epoch 17, Train Loss: 0.1351, Val Loss: 0.1435\n",
            "Epoch 18, Train Loss: 0.1350, Val Loss: 0.1531\n",
            "Epoch 19, Train Loss: 0.1322, Val Loss: 0.1386\n",
            "Epoch 20, Train Loss: 0.1295, Val Loss: 0.1550\n",
            "🛑 Early stopping triggered at epoch 20\n",
            "\n",
            "⏱️ Tiempo total de entrenamiento: 143.18 segundos\n",
            "\n",
            "⏱️ Tiempo de predicción en test: 2.7756 segundos\n",
            "\n",
            "Train metrics:\n",
            "R2: 0.8751\n",
            "RMSE: 16860141568.00\n",
            "MAE: 77116.16\n",
            "MAPE (%): 22.38\n",
            "Ratio (<10% error): 31.59%\n",
            "\n",
            "Test metrics:\n",
            "R2: 0.8585\n",
            "RMSE: 19986233344.00\n",
            "MAE: 82264.73\n",
            "MAPE (%): 23.08\n",
            "Ratio (<10% error): 30.65%\n"
          ]
        }
      ],
      "source": [
        "import torch\n",
        "import torch.nn as nn\n",
        "from torch.utils.data import Dataset, DataLoader, random_split\n",
        "import numpy as np\n",
        "import pandas as pd\n",
        "import time\n",
        "from sklearn.preprocessing import StandardScaler\n",
        "from sklearn.metrics import r2_score, mean_squared_error, mean_absolute_error\n",
        "\n",
        "# Dataset personalizado\n",
        "class PCADataset(Dataset):\n",
        "    def __init__(self, X, y):\n",
        "        self.X = torch.tensor(X, dtype=torch.float32)\n",
        "        self.y = torch.tensor(y.values, dtype=torch.float32).unsqueeze(1)\n",
        "\n",
        "    def __len__(self):\n",
        "        return len(self.X)\n",
        "\n",
        "    def __getitem__(self, idx):\n",
        "        return self.X[idx], self.y[idx]\n",
        "\n",
        "# Modelo Transformer simple\n",
        "class TransformerRegressor(nn.Module):\n",
        "    def __init__(self, input_dim, d_model=64, nhead=4, num_layers=2, dim_feedforward=128, dropout=0.1):\n",
        "        super().__init__()\n",
        "        self.input_dim = input_dim\n",
        "        self.embedding = nn.Linear(1, d_model)\n",
        "        encoder_layer = nn.TransformerEncoderLayer(d_model=d_model, nhead=nhead,\n",
        "                                                   dim_feedforward=dim_feedforward, dropout=dropout)\n",
        "        self.transformer_encoder = nn.TransformerEncoder(encoder_layer, num_layers=num_layers)\n",
        "        self.regressor = nn.Sequential(\n",
        "            nn.Linear(d_model * input_dim, 128),\n",
        "            nn.ReLU(),\n",
        "            nn.Linear(128, 1)\n",
        "        )\n",
        "\n",
        "    def forward(self, x):\n",
        "        x = x.unsqueeze(-1)\n",
        "        x = self.embedding(x)\n",
        "        x = x.permute(1, 0, 2)\n",
        "        x = self.transformer_encoder(x)\n",
        "        x = x.permute(1, 0, 2)\n",
        "        x = x.flatten(start_dim=1)\n",
        "        return self.regressor(x)\n",
        "\n",
        "# Escalado del target\n",
        "scaler_y = StandardScaler()\n",
        "y_train_scaled = scaler_y.fit_transform(y_train_kpca.reshape(-1, 1))\n",
        "y_test_scaled = scaler_y.transform(y_test_kpca.reshape(-1, 1))\n",
        "\n",
        "# Dataset y dataloaders\n",
        "full_train_dataset = PCADataset(X_train_kpca, pd.Series(y_train_scaled.flatten()))\n",
        "val_size = int(0.2 * len(full_train_dataset))\n",
        "train_size = len(full_train_dataset) - val_size\n",
        "train_dataset, val_dataset = random_split(full_train_dataset, [train_size, val_size])\n",
        "\n",
        "test_dataset = PCADataset(X_test_kpca, pd.Series(y_test_scaled.flatten()))\n",
        "train_loader = DataLoader(train_dataset, batch_size=64, shuffle=True)\n",
        "val_loader = DataLoader(val_dataset, batch_size=64)\n",
        "test_loader = DataLoader(test_dataset, batch_size=64)\n",
        "\n",
        "# Entrenamiento con early stopping\n",
        "device = torch.device('cuda' if torch.cuda.is_available() else 'cpu')\n",
        "model = TransformerRegressor(input_dim=X_train_kpca.shape[1]).to(device)\n",
        "criterion = nn.MSELoss()\n",
        "optimizer = torch.optim.Adam(model.parameters(), lr=1e-3)\n",
        "\n",
        "best_val_loss = float('inf')\n",
        "patience = 4\n",
        "counter = 0\n",
        "num_epochs = 100\n",
        "\n",
        "start_train = time.time()\n",
        "for epoch in range(num_epochs):\n",
        "    model.train()\n",
        "    total_loss = 0\n",
        "    for xb, yb in train_loader:\n",
        "        xb, yb = xb.to(device), yb.to(device)\n",
        "        optimizer.zero_grad()\n",
        "        preds = model(xb)\n",
        "        loss = criterion(preds, yb)\n",
        "        loss.backward()\n",
        "        optimizer.step()\n",
        "        total_loss += loss.item() * xb.size(0)\n",
        "\n",
        "    avg_train_loss = total_loss / len(train_loader.dataset)\n",
        "\n",
        "    # Validación\n",
        "    model.eval()\n",
        "    val_loss = 0\n",
        "    with torch.no_grad():\n",
        "        for xb, yb in val_loader:\n",
        "            xb, yb = xb.to(device), yb.to(device)\n",
        "            preds = model(xb)\n",
        "            val_loss += criterion(preds, yb).item() * xb.size(0)\n",
        "    avg_val_loss = val_loss / len(val_loader.dataset)\n",
        "\n",
        "    print(f\"Epoch {epoch+1}, Train Loss: {avg_train_loss:.4f}, Val Loss: {avg_val_loss:.4f}\")\n",
        "\n",
        "    if avg_val_loss < best_val_loss:\n",
        "        best_val_loss = avg_val_loss\n",
        "        torch.save(model.state_dict(), 'best_model.pt')\n",
        "        counter = 0\n",
        "    else:\n",
        "        counter += 1\n",
        "        if counter >= patience:\n",
        "            print(f\"🛑 Early stopping triggered at epoch {epoch+1}\")\n",
        "            break\n",
        "\n",
        "end_train = time.time()\n",
        "print(f\"\\n⏱️ Tiempo total de entrenamiento: {end_train - start_train:.2f} segundos\")\n",
        "\n",
        "# === Carga del mejor modelo ===\n",
        "model.load_state_dict(torch.load('best_model.pt'))\n",
        "\n",
        "# === Predicciones ===\n",
        "def get_preds(loader):\n",
        "    model.eval()\n",
        "    preds, trues = [], []\n",
        "    with torch.no_grad():\n",
        "        for xb, yb in loader:\n",
        "            xb = xb.to(device)\n",
        "            pred = model(xb).cpu().numpy()\n",
        "            preds.append(pred)\n",
        "            trues.append(yb.numpy())\n",
        "    return np.vstack(preds).flatten(), np.vstack(trues).flatten()\n",
        "\n",
        "\n",
        "# === TEST CON TIEMPO ===\n",
        "start_test = time.time()\n",
        "train_preds_scaled, train_true_scaled = get_preds(train_loader)\n",
        "test_preds_scaled, test_true_scaled = get_preds(test_loader)\n",
        "end_test = time.time()\n",
        "test_time = end_test - start_test\n",
        "print(f\"\\n⏱️ Tiempo de predicción en test: {test_time:.4f} segundos\")\n",
        "\n",
        "\n",
        "# Desescalado\n",
        "train_preds = scaler_y.inverse_transform(train_preds_scaled.reshape(-1, 1)).flatten()\n",
        "train_true = scaler_y.inverse_transform(train_true_scaled.reshape(-1, 1)).flatten()\n",
        "test_preds = scaler_y.inverse_transform(test_preds_scaled.reshape(-1, 1)).flatten()\n",
        "test_true = scaler_y.inverse_transform(test_true_scaled.reshape(-1, 1)).flatten()\n",
        "\n",
        "# Métricas\n",
        "def mape(y_true, y_pred): return np.mean(np.abs((y_true - y_pred) / y_true)) * 100\n",
        "def ratio_under_10(y_true, y_pred): return np.mean(np.abs(y_true - y_pred) / y_true < 0.10) * 100\n",
        "\n",
        "print(\"\\nTrain metrics:\")\n",
        "print(f\"R2: {r2_score(train_true, train_preds):.4f}\")\n",
        "print(f\"RMSE: {mean_squared_error(train_true, train_preds):.2f}\")\n",
        "print(f\"MAE: {mean_absolute_error(train_true, train_preds):.2f}\")\n",
        "print(f\"MAPE (%): {mape(train_true, train_preds):.2f}\")\n",
        "print(f\"Ratio (<10% error): {ratio_under_10(train_true, train_preds):.2f}%\")\n",
        "\n",
        "print(\"\\nTest metrics:\")\n",
        "print(f\"R2: {r2_score(test_true, test_preds):.4f}\")\n",
        "print(f\"RMSE: {mean_squared_error(test_true, test_preds):.2f}\")\n",
        "print(f\"MAE: {mean_absolute_error(test_true, test_preds):.2f}\")\n",
        "print(f\"MAPE (%): {mape(test_true, test_preds):.2f}\")\n",
        "print(f\"Ratio (<10% error): {ratio_under_10(test_true, test_preds):.2f}%\")\n"
      ]
    },
    {
      "cell_type": "markdown",
      "source": [
        "# Desarrollo de Interfaz"
      ],
      "metadata": {
        "id": "Ygn5BbyVz_75"
      }
    },
    {
      "cell_type": "code",
      "source": [
        "!pip install streamlit pyngrok xgboost joblib"
      ],
      "metadata": {
        "colab": {
          "base_uri": "https://localhost:8080/"
        },
        "id": "8zS-ks7d5bHs",
        "outputId": "5c48e3ce-4f74-4799-a7a1-d6d3e18bcc7c"
      },
      "execution_count": 73,
      "outputs": [
        {
          "output_type": "stream",
          "name": "stdout",
          "text": [
            "Requirement already satisfied: streamlit in /usr/local/lib/python3.11/dist-packages (1.46.1)\n",
            "Collecting pyngrok\n",
            "  Downloading pyngrok-7.2.11-py3-none-any.whl.metadata (9.4 kB)\n",
            "Requirement already satisfied: xgboost in /usr/local/lib/python3.11/dist-packages (2.1.4)\n",
            "Requirement already satisfied: joblib in /usr/local/lib/python3.11/dist-packages (1.5.1)\n",
            "Requirement already satisfied: altair<6,>=4.0 in /usr/local/lib/python3.11/dist-packages (from streamlit) (5.5.0)\n",
            "Requirement already satisfied: blinker<2,>=1.5.0 in /usr/local/lib/python3.11/dist-packages (from streamlit) (1.9.0)\n",
            "Requirement already satisfied: cachetools<7,>=4.0 in /usr/local/lib/python3.11/dist-packages (from streamlit) (5.5.2)\n",
            "Requirement already satisfied: click<9,>=7.0 in /usr/local/lib/python3.11/dist-packages (from streamlit) (8.2.1)\n",
            "Requirement already satisfied: numpy<3,>=1.23 in /usr/local/lib/python3.11/dist-packages (from streamlit) (2.0.2)\n",
            "Requirement already satisfied: packaging<26,>=20 in /usr/local/lib/python3.11/dist-packages (from streamlit) (24.2)\n",
            "Requirement already satisfied: pandas<3,>=1.4.0 in /usr/local/lib/python3.11/dist-packages (from streamlit) (2.2.2)\n",
            "Requirement already satisfied: pillow<12,>=7.1.0 in /usr/local/lib/python3.11/dist-packages (from streamlit) (11.2.1)\n",
            "Requirement already satisfied: protobuf<7,>=3.20 in /usr/local/lib/python3.11/dist-packages (from streamlit) (5.29.5)\n",
            "Requirement already satisfied: pyarrow>=7.0 in /usr/local/lib/python3.11/dist-packages (from streamlit) (18.1.0)\n",
            "Requirement already satisfied: requests<3,>=2.27 in /usr/local/lib/python3.11/dist-packages (from streamlit) (2.32.3)\n",
            "Requirement already satisfied: tenacity<10,>=8.1.0 in /usr/local/lib/python3.11/dist-packages (from streamlit) (8.5.0)\n",
            "Requirement already satisfied: toml<2,>=0.10.1 in /usr/local/lib/python3.11/dist-packages (from streamlit) (0.10.2)\n",
            "Requirement already satisfied: typing-extensions<5,>=4.4.0 in /usr/local/lib/python3.11/dist-packages (from streamlit) (4.14.0)\n",
            "Requirement already satisfied: watchdog<7,>=2.1.5 in /usr/local/lib/python3.11/dist-packages (from streamlit) (6.0.0)\n",
            "Requirement already satisfied: gitpython!=3.1.19,<4,>=3.0.7 in /usr/local/lib/python3.11/dist-packages (from streamlit) (3.1.44)\n",
            "Requirement already satisfied: pydeck<1,>=0.8.0b4 in /usr/local/lib/python3.11/dist-packages (from streamlit) (0.9.1)\n",
            "Requirement already satisfied: tornado!=6.5.0,<7,>=6.0.3 in /usr/local/lib/python3.11/dist-packages (from streamlit) (6.4.2)\n",
            "Requirement already satisfied: PyYAML>=5.1 in /usr/local/lib/python3.11/dist-packages (from pyngrok) (6.0.2)\n",
            "Requirement already satisfied: nvidia-nccl-cu12 in /usr/local/lib/python3.11/dist-packages (from xgboost) (2.21.5)\n",
            "Requirement already satisfied: scipy in /usr/local/lib/python3.11/dist-packages (from xgboost) (1.15.3)\n",
            "Requirement already satisfied: jinja2 in /usr/local/lib/python3.11/dist-packages (from altair<6,>=4.0->streamlit) (3.1.6)\n",
            "Requirement already satisfied: jsonschema>=3.0 in /usr/local/lib/python3.11/dist-packages (from altair<6,>=4.0->streamlit) (4.24.0)\n",
            "Requirement already satisfied: narwhals>=1.14.2 in /usr/local/lib/python3.11/dist-packages (from altair<6,>=4.0->streamlit) (1.44.0)\n",
            "Requirement already satisfied: gitdb<5,>=4.0.1 in /usr/local/lib/python3.11/dist-packages (from gitpython!=3.1.19,<4,>=3.0.7->streamlit) (4.0.12)\n",
            "Requirement already satisfied: python-dateutil>=2.8.2 in /usr/local/lib/python3.11/dist-packages (from pandas<3,>=1.4.0->streamlit) (2.9.0.post0)\n",
            "Requirement already satisfied: pytz>=2020.1 in /usr/local/lib/python3.11/dist-packages (from pandas<3,>=1.4.0->streamlit) (2025.2)\n",
            "Requirement already satisfied: tzdata>=2022.7 in /usr/local/lib/python3.11/dist-packages (from pandas<3,>=1.4.0->streamlit) (2025.2)\n",
            "Requirement already satisfied: charset-normalizer<4,>=2 in /usr/local/lib/python3.11/dist-packages (from requests<3,>=2.27->streamlit) (3.4.2)\n",
            "Requirement already satisfied: idna<4,>=2.5 in /usr/local/lib/python3.11/dist-packages (from requests<3,>=2.27->streamlit) (3.10)\n",
            "Requirement already satisfied: urllib3<3,>=1.21.1 in /usr/local/lib/python3.11/dist-packages (from requests<3,>=2.27->streamlit) (2.4.0)\n",
            "Requirement already satisfied: certifi>=2017.4.17 in /usr/local/lib/python3.11/dist-packages (from requests<3,>=2.27->streamlit) (2025.6.15)\n",
            "Requirement already satisfied: smmap<6,>=3.0.1 in /usr/local/lib/python3.11/dist-packages (from gitdb<5,>=4.0.1->gitpython!=3.1.19,<4,>=3.0.7->streamlit) (5.0.2)\n",
            "Requirement already satisfied: MarkupSafe>=2.0 in /usr/local/lib/python3.11/dist-packages (from jinja2->altair<6,>=4.0->streamlit) (3.0.2)\n",
            "Requirement already satisfied: attrs>=22.2.0 in /usr/local/lib/python3.11/dist-packages (from jsonschema>=3.0->altair<6,>=4.0->streamlit) (25.3.0)\n",
            "Requirement already satisfied: jsonschema-specifications>=2023.03.6 in /usr/local/lib/python3.11/dist-packages (from jsonschema>=3.0->altair<6,>=4.0->streamlit) (2025.4.1)\n",
            "Requirement already satisfied: referencing>=0.28.4 in /usr/local/lib/python3.11/dist-packages (from jsonschema>=3.0->altair<6,>=4.0->streamlit) (0.36.2)\n",
            "Requirement already satisfied: rpds-py>=0.7.1 in /usr/local/lib/python3.11/dist-packages (from jsonschema>=3.0->altair<6,>=4.0->streamlit) (0.25.1)\n",
            "Requirement already satisfied: six>=1.5 in /usr/local/lib/python3.11/dist-packages (from python-dateutil>=2.8.2->pandas<3,>=1.4.0->streamlit) (1.17.0)\n",
            "Downloading pyngrok-7.2.11-py3-none-any.whl (25 kB)\n",
            "Installing collected packages: pyngrok\n",
            "Successfully installed pyngrok-7.2.11\n"
          ]
        }
      ]
    },
    {
      "cell_type": "code",
      "source": [
        "%%writefile app.py\n",
        "import streamlit as st\n",
        "import numpy as np\n",
        "import pandas as pd\n",
        "import joblib\n",
        "from xgboost import XGBRegressor\n",
        "\n",
        "# === Cargar artefactos del pipeline entrenado ===\n",
        "scaler = joblib.load(\"scaler.pkl\")\n",
        "kpca = joblib.load(\"kpca.pkl\")\n",
        "xgb_model = joblib.load(\"modelo_xgb.pkl\")\n",
        "\n",
        "# Cargar los percentiles de outliers (ajustados previamente sobre madrid_sale_train_df)\n",
        "q_low = joblib.load(\"percentil_01.pkl\")   # Series con el percentil 0.01 por variable\n",
        "q_high = joblib.load(\"percentil_99.pkl\")  # Series con el percentil 0.99 por variable\n",
        "\n",
        "# Lista de características en orden correcto\n",
        "features = [\n",
        "    'CONSTRUCTEDAREA', 'ROOMNUMBER', 'BATHNUMBER', 'HASTERRACE', 'HASLIFT',\n",
        "    'HASAIRCONDITIONING', 'AMENITYID', 'HASPARKINGSPACE',\n",
        "    'ISPARKINGSPACEINCLUDEDINPRICE', 'PARKINGSPACEPRICE',\n",
        "    'HASNORTHORIENTATION', 'HASSOUTHORIENTATION', 'HASEASTORIENTATION',\n",
        "    'HASWESTORIENTATION', 'HASBOXROOM', 'HASWARDROBE', 'HASSWIMMINGPOOL',\n",
        "    'HASDOORMAN', 'HASGARDEN', 'ISDUPLEX', 'ISSTUDIO', 'ISINTOPFLOOR',\n",
        "    'FLOORCLEAN', 'FLATLOCATIONID', 'CADCONSTRUCTIONYEAR',\n",
        "    'CADMAXBUILDINGFLOOR', 'CADDWELLINGCOUNT', 'CADASTRALQUALITYID',\n",
        "    'BUILTTYPEID_1', 'BUILTTYPEID_2', 'BUILTTYPEID_3',\n",
        "    'DISTANCE_TO_CITY_CENTER', 'DISTANCE_TO_METRO',\n",
        "    'DISTANCE_TO_CASTELLANA', 'LONGITUDE', 'LATITUDE'\n",
        "]\n",
        "\n",
        "\n",
        "\n",
        "# === Función para tratar outliers ===\n",
        "def tratar_outliers(df, q_low, q_high):\n",
        "    df_clipped = df.copy()\n",
        "    for col in df.columns:\n",
        "        df_clipped[col] = np.clip(df[col], q_low[col], q_high[col])\n",
        "    return df_clipped\n",
        "\n",
        "# === Interfaz ===\n",
        "st.title(\"🧠 Real estate price forecasting (Madrid)\")\n",
        "st.write(\"Enter the data of the property to estimate its price:\")\n",
        "\n",
        "user_input = {}\n",
        "for col in features:\n",
        "    if col.startswith('HAS') or col.startswith('IS') or col.startswith('BUILTTYPEID_'):\n",
        "        user_input[col] = st.selectbox(f\"{col}\", [0, 1])\n",
        "    else:\n",
        "        user_input[col] = st.number_input(f\"{col}\", value=0.0)\n",
        "\n",
        "if st.button(\"🔍 Predict price\"):\n",
        "    # Convertir entrada a DataFrame\n",
        "    df_input = pd.DataFrame([user_input], columns=features).astype(np.float32)\n",
        "\n",
        "    # Tratar outliers\n",
        "    df_input_clip = tratar_outliers(df_input, q_low, q_high)\n",
        "\n",
        "    # Escalar\n",
        "    df_scaled = scaler.transform(df_input_clip)\n",
        "\n",
        "    # Transformar con KPCA\n",
        "    df_kpca = kpca.transform(df_scaled)\n",
        "\n",
        "    # Predecir (recuerda que el modelo predice en escala log)\n",
        "    y_log_pred = xgb_model.predict(df_kpca)\n",
        "    y_pred = np.exp(y_log_pred[0])  # Revertir log-transformación\n",
        "\n",
        "    st.success(f\"💰 Estimated price: {y_pred:,.2f} €\")\n"
      ],
      "metadata": {
        "colab": {
          "base_uri": "https://localhost:8080/"
        },
        "id": "Y_rt16rT0CJy",
        "outputId": "4d1ab4c7-27f0-46ae-f59d-45da623a54d8"
      },
      "execution_count": 79,
      "outputs": [
        {
          "output_type": "stream",
          "name": "stdout",
          "text": [
            "Overwriting app.py\n"
          ]
        }
      ]
    },
    {
      "cell_type": "markdown",
      "source": [
        "\n",
        "features = [\n",
        "    'CONSTRUCTEDAREA: Superficie construida de la vivienda (m²)',\n",
        "    'ROOMNUMBER: Número de habitaciones',\n",
        "    'BATHNUMBER: Número de baños',\n",
        "    'HASTERRACE: ¿Tiene terraza? (1 = Sí, 0 = No)',\n",
        "    'HASLIFT: ¿Tiene ascensor? (1 = Sí, 0 = No)',\n",
        "    'HASAIRCONDITIONING: ¿Tiene aire acondicionado? (1 = Sí, 0 = No)',\n",
        "    'AMENITYID: ¿Que servicios tiene incluidos? 1: Nada, 2: Únicamente cocina amueblada, 3: Todo amueblado',\n",
        "    'HASPARKINGSPACE : ¿Tiene plaza de garaje? (1 = Sí, 0 = No)',\n",
        "    'ISPARKINGSPACEINCLUDEDINPRICE : ¿La plaza está incluida en el precio? (1 = Sí, 0 = No)',\n",
        "    'PARKINGSPACEPRICE : Precio de la plaza de garaje (si no está incluida)',\n",
        "    'HASNORTHORIENTATION: ¿Orientación norte? (1 = Sí, 0 = No)',\n",
        "    'HASSOUTHORIENTATION: ¿Orientación sur? (1 = Sí, 0 = No)',\n",
        "    'HASEASTORIENTATION : ¿Orientación este? (1 = Sí, 0 = No)',\n",
        "    'HASWESTORIENTATION : ¿Orientación oeste? (1 = Sí, 0 = No)',\n",
        "    'HASBOXROOM: ¿Tiene trastero? (1 = Sí, 0 = No)',\n",
        "    'HASWARDROBE: ¿Tiene armarios empotrados? (1 = Sí, 0 = No)',\n",
        "    'HASSWIMMINGPOOL: ¿Tiene piscina? (1 = Sí, 0 = No)',\n",
        "    'HASDOORMAN: ¿Tiene portero físico? (1 = Sí, 0 = No)',\n",
        "    'HASGARDEN: ¿Tiene jardín? (1 = Sí, 0 = No)',\n",
        "    'ISDUPLEX: ¿Es un dúplex? (1 = Sí, 0 = No)',\n",
        "    'ISSTUDIO: ¿Es un estudio? (1 = Sí, 0 = No)',\n",
        "    'ISINTOPFLOOR: ¿Está en el último piso? (1 = Sí, 0 = No)',\n",
        "    'FLOORCLEAN: Altura de la planta (ej: 1 para 1ª planta)',\n",
        "    'FLATLOCATIONID: 1: Piso exterior, 2: Piso interior',\n",
        "    'CADCONSTRUCTIONYEAR: Año de construcción (catastro)',\n",
        "    'CADMAXBUILDINGFLOOR: Número total de plantas del edificio',\n",
        "    'CADDWELLINGCOUNT: Número total de viviendas en el edificio',\n",
        "    'CADASTRALQUALITYID: Calidad catastral de la vivienda (0 la mejor - 10 la peor)',\n",
        "    'BUILTTYPEID_1: ¿Es obra nueva? (1 = Sí, 0 = No)',\n",
        "    'BUILTTYPEID_2: ¿Es de segunda mano y necesita reforma? (1 = Sí, 0 = No)',\n",
        "    'BUILTTYPEID_3: ¿Es de segunda mano y está en buen estado? (1 = Sí, 0 = No)',\n",
        "    'DISTANCE_TO_CITY_CENTER: Distancia al centro de Madrid (km)',\n",
        "    'DISTANCE_TO_METRO: Distancia a la estación de metro más cercana (km)',\n",
        "    'DISTANCE_TO_CASTELLANA: Distancia al Paseo de la Castellana (km)',\n",
        "    'LONGITUDE: Longitud geográfica',\n",
        "    'LATITUDE: Latitud geográfica'\n",
        "]"
      ],
      "metadata": {
        "id": "nzrtu-quBJRw"
      }
    },
    {
      "cell_type": "code",
      "source": [
        "# Paso 1: Elimina el archivo de configuración roto de ngrok\n",
        "!rm -f /root/.config/ngrok/ngrok.yml\n",
        "\n",
        "# Paso 2: Añade tu token de ngrok\n",
        "!ngrok authtoken 2yUqLMkz1BSLsm2SkMNjm1rdpWm_3obxggq71kDnjkS2Prp7c\n",
        "\n",
        "# Paso 3: Lanza la app Streamlit en segundo plano en el puerto correcto\n",
        "!streamlit run app.py --server.port 8506 &>/dev/null &\n",
        "\n",
        "# Paso 4: Abre el túnel con ngrok AL FINAL, después de lanzar Streamlit\n",
        "from pyngrok import ngrok\n",
        "\n",
        "# Cierra túneles anteriores\n",
        "ngrok.kill()\n",
        "\n",
        "# Abre nuevo túnel\n",
        "public_url = ngrok.connect(8506)\n",
        "print(f\"🔗 Accede a tu app aquí: {public_url}\")\n"
      ],
      "metadata": {
        "colab": {
          "base_uri": "https://localhost:8080/"
        },
        "id": "L-5BMJ6kMRmg",
        "outputId": "c5b3d2fd-356e-4eb3-ac96-ac07f2e6249c"
      },
      "execution_count": 86,
      "outputs": [
        {
          "output_type": "stream",
          "name": "stdout",
          "text": [
            "Authtoken saved to configuration file: /root/.config/ngrok/ngrok.yml\n",
            "🔗 Accede a tu app aquí: NgrokTunnel: \"https://a2aa-34-143-218-10.ngrok-free.app\" -> \"http://localhost:8506\"\n"
          ]
        }
      ]
    },
    {
      "cell_type": "code",
      "source": [
        "# Paso 3: Lanzar Streamlit + ngrok\n",
        "\n",
        "from pyngrok import ngrok\n",
        "import os\n",
        "\n",
        "# Matar cualquier túnel anterior\n",
        "ngrok.kill()\n",
        "\n",
        "# Crear túnel en el puerto 8504\n",
        "public_url = ngrok.connect(8504)\n",
        "print(f\"🔗 Accede a tu app aquí: {public_url}\")\n",
        "\n",
        "# Ejecutar la app (asegúrate que tu archivo se llame app.py)\n",
        "!streamlit run app.py &> /dev/null &\n"
      ],
      "metadata": {
        "colab": {
          "base_uri": "https://localhost:8080/"
        },
        "id": "F4JBz9d55k7M",
        "outputId": "5be64b4f-9237-4656-cf12-9cf05faa2105"
      },
      "execution_count": 81,
      "outputs": [
        {
          "output_type": "stream",
          "name": "stdout",
          "text": [
            "🔗 Accede a tu app aquí: NgrokTunnel: \"https://f2a1-34-143-218-10.ngrok-free.app\" -> \"http://localhost:8504\"\n"
          ]
        }
      ]
    },
    {
      "cell_type": "code",
      "source": [],
      "metadata": {
        "id": "9wHT91_P6sBD"
      },
      "execution_count": null,
      "outputs": []
    }
  ],
  "metadata": {
    "colab": {
      "provenance": [],
      "machine_shape": "hm",
      "gpuType": "A100"
    },
    "kernelspec": {
      "display_name": "Python 3",
      "name": "python3"
    },
    "language_info": {
      "name": "python"
    },
    "accelerator": "GPU"
  },
  "nbformat": 4,
  "nbformat_minor": 0
}