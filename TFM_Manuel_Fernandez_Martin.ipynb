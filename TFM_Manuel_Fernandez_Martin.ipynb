{
  "cells": [
    {
      "cell_type": "markdown",
      "metadata": {
        "id": "fCfkKcqSPyi8"
      },
      "source": [
        "# Carga de datos"
      ]
    },
    {
      "cell_type": "code",
      "execution_count": 1,
      "metadata": {
        "colab": {
          "base_uri": "https://localhost:8080/"
        },
        "id": "uOoMzSu2N49I",
        "outputId": "ee0374be-c1d6-4fbc-df1b-d0efe9b912d4"
      },
      "outputs": [
        {
          "output_type": "stream",
          "name": "stdout",
          "text": [
            "Requirement already satisfied: rpy2 in /usr/local/lib/python3.11/dist-packages (3.5.17)\n",
            "Requirement already satisfied: cffi>=1.15.1 in /usr/local/lib/python3.11/dist-packages (from rpy2) (1.17.1)\n",
            "Requirement already satisfied: jinja2 in /usr/local/lib/python3.11/dist-packages (from rpy2) (3.1.6)\n",
            "Requirement already satisfied: tzlocal in /usr/local/lib/python3.11/dist-packages (from rpy2) (5.3.1)\n",
            "Requirement already satisfied: pycparser in /usr/local/lib/python3.11/dist-packages (from cffi>=1.15.1->rpy2) (2.22)\n",
            "Requirement already satisfied: MarkupSafe>=2.0 in /usr/local/lib/python3.11/dist-packages (from jinja2->rpy2) (3.0.2)\n",
            "Collecting pyreadr\n",
            "  Downloading pyreadr-0.5.3-cp311-cp311-manylinux_2_17_x86_64.manylinux2014_x86_64.whl.metadata (1.4 kB)\n",
            "Requirement already satisfied: pandas>=1.2.0 in /usr/local/lib/python3.11/dist-packages (from pyreadr) (2.2.2)\n",
            "Requirement already satisfied: numpy>=1.23.2 in /usr/local/lib/python3.11/dist-packages (from pandas>=1.2.0->pyreadr) (2.0.2)\n",
            "Requirement already satisfied: python-dateutil>=2.8.2 in /usr/local/lib/python3.11/dist-packages (from pandas>=1.2.0->pyreadr) (2.9.0.post0)\n",
            "Requirement already satisfied: pytz>=2020.1 in /usr/local/lib/python3.11/dist-packages (from pandas>=1.2.0->pyreadr) (2025.2)\n",
            "Requirement already satisfied: tzdata>=2022.7 in /usr/local/lib/python3.11/dist-packages (from pandas>=1.2.0->pyreadr) (2025.2)\n",
            "Requirement already satisfied: six>=1.5 in /usr/local/lib/python3.11/dist-packages (from python-dateutil>=2.8.2->pandas>=1.2.0->pyreadr) (1.17.0)\n",
            "Downloading pyreadr-0.5.3-cp311-cp311-manylinux_2_17_x86_64.manylinux2014_x86_64.whl (411 kB)\n",
            "\u001b[2K   \u001b[90m━━━━━━━━━━━━━━━━━━━━━━━━━━━━━━━━━━━━━━━━\u001b[0m \u001b[32m411.7/411.7 kB\u001b[0m \u001b[31m6.6 MB/s\u001b[0m eta \u001b[36m0:00:00\u001b[0m\n",
            "\u001b[?25hInstalling collected packages: pyreadr\n",
            "Successfully installed pyreadr-0.5.3\n",
            "Collecting rdata\n",
            "  Downloading rdata-0.11.2-py3-none-any.whl.metadata (11 kB)\n",
            "Requirement already satisfied: numpy in /usr/local/lib/python3.11/dist-packages (from rdata) (2.0.2)\n",
            "Requirement already satisfied: xarray in /usr/local/lib/python3.11/dist-packages (from rdata) (2025.3.1)\n",
            "Requirement already satisfied: pandas in /usr/local/lib/python3.11/dist-packages (from rdata) (2.2.2)\n",
            "Requirement already satisfied: typing-extensions>4.4 in /usr/local/lib/python3.11/dist-packages (from rdata) (4.14.1)\n",
            "Requirement already satisfied: python-dateutil>=2.8.2 in /usr/local/lib/python3.11/dist-packages (from pandas->rdata) (2.9.0.post0)\n",
            "Requirement already satisfied: pytz>=2020.1 in /usr/local/lib/python3.11/dist-packages (from pandas->rdata) (2025.2)\n",
            "Requirement already satisfied: tzdata>=2022.7 in /usr/local/lib/python3.11/dist-packages (from pandas->rdata) (2025.2)\n",
            "Requirement already satisfied: packaging>=23.2 in /usr/local/lib/python3.11/dist-packages (from xarray->rdata) (24.2)\n",
            "Requirement already satisfied: six>=1.5 in /usr/local/lib/python3.11/dist-packages (from python-dateutil>=2.8.2->pandas->rdata) (1.17.0)\n",
            "Downloading rdata-0.11.2-py3-none-any.whl (46 kB)\n",
            "\u001b[2K   \u001b[90m━━━━━━━━━━━━━━━━━━━━━━━━━━━━━━━━━━━━━━━━\u001b[0m \u001b[32m46.5/46.5 kB\u001b[0m \u001b[31m1.9 MB/s\u001b[0m eta \u001b[36m0:00:00\u001b[0m\n",
            "\u001b[?25hInstalling collected packages: rdata\n",
            "Successfully installed rdata-0.11.2\n",
            "Requirement already satisfied: xgboost in /usr/local/lib/python3.11/dist-packages (2.1.4)\n",
            "Requirement already satisfied: numpy in /usr/local/lib/python3.11/dist-packages (from xgboost) (2.0.2)\n",
            "Requirement already satisfied: nvidia-nccl-cu12 in /usr/local/lib/python3.11/dist-packages (from xgboost) (2.21.5)\n",
            "Requirement already satisfied: scipy in /usr/local/lib/python3.11/dist-packages (from xgboost) (1.15.3)\n",
            "Requirement already satisfied: tensorflow in /usr/local/lib/python3.11/dist-packages (2.18.0)\n",
            "Requirement already satisfied: absl-py>=1.0.0 in /usr/local/lib/python3.11/dist-packages (from tensorflow) (1.4.0)\n",
            "Requirement already satisfied: astunparse>=1.6.0 in /usr/local/lib/python3.11/dist-packages (from tensorflow) (1.6.3)\n",
            "Requirement already satisfied: flatbuffers>=24.3.25 in /usr/local/lib/python3.11/dist-packages (from tensorflow) (25.2.10)\n",
            "Requirement already satisfied: gast!=0.5.0,!=0.5.1,!=0.5.2,>=0.2.1 in /usr/local/lib/python3.11/dist-packages (from tensorflow) (0.6.0)\n",
            "Requirement already satisfied: google-pasta>=0.1.1 in /usr/local/lib/python3.11/dist-packages (from tensorflow) (0.2.0)\n",
            "Requirement already satisfied: libclang>=13.0.0 in /usr/local/lib/python3.11/dist-packages (from tensorflow) (18.1.1)\n",
            "Requirement already satisfied: opt-einsum>=2.3.2 in /usr/local/lib/python3.11/dist-packages (from tensorflow) (3.4.0)\n",
            "Requirement already satisfied: packaging in /usr/local/lib/python3.11/dist-packages (from tensorflow) (24.2)\n",
            "Requirement already satisfied: protobuf!=4.21.0,!=4.21.1,!=4.21.2,!=4.21.3,!=4.21.4,!=4.21.5,<6.0.0dev,>=3.20.3 in /usr/local/lib/python3.11/dist-packages (from tensorflow) (5.29.5)\n",
            "Requirement already satisfied: requests<3,>=2.21.0 in /usr/local/lib/python3.11/dist-packages (from tensorflow) (2.32.3)\n",
            "Requirement already satisfied: setuptools in /usr/local/lib/python3.11/dist-packages (from tensorflow) (75.2.0)\n",
            "Requirement already satisfied: six>=1.12.0 in /usr/local/lib/python3.11/dist-packages (from tensorflow) (1.17.0)\n",
            "Requirement already satisfied: termcolor>=1.1.0 in /usr/local/lib/python3.11/dist-packages (from tensorflow) (3.1.0)\n",
            "Requirement already satisfied: typing-extensions>=3.6.6 in /usr/local/lib/python3.11/dist-packages (from tensorflow) (4.14.1)\n",
            "Requirement already satisfied: wrapt>=1.11.0 in /usr/local/lib/python3.11/dist-packages (from tensorflow) (1.17.2)\n",
            "Requirement already satisfied: grpcio<2.0,>=1.24.3 in /usr/local/lib/python3.11/dist-packages (from tensorflow) (1.73.1)\n",
            "Requirement already satisfied: tensorboard<2.19,>=2.18 in /usr/local/lib/python3.11/dist-packages (from tensorflow) (2.18.0)\n",
            "Requirement already satisfied: keras>=3.5.0 in /usr/local/lib/python3.11/dist-packages (from tensorflow) (3.8.0)\n",
            "Requirement already satisfied: numpy<2.1.0,>=1.26.0 in /usr/local/lib/python3.11/dist-packages (from tensorflow) (2.0.2)\n",
            "Requirement already satisfied: h5py>=3.11.0 in /usr/local/lib/python3.11/dist-packages (from tensorflow) (3.14.0)\n",
            "Requirement already satisfied: ml-dtypes<0.5.0,>=0.4.0 in /usr/local/lib/python3.11/dist-packages (from tensorflow) (0.4.1)\n",
            "Requirement already satisfied: tensorflow-io-gcs-filesystem>=0.23.1 in /usr/local/lib/python3.11/dist-packages (from tensorflow) (0.37.1)\n",
            "Requirement already satisfied: wheel<1.0,>=0.23.0 in /usr/local/lib/python3.11/dist-packages (from astunparse>=1.6.0->tensorflow) (0.45.1)\n",
            "Requirement already satisfied: rich in /usr/local/lib/python3.11/dist-packages (from keras>=3.5.0->tensorflow) (13.9.4)\n",
            "Requirement already satisfied: namex in /usr/local/lib/python3.11/dist-packages (from keras>=3.5.0->tensorflow) (0.1.0)\n",
            "Requirement already satisfied: optree in /usr/local/lib/python3.11/dist-packages (from keras>=3.5.0->tensorflow) (0.16.0)\n",
            "Requirement already satisfied: charset-normalizer<4,>=2 in /usr/local/lib/python3.11/dist-packages (from requests<3,>=2.21.0->tensorflow) (3.4.2)\n",
            "Requirement already satisfied: idna<4,>=2.5 in /usr/local/lib/python3.11/dist-packages (from requests<3,>=2.21.0->tensorflow) (3.10)\n",
            "Requirement already satisfied: urllib3<3,>=1.21.1 in /usr/local/lib/python3.11/dist-packages (from requests<3,>=2.21.0->tensorflow) (2.4.0)\n",
            "Requirement already satisfied: certifi>=2017.4.17 in /usr/local/lib/python3.11/dist-packages (from requests<3,>=2.21.0->tensorflow) (2025.7.9)\n",
            "Requirement already satisfied: markdown>=2.6.8 in /usr/local/lib/python3.11/dist-packages (from tensorboard<2.19,>=2.18->tensorflow) (3.8.2)\n",
            "Requirement already satisfied: tensorboard-data-server<0.8.0,>=0.7.0 in /usr/local/lib/python3.11/dist-packages (from tensorboard<2.19,>=2.18->tensorflow) (0.7.2)\n",
            "Requirement already satisfied: werkzeug>=1.0.1 in /usr/local/lib/python3.11/dist-packages (from tensorboard<2.19,>=2.18->tensorflow) (3.1.3)\n",
            "Requirement already satisfied: MarkupSafe>=2.1.1 in /usr/local/lib/python3.11/dist-packages (from werkzeug>=1.0.1->tensorboard<2.19,>=2.18->tensorflow) (3.0.2)\n",
            "Requirement already satisfied: markdown-it-py>=2.2.0 in /usr/local/lib/python3.11/dist-packages (from rich->keras>=3.5.0->tensorflow) (3.0.0)\n",
            "Requirement already satisfied: pygments<3.0.0,>=2.13.0 in /usr/local/lib/python3.11/dist-packages (from rich->keras>=3.5.0->tensorflow) (2.19.2)\n",
            "Requirement already satisfied: mdurl~=0.1 in /usr/local/lib/python3.11/dist-packages (from markdown-it-py>=2.2.0->rich->keras>=3.5.0->tensorflow) (0.1.2)\n",
            "Collecting streamlit\n",
            "  Downloading streamlit-1.46.1-py3-none-any.whl.metadata (9.0 kB)\n",
            "Requirement already satisfied: altair<6,>=4.0 in /usr/local/lib/python3.11/dist-packages (from streamlit) (5.5.0)\n",
            "Requirement already satisfied: blinker<2,>=1.5.0 in /usr/local/lib/python3.11/dist-packages (from streamlit) (1.9.0)\n",
            "Requirement already satisfied: cachetools<7,>=4.0 in /usr/local/lib/python3.11/dist-packages (from streamlit) (5.5.2)\n",
            "Requirement already satisfied: click<9,>=7.0 in /usr/local/lib/python3.11/dist-packages (from streamlit) (8.2.1)\n",
            "Requirement already satisfied: numpy<3,>=1.23 in /usr/local/lib/python3.11/dist-packages (from streamlit) (2.0.2)\n",
            "Requirement already satisfied: packaging<26,>=20 in /usr/local/lib/python3.11/dist-packages (from streamlit) (24.2)\n",
            "Requirement already satisfied: pandas<3,>=1.4.0 in /usr/local/lib/python3.11/dist-packages (from streamlit) (2.2.2)\n",
            "Requirement already satisfied: pillow<12,>=7.1.0 in /usr/local/lib/python3.11/dist-packages (from streamlit) (11.2.1)\n",
            "Requirement already satisfied: protobuf<7,>=3.20 in /usr/local/lib/python3.11/dist-packages (from streamlit) (5.29.5)\n",
            "Requirement already satisfied: pyarrow>=7.0 in /usr/local/lib/python3.11/dist-packages (from streamlit) (18.1.0)\n",
            "Requirement already satisfied: requests<3,>=2.27 in /usr/local/lib/python3.11/dist-packages (from streamlit) (2.32.3)\n",
            "Requirement already satisfied: tenacity<10,>=8.1.0 in /usr/local/lib/python3.11/dist-packages (from streamlit) (8.5.0)\n",
            "Requirement already satisfied: toml<2,>=0.10.1 in /usr/local/lib/python3.11/dist-packages (from streamlit) (0.10.2)\n",
            "Requirement already satisfied: typing-extensions<5,>=4.4.0 in /usr/local/lib/python3.11/dist-packages (from streamlit) (4.14.1)\n",
            "Collecting watchdog<7,>=2.1.5 (from streamlit)\n",
            "  Downloading watchdog-6.0.0-py3-none-manylinux2014_x86_64.whl.metadata (44 kB)\n",
            "\u001b[2K     \u001b[90m━━━━━━━━━━━━━━━━━━━━━━━━━━━━━━━━━━━━━━━━\u001b[0m \u001b[32m44.3/44.3 kB\u001b[0m \u001b[31m1.7 MB/s\u001b[0m eta \u001b[36m0:00:00\u001b[0m\n",
            "\u001b[?25hRequirement already satisfied: gitpython!=3.1.19,<4,>=3.0.7 in /usr/local/lib/python3.11/dist-packages (from streamlit) (3.1.44)\n",
            "Collecting pydeck<1,>=0.8.0b4 (from streamlit)\n",
            "  Downloading pydeck-0.9.1-py2.py3-none-any.whl.metadata (4.1 kB)\n",
            "Requirement already satisfied: tornado!=6.5.0,<7,>=6.0.3 in /usr/local/lib/python3.11/dist-packages (from streamlit) (6.4.2)\n",
            "Requirement already satisfied: jinja2 in /usr/local/lib/python3.11/dist-packages (from altair<6,>=4.0->streamlit) (3.1.6)\n",
            "Requirement already satisfied: jsonschema>=3.0 in /usr/local/lib/python3.11/dist-packages (from altair<6,>=4.0->streamlit) (4.24.0)\n",
            "Requirement already satisfied: narwhals>=1.14.2 in /usr/local/lib/python3.11/dist-packages (from altair<6,>=4.0->streamlit) (1.46.0)\n",
            "Requirement already satisfied: gitdb<5,>=4.0.1 in /usr/local/lib/python3.11/dist-packages (from gitpython!=3.1.19,<4,>=3.0.7->streamlit) (4.0.12)\n",
            "Requirement already satisfied: python-dateutil>=2.8.2 in /usr/local/lib/python3.11/dist-packages (from pandas<3,>=1.4.0->streamlit) (2.9.0.post0)\n",
            "Requirement already satisfied: pytz>=2020.1 in /usr/local/lib/python3.11/dist-packages (from pandas<3,>=1.4.0->streamlit) (2025.2)\n",
            "Requirement already satisfied: tzdata>=2022.7 in /usr/local/lib/python3.11/dist-packages (from pandas<3,>=1.4.0->streamlit) (2025.2)\n",
            "Requirement already satisfied: charset-normalizer<4,>=2 in /usr/local/lib/python3.11/dist-packages (from requests<3,>=2.27->streamlit) (3.4.2)\n",
            "Requirement already satisfied: idna<4,>=2.5 in /usr/local/lib/python3.11/dist-packages (from requests<3,>=2.27->streamlit) (3.10)\n",
            "Requirement already satisfied: urllib3<3,>=1.21.1 in /usr/local/lib/python3.11/dist-packages (from requests<3,>=2.27->streamlit) (2.4.0)\n",
            "Requirement already satisfied: certifi>=2017.4.17 in /usr/local/lib/python3.11/dist-packages (from requests<3,>=2.27->streamlit) (2025.7.9)\n",
            "Requirement already satisfied: smmap<6,>=3.0.1 in /usr/local/lib/python3.11/dist-packages (from gitdb<5,>=4.0.1->gitpython!=3.1.19,<4,>=3.0.7->streamlit) (5.0.2)\n",
            "Requirement already satisfied: MarkupSafe>=2.0 in /usr/local/lib/python3.11/dist-packages (from jinja2->altair<6,>=4.0->streamlit) (3.0.2)\n",
            "Requirement already satisfied: attrs>=22.2.0 in /usr/local/lib/python3.11/dist-packages (from jsonschema>=3.0->altair<6,>=4.0->streamlit) (25.3.0)\n",
            "Requirement already satisfied: jsonschema-specifications>=2023.03.6 in /usr/local/lib/python3.11/dist-packages (from jsonschema>=3.0->altair<6,>=4.0->streamlit) (2025.4.1)\n",
            "Requirement already satisfied: referencing>=0.28.4 in /usr/local/lib/python3.11/dist-packages (from jsonschema>=3.0->altair<6,>=4.0->streamlit) (0.36.2)\n",
            "Requirement already satisfied: rpds-py>=0.7.1 in /usr/local/lib/python3.11/dist-packages (from jsonschema>=3.0->altair<6,>=4.0->streamlit) (0.26.0)\n",
            "Requirement already satisfied: six>=1.5 in /usr/local/lib/python3.11/dist-packages (from python-dateutil>=2.8.2->pandas<3,>=1.4.0->streamlit) (1.17.0)\n",
            "Downloading streamlit-1.46.1-py3-none-any.whl (10.1 MB)\n",
            "\u001b[2K   \u001b[90m━━━━━━━━━━━━━━━━━━━━━━━━━━━━━━━━━━━━━━━━\u001b[0m \u001b[32m10.1/10.1 MB\u001b[0m \u001b[31m75.8 MB/s\u001b[0m eta \u001b[36m0:00:00\u001b[0m\n",
            "\u001b[?25hDownloading pydeck-0.9.1-py2.py3-none-any.whl (6.9 MB)\n",
            "\u001b[2K   \u001b[90m━━━━━━━━━━━━━━━━━━━━━━━━━━━━━━━━━━━━━━━━\u001b[0m \u001b[32m6.9/6.9 MB\u001b[0m \u001b[31m124.8 MB/s\u001b[0m eta \u001b[36m0:00:00\u001b[0m\n",
            "\u001b[?25hDownloading watchdog-6.0.0-py3-none-manylinux2014_x86_64.whl (79 kB)\n",
            "\u001b[2K   \u001b[90m━━━━━━━━━━━━━━━━━━━━━━━━━━━━━━━━━━━━━━━━\u001b[0m \u001b[32m79.1/79.1 kB\u001b[0m \u001b[31m7.0 MB/s\u001b[0m eta \u001b[36m0:00:00\u001b[0m\n",
            "\u001b[?25hInstalling collected packages: watchdog, pydeck, streamlit\n",
            "Successfully installed pydeck-0.9.1 streamlit-1.46.1 watchdog-6.0.0\n",
            "Descargando archivo...\n"
          ]
        },
        {
          "output_type": "stream",
          "name": "stderr",
          "text": [
            "/usr/local/lib/python3.11/dist-packages/rdata/conversion/_conversion.py:856: UserWarning: Missing constructor for R class \"bbox\". The underlying R object is returned instead.\n",
            "  warnings.warn(\n",
            "/usr/local/lib/python3.11/dist-packages/rdata/conversion/_conversion.py:856: UserWarning: Missing constructor for R class \"crs\". The underlying R object is returned instead.\n",
            "  warnings.warn(\n",
            "/usr/local/lib/python3.11/dist-packages/rdata/conversion/_conversion.py:856: UserWarning: Missing constructor for R class \"XY\". The constructor for class \"POINT\" will be used instead.\n",
            "  warnings.warn(\n",
            "/usr/local/lib/python3.11/dist-packages/rdata/conversion/_conversion.py:856: UserWarning: Missing constructor for R class \"POINT\". The constructor for class \"sfg\" will be used instead.\n",
            "  warnings.warn(\n",
            "/usr/local/lib/python3.11/dist-packages/rdata/conversion/_conversion.py:856: UserWarning: Missing constructor for R class \"sfg\". The underlying R object is returned instead.\n",
            "  warnings.warn(\n",
            "/usr/local/lib/python3.11/dist-packages/rdata/conversion/_conversion.py:856: UserWarning: Missing constructor for R class \"sfc_POINT\". The constructor for class \"sfc\" will be used instead.\n",
            "  warnings.warn(\n",
            "/usr/local/lib/python3.11/dist-packages/rdata/conversion/_conversion.py:856: UserWarning: Missing constructor for R class \"sfc\". The underlying R object is returned instead.\n",
            "  warnings.warn(\n",
            "/usr/local/lib/python3.11/dist-packages/rdata/conversion/_conversion.py:856: UserWarning: Missing constructor for R class \"sf\". The constructor for class \"data.frame\" will be used instead.\n",
            "  warnings.warn(\n"
          ]
        },
        {
          "output_type": "stream",
          "name": "stdout",
          "text": [
            "Claves en el archivo: dict_keys(['Madrid_Sale'])\n",
            "                 ASSETID  PERIOD     PRICE    UNITPRICE  CONSTRUCTEDAREA  \\\n",
            "1  A15019136831406238029  201803  126000.0  2680.851064               47   \n",
            "2   A6677225905472065344  201803  235000.0  4351.851852               54   \n",
            "3  A13341979748618524775  201803  373000.0  4973.333333               75   \n",
            "4   A4775182175615276542  201803  284000.0  5916.666667               48   \n",
            "5   A2492087730711701973  201803  228000.0  4560.000000               50   \n",
            "\n",
            "   ROOMNUMBER  BATHNUMBER  HASTERRACE  HASLIFT  HASAIRCONDITIONING  ...  \\\n",
            "1           1           1           0        1                   1  ...   \n",
            "2           1           1           0        0                   0  ...   \n",
            "3           2           1           0        0                   1  ...   \n",
            "4           1           1           0        1                   1  ...   \n",
            "5           0           1           0        0                   0  ...   \n",
            "\n",
            "   CADASTRALQUALITYID  BUILTTYPEID_1  BUILTTYPEID_2  BUILTTYPEID_3  \\\n",
            "1                   3              0              1              0   \n",
            "2                   3              0              0              1   \n",
            "3                   3              0              0              1   \n",
            "4                   5              0              0              1   \n",
            "5                   7              0              0              1   \n",
            "\n",
            "   DISTANCE_TO_CITY_CENTER  DISTANCE_TO_METRO  DISTANCE_TO_CASTELLANA  \\\n",
            "1                 8.058429           0.872075                6.868677   \n",
            "2                 0.876369           0.116382                1.544125   \n",
            "3                 0.907479           0.139109                1.608444   \n",
            "4                 0.845462           0.144299                1.516166   \n",
            "5                 1.250231           0.337098                1.794136   \n",
            "\n",
            "   LONGITUDE   LATITUDE                               geometry  \n",
            "1  -3.766933  40.362485  [-3.76693282740492, 40.3624847687389]  \n",
            "2  -3.710725  40.422430  [-3.71072465730388, 40.4224298907482]  \n",
            "3  -3.711571  40.422190    [-3.711570866261, 40.4221904507903]  \n",
            "4  -3.710440  40.422251  [-3.71043986942694, 40.4222514604856]  \n",
            "5  -3.714340  40.408741  [-3.71434022421324, 40.4087408924555]  \n",
            "\n",
            "[5 rows x 42 columns]\n"
          ]
        }
      ],
      "source": [
        "# Instalar dependencias necesarias (solo la primera vez)\n",
        "!pip install rpy2\n",
        "!pip install pyreadr # Install the pyreadr package, it is a modern and better alternative to rdata.\n",
        "!pip install rdata # Install rdata to resolve the ModuleNotFoundError\n",
        "!pip install xgboost\n",
        "%pip install tensorflow\n",
        "!pip install streamlit\n",
        "\n",
        "import os\n",
        "import urllib.request\n",
        "import rdata\n",
        "import pandas as pd\n",
        "\n",
        "# Nombre del archivo a usar\n",
        "file_name = \"Madrid_Sale.rda\"\n",
        "file_url = f\"https://github.com/paezha/idealista18/raw/master/data/{file_name}\"\n",
        "file_path = os.path.join(\"data\", file_name)\n",
        "\n",
        "# Crear carpeta 'data' si no existe\n",
        "os.makedirs(\"data\", exist_ok=True)\n",
        "\n",
        "# Descargar el archivo si no existe\n",
        "if not os.path.isfile(file_path):\n",
        "    print(\"Descargando archivo...\")\n",
        "    urllib.request.urlretrieve(file_url, file_path)\n",
        "else:\n",
        "    print(\"Archivo ya existe.\")\n",
        "\n",
        "# Leer el archivo .rda\n",
        "data = rdata.read_rda(file_path)\n",
        "\n",
        "# Ver claves disponibles en el archivo\n",
        "print(\"Claves en el archivo:\", data.keys())\n",
        "\n",
        "# Extraer el DataFrame principal\n",
        "madrid_sale_df = data['Madrid_Sale']\n",
        "\n",
        "# Mostrar las primeras filas\n",
        "print(madrid_sale_df.head())\n"
      ]
    },
    {
      "cell_type": "markdown",
      "metadata": {
        "id": "Ut016tIaP4qm"
      },
      "source": [
        "# Análisis de datos"
      ]
    },
    {
      "cell_type": "markdown",
      "metadata": {
        "id": "Z23Lcj9Q9Nr-"
      },
      "source": [
        "En primer lugar, se va a realizar un análisis de todas las columnas"
      ]
    },
    {
      "cell_type": "code",
      "execution_count": 3,
      "metadata": {
        "colab": {
          "base_uri": "https://localhost:8080/"
        },
        "id": "b2N3OKqE-Qk_",
        "outputId": "43f59312-129a-4bf7-c12c-961b1b735ee6"
      },
      "outputs": [
        {
          "output_type": "execute_result",
          "data": {
            "text/plain": [
              "Index(['ASSETID', 'PERIOD', 'PRICE', 'UNITPRICE', 'CONSTRUCTEDAREA',\n",
              "       'ROOMNUMBER', 'BATHNUMBER', 'HASTERRACE', 'HASLIFT',\n",
              "       'HASAIRCONDITIONING', 'AMENITYID', 'HASPARKINGSPACE',\n",
              "       'ISPARKINGSPACEINCLUDEDINPRICE', 'PARKINGSPACEPRICE',\n",
              "       'HASNORTHORIENTATION', 'HASSOUTHORIENTATION', 'HASEASTORIENTATION',\n",
              "       'HASWESTORIENTATION', 'HASBOXROOM', 'HASWARDROBE', 'HASSWIMMINGPOOL',\n",
              "       'HASDOORMAN', 'HASGARDEN', 'ISDUPLEX', 'ISSTUDIO', 'ISINTOPFLOOR',\n",
              "       'CONSTRUCTIONYEAR', 'FLOORCLEAN', 'FLATLOCATIONID',\n",
              "       'CADCONSTRUCTIONYEAR', 'CADMAXBUILDINGFLOOR', 'CADDWELLINGCOUNT',\n",
              "       'CADASTRALQUALITYID', 'BUILTTYPEID_1', 'BUILTTYPEID_2', 'BUILTTYPEID_3',\n",
              "       'DISTANCE_TO_CITY_CENTER', 'DISTANCE_TO_METRO',\n",
              "       'DISTANCE_TO_CASTELLANA', 'LONGITUDE', 'LATITUDE', 'geometry'],\n",
              "      dtype='object')"
            ]
          },
          "metadata": {},
          "execution_count": 3
        }
      ],
      "source": [
        "madrid_sale_df.columns"
      ]
    },
    {
      "cell_type": "code",
      "execution_count": 4,
      "metadata": {
        "id": "uJGq2cwZEB2o"
      },
      "outputs": [],
      "source": [
        "madrid_sale_df = madrid_sale_df.drop(columns=['ASSETID',\"geometry\"])"
      ]
    },
    {
      "cell_type": "markdown",
      "metadata": {
        "id": "-HvnxzIMGOiR"
      },
      "source": [
        "Ahora se va a realizar un análisis de correlación contra la variable Price, para posteriormente ver como son esas variables"
      ]
    },
    {
      "cell_type": "code",
      "execution_count": 5,
      "metadata": {
        "id": "2W8SRRiIGNxi",
        "colab": {
          "base_uri": "https://localhost:8080/"
        },
        "outputId": "1a41054a-9c50-4215-f5ea-af5f6c450272"
      },
      "outputs": [
        {
          "output_type": "stream",
          "name": "stdout",
          "text": [
            "\n",
            "--- Correlaciones Pearson (continuas) ---\n",
            "                         Pearson con PRICE\n",
            "CONSTRUCTEDAREA                   0.859471\n",
            "BATHNUMBER                        0.717569\n",
            "ROOMNUMBER                        0.464571\n",
            "LATITUDE                          0.246950\n",
            "FLOORCLEAN                        0.176653\n",
            "CADMAXBUILDINGFLOOR               0.165207\n",
            "PARKINGSPACEPRICE                 0.054933\n",
            "CADDWELLINGCOUNT                 -0.000711\n",
            "DISTANCE_TO_METRO                -0.011383\n",
            "LONGITUDE                        -0.035541\n",
            "CONSTRUCTIONYEAR                 -0.056794\n",
            "CADCONSTRUCTIONYEAR              -0.074108\n",
            "DISTANCE_TO_CITY_CENTER          -0.201389\n",
            "DISTANCE_TO_CASTELLANA           -0.249092\n",
            "\n",
            "--- Correlaciones Spearman (continuas) ---\n",
            "                         Spearman con PRICE\n",
            "CONSTRUCTEDAREA                    0.725092\n",
            "BATHNUMBER                         0.671420\n",
            "LATITUDE                           0.456912\n",
            "ROOMNUMBER                         0.395370\n",
            "CADMAXBUILDINGFLOOR                0.361696\n",
            "FLOORCLEAN                         0.227832\n",
            "CADDWELLINGCOUNT                   0.221354\n",
            "PARKINGSPACEPRICE                  0.079104\n",
            "LONGITUDE                          0.016372\n",
            "CONSTRUCTIONYEAR                  -0.011229\n",
            "CADCONSTRUCTIONYEAR               -0.020868\n",
            "DISTANCE_TO_METRO                 -0.173279\n",
            "DISTANCE_TO_CITY_CENTER           -0.311553\n",
            "DISTANCE_TO_CASTELLANA            -0.435237\n",
            "\n",
            "--- p-valores ANOVA (categóricas) ---\n",
            "                               p-valor ANOVA\n",
            "HASAIRCONDITIONING              0.000000e+00\n",
            "HASLIFT                         0.000000e+00\n",
            "ISPARKINGSPACEINCLUDEDINPRICE   0.000000e+00\n",
            "HASPARKINGSPACE                 0.000000e+00\n",
            "HASWARDROBE                     0.000000e+00\n",
            "HASDOORMAN                      0.000000e+00\n",
            "HASBOXROOM                      0.000000e+00\n",
            "CADASTRALQUALITYID              0.000000e+00\n",
            "FLATLOCATIONID                 3.288323e-241\n",
            "HASSWIMMINGPOOL                7.985753e-215\n",
            "HASWESTORIENTATION             4.209001e-193\n",
            "HASSOUTHORIENTATION            4.034877e-143\n",
            "ISSTUDIO                       8.449117e-116\n",
            "HASGARDEN                      1.089072e-103\n",
            "HASTERRACE                      2.282804e-87\n",
            "BUILTTYPEID_3                   5.650996e-83\n",
            "BUILTTYPEID_2                   6.908029e-81\n",
            "ISDUPLEX                        4.891831e-74\n",
            "HASEASTORIENTATION              3.989862e-60\n",
            "PERIOD                          1.182790e-45\n",
            "HASNORTHORIENTATION             3.954794e-45\n",
            "ISINTOPFLOOR                    5.653957e-22\n",
            "BUILTTYPEID_1                   1.901439e-03\n",
            "AMENITYID                       8.826130e-03\n"
          ]
        }
      ],
      "source": [
        "import pandas as pd\n",
        "import numpy as np\n",
        "from scipy.stats import spearmanr, pearsonr, f_oneway\n",
        "\n",
        "# Copiar el DataFrame original\n",
        "df = madrid_sale_df.copy()\n",
        "\n",
        "# Inicializar diccionarios para resultados\n",
        "correlaciones_pearson = {}\n",
        "correlaciones_spearman = {}\n",
        "anova_categoricas = {}\n",
        "\n",
        "# Columnas a excluir manualmente\n",
        "excluded_cols = ['UNITPRICE']\n",
        "\n",
        "# Iterar sobre todas las columnas\n",
        "for col in df.columns:\n",
        "    if col == 'PRICE' or col in excluded_cols:\n",
        "        continue\n",
        "\n",
        "    n_unique = df[col].nunique(dropna=True)\n",
        "\n",
        "    # Variables continuas: numéricas con más de 10 valores únicos\n",
        "    if n_unique > 10:\n",
        "        try:\n",
        "            valid_rows = df[['PRICE', col]].dropna()\n",
        "            pearson_corr, _ = pearsonr(valid_rows['PRICE'], valid_rows[col])\n",
        "            spearman_corr, _ = spearmanr(valid_rows['PRICE'], valid_rows[col])\n",
        "            correlaciones_pearson[col] = pearson_corr\n",
        "            correlaciones_spearman[col] = spearman_corr\n",
        "        except Exception as e:\n",
        "            print(f\"No se pudo calcular correlación para {col}: {e}\")\n",
        "\n",
        "    # Variables categóricas: pocas categorías (<= 10)\n",
        "    elif n_unique <= 10:\n",
        "        try:\n",
        "            groups = [group['PRICE'].dropna() for name, group in df[[col, 'PRICE']].groupby(col)]\n",
        "            if len(groups) > 1:\n",
        "                _, p_val = f_oneway(*groups)\n",
        "                anova_categoricas[col] = p_val\n",
        "        except Exception as e:\n",
        "            print(f\"No se pudo calcular ANOVA para {col}: {e}\")\n",
        "\n",
        "# Crear DataFrames con resultados ordenados\n",
        "df_pearson = pd.DataFrame.from_dict(correlaciones_pearson, orient='index', columns=['Pearson con PRICE'])\n",
        "df_pearson = df_pearson.sort_values(by='Pearson con PRICE', ascending=False)\n",
        "\n",
        "df_spearman = pd.DataFrame.from_dict(correlaciones_spearman, orient='index', columns=['Spearman con PRICE'])\n",
        "df_spearman = df_spearman.sort_values(by='Spearman con PRICE', ascending=False)\n",
        "\n",
        "df_anova = pd.DataFrame.from_dict(anova_categoricas, orient='index', columns=['p-valor ANOVA'])\n",
        "df_anova = df_anova.sort_values(by='p-valor ANOVA')\n",
        "\n",
        "# Mostrar resultados\n",
        "print(\"\\n--- Correlaciones Pearson (continuas) ---\")\n",
        "print(df_pearson)\n",
        "\n",
        "print(\"\\n--- Correlaciones Spearman (continuas) ---\")\n",
        "print(df_spearman)\n",
        "\n",
        "print(\"\\n--- p-valores ANOVA (categóricas) ---\")\n",
        "print(df_anova)\n"
      ]
    },
    {
      "cell_type": "markdown",
      "metadata": {
        "id": "y3EY60YBQyHS"
      },
      "source": [
        "Una vez análizado cuales son las variables mas correlacionadas con la variable objetivo, que son CONSTRUCTEDAREA, BATHNUMER, ROOMNUMBER, HASAIRCONDITIONING y HASLIFT, se van a representar graficamente. Previamente, se va a representar la variable PRICE"
      ]
    },
    {
      "cell_type": "markdown",
      "source": [
        "Variable PRICE"
      ],
      "metadata": {
        "id": "h-5uqJQSVi8T"
      }
    },
    {
      "cell_type": "code",
      "execution_count": null,
      "metadata": {
        "id": "sNhVWOXR9jSV",
        "colab": {
          "base_uri": "https://localhost:8080/",
          "height": 335
        },
        "outputId": "95d1f953-f206-410e-8f6d-514ff58ddb86"
      },
      "outputs": [
        {
          "output_type": "execute_result",
          "data": {
            "text/plain": [
              "count    9.481500e+04\n",
              "mean     3.961101e+05\n",
              "std      4.170744e+05\n",
              "min      2.100000e+04\n",
              "25%      1.600000e+05\n",
              "50%      2.620000e+05\n",
              "75%      4.670000e+05\n",
              "max      8.133000e+06\n",
              "Name: PRICE, dtype: float64"
            ],
            "text/html": [
              "<div>\n",
              "<style scoped>\n",
              "    .dataframe tbody tr th:only-of-type {\n",
              "        vertical-align: middle;\n",
              "    }\n",
              "\n",
              "    .dataframe tbody tr th {\n",
              "        vertical-align: top;\n",
              "    }\n",
              "\n",
              "    .dataframe thead th {\n",
              "        text-align: right;\n",
              "    }\n",
              "</style>\n",
              "<table border=\"1\" class=\"dataframe\">\n",
              "  <thead>\n",
              "    <tr style=\"text-align: right;\">\n",
              "      <th></th>\n",
              "      <th>PRICE</th>\n",
              "    </tr>\n",
              "  </thead>\n",
              "  <tbody>\n",
              "    <tr>\n",
              "      <th>count</th>\n",
              "      <td>9.481500e+04</td>\n",
              "    </tr>\n",
              "    <tr>\n",
              "      <th>mean</th>\n",
              "      <td>3.961101e+05</td>\n",
              "    </tr>\n",
              "    <tr>\n",
              "      <th>std</th>\n",
              "      <td>4.170744e+05</td>\n",
              "    </tr>\n",
              "    <tr>\n",
              "      <th>min</th>\n",
              "      <td>2.100000e+04</td>\n",
              "    </tr>\n",
              "    <tr>\n",
              "      <th>25%</th>\n",
              "      <td>1.600000e+05</td>\n",
              "    </tr>\n",
              "    <tr>\n",
              "      <th>50%</th>\n",
              "      <td>2.620000e+05</td>\n",
              "    </tr>\n",
              "    <tr>\n",
              "      <th>75%</th>\n",
              "      <td>4.670000e+05</td>\n",
              "    </tr>\n",
              "    <tr>\n",
              "      <th>max</th>\n",
              "      <td>8.133000e+06</td>\n",
              "    </tr>\n",
              "  </tbody>\n",
              "</table>\n",
              "</div><br><label><b>dtype:</b> float64</label>"
            ]
          },
          "metadata": {},
          "execution_count": 6
        }
      ],
      "source": [
        "df['PRICE'].describe()"
      ]
    },
    {
      "cell_type": "code",
      "execution_count": null,
      "metadata": {
        "id": "alNuuZIxuQHe",
        "colab": {
          "base_uri": "https://localhost:8080/"
        },
        "outputId": "e0ada65e-a493-44e7-a0f7-9e3e4a2f1d4e"
      },
      "outputs": [
        {
          "output_type": "stream",
          "name": "stdout",
          "text": [
            "Registro con el valor máximo de PRICE (8,133,000):\n",
            "       PERIOD      PRICE    UNITPRICE  CONSTRUCTEDAREA  ROOMNUMBER  \\\n",
            "56067  201812  8133000.0  8707.708779              934           8   \n",
            "\n",
            "       BATHNUMBER  HASTERRACE  HASLIFT  HASAIRCONDITIONING  AMENITYID  ...  \\\n",
            "56067          10           0        0                   0          3  ...   \n",
            "\n",
            "       CADDWELLINGCOUNT  CADASTRALQUALITYID  BUILTTYPEID_1  BUILTTYPEID_2  \\\n",
            "56067                 2                   2              0              0   \n",
            "\n",
            "       BUILTTYPEID_3  DISTANCE_TO_CITY_CENTER  DISTANCE_TO_METRO  \\\n",
            "56067              1                 3.252209           0.507632   \n",
            "\n",
            "       DISTANCE_TO_CASTELLANA  LONGITUDE  LATITUDE  \n",
            "56067                0.123339  -3.690056  40.44387  \n",
            "\n",
            "[1 rows x 40 columns]\n"
          ]
        }
      ],
      "source": [
        "# Encontrar el registro con el valor máximo de PRICE\n",
        "max_price = 8.133000e+06\n",
        "max_price_row = df[df['PRICE'] == max_price]\n",
        "\n",
        "# Verificar si se encontró el registro\n",
        "if not max_price_row.empty:\n",
        "    print(\"Registro con el valor máximo de PRICE (8,133,000):\")\n",
        "    print(max_price_row)\n",
        "else:\n",
        "    print(f\"No se encontró un registro con PRICE igual a {max_price}. Verifica el valor o el DataFrame.\")"
      ]
    },
    {
      "cell_type": "markdown",
      "source": [
        "Variable constructed area"
      ],
      "metadata": {
        "id": "9O74MVYDVpK6"
      }
    },
    {
      "cell_type": "code",
      "source": [
        "import pandas as pd\n",
        "import matplotlib.pyplot as plt\n",
        "import seaborn as sns\n",
        "\n",
        "\n",
        "# Configuración general de gráficos\n",
        "sns.set(style=\"whitegrid\")\n",
        "plt.rcParams[\"figure.figsize\"] = (10, 6)\n",
        "\n",
        "# ANÁLISIS DE LA VARIABLE PRICE\n",
        "col = 'CONSTRUCTEDAREA'\n",
        "\n",
        "# Crear figura con dos subgráficos\n",
        "fig, axes = plt.subplots(1, 2, figsize=(16, 5))\n",
        "\n",
        "# Histograma\n",
        "sns.histplot(df[col].dropna(), kde=True, ax=axes[0], color=\"skyblue\")\n",
        "axes[0].set_title(f\"Histograma de {col}\")\n",
        "axes[0].set_xlabel(col)\n",
        "axes[0].set_ylabel(\"Frecuencia\")\n",
        "\n",
        "# Boxplot\n",
        "sns.boxplot(x=df[col].dropna(), ax=axes[1], color=\"salmon\")\n",
        "axes[1].set_title(f\"Boxplot de {col}\")\n",
        "axes[1].set_xlabel(col)\n",
        "\n",
        "plt.tight_layout()\n",
        "plt.show()"
      ],
      "metadata": {
        "colab": {
          "base_uri": "https://localhost:8080/",
          "height": 501
        },
        "id": "dEbosmopVtLK",
        "outputId": "8a6c524e-4b54-4f1d-dc3b-7c2b62ec358e"
      },
      "execution_count": null,
      "outputs": [
        {
          "output_type": "display_data",
          "data": {
            "text/plain": [
              "<Figure size 1600x500 with 2 Axes>"
            ],
            "image/png": "[encoded data removed]"
          },
          "metadata": {}
        }
      ]
    },
    {
      "cell_type": "markdown",
      "source": [
        "Variable BATNUMBER"
      ],
      "metadata": {
        "id": "XwhuIVmdV9B7"
      }
    },
    {
      "cell_type": "code",
      "source": [
        "import pandas as pd\n",
        "import matplotlib.pyplot as plt\n",
        "import seaborn as sns\n",
        "import numpy as np\n",
        "\n",
        "# Asegúrate de tener cargado tu DataFrame como `df`\n",
        "\n",
        "# Configuración general de gráficos\n",
        "sns.set(style=\"whitegrid\")\n",
        "plt.rcParams[\"figure.figsize\"] = (10, 6)\n",
        "\n",
        "# ANÁLISIS DE LA VARIABLE BATHNUMBER\n",
        "col = 'BATHNUMBER'\n",
        "\n",
        "# Crear una copia de la columna y agrupar valores > 6\n",
        "df_temp = df[[col]].copy()\n",
        "df_temp['BATHNUMBER_CATEG'] = df_temp[col].apply(lambda x: str(x) if x <= 5 else '6+' if pd.notnull(x) else x)\n",
        "\n",
        "# Definir el orden explícito de las categorías como tipo categórico\n",
        "category_order = ['0', '1', '2', '3', '4', '5', '6+']\n",
        "df_temp['BATHNUMBER_CATEG'] = pd.Categorical(df_temp['BATHNUMBER_CATEG'], categories=category_order, ordered=True)\n",
        "\n",
        "# Crear figura con dos subgráficos\n",
        "fig, axes = plt.subplots(1, 2, figsize=(16, 5))\n",
        "\n",
        "# Histograma con porcentajes y orden explícito\n",
        "sns.histplot(data=df_temp, x='BATHNUMBER_CATEG', ax=axes[0], color=\"skyblue\", stat=\"percent\")\n",
        "axes[0].set_title(f\"Histograma de {col}\")\n",
        "axes[0].set_xlabel(col)\n",
        "axes[0].set_ylabel(\"Porcentaje (%)\")\n",
        "\n",
        "# Boxplot de la variable original con ticks de 3 en 3\n",
        "sns.boxplot(x=df[col].dropna(), ax=axes[1], color=\"salmon\")\n",
        "axes[1].set_title(f\"Boxplot de {col}\")\n",
        "axes[1].set_xlabel(col)\n",
        "# Ajustar los ticks del eje x a valores enteros de 3 en 3\n",
        "min_val = int(df[col].dropna().min())\n",
        "max_val = int(df[col].dropna().max())\n",
        "integer_ticks = range(min_val - (min_val % 3), max_val + 1, 3)\n",
        "axes[1].set_xticks(integer_ticks)\n",
        "\n",
        "plt.tight_layout()\n",
        "plt.show()"
      ],
      "metadata": {
        "colab": {
          "base_uri": "https://localhost:8080/",
          "height": 501
        },
        "id": "V67x-HNuV_Oj",
        "outputId": "1d210484-6f55-40e6-aeb0-0781ce660f84"
      },
      "execution_count": null,
      "outputs": [
        {
          "output_type": "display_data",
          "data": {
            "text/plain": [
              "<Figure size 1600x500 with 2 Axes>"
            ],
            "image/png": "[encoded data removed]"
          },
          "metadata": {}
        }
      ]
    },
    {
      "cell_type": "code",
      "source": [
        "# Encontrar el registro con el valor máximo de bathnumber\n",
        "max_bath = 20\n",
        "max_bath_row = df[df['BATHNUMBER'] == max_bath]\n",
        "\n",
        "# Verificar si se encontró el registro\n",
        "if not max_bath_row.empty:\n",
        "    print(\"Registro con el valor máximo de BATHNUMBER (20):\")\n",
        "    print(max_bath_row)\n",
        "else:\n",
        "    print(f\"No se encontró un registro con BATHNUMBER igual a {max_bath_row}. Verifica el valor o el DataFrame.\")"
      ],
      "metadata": {
        "colab": {
          "base_uri": "https://localhost:8080/"
        },
        "id": "pohGabTDWFfp",
        "outputId": "7a086e52-5ae1-49e9-a2de-7c669c033632"
      },
      "execution_count": 6,
      "outputs": [
        {
          "output_type": "stream",
          "name": "stdout",
          "text": [
            "Registro con el valor máximo de BATHNUMBER (20):\n",
            "       PERIOD     PRICE    UNITPRICE  CONSTRUCTEDAREA  ROOMNUMBER  BATHNUMBER  \\\n",
            "68892  201806  850000.0  1416.666667              600          20          20   \n",
            "\n",
            "       HASTERRACE  HASLIFT  HASAIRCONDITIONING  AMENITYID  ...  \\\n",
            "68892           0        0                   1          3  ...   \n",
            "\n",
            "       CADDWELLINGCOUNT  CADASTRALQUALITYID  BUILTTYPEID_1  BUILTTYPEID_2  \\\n",
            "68892                43                   3              0              1   \n",
            "\n",
            "       BUILTTYPEID_3  DISTANCE_TO_CITY_CENTER  DISTANCE_TO_METRO  \\\n",
            "68892              0                 2.386553           0.319877   \n",
            "\n",
            "       DISTANCE_TO_CASTELLANA  LONGITUDE   LATITUDE  \n",
            "68892                1.130627  -3.678763  40.406766  \n",
            "\n",
            "[1 rows x 40 columns]\n"
          ]
        }
      ]
    },
    {
      "cell_type": "markdown",
      "source": [
        "Variable ROOMNUMBER"
      ],
      "metadata": {
        "id": "YI_wzqQ3WNdr"
      }
    },
    {
      "cell_type": "code",
      "source": [
        "import pandas as pd\n",
        "import matplotlib.pyplot as plt\n",
        "import seaborn as sns\n",
        "import numpy as np\n",
        "\n",
        "# Configuración general de gráficos\n",
        "sns.set(style=\"whitegrid\")\n",
        "plt.rcParams[\"figure.figsize\"] = (10, 6)\n",
        "\n",
        "# ANÁLISIS DE LA VARIABLE ROOMNUMBER\n",
        "col = 'ROOMNUMBER'\n",
        "\n",
        "# Crear una copia de la columna y agrupar valores > 6\n",
        "df_temp = df[[col]].copy()\n",
        "df_temp['ROOMNUMBER_CATEG'] = df_temp[col].apply(lambda x: str(x) if x <= 5 else '6+' if pd.notnull(x) else x)\n",
        "\n",
        "# Definir el orden explícito de las categorías como tipo categórico\n",
        "category_order = ['0', '1', '2', '3', '4', '5', '6+']\n",
        "df_temp['ROOMNUMBER_CATEG'] = pd.Categorical(df_temp['ROOMNUMBER_CATEG'], categories=category_order, ordered=True)\n",
        "\n",
        "# Crear figura con dos subgráficos\n",
        "fig, axes = plt.subplots(1, 2, figsize=(16, 5))\n",
        "\n",
        "# Histograma con porcentajes y orden explícito\n",
        "sns.histplot(data=df_temp, x='ROOMNUMBER_CATEG', ax=axes[0], color=\"skyblue\", stat=\"percent\")\n",
        "axes[0].set_title(f\"Histograma de {col}\")\n",
        "axes[0].set_xlabel(col)\n",
        "axes[0].set_ylabel(\"Porcentaje (%)\")\n",
        "\n",
        "# Boxplot de la variable original con ticks de 3 en 3\n",
        "sns.boxplot(x=df[col].dropna(), ax=axes[1], color=\"salmon\")\n",
        "axes[1].set_title(f\"Boxplot de {col}\")\n",
        "axes[1].set_xlabel(col)\n",
        "# Ajustar los ticks del eje x a valores enteros de 3 en 3\n",
        "min_val = int(df[col].dropna().min())\n",
        "max_val = int(df[col].dropna().max())\n",
        "integer_ticks = range(min_val - (min_val % 3), max_val + 1, 10)\n",
        "axes[1].set_xticks(integer_ticks)\n",
        "\n",
        "plt.tight_layout()\n",
        "plt.show()"
      ],
      "metadata": {
        "colab": {
          "base_uri": "https://localhost:8080/",
          "height": 501
        },
        "id": "kZKhfw0pWPvL",
        "outputId": "25effb07-19ea-447a-ac03-3644de2d6a18"
      },
      "execution_count": null,
      "outputs": [
        {
          "output_type": "display_data",
          "data": {
            "text/plain": [
              "<Figure size 1600x500 with 2 Axes>"
            ],
            "image/png": "[encoded data removed]"
          },
          "metadata": {}
        }
      ]
    },
    {
      "cell_type": "code",
      "source": [
        "# Encontrar el registro con ROOMNUMBER == 93\n",
        "max_room_number = 93\n",
        "max_room_number_row = df[df['ROOMNUMBER'] == max_room_number]\n",
        "\n",
        "# Verificar si se encontró el registro\n",
        "if not max_room_number_row.empty:\n",
        "    print(\"Registro con ROOMNUMBER == 93:\")\n",
        "    print(max_room_number_row)\n",
        "else:\n",
        "    print(f\"No se encontró un registro con ROOMNUMBER igual a {max_room_number}. Verifica el valor o el DataFrame.\")"
      ],
      "metadata": {
        "colab": {
          "base_uri": "https://localhost:8080/"
        },
        "id": "mhZG0uziWTtL",
        "outputId": "91422fb3-38d3-4fe8-f780-c8b428f33091"
      },
      "execution_count": null,
      "outputs": [
        {
          "output_type": "stream",
          "name": "stdout",
          "text": [
            "Registro con ROOMNUMBER == 93:\n",
            "       PERIOD     PRICE    UNITPRICE  CONSTRUCTEDAREA  ROOMNUMBER  BATHNUMBER  \\\n",
            "17639  201803  450000.0  3781.512605              119          93           2   \n",
            "\n",
            "       HASTERRACE  HASLIFT  HASAIRCONDITIONING  AMENITYID  ...  \\\n",
            "17639           1        1                   1          3  ...   \n",
            "\n",
            "       CADDWELLINGCOUNT  CADASTRALQUALITYID  BUILTTYPEID_1  BUILTTYPEID_2  \\\n",
            "17639               421                   4              0              0   \n",
            "\n",
            "       BUILTTYPEID_3  DISTANCE_TO_CITY_CENTER  DISTANCE_TO_METRO  \\\n",
            "17639              1                 7.020016           0.197061   \n",
            "\n",
            "       DISTANCE_TO_CASTELLANA  LONGITUDE  LATITUDE  \n",
            "17639                 5.85295  -3.623555  40.40096  \n",
            "\n",
            "[1 rows x 40 columns]\n"
          ]
        }
      ]
    },
    {
      "cell_type": "code",
      "source": [
        "# Encontrar el registro con ROOMNUMBER == 93\n",
        "max_room_number = 93\n",
        "max_room_number_row = df[df['ROOMNUMBER'] == max_room_number]\n",
        "\n",
        "# Verificar si se encontró el registro\n",
        "if not max_room_number_row.empty:\n",
        "\n",
        "    # Eliminar el registro con ROOMNUMBER == 93\n",
        "    df = df[df['ROOMNUMBER'] != max_room_number].reset_index(drop=True)\n",
        "    print(f\"\\nRegistro(s) con ROOMNUMBER == {max_room_number} eliminado(s).\")\n",
        "    print(\"Nuevo tamaño de df:\", df.shape)\n",
        "else:\n",
        "    print(f\"No se encontró un registro con ROOMNUMBER igual a {max_room_number}. Verifica el valor o el DataFrame.\")"
      ],
      "metadata": {
        "colab": {
          "base_uri": "https://localhost:8080/"
        },
        "id": "ILN_AwwTWZDi",
        "outputId": "9016df71-71c1-461d-a253-902a64f02e8c"
      },
      "execution_count": null,
      "outputs": [
        {
          "output_type": "stream",
          "name": "stdout",
          "text": [
            "\n",
            "Registro(s) con ROOMNUMBER == 93 eliminado(s).\n",
            "Nuevo tamaño de df: (94814, 40)\n"
          ]
        }
      ]
    },
    {
      "cell_type": "code",
      "source": [
        "\n",
        "# Configuración general de gráficos\n",
        "sns.set(style=\"whitegrid\")\n",
        "plt.rcParams[\"figure.figsize\"] = (10, 6)\n",
        "\n",
        "# ANÁLISIS DE LA VARIABLE ROOMNUMBER\n",
        "col = 'ROOMNUMBER'\n",
        "\n",
        "# Crear una copia de la columna y agrupar valores > 6\n",
        "df_temp = df[[col]].copy()\n",
        "df_temp['ROOMNUMBER_CATEG'] = df_temp[col].apply(lambda x: str(x) if x <= 5 else '6+' if pd.notnull(x) else x)\n",
        "\n",
        "# Definir el orden explícito de las categorías como tipo categórico\n",
        "category_order = ['0', '1', '2', '3', '4', '5', '6+']\n",
        "df_temp['ROOMNUMBER_CATEG'] = pd.Categorical(df_temp['ROOMNUMBER_CATEG'], categories=category_order, ordered=True)\n",
        "\n",
        "# Crear figura con dos subgráficos\n",
        "fig, axes = plt.subplots(1, 2, figsize=(16, 5))\n",
        "\n",
        "# Histograma con porcentajes y orden explícito\n",
        "sns.histplot(data=df_temp, x='ROOMNUMBER_CATEG', ax=axes[0], color=\"skyblue\", stat=\"percent\")\n",
        "axes[0].set_title(f\"Histograma de {col}\")\n",
        "axes[0].set_xlabel(col)\n",
        "axes[0].set_ylabel(\"Porcentaje (%)\")\n",
        "\n",
        "# Boxplot de la variable original con ticks de 3 en 3\n",
        "sns.boxplot(x=df[col].dropna(), ax=axes[1], color=\"salmon\")\n",
        "axes[1].set_title(f\"Boxplot de {col}\")\n",
        "axes[1].set_xlabel(col)\n",
        "# Ajustar los ticks del eje x a valores enteros de 3 en 3\n",
        "min_val = int(df[col].dropna().min())\n",
        "max_val = int(df[col].dropna().max())\n",
        "integer_ticks = range(min_val - (min_val % 3), max_val + 1, 10)\n",
        "axes[1].set_xticks(integer_ticks)\n",
        "\n",
        "plt.tight_layout()\n",
        "plt.show()"
      ],
      "metadata": {
        "colab": {
          "base_uri": "https://localhost:8080/",
          "height": 501
        },
        "id": "CiMYTUDsWcAb",
        "outputId": "446abbd0-7a2d-4b37-e5b8-04672aac08f9"
      },
      "execution_count": null,
      "outputs": [
        {
          "output_type": "display_data",
          "data": {
            "text/plain": [
              "<Figure size 1600x500 with 2 Axes>"
            ],
            "image/png": "[encoded data removed]"
          },
          "metadata": {}
        }
      ]
    },
    {
      "cell_type": "markdown",
      "source": [
        "Variable HASAIRCONDITIONING y HASLIFT"
      ],
      "metadata": {
        "id": "IOvFh6ajWeIU"
      }
    },
    {
      "cell_type": "code",
      "source": [
        "vars_categoricas = ['HASAIRCONDITIONING', 'HASLIFT']\n",
        "\n",
        "# Configuración general de gráficos\n",
        "sns.set(style=\"whitegrid\")\n",
        "plt.rcParams[\"figure.figsize\"] = (10, 6)\n",
        "\n",
        "# ANÁLISIS DE VARIABLES CATEGÓRICAS\n",
        "for col in vars_categoricas:\n",
        "    plt.figure(figsize=(10, 5))\n",
        "\n",
        "    # Si hay muchas categorías, solo mostramos las más frecuentes\n",
        "    if df[col].nunique() > 15:\n",
        "        top_cats = df[col].value_counts().nlargest(15)\n",
        "        sns.barplot(x=top_cats.index.astype(str), y=top_cats.values, palette=\"viridis\")\n",
        "        plt.title(f\"Top 15 categorías más frecuentes de {col}\")\n",
        "    else:\n",
        "        sns.countplot(x=col, data=df, palette=\"pastel\")\n",
        "        plt.title(f\"Frecuencia de categorías en {col}\")\n",
        "\n",
        "    plt.xticks(rotation=45)\n",
        "    plt.xlabel(col)\n",
        "    plt.ylabel(\"Frecuencia\")\n",
        "    plt.tight_layout()\n",
        "    plt.show()"
      ],
      "metadata": {
        "colab": {
          "base_uri": "https://localhost:8080/",
          "height": 1000
        },
        "id": "TekbznelWhjE",
        "outputId": "699ff6ca-d2bd-4484-df26-b19356999ff7"
      },
      "execution_count": null,
      "outputs": [
        {
          "output_type": "stream",
          "name": "stderr",
          "text": [
            "/tmp/ipython-input-16-625279172.py:17: FutureWarning: \n",
            "\n",
            "Passing `palette` without assigning `hue` is deprecated and will be removed in v0.14.0. Assign the `x` variable to `hue` and set `legend=False` for the same effect.\n",
            "\n",
            "  sns.countplot(x=col, data=df, palette=\"pastel\")\n"
          ]
        },
        {
          "output_type": "display_data",
          "data": {
            "text/plain": [
              "<Figure size 1000x500 with 1 Axes>"
            ],
            "image/png": "[encoded data removed]"
          },
          "metadata": {}
        },
        {
          "output_type": "stream",
          "name": "stderr",
          "text": [
            "/tmp/ipython-input-16-625279172.py:17: FutureWarning: \n",
            "\n",
            "Passing `palette` without assigning `hue` is deprecated and will be removed in v0.14.0. Assign the `x` variable to `hue` and set `legend=False` for the same effect.\n",
            "\n",
            "  sns.countplot(x=col, data=df, palette=\"pastel\")\n"
          ]
        },
        {
          "output_type": "display_data",
          "data": {
            "text/plain": [
              "<Figure size 1000x500 with 1 Axes>"
            ],
            "image/png": "[encoded data removed]"
          },
          "metadata": {}
        }
      ]
    },
    {
      "cell_type": "markdown",
      "metadata": {
        "id": "OCAlTFfsihb1"
      },
      "source": [
        "# Pre-procesamiento de los datos"
      ]
    },
    {
      "cell_type": "markdown",
      "metadata": {
        "id": "VDsfLeciTaGD"
      },
      "source": [
        "En primer lugar, se comprueba si existen columnas con datos faltantes"
      ]
    },
    {
      "cell_type": "code",
      "execution_count": null,
      "metadata": {
        "colab": {
          "base_uri": "https://localhost:8080/",
          "height": 1000
        },
        "id": "GpnVWXu4TZMx",
        "outputId": "b5eaceb0-a697-4e3a-ff89-f384e059fef9"
      },
      "outputs": [
        {
          "output_type": "execute_result",
          "data": {
            "text/plain": [
              "PERIOD                               0\n",
              "PRICE                                0\n",
              "UNITPRICE                            0\n",
              "CONSTRUCTEDAREA                      0\n",
              "ROOMNUMBER                           0\n",
              "BATHNUMBER                           0\n",
              "HASTERRACE                           0\n",
              "HASLIFT                              0\n",
              "HASAIRCONDITIONING                   0\n",
              "AMENITYID                            0\n",
              "HASPARKINGSPACE                      0\n",
              "ISPARKINGSPACEINCLUDEDINPRICE        0\n",
              "PARKINGSPACEPRICE                    0\n",
              "HASNORTHORIENTATION                  0\n",
              "HASSOUTHORIENTATION                  0\n",
              "HASEASTORIENTATION                   0\n",
              "HASWESTORIENTATION                   0\n",
              "HASBOXROOM                           0\n",
              "HASWARDROBE                          0\n",
              "HASSWIMMINGPOOL                      0\n",
              "HASDOORMAN                           0\n",
              "HASGARDEN                            0\n",
              "ISDUPLEX                             0\n",
              "ISSTUDIO                             0\n",
              "ISINTOPFLOOR                         0\n",
              "CONSTRUCTIONYEAR                 55872\n",
              "FLOORCLEAN                        3846\n",
              "FLATLOCATIONID                    6387\n",
              "CADCONSTRUCTIONYEAR                  0\n",
              "CADMAXBUILDINGFLOOR                  0\n",
              "CADDWELLINGCOUNT                     0\n",
              "CADASTRALQUALITYID                   1\n",
              "BUILTTYPEID_1                        0\n",
              "BUILTTYPEID_2                        0\n",
              "BUILTTYPEID_3                        0\n",
              "DISTANCE_TO_CITY_CENTER              0\n",
              "DISTANCE_TO_METRO                    0\n",
              "DISTANCE_TO_CASTELLANA               0\n",
              "LONGITUDE                            0\n",
              "LATITUDE                             0\n",
              "dtype: int64"
            ],
            "text/html": [
              "<div>\n",
              "<style scoped>\n",
              "    .dataframe tbody tr th:only-of-type {\n",
              "        vertical-align: middle;\n",
              "    }\n",
              "\n",
              "    .dataframe tbody tr th {\n",
              "        vertical-align: top;\n",
              "    }\n",
              "\n",
              "    .dataframe thead th {\n",
              "        text-align: right;\n",
              "    }\n",
              "</style>\n",
              "<table border=\"1\" class=\"dataframe\">\n",
              "  <thead>\n",
              "    <tr style=\"text-align: right;\">\n",
              "      <th></th>\n",
              "      <th>0</th>\n",
              "    </tr>\n",
              "  </thead>\n",
              "  <tbody>\n",
              "    <tr>\n",
              "      <th>PERIOD</th>\n",
              "      <td>0</td>\n",
              "    </tr>\n",
              "    <tr>\n",
              "      <th>PRICE</th>\n",
              "      <td>0</td>\n",
              "    </tr>\n",
              "    <tr>\n",
              "      <th>UNITPRICE</th>\n",
              "      <td>0</td>\n",
              "    </tr>\n",
              "    <tr>\n",
              "      <th>CONSTRUCTEDAREA</th>\n",
              "      <td>0</td>\n",
              "    </tr>\n",
              "    <tr>\n",
              "      <th>ROOMNUMBER</th>\n",
              "      <td>0</td>\n",
              "    </tr>\n",
              "    <tr>\n",
              "      <th>BATHNUMBER</th>\n",
              "      <td>0</td>\n",
              "    </tr>\n",
              "    <tr>\n",
              "      <th>HASTERRACE</th>\n",
              "      <td>0</td>\n",
              "    </tr>\n",
              "    <tr>\n",
              "      <th>HASLIFT</th>\n",
              "      <td>0</td>\n",
              "    </tr>\n",
              "    <tr>\n",
              "      <th>HASAIRCONDITIONING</th>\n",
              "      <td>0</td>\n",
              "    </tr>\n",
              "    <tr>\n",
              "      <th>AMENITYID</th>\n",
              "      <td>0</td>\n",
              "    </tr>\n",
              "    <tr>\n",
              "      <th>HASPARKINGSPACE</th>\n",
              "      <td>0</td>\n",
              "    </tr>\n",
              "    <tr>\n",
              "      <th>ISPARKINGSPACEINCLUDEDINPRICE</th>\n",
              "      <td>0</td>\n",
              "    </tr>\n",
              "    <tr>\n",
              "      <th>PARKINGSPACEPRICE</th>\n",
              "      <td>0</td>\n",
              "    </tr>\n",
              "    <tr>\n",
              "      <th>HASNORTHORIENTATION</th>\n",
              "      <td>0</td>\n",
              "    </tr>\n",
              "    <tr>\n",
              "      <th>HASSOUTHORIENTATION</th>\n",
              "      <td>0</td>\n",
              "    </tr>\n",
              "    <tr>\n",
              "      <th>HASEASTORIENTATION</th>\n",
              "      <td>0</td>\n",
              "    </tr>\n",
              "    <tr>\n",
              "      <th>HASWESTORIENTATION</th>\n",
              "      <td>0</td>\n",
              "    </tr>\n",
              "    <tr>\n",
              "      <th>HASBOXROOM</th>\n",
              "      <td>0</td>\n",
              "    </tr>\n",
              "    <tr>\n",
              "      <th>HASWARDROBE</th>\n",
              "      <td>0</td>\n",
              "    </tr>\n",
              "    <tr>\n",
              "      <th>HASSWIMMINGPOOL</th>\n",
              "      <td>0</td>\n",
              "    </tr>\n",
              "    <tr>\n",
              "      <th>HASDOORMAN</th>\n",
              "      <td>0</td>\n",
              "    </tr>\n",
              "    <tr>\n",
              "      <th>HASGARDEN</th>\n",
              "      <td>0</td>\n",
              "    </tr>\n",
              "    <tr>\n",
              "      <th>ISDUPLEX</th>\n",
              "      <td>0</td>\n",
              "    </tr>\n",
              "    <tr>\n",
              "      <th>ISSTUDIO</th>\n",
              "      <td>0</td>\n",
              "    </tr>\n",
              "    <tr>\n",
              "      <th>ISINTOPFLOOR</th>\n",
              "      <td>0</td>\n",
              "    </tr>\n",
              "    <tr>\n",
              "      <th>CONSTRUCTIONYEAR</th>\n",
              "      <td>55872</td>\n",
              "    </tr>\n",
              "    <tr>\n",
              "      <th>FLOORCLEAN</th>\n",
              "      <td>3846</td>\n",
              "    </tr>\n",
              "    <tr>\n",
              "      <th>FLATLOCATIONID</th>\n",
              "      <td>6387</td>\n",
              "    </tr>\n",
              "    <tr>\n",
              "      <th>CADCONSTRUCTIONYEAR</th>\n",
              "      <td>0</td>\n",
              "    </tr>\n",
              "    <tr>\n",
              "      <th>CADMAXBUILDINGFLOOR</th>\n",
              "      <td>0</td>\n",
              "    </tr>\n",
              "    <tr>\n",
              "      <th>CADDWELLINGCOUNT</th>\n",
              "      <td>0</td>\n",
              "    </tr>\n",
              "    <tr>\n",
              "      <th>CADASTRALQUALITYID</th>\n",
              "      <td>1</td>\n",
              "    </tr>\n",
              "    <tr>\n",
              "      <th>BUILTTYPEID_1</th>\n",
              "      <td>0</td>\n",
              "    </tr>\n",
              "    <tr>\n",
              "      <th>BUILTTYPEID_2</th>\n",
              "      <td>0</td>\n",
              "    </tr>\n",
              "    <tr>\n",
              "      <th>BUILTTYPEID_3</th>\n",
              "      <td>0</td>\n",
              "    </tr>\n",
              "    <tr>\n",
              "      <th>DISTANCE_TO_CITY_CENTER</th>\n",
              "      <td>0</td>\n",
              "    </tr>\n",
              "    <tr>\n",
              "      <th>DISTANCE_TO_METRO</th>\n",
              "      <td>0</td>\n",
              "    </tr>\n",
              "    <tr>\n",
              "      <th>DISTANCE_TO_CASTELLANA</th>\n",
              "      <td>0</td>\n",
              "    </tr>\n",
              "    <tr>\n",
              "      <th>LONGITUDE</th>\n",
              "      <td>0</td>\n",
              "    </tr>\n",
              "    <tr>\n",
              "      <th>LATITUDE</th>\n",
              "      <td>0</td>\n",
              "    </tr>\n",
              "  </tbody>\n",
              "</table>\n",
              "</div><br><label><b>dtype:</b> int64</label>"
            ]
          },
          "metadata": {},
          "execution_count": 19
        }
      ],
      "source": [
        "df.isna().sum()"
      ]
    },
    {
      "cell_type": "markdown",
      "metadata": {
        "id": "MzLbv5EsOhiB"
      },
      "source": [
        "La columna \"CONTRUCTIONYEAR\" tiene 55.872 missing de 94.814 (58,93%), por lo que se va a eliminar la columna. Sobre el resto de datos faltantes, se va a imputar a través de la mediana.\n",
        "\n",
        "Posteriormente, se van a eliminar las variables \"assetid\" por ser únicamente un identificador, \"unitprice\", porque es el PRICE dividido por los m2, por lo que no tiene sentido mantenerla como variable explicativa, \"period\", porque todos los pisos son de la misma fecha y \"geometry\", porque son los datos de longitud y latitud combinados."
      ]
    },
    {
      "cell_type": "code",
      "execution_count": null,
      "metadata": {
        "id": "AngiJy1GOz6B"
      },
      "outputs": [],
      "source": [
        "madrid_sale_df_2 = df.drop(columns=[\"CONSTRUCTIONYEAR\", \"UNITPRICE\", \"PERIOD\"])"
      ]
    },
    {
      "cell_type": "markdown",
      "metadata": {
        "id": "VVGrh-4mUaBI"
      },
      "source": [
        "Ahora imputamos los missing a través de los k vecinos"
      ]
    },
    {
      "cell_type": "code",
      "execution_count": null,
      "metadata": {
        "id": "jWLmsgTWUdk4"
      },
      "outputs": [],
      "source": [
        "import pandas as pd\n",
        "from sklearn.impute import SimpleImputer\n",
        "from sklearn.impute import KNNImputer\n",
        "\n",
        "imputer = KNNImputer(n_neighbors=5)\n",
        "madrid_sale_df_2_imputed = pd.DataFrame(\n",
        "    imputer.fit_transform(madrid_sale_df_2),\n",
        "    columns=madrid_sale_df_2.columns,\n",
        "    index=madrid_sale_df_2.index\n",
        ")\n",
        "\n"
      ]
    },
    {
      "cell_type": "code",
      "execution_count": null,
      "metadata": {
        "colab": {
          "base_uri": "https://localhost:8080/",
          "height": 1000
        },
        "id": "l7--8yJvUnPY",
        "outputId": "d6ae8256-2f63-48f1-a702-9e93791864ed"
      },
      "outputs": [
        {
          "output_type": "execute_result",
          "data": {
            "text/plain": [
              "PRICE                            0\n",
              "CONSTRUCTEDAREA                  0\n",
              "ROOMNUMBER                       0\n",
              "BATHNUMBER                       0\n",
              "HASTERRACE                       0\n",
              "HASLIFT                          0\n",
              "HASAIRCONDITIONING               0\n",
              "AMENITYID                        0\n",
              "HASPARKINGSPACE                  0\n",
              "ISPARKINGSPACEINCLUDEDINPRICE    0\n",
              "PARKINGSPACEPRICE                0\n",
              "HASNORTHORIENTATION              0\n",
              "HASSOUTHORIENTATION              0\n",
              "HASEASTORIENTATION               0\n",
              "HASWESTORIENTATION               0\n",
              "HASBOXROOM                       0\n",
              "HASWARDROBE                      0\n",
              "HASSWIMMINGPOOL                  0\n",
              "HASDOORMAN                       0\n",
              "HASGARDEN                        0\n",
              "ISDUPLEX                         0\n",
              "ISSTUDIO                         0\n",
              "ISINTOPFLOOR                     0\n",
              "FLOORCLEAN                       0\n",
              "FLATLOCATIONID                   0\n",
              "CADCONSTRUCTIONYEAR              0\n",
              "CADMAXBUILDINGFLOOR              0\n",
              "CADDWELLINGCOUNT                 0\n",
              "CADASTRALQUALITYID               0\n",
              "BUILTTYPEID_1                    0\n",
              "BUILTTYPEID_2                    0\n",
              "BUILTTYPEID_3                    0\n",
              "DISTANCE_TO_CITY_CENTER          0\n",
              "DISTANCE_TO_METRO                0\n",
              "DISTANCE_TO_CASTELLANA           0\n",
              "LONGITUDE                        0\n",
              "LATITUDE                         0\n",
              "dtype: int64"
            ],
            "text/html": [
              "<div>\n",
              "<style scoped>\n",
              "    .dataframe tbody tr th:only-of-type {\n",
              "        vertical-align: middle;\n",
              "    }\n",
              "\n",
              "    .dataframe tbody tr th {\n",
              "        vertical-align: top;\n",
              "    }\n",
              "\n",
              "    .dataframe thead th {\n",
              "        text-align: right;\n",
              "    }\n",
              "</style>\n",
              "<table border=\"1\" class=\"dataframe\">\n",
              "  <thead>\n",
              "    <tr style=\"text-align: right;\">\n",
              "      <th></th>\n",
              "      <th>0</th>\n",
              "    </tr>\n",
              "  </thead>\n",
              "  <tbody>\n",
              "    <tr>\n",
              "      <th>PRICE</th>\n",
              "      <td>0</td>\n",
              "    </tr>\n",
              "    <tr>\n",
              "      <th>CONSTRUCTEDAREA</th>\n",
              "      <td>0</td>\n",
              "    </tr>\n",
              "    <tr>\n",
              "      <th>ROOMNUMBER</th>\n",
              "      <td>0</td>\n",
              "    </tr>\n",
              "    <tr>\n",
              "      <th>BATHNUMBER</th>\n",
              "      <td>0</td>\n",
              "    </tr>\n",
              "    <tr>\n",
              "      <th>HASTERRACE</th>\n",
              "      <td>0</td>\n",
              "    </tr>\n",
              "    <tr>\n",
              "      <th>HASLIFT</th>\n",
              "      <td>0</td>\n",
              "    </tr>\n",
              "    <tr>\n",
              "      <th>HASAIRCONDITIONING</th>\n",
              "      <td>0</td>\n",
              "    </tr>\n",
              "    <tr>\n",
              "      <th>AMENITYID</th>\n",
              "      <td>0</td>\n",
              "    </tr>\n",
              "    <tr>\n",
              "      <th>HASPARKINGSPACE</th>\n",
              "      <td>0</td>\n",
              "    </tr>\n",
              "    <tr>\n",
              "      <th>ISPARKINGSPACEINCLUDEDINPRICE</th>\n",
              "      <td>0</td>\n",
              "    </tr>\n",
              "    <tr>\n",
              "      <th>PARKINGSPACEPRICE</th>\n",
              "      <td>0</td>\n",
              "    </tr>\n",
              "    <tr>\n",
              "      <th>HASNORTHORIENTATION</th>\n",
              "      <td>0</td>\n",
              "    </tr>\n",
              "    <tr>\n",
              "      <th>HASSOUTHORIENTATION</th>\n",
              "      <td>0</td>\n",
              "    </tr>\n",
              "    <tr>\n",
              "      <th>HASEASTORIENTATION</th>\n",
              "      <td>0</td>\n",
              "    </tr>\n",
              "    <tr>\n",
              "      <th>HASWESTORIENTATION</th>\n",
              "      <td>0</td>\n",
              "    </tr>\n",
              "    <tr>\n",
              "      <th>HASBOXROOM</th>\n",
              "      <td>0</td>\n",
              "    </tr>\n",
              "    <tr>\n",
              "      <th>HASWARDROBE</th>\n",
              "      <td>0</td>\n",
              "    </tr>\n",
              "    <tr>\n",
              "      <th>HASSWIMMINGPOOL</th>\n",
              "      <td>0</td>\n",
              "    </tr>\n",
              "    <tr>\n",
              "      <th>HASDOORMAN</th>\n",
              "      <td>0</td>\n",
              "    </tr>\n",
              "    <tr>\n",
              "      <th>HASGARDEN</th>\n",
              "      <td>0</td>\n",
              "    </tr>\n",
              "    <tr>\n",
              "      <th>ISDUPLEX</th>\n",
              "      <td>0</td>\n",
              "    </tr>\n",
              "    <tr>\n",
              "      <th>ISSTUDIO</th>\n",
              "      <td>0</td>\n",
              "    </tr>\n",
              "    <tr>\n",
              "      <th>ISINTOPFLOOR</th>\n",
              "      <td>0</td>\n",
              "    </tr>\n",
              "    <tr>\n",
              "      <th>FLOORCLEAN</th>\n",
              "      <td>0</td>\n",
              "    </tr>\n",
              "    <tr>\n",
              "      <th>FLATLOCATIONID</th>\n",
              "      <td>0</td>\n",
              "    </tr>\n",
              "    <tr>\n",
              "      <th>CADCONSTRUCTIONYEAR</th>\n",
              "      <td>0</td>\n",
              "    </tr>\n",
              "    <tr>\n",
              "      <th>CADMAXBUILDINGFLOOR</th>\n",
              "      <td>0</td>\n",
              "    </tr>\n",
              "    <tr>\n",
              "      <th>CADDWELLINGCOUNT</th>\n",
              "      <td>0</td>\n",
              "    </tr>\n",
              "    <tr>\n",
              "      <th>CADASTRALQUALITYID</th>\n",
              "      <td>0</td>\n",
              "    </tr>\n",
              "    <tr>\n",
              "      <th>BUILTTYPEID_1</th>\n",
              "      <td>0</td>\n",
              "    </tr>\n",
              "    <tr>\n",
              "      <th>BUILTTYPEID_2</th>\n",
              "      <td>0</td>\n",
              "    </tr>\n",
              "    <tr>\n",
              "      <th>BUILTTYPEID_3</th>\n",
              "      <td>0</td>\n",
              "    </tr>\n",
              "    <tr>\n",
              "      <th>DISTANCE_TO_CITY_CENTER</th>\n",
              "      <td>0</td>\n",
              "    </tr>\n",
              "    <tr>\n",
              "      <th>DISTANCE_TO_METRO</th>\n",
              "      <td>0</td>\n",
              "    </tr>\n",
              "    <tr>\n",
              "      <th>DISTANCE_TO_CASTELLANA</th>\n",
              "      <td>0</td>\n",
              "    </tr>\n",
              "    <tr>\n",
              "      <th>LONGITUDE</th>\n",
              "      <td>0</td>\n",
              "    </tr>\n",
              "    <tr>\n",
              "      <th>LATITUDE</th>\n",
              "      <td>0</td>\n",
              "    </tr>\n",
              "  </tbody>\n",
              "</table>\n",
              "</div><br><label><b>dtype:</b> int64</label>"
            ]
          },
          "metadata": {},
          "execution_count": 22
        }
      ],
      "source": [
        "#Se comprueba si hay missing\n",
        "madrid_sale_df_2_imputed.isna().sum()"
      ]
    },
    {
      "cell_type": "markdown",
      "metadata": {
        "id": "QJjnn1INmnnV"
      },
      "source": [
        "Una vez analizados los missing de cada variable, se va a analizar si existen valores outlier en cada variable. Se va a considerar outlier todo aquel que esté fuera de $[Q1 - 1.5*IQR, Q3 + 1.5*IQR]$"
      ]
    },
    {
      "cell_type": "code",
      "execution_count": null,
      "metadata": {
        "colab": {
          "base_uri": "https://localhost:8080/"
        },
        "id": "mRY1PPtZm9NF",
        "outputId": "f1eac3e0-3d7a-4d54-f587-35c9ea15f0e7"
      },
      "outputs": [
        {
          "output_type": "stream",
          "name": "stdout",
          "text": [
            "Número de outliers por columna:\n",
            "PRICE: 6782 outliers\n",
            "CONSTRUCTEDAREA: 6957 outliers\n",
            "ROOMNUMBER: 7419 outliers\n",
            "BATHNUMBER: 3118 outliers\n",
            "PARKINGSPACEPRICE: 2191 outliers\n",
            "FLOORCLEAN: 2317 outliers\n",
            "CADCONSTRUCTIONYEAR: 6381 outliers\n",
            "CADMAXBUILDINGFLOOR: 4055 outliers\n",
            "CADDWELLINGCOUNT: 10854 outliers\n",
            "DISTANCE_TO_CITY_CENTER: 800 outliers\n",
            "DISTANCE_TO_METRO: 6923 outliers\n",
            "DISTANCE_TO_CASTELLANA: 2809 outliers\n",
            "LONGITUDE: 4201 outliers\n",
            "LATITUDE: 182 outliers\n"
          ]
        }
      ],
      "source": [
        "#Identificar outliers usando IQR\n",
        "def detect_outliers_iqr(df, columns):\n",
        "    outliers_dict = {}\n",
        "    for col in columns:\n",
        "        Q1 = df[col].quantile(0.25)\n",
        "        Q3 = df[col].quantile(0.75)\n",
        "        IQR = Q3 - Q1\n",
        "        lower_bound = Q1 - 1.5 * IQR\n",
        "        upper_bound = Q3 + 1.5 * IQR\n",
        "        outliers = df[(df[col] < lower_bound) | (df[col] > upper_bound)][col]\n",
        "        outliers_dict[col] = len(outliers)\n",
        "    return outliers_dict\n",
        "\n",
        "continuous_cols = [\n",
        "    col for col in madrid_sale_df_2_imputed.select_dtypes(include=['number']).columns\n",
        "    if madrid_sale_df_2_imputed[col].nunique(dropna=True) > 10 and col != 'CADASTRALQUALITYID'\n",
        "]\n",
        "\n",
        "outliers_summary = detect_outliers_iqr(madrid_sale_df_2_imputed, continuous_cols)\n",
        "\n",
        "print(\"Número de outliers por columna:\")\n",
        "for col, count in outliers_summary.items():\n",
        "    print(f\"{col}: {count} outliers\")"
      ]
    },
    {
      "cell_type": "markdown",
      "metadata": {
        "id": "-ieL8awlPJAq"
      },
      "source": [
        "Ahora se divide en train/test y cada uno de ellos en variable objetivo, que es \"PRICE\" y variables explicativas, el resto."
      ]
    },
    {
      "cell_type": "code",
      "execution_count": null,
      "metadata": {
        "id": "njS_tc1XPIVa"
      },
      "outputs": [],
      "source": [
        "from sklearn.model_selection import train_test_split\n",
        "\n",
        "# Dividir en 80% train y 20% test (puedes ajustar test_size según necesites)\n",
        "madrid_sale_train_df, madrid_sale_test_df = train_test_split(\n",
        "    madrid_sale_df_2_imputed,\n",
        "    test_size=0.2,\n",
        "    random_state=42\n",
        ")\n",
        "#Train\n",
        "madrid_sale_train_df_obj=madrid_sale_train_df[\"PRICE\"]\n",
        "madrid_sale_train_df_expl = madrid_sale_train_df.drop(columns=[\"PRICE\"])\n",
        "#Test\n",
        "madrid_sale_test_df_obj=madrid_sale_test_df[\"PRICE\"]\n",
        "madrid_sale_test_df_expl = madrid_sale_test_df.drop(columns=[\"PRICE\"])"
      ]
    },
    {
      "cell_type": "markdown",
      "metadata": {
        "id": "HTA3aPnbIjjG"
      },
      "source": [
        "## PCA al conjunto de entrenamiento"
      ]
    },
    {
      "cell_type": "markdown",
      "metadata": {
        "id": "GeNeeBVeo6TW"
      },
      "source": [
        "En este punto, se va a aplicar PCA, que es una técnica que transforma un conjunto de variables posiblemente correlacionadas en un conjunto de variables no correlacionadas llamadas componentes principales. Estos componentes capturan la mayor parte de la variabilidad de los datos con menos dimensiones."
      ]
    },
    {
      "cell_type": "markdown",
      "metadata": {
        "id": "7RPozDe0IlS5"
      },
      "source": [
        "### PCA Lineal"
      ]
    },
    {
      "cell_type": "code",
      "execution_count": null,
      "metadata": {
        "colab": {
          "base_uri": "https://localhost:8080/",
          "height": 618
        },
        "id": "0cPINv_VRP38",
        "outputId": "883c506f-1756-4018-f1a0-a6f1bd877ce1"
      },
      "outputs": [
        {
          "output_type": "display_data",
          "data": {
            "text/plain": [
              "<Figure size 1000x600 with 1 Axes>"
            ],
            "image/png": "[encoded data removed]"
          },
          "metadata": {}
        },
        {
          "output_type": "stream",
          "name": "stdout",
          "text": [
            "Componentes necesarias para explicar el 80% de la varianza: 20\n"
          ]
        }
      ],
      "source": [
        "import pandas as pd\n",
        "import numpy as np\n",
        "from sklearn.preprocessing import StandardScaler\n",
        "from sklearn.decomposition import PCA\n",
        "from sklearn.impute import SimpleImputer\n",
        "import matplotlib.pyplot as plt\n",
        "import seaborn as sns\n",
        "\n",
        "#Selección del DataFrame ya preprocesado\n",
        "df = madrid_sale_train_df_expl.copy()\n",
        "\n",
        "#Estandarización de los datos\n",
        "scaler = StandardScaler()\n",
        "df_scaled = scaler.fit_transform(df)\n",
        "\n",
        "#PCA clásico\n",
        "pca = PCA()\n",
        "pca.fit(df_scaled)\n",
        "\n",
        "#Varianza explicada\n",
        "explained_variance = pca.explained_variance_ratio_\n",
        "cumulative_variance = np.cumsum(explained_variance)\n",
        "\n",
        "# Gráfico de varianza explicada acumulada\n",
        "plt.figure(figsize=(10, 6))\n",
        "plt.plot(cumulative_variance * 100, marker='o')\n",
        "plt.ylabel('Varianza explicada acumulada (%)')\n",
        "plt.title('PCA - Varianza explicada acumulada')\n",
        "plt.grid(True)\n",
        "plt.axhline(80, color='red', linestyle='--', label='80%')\n",
        "plt.legend()\n",
        "plt.tight_layout()\n",
        "plt.show()\n",
        "\n",
        "# Cuántas componentes necesitamos para el 80%\n",
        "n_components_90 = np.argmax(cumulative_variance >= 0.80) + 1\n",
        "print(f\"Componentes necesarias para explicar el 80% de la varianza: {n_components_90}\")"
      ]
    },
    {
      "cell_type": "markdown",
      "metadata": {
        "id": "LYteetrkInt8"
      },
      "source": [
        "### PCA con kernel"
      ]
    },
    {
      "cell_type": "markdown",
      "metadata": {
        "id": "IjR1fw7ujXWV"
      },
      "source": [
        "#### Núcleo Sigmoide"
      ]
    },
    {
      "cell_type": "code",
      "execution_count": null,
      "metadata": {
        "colab": {
          "base_uri": "https://localhost:8080/",
          "height": 356
        },
        "id": "_oOzGvAS2Lsi",
        "outputId": "1b9cf02f-5fbc-431d-8ac0-72131dc23c51"
      },
      "outputs": [
        {
          "output_type": "error",
          "ename": "KeyboardInterrupt",
          "evalue": "",
          "traceback": [
            "\u001b[0;31m---------------------------------------------------------------------------\u001b[0m",
            "\u001b[0;31mKeyboardInterrupt\u001b[0m                         Traceback (most recent call last)",
            "\u001b[0;32m/tmp/ipython-input-26-4213916545.py\u001b[0m in \u001b[0;36m<cell line: 0>\u001b[0;34m()\u001b[0m\n\u001b[1;32m     24\u001b[0m     \u001b[0mfit_inverse_transform\u001b[0m\u001b[0;34m=\u001b[0m\u001b[0;32mFalse\u001b[0m\u001b[0;34m\u001b[0m\u001b[0;34m\u001b[0m\u001b[0m\n\u001b[1;32m     25\u001b[0m )\n\u001b[0;32m---> 26\u001b[0;31m \u001b[0mX_kpca\u001b[0m \u001b[0;34m=\u001b[0m \u001b[0mkpca\u001b[0m\u001b[0;34m.\u001b[0m\u001b[0mfit_transform\u001b[0m\u001b[0;34m(\u001b[0m\u001b[0mdf_scaled\u001b[0m\u001b[0;34m)\u001b[0m\u001b[0;34m\u001b[0m\u001b[0;34m\u001b[0m\u001b[0m\n\u001b[0m\u001b[1;32m     27\u001b[0m \u001b[0;34m\u001b[0m\u001b[0m\n\u001b[1;32m     28\u001b[0m \u001b[0;31m# Paso 3: Calcular varianza explicada (estimada)\u001b[0m\u001b[0;34m\u001b[0m\u001b[0;34m\u001b[0m\u001b[0m\n",
            "\u001b[0;32m/usr/local/lib/python3.11/dist-packages/sklearn/utils/_set_output.py\u001b[0m in \u001b[0;36mwrapped\u001b[0;34m(self, X, *args, **kwargs)\u001b[0m\n\u001b[1;32m    317\u001b[0m     \u001b[0;34m@\u001b[0m\u001b[0mwraps\u001b[0m\u001b[0;34m(\u001b[0m\u001b[0mf\u001b[0m\u001b[0;34m)\u001b[0m\u001b[0;34m\u001b[0m\u001b[0;34m\u001b[0m\u001b[0m\n\u001b[1;32m    318\u001b[0m     \u001b[0;32mdef\u001b[0m \u001b[0mwrapped\u001b[0m\u001b[0;34m(\u001b[0m\u001b[0mself\u001b[0m\u001b[0;34m,\u001b[0m \u001b[0mX\u001b[0m\u001b[0;34m,\u001b[0m \u001b[0;34m*\u001b[0m\u001b[0margs\u001b[0m\u001b[0;34m,\u001b[0m \u001b[0;34m**\u001b[0m\u001b[0mkwargs\u001b[0m\u001b[0;34m)\u001b[0m\u001b[0;34m:\u001b[0m\u001b[0;34m\u001b[0m\u001b[0;34m\u001b[0m\u001b[0m\n\u001b[0;32m--> 319\u001b[0;31m         \u001b[0mdata_to_wrap\u001b[0m \u001b[0;34m=\u001b[0m \u001b[0mf\u001b[0m\u001b[0;34m(\u001b[0m\u001b[0mself\u001b[0m\u001b[0;34m,\u001b[0m \u001b[0mX\u001b[0m\u001b[0;34m,\u001b[0m \u001b[0;34m*\u001b[0m\u001b[0margs\u001b[0m\u001b[0;34m,\u001b[0m \u001b[0;34m**\u001b[0m\u001b[0mkwargs\u001b[0m\u001b[0;34m)\u001b[0m\u001b[0;34m\u001b[0m\u001b[0;34m\u001b[0m\u001b[0m\n\u001b[0m\u001b[1;32m    320\u001b[0m         \u001b[0;32mif\u001b[0m \u001b[0misinstance\u001b[0m\u001b[0;34m(\u001b[0m\u001b[0mdata_to_wrap\u001b[0m\u001b[0;34m,\u001b[0m \u001b[0mtuple\u001b[0m\u001b[0;34m)\u001b[0m\u001b[0;34m:\u001b[0m\u001b[0;34m\u001b[0m\u001b[0;34m\u001b[0m\u001b[0m\n\u001b[1;32m    321\u001b[0m             \u001b[0;31m# only wrap the first output for cross decomposition\u001b[0m\u001b[0;34m\u001b[0m\u001b[0;34m\u001b[0m\u001b[0m\n",
            "\u001b[0;32m/usr/local/lib/python3.11/dist-packages/sklearn/decomposition/_kernel_pca.py\u001b[0m in \u001b[0;36mfit_transform\u001b[0;34m(self, X, y, **params)\u001b[0m\n\u001b[1;32m    474\u001b[0m             \u001b[0mReturns\u001b[0m \u001b[0mthe\u001b[0m \u001b[0minstance\u001b[0m \u001b[0mitself\u001b[0m\u001b[0;34m.\u001b[0m\u001b[0;34m\u001b[0m\u001b[0;34m\u001b[0m\u001b[0m\n\u001b[1;32m    475\u001b[0m         \"\"\"\n\u001b[0;32m--> 476\u001b[0;31m         \u001b[0mself\u001b[0m\u001b[0;34m.\u001b[0m\u001b[0mfit\u001b[0m\u001b[0;34m(\u001b[0m\u001b[0mX\u001b[0m\u001b[0;34m,\u001b[0m \u001b[0;34m**\u001b[0m\u001b[0mparams\u001b[0m\u001b[0;34m)\u001b[0m\u001b[0;34m\u001b[0m\u001b[0;34m\u001b[0m\u001b[0m\n\u001b[0m\u001b[1;32m    477\u001b[0m \u001b[0;34m\u001b[0m\u001b[0m\n\u001b[1;32m    478\u001b[0m         \u001b[0;31m# no need to use the kernel to transform X, use shortcut expression\u001b[0m\u001b[0;34m\u001b[0m\u001b[0;34m\u001b[0m\u001b[0m\n",
            "\u001b[0;32m/usr/local/lib/python3.11/dist-packages/sklearn/base.py\u001b[0m in \u001b[0;36mwrapper\u001b[0;34m(estimator, *args, **kwargs)\u001b[0m\n\u001b[1;32m   1387\u001b[0m                 )\n\u001b[1;32m   1388\u001b[0m             ):\n\u001b[0;32m-> 1389\u001b[0;31m                 \u001b[0;32mreturn\u001b[0m \u001b[0mfit_method\u001b[0m\u001b[0;34m(\u001b[0m\u001b[0mestimator\u001b[0m\u001b[0;34m,\u001b[0m \u001b[0;34m*\u001b[0m\u001b[0margs\u001b[0m\u001b[0;34m,\u001b[0m \u001b[0;34m**\u001b[0m\u001b[0mkwargs\u001b[0m\u001b[0;34m)\u001b[0m\u001b[0;34m\u001b[0m\u001b[0;34m\u001b[0m\u001b[0m\n\u001b[0m\u001b[1;32m   1390\u001b[0m \u001b[0;34m\u001b[0m\u001b[0m\n\u001b[1;32m   1391\u001b[0m         \u001b[0;32mreturn\u001b[0m \u001b[0mwrapper\u001b[0m\u001b[0;34m\u001b[0m\u001b[0;34m\u001b[0m\u001b[0m\n",
            "\u001b[0;32m/usr/local/lib/python3.11/dist-packages/sklearn/decomposition/_kernel_pca.py\u001b[0m in \u001b[0;36mfit\u001b[0;34m(self, X, y)\u001b[0m\n\u001b[1;32m    442\u001b[0m         \u001b[0;31m# When kernel=\"precomputed\", K is X but it's safe to perform in place operations\u001b[0m\u001b[0;34m\u001b[0m\u001b[0;34m\u001b[0m\u001b[0m\n\u001b[1;32m    443\u001b[0m         \u001b[0;31m# on K because a copy was made before if requested by copy_X.\u001b[0m\u001b[0;34m\u001b[0m\u001b[0;34m\u001b[0m\u001b[0m\n\u001b[0;32m--> 444\u001b[0;31m         \u001b[0mself\u001b[0m\u001b[0;34m.\u001b[0m\u001b[0m_fit_transform_in_place\u001b[0m\u001b[0;34m(\u001b[0m\u001b[0mK\u001b[0m\u001b[0;34m)\u001b[0m\u001b[0;34m\u001b[0m\u001b[0;34m\u001b[0m\u001b[0m\n\u001b[0m\u001b[1;32m    445\u001b[0m \u001b[0;34m\u001b[0m\u001b[0m\n\u001b[1;32m    446\u001b[0m         \u001b[0;32mif\u001b[0m \u001b[0mself\u001b[0m\u001b[0;34m.\u001b[0m\u001b[0mfit_inverse_transform\u001b[0m\u001b[0;34m:\u001b[0m\u001b[0;34m\u001b[0m\u001b[0;34m\u001b[0m\u001b[0m\n",
            "\u001b[0;32m/usr/local/lib/python3.11/dist-packages/sklearn/decomposition/_kernel_pca.py\u001b[0m in \u001b[0;36m_fit_transform_in_place\u001b[0;34m(self, K)\u001b[0m\n\u001b[1;32m    357\u001b[0m             )\n\u001b[1;32m    358\u001b[0m         \u001b[0;32melif\u001b[0m \u001b[0meigen_solver\u001b[0m \u001b[0;34m==\u001b[0m \u001b[0;34m\"randomized\"\u001b[0m\u001b[0;34m:\u001b[0m\u001b[0;34m\u001b[0m\u001b[0;34m\u001b[0m\u001b[0m\n\u001b[0;32m--> 359\u001b[0;31m             self.eigenvalues_, self.eigenvectors_ = _randomized_eigsh(\n\u001b[0m\u001b[1;32m    360\u001b[0m                 \u001b[0mK\u001b[0m\u001b[0;34m,\u001b[0m\u001b[0;34m\u001b[0m\u001b[0;34m\u001b[0m\u001b[0m\n\u001b[1;32m    361\u001b[0m                 \u001b[0mn_components\u001b[0m\u001b[0;34m=\u001b[0m\u001b[0mn_components\u001b[0m\u001b[0;34m,\u001b[0m\u001b[0;34m\u001b[0m\u001b[0;34m\u001b[0m\u001b[0m\n",
            "\u001b[0;32m/usr/local/lib/python3.11/dist-packages/sklearn/utils/extmath.py\u001b[0m in \u001b[0;36m_randomized_eigsh\u001b[0;34m(M, n_components, n_oversamples, n_iter, power_iteration_normalizer, selection, random_state)\u001b[0m\n\u001b[1;32m    688\u001b[0m         \u001b[0;31m# Note: no need for deterministic U and Vt (flip_sign=True),\u001b[0m\u001b[0;34m\u001b[0m\u001b[0;34m\u001b[0m\u001b[0m\n\u001b[1;32m    689\u001b[0m         \u001b[0;31m# as we only use the dot product UVt afterwards\u001b[0m\u001b[0;34m\u001b[0m\u001b[0;34m\u001b[0m\u001b[0m\n\u001b[0;32m--> 690\u001b[0;31m         U, S, Vt = randomized_svd(\n\u001b[0m\u001b[1;32m    691\u001b[0m             \u001b[0mM\u001b[0m\u001b[0;34m,\u001b[0m\u001b[0;34m\u001b[0m\u001b[0;34m\u001b[0m\u001b[0m\n\u001b[1;32m    692\u001b[0m             \u001b[0mn_components\u001b[0m\u001b[0;34m=\u001b[0m\u001b[0mn_components\u001b[0m\u001b[0;34m,\u001b[0m\u001b[0;34m\u001b[0m\u001b[0;34m\u001b[0m\u001b[0m\n",
            "\u001b[0;32m/usr/local/lib/python3.11/dist-packages/sklearn/utils/_param_validation.py\u001b[0m in \u001b[0;36mwrapper\u001b[0;34m(*args, **kwargs)\u001b[0m\n\u001b[1;32m    187\u001b[0m             \u001b[0mglobal_skip_validation\u001b[0m \u001b[0;34m=\u001b[0m \u001b[0mget_config\u001b[0m\u001b[0;34m(\u001b[0m\u001b[0;34m)\u001b[0m\u001b[0;34m[\u001b[0m\u001b[0;34m\"skip_parameter_validation\"\u001b[0m\u001b[0;34m]\u001b[0m\u001b[0;34m\u001b[0m\u001b[0;34m\u001b[0m\u001b[0m\n\u001b[1;32m    188\u001b[0m             \u001b[0;32mif\u001b[0m \u001b[0mglobal_skip_validation\u001b[0m\u001b[0;34m:\u001b[0m\u001b[0;34m\u001b[0m\u001b[0;34m\u001b[0m\u001b[0m\n\u001b[0;32m--> 189\u001b[0;31m                 \u001b[0;32mreturn\u001b[0m \u001b[0mfunc\u001b[0m\u001b[0;34m(\u001b[0m\u001b[0;34m*\u001b[0m\u001b[0margs\u001b[0m\u001b[0;34m,\u001b[0m \u001b[0;34m**\u001b[0m\u001b[0mkwargs\u001b[0m\u001b[0;34m)\u001b[0m\u001b[0;34m\u001b[0m\u001b[0;34m\u001b[0m\u001b[0m\n\u001b[0m\u001b[1;32m    190\u001b[0m \u001b[0;34m\u001b[0m\u001b[0m\n\u001b[1;32m    191\u001b[0m             \u001b[0mfunc_sig\u001b[0m \u001b[0;34m=\u001b[0m \u001b[0msignature\u001b[0m\u001b[0;34m(\u001b[0m\u001b[0mfunc\u001b[0m\u001b[0;34m)\u001b[0m\u001b[0;34m\u001b[0m\u001b[0;34m\u001b[0m\u001b[0m\n",
            "\u001b[0;32m/usr/local/lib/python3.11/dist-packages/sklearn/utils/extmath.py\u001b[0m in \u001b[0;36mrandomized_svd\u001b[0;34m(M, n_components, n_oversamples, n_iter, power_iteration_normalizer, transpose, flip_sign, random_state, svd_lapack_driver)\u001b[0m\n\u001b[1;32m    522\u001b[0m         \u001b[0mM\u001b[0m \u001b[0;34m=\u001b[0m \u001b[0mM\u001b[0m\u001b[0;34m.\u001b[0m\u001b[0mT\u001b[0m\u001b[0;34m\u001b[0m\u001b[0;34m\u001b[0m\u001b[0m\n\u001b[1;32m    523\u001b[0m \u001b[0;34m\u001b[0m\u001b[0m\n\u001b[0;32m--> 524\u001b[0;31m     Q = randomized_range_finder(\n\u001b[0m\u001b[1;32m    525\u001b[0m         \u001b[0mM\u001b[0m\u001b[0;34m,\u001b[0m\u001b[0;34m\u001b[0m\u001b[0;34m\u001b[0m\u001b[0m\n\u001b[1;32m    526\u001b[0m         \u001b[0msize\u001b[0m\u001b[0;34m=\u001b[0m\u001b[0mn_random\u001b[0m\u001b[0;34m,\u001b[0m\u001b[0;34m\u001b[0m\u001b[0;34m\u001b[0m\u001b[0m\n",
            "\u001b[0;32m/usr/local/lib/python3.11/dist-packages/sklearn/utils/extmath.py\u001b[0m in \u001b[0;36mrandomized_range_finder\u001b[0;34m(A, size, n_iter, power_iteration_normalizer, random_state)\u001b[0m\n\u001b[1;32m    333\u001b[0m     \u001b[0;31m# singular vectors of A in Q\u001b[0m\u001b[0;34m\u001b[0m\u001b[0;34m\u001b[0m\u001b[0m\n\u001b[1;32m    334\u001b[0m     \u001b[0;32mfor\u001b[0m \u001b[0m_\u001b[0m \u001b[0;32min\u001b[0m \u001b[0mrange\u001b[0m\u001b[0;34m(\u001b[0m\u001b[0mn_iter\u001b[0m\u001b[0;34m)\u001b[0m\u001b[0;34m:\u001b[0m\u001b[0;34m\u001b[0m\u001b[0;34m\u001b[0m\u001b[0m\n\u001b[0;32m--> 335\u001b[0;31m         \u001b[0mQ\u001b[0m\u001b[0;34m,\u001b[0m \u001b[0m_\u001b[0m \u001b[0;34m=\u001b[0m \u001b[0mnormalizer\u001b[0m\u001b[0;34m(\u001b[0m\u001b[0mA\u001b[0m \u001b[0;34m@\u001b[0m \u001b[0mQ\u001b[0m\u001b[0;34m)\u001b[0m\u001b[0;34m\u001b[0m\u001b[0;34m\u001b[0m\u001b[0m\n\u001b[0m\u001b[1;32m    336\u001b[0m         \u001b[0mQ\u001b[0m\u001b[0;34m,\u001b[0m \u001b[0m_\u001b[0m \u001b[0;34m=\u001b[0m \u001b[0mnormalizer\u001b[0m\u001b[0;34m(\u001b[0m\u001b[0mA\u001b[0m\u001b[0;34m.\u001b[0m\u001b[0mT\u001b[0m \u001b[0;34m@\u001b[0m \u001b[0mQ\u001b[0m\u001b[0;34m)\u001b[0m\u001b[0;34m\u001b[0m\u001b[0;34m\u001b[0m\u001b[0m\n\u001b[1;32m    337\u001b[0m \u001b[0;34m\u001b[0m\u001b[0m\n",
            "\u001b[0;32m/usr/local/lib/python3.11/dist-packages/scipy/linalg/_decomp_lu.py\u001b[0m in \u001b[0;36mlu\u001b[0;34m(a, permute_l, overwrite_a, check_finite, p_indices)\u001b[0m\n\u001b[1;32m    199\u001b[0m \u001b[0;34m\u001b[0m\u001b[0m\n\u001b[1;32m    200\u001b[0m \u001b[0;34m\u001b[0m\u001b[0m\n\u001b[0;32m--> 201\u001b[0;31m def lu(a, permute_l=False, overwrite_a=False, check_finite=True,\n\u001b[0m\u001b[1;32m    202\u001b[0m        p_indices=False):\n\u001b[1;32m    203\u001b[0m     \"\"\"\n",
            "\u001b[0;31mKeyboardInterrupt\u001b[0m: "
          ]
        }
      ],
      "source": [
        "import pandas as pd\n",
        "import numpy as np\n",
        "from sklearn.preprocessing import StandardScaler\n",
        "from sklearn.decomposition import KernelPCA\n",
        "import matplotlib.pyplot as plt\n",
        "import seaborn as sns\n",
        "import gc\n",
        "\n",
        "# Liberar memoria\n",
        "gc.collect()\n",
        "\n",
        "# Paso 1: Cargar y preparar los datos\n",
        "df = madrid_sale_train_df_expl.copy().astype(np.float32)\n",
        "scaler = StandardScaler()\n",
        "df_scaled = scaler.fit_transform(df)\n",
        "\n",
        "# Paso 2: KernelPCA\n",
        "n_components = 40\n",
        "kpca = KernelPCA(\n",
        "    n_components=n_components,\n",
        "    kernel='sigmoid',\n",
        "    eigen_solver='randomized',\n",
        "    n_jobs=-1,\n",
        "    fit_inverse_transform=False\n",
        ")\n",
        "X_kpca = kpca.fit_transform(df_scaled)\n",
        "\n",
        "# Paso 3: Calcular varianza explicada (estimada)\n",
        "component_variances = np.var(X_kpca, axis=0)\n",
        "explained_variance_ratio_kpca = component_variances / np.sum(component_variances)\n",
        "cumulative_variance_kpca = np.cumsum(explained_variance_ratio_kpca)\n",
        "\n",
        "# Paso 4: Tabla de varianza explicada\n",
        "df_varianza = pd.DataFrame({\n",
        "    'Componente': [f'PC{i+1}' for i in range(n_components)],\n",
        "    'Varianza Explicada (%)': explained_variance_ratio_kpca * 100,\n",
        "    'Varianza Acumulada (%)': cumulative_variance_kpca * 100\n",
        "})\n",
        "\n",
        "print(\"\\nVarianza explicada por cada componente principal:\")\n",
        "print(df_varianza.round(2))\n",
        "\n",
        "# Paso 5: Gráfico\n",
        "plt.figure(figsize=(10, 6))\n",
        "sns.lineplot(x=range(1, n_components + 1), y=cumulative_variance_kpca * 100, marker='o')\n",
        "plt.axhline(80, color='red', linestyle='--', label='80%')\n",
        "plt.axhline(90, color='green', linestyle='--', label='90%')\n",
        "plt.xticks(range(1, n_components + 1))\n",
        "plt.xlabel('Número de componentes principales (Kernel PCA)')\n",
        "plt.ylabel('Varianza explicada acumulada (%)')\n",
        "plt.title('Kernel PCA (sigmoid) - Varianza explicada')\n",
        "plt.legend()\n",
        "plt.grid(True)\n",
        "plt.tight_layout()\n",
        "plt.show()\n",
        "\n",
        "# Paso 6: Componentes necesarias para explicar el 80%\n",
        "n_components_80 = np.argmax(cumulative_variance_kpca >= 0.80) + 1\n",
        "print(f\"\\nComponentes necesarias para explicar el 80% de la varianza (estimado): {n_components_80}\")\n"
      ]
    },
    {
      "cell_type": "markdown",
      "metadata": {
        "id": "mXIzulqWjfZA"
      },
      "source": [
        "#### Núcleo rbf"
      ]
    },
    {
      "cell_type": "code",
      "execution_count": null,
      "metadata": {
        "colab": {
          "base_uri": "https://localhost:8080/",
          "height": 1000
        },
        "id": "aiEIO0xzSQYk",
        "outputId": "51eb6d26-b561-4fbd-e0f9-b67d25f19539"
      },
      "outputs": [
        {
          "output_type": "stream",
          "name": "stdout",
          "text": [
            "\n",
            "Varianza explicada por cada componente principal (Kernel RBF):\n",
            "   Componente  Varianza Explicada (%)  Varianza Acumulada (%)\n",
            "0         PC1                   15.78               15.780000\n",
            "1         PC2                    7.71               23.480000\n",
            "2         PC3                    7.43               30.920000\n",
            "3         PC4                    5.96               36.869999\n",
            "4         PC5                    4.42               41.290001\n",
            "5         PC6                    3.88               45.169998\n",
            "6         PC7                    3.50               48.660000\n",
            "7         PC8                    3.32               51.990002\n",
            "8         PC9                    2.92               54.900002\n",
            "9        PC10                    2.88               57.790001\n",
            "10       PC11                    2.73               60.520000\n",
            "11       PC12                    2.61               63.119999\n",
            "12       PC13                    2.58               65.699997\n",
            "13       PC14                    2.40               68.099998\n",
            "14       PC15                    2.36               70.459999\n",
            "15       PC16                    2.28               72.739998\n",
            "16       PC17                    2.24               74.980003\n",
            "17       PC18                    2.14               77.120003\n",
            "18       PC19                    2.04               79.160004\n",
            "19       PC20                    1.97               81.129997\n",
            "20       PC21                    1.91               83.029999\n",
            "21       PC22                    1.85               84.879997\n",
            "22       PC23                    1.77               86.660004\n",
            "23       PC24                    1.53               88.190002\n",
            "24       PC25                    1.44               89.620003\n",
            "25       PC26                    1.21               90.830002\n",
            "26       PC27                    1.18               92.010002\n",
            "27       PC28                    1.11               93.120003\n",
            "28       PC29                    1.10               94.220001\n",
            "29       PC30                    1.09               95.309998\n",
            "30       PC31                    0.89               96.199997\n",
            "31       PC32                    0.88               97.080002\n",
            "32       PC33                    0.78               97.860001\n",
            "33       PC34                    0.76               98.610001\n",
            "34       PC35                    0.71               99.320000\n",
            "35       PC36                    0.68              100.000000\n"
          ]
        },
        {
          "output_type": "display_data",
          "data": {
            "text/plain": [
              "<Figure size 1000x600 with 1 Axes>"
            ],
            "image/png": "[encoded data removed]"
          },
          "metadata": {}
        },
        {
          "output_type": "stream",
          "name": "stdout",
          "text": [
            "\n",
            "Componentes necesarias para explicar el 80% de la varianza (estimado): 20\n"
          ]
        }
      ],
      "source": [
        "import pandas as pd\n",
        "import numpy as np\n",
        "from sklearn.preprocessing import StandardScaler\n",
        "from sklearn.decomposition import KernelPCA\n",
        "import matplotlib.pyplot as plt\n",
        "import seaborn as sns\n",
        "import gc\n",
        "\n",
        "# Liberar memoria\n",
        "gc.collect()\n",
        "\n",
        "# Paso 1: Cargar y preparar los datos\n",
        "df = madrid_sale_train_df_expl.copy().astype(np.float32)\n",
        "scaler = StandardScaler()\n",
        "df_scaled = scaler.fit_transform(df)\n",
        "\n",
        "# Paso 2: KernelPCA\n",
        "n_components = 36\n",
        "kpca = KernelPCA(\n",
        "    n_components=n_components,\n",
        "    kernel='rbf',  # Cambiado de 'sigmoid' a 'rbf'\n",
        "    eigen_solver='randomized',\n",
        "    n_jobs=-1,\n",
        "    fit_inverse_transform=False\n",
        ")\n",
        "X_kpca = kpca.fit_transform(df_scaled)\n",
        "\n",
        "# Paso 3: Calcular varianza explicada (estimada)\n",
        "component_variances = np.var(X_kpca, axis=0)\n",
        "explained_variance_ratio_kpca = component_variances / np.sum(component_variances)\n",
        "cumulative_variance_kpca = np.cumsum(explained_variance_ratio_kpca)\n",
        "\n",
        "# Paso 4: Tabla de varianza explicada\n",
        "df_varianza = pd.DataFrame({\n",
        "    'Componente': [f'PC{i+1}' for i in range(n_components)],\n",
        "    'Varianza Explicada (%)': explained_variance_ratio_kpca * 100,\n",
        "    'Varianza Acumulada (%)': cumulative_variance_kpca * 100\n",
        "})\n",
        "\n",
        "print(\"\\nVarianza explicada por cada componente principal (Kernel RBF):\")\n",
        "print(df_varianza.round(2))\n",
        "\n",
        "\n",
        "# Gráfico de varianza explicada acumulada\n",
        "plt.figure(figsize=(10, 6))\n",
        "plt.plot(cumulative_variance_kpca * 100, marker='o')\n",
        "plt.ylabel('Varianza explicada acumulada (%)')\n",
        "plt.xlabel('Número de componentes principales (Kernel RBF)')\n",
        "plt.title('KPCA - Varianza explicada acumulada')\n",
        "plt.grid(True)\n",
        "plt.axhline(80, color='red', linestyle='--', label='80%')\n",
        "plt.legend()\n",
        "plt.tight_layout()\n",
        "plt.show()\n",
        "\n",
        "# Paso 6: Componentes necesarias para explicar el 80%\n",
        "n_components_80 = np.argmax(cumulative_variance_kpca >= 0.80) + 1\n",
        "print(f\"\\nComponentes necesarias para explicar el 80% de la varianza (estimado): {n_components_80}\")\n"
      ]
    },
    {
      "cell_type": "markdown",
      "metadata": {
        "id": "FqOI2Egvj2aJ"
      },
      "source": [
        "#### Polinómico"
      ]
    },
    {
      "cell_type": "code",
      "execution_count": null,
      "metadata": {
        "colab": {
          "base_uri": "https://localhost:8080/",
          "height": 1000
        },
        "id": "6IiJor7wl6H-",
        "outputId": "11261b64-8a98-4023-952a-4a53a59a771d"
      },
      "outputs": [
        {
          "output_type": "stream",
          "name": "stdout",
          "text": [
            "\n",
            "Varianza explicada por cada componente principal (Kernel PCA - estimado):\n",
            "   Componente  Varianza Explicada (%)  Varianza Acumulada (%)\n",
            "0         PC1               99.739998               99.739998\n",
            "1         PC2                0.250000              100.000000\n",
            "2         PC3                0.000000              100.000000\n",
            "3         PC4                0.000000              100.000000\n",
            "4         PC5                0.000000              100.000000\n",
            "5         PC6                0.000000              100.000000\n",
            "6         PC7                0.000000              100.000000\n",
            "7         PC8                0.000000              100.000000\n",
            "8         PC9                0.000000              100.000000\n",
            "9        PC10                0.000000              100.000000\n",
            "10       PC11                0.000000              100.000000\n",
            "11       PC12                0.000000              100.000000\n",
            "12       PC13                0.000000              100.000000\n",
            "13       PC14                0.000000              100.000000\n",
            "14       PC15                0.000000              100.000000\n",
            "15       PC16                0.000000              100.000000\n",
            "16       PC17                0.000000              100.000000\n",
            "17       PC18                0.000000              100.000000\n",
            "18       PC19                0.000000              100.000000\n",
            "19       PC20                0.000000              100.000000\n",
            "20       PC21                0.000000              100.000000\n",
            "21       PC22                0.000000              100.000000\n",
            "22       PC23                0.000000              100.000000\n",
            "23       PC24                0.000000              100.000000\n",
            "24       PC25                0.000000              100.000000\n",
            "25       PC26                0.000000              100.000000\n",
            "26       PC27                0.000000              100.000000\n",
            "27       PC28                0.000000              100.000000\n",
            "28       PC29                0.000000              100.000000\n",
            "29       PC30                0.000000              100.000000\n",
            "30       PC31                0.000000              100.000000\n",
            "31       PC32                0.000000              100.000000\n",
            "32       PC33                0.000000              100.000000\n",
            "33       PC34                0.000000              100.000000\n",
            "34       PC35                0.000000              100.000000\n",
            "35       PC36                0.000000              100.000000\n"
          ]
        },
        {
          "output_type": "display_data",
          "data": {
            "text/plain": [
              "<Figure size 1000x600 with 1 Axes>"
            ],
            "image/png": "[encoded data removed]"
          },
          "metadata": {}
        },
        {
          "output_type": "stream",
          "name": "stdout",
          "text": [
            "\n",
            "Componentes necesarias para explicar el 80% de la varianza (estimado): 1\n"
          ]
        }
      ],
      "source": [
        "import pandas as pd\n",
        "import numpy as np\n",
        "from sklearn.preprocessing import StandardScaler\n",
        "from sklearn.decomposition import KernelPCA\n",
        "import matplotlib.pyplot as plt\n",
        "import seaborn as sns\n",
        "import gc\n",
        "\n",
        "# Liberar memoria\n",
        "gc.collect()\n",
        "\n",
        "#Cargar y preparar los datos\n",
        "df = madrid_sale_train_df_expl.copy().astype(np.float32)  # Reducir precisión\n",
        "scaler = StandardScaler()\n",
        "df_scaled = scaler.fit_transform(df)\n",
        "\n",
        "#KernelPCA con kernel polinómico\n",
        "n_components = 36\n",
        "kpca = KernelPCA(\n",
        "    n_components=n_components,\n",
        "    kernel='poly',\n",
        "    degree=3,\n",
        "    coef0=0.5,\n",
        "    gamma=0.01,\n",
        "    eigen_solver='randomized',\n",
        "    n_jobs=-1,\n",
        "    fit_inverse_transform=False\n",
        ")\n",
        "\n",
        "\n",
        "X_kpca = kpca.fit_transform(df_scaled)\n",
        "\n",
        "#Calcular varianza explicada (estimada)\n",
        "component_variances = np.var(X_kpca, axis=0)\n",
        "explained_variance_ratio_kpca = component_variances / np.sum(component_variances)\n",
        "cumulative_variance_kpca = np.cumsum(explained_variance_ratio_kpca)\n",
        "\n",
        "#Tabla de varianza explicada\n",
        "df_varianza = pd.DataFrame({\n",
        "    'Componente': [f'PC{i+1}' for i in range(n_components)],\n",
        "    'Varianza Explicada (%)': explained_variance_ratio_kpca * 100,\n",
        "    'Varianza Acumulada (%)': cumulative_variance_kpca * 100\n",
        "})\n",
        "\n",
        "print(\"\\nVarianza explicada por cada componente principal (Kernel PCA - estimado):\")\n",
        "print(df_varianza.round(2))\n",
        "\n",
        "#Gráfico\n",
        "plt.figure(figsize=(10, 6))\n",
        "plt.plot(cumulative_variance_kpca * 100, marker='o')\n",
        "plt.ylabel('Varianza explicada acumulada (%)')\n",
        "plt.xlabel('Número de componentes principales (Kernel Polinomico)')\n",
        "plt.title('KPCA - Varianza explicada acumulada')\n",
        "plt.grid(True)\n",
        "plt.axhline(80, color='red', linestyle='--', label='80%')\n",
        "plt.legend()\n",
        "plt.tight_layout()\n",
        "plt.show()\n",
        "\n",
        "#Componentes necesarias para explicar el 80%\n",
        "n_components_80 = np.argmax(cumulative_variance_kpca >= 0.80) + 1\n",
        "print(f\"\\nComponentes necesarias para explicar el 80% de la varianza (estimado): {n_components_80}\")\n"
      ]
    },
    {
      "cell_type": "markdown",
      "metadata": {
        "id": "uySiik8_j8ms"
      },
      "source": [
        "#### Cosine"
      ]
    },
    {
      "cell_type": "code",
      "execution_count": null,
      "metadata": {
        "colab": {
          "base_uri": "https://localhost:8080/",
          "height": 1000
        },
        "id": "Esy9CBvmSs1I",
        "outputId": "b489c489-2429-4feb-8a90-e8fdf5cae4b6"
      },
      "outputs": [
        {
          "output_type": "stream",
          "name": "stdout",
          "text": [
            "\n",
            "Varianza explicada por cada componente principal (Kernel PCA - estimado):\n",
            "   Componente  Varianza Explicada (%)  Varianza Acumulada (%)\n",
            "0         PC1                   15.51               15.510000\n",
            "1         PC2                    8.64               24.150000\n",
            "2         PC3                    7.52               31.670000\n",
            "3         PC4                    5.42               37.090000\n",
            "4         PC5                    4.69               41.770000\n",
            "5         PC6                    4.35               46.119999\n",
            "6         PC7                    3.74               49.849998\n",
            "7         PC8                    3.33               53.180000\n",
            "8         PC9                    3.20               56.380001\n",
            "9        PC10                    3.04               59.419998\n",
            "10       PC11                    3.00               62.430000\n",
            "11       PC12                    2.93               65.349998\n",
            "12       PC13                    2.68               68.040001\n",
            "13       PC14                    2.64               70.669998\n",
            "14       PC15                    2.51               73.180000\n",
            "15       PC16                    2.48               75.660004\n",
            "16       PC17                    2.33               77.989998\n",
            "17       PC18                    2.27               80.260002\n",
            "18       PC19                    2.23               82.489998\n",
            "19       PC20                    2.09               84.580002\n",
            "20       PC21                    2.04               86.620003\n",
            "21       PC22                    1.87               88.489998\n",
            "22       PC23                    1.63               90.110001\n",
            "23       PC24                    1.41               91.519997\n",
            "24       PC25                    1.40               92.919998\n",
            "25       PC26                    1.32               94.239998\n",
            "26       PC27                    1.25               95.489998\n",
            "27       PC28                    1.05               96.540001\n",
            "28       PC29                    0.89               97.440002\n",
            "29       PC30                    0.78               98.220001\n",
            "30       PC31                    0.71               98.930000\n",
            "31       PC32                    0.50               99.419998\n",
            "32       PC33                    0.34               99.760002\n",
            "33       PC34                    0.24              100.000000\n",
            "34       PC35                    0.00              100.000000\n",
            "35       PC36                    0.00              100.000000\n"
          ]
        },
        {
          "output_type": "display_data",
          "data": {
            "text/plain": [
              "<Figure size 1000x600 with 1 Axes>"
            ],
            "image/png": "[encoded data removed]"
          },
          "metadata": {}
        },
        {
          "output_type": "stream",
          "name": "stdout",
          "text": [
            "\n",
            "Componentes necesarias para explicar el 80% de la varianza (estimado): 18\n"
          ]
        }
      ],
      "source": [
        "import pandas as pd\n",
        "import numpy as np\n",
        "from sklearn.preprocessing import StandardScaler\n",
        "from sklearn.decomposition import KernelPCA\n",
        "import matplotlib.pyplot as plt\n",
        "import seaborn as sns\n",
        "import gc\n",
        "\n",
        "# Liberar memoria\n",
        "gc.collect()\n",
        "\n",
        "#Cargar y preparar los datos\n",
        "df = madrid_sale_train_df_expl.copy().astype(np.float32)  # Reducir precisión\n",
        "scaler = StandardScaler()\n",
        "df_scaled = scaler.fit_transform(df)\n",
        "\n",
        "#KernelPCA\n",
        "n_components = 36\n",
        "kpca = KernelPCA(\n",
        "    n_components=n_components,\n",
        "    kernel='cosine',\n",
        "    eigen_solver='randomized',\n",
        "    n_jobs=-1,\n",
        "    fit_inverse_transform=False\n",
        ")\n",
        "X_kpca = kpca.fit_transform(df_scaled)\n",
        "\n",
        "#Calcular varianza explicada (estimada)\n",
        "component_variances = np.var(X_kpca, axis=0)\n",
        "explained_variance_ratio_kpca = component_variances / np.sum(component_variances)\n",
        "cumulative_variance_kpca = np.cumsum(explained_variance_ratio_kpca)\n",
        "\n",
        "#Tabla de varianza explicada\n",
        "df_varianza = pd.DataFrame({\n",
        "    'Componente': [f'PC{i+1}' for i in range(n_components)],\n",
        "    'Varianza Explicada (%)': explained_variance_ratio_kpca * 100,\n",
        "    'Varianza Acumulada (%)': cumulative_variance_kpca * 100\n",
        "})\n",
        "\n",
        "print(\"\\nVarianza explicada por cada componente principal (Kernel PCA - estimado):\")\n",
        "print(df_varianza.round(2))\n",
        "\n",
        "#Gráfico\n",
        "plt.figure(figsize=(10, 6))\n",
        "plt.plot(cumulative_variance_kpca * 100, marker='o')\n",
        "plt.ylabel('Varianza explicada acumulada (%)')\n",
        "plt.xlabel('Número de componentes principales (Kernel Cosine)')\n",
        "plt.title('KPCA - Varianza explicada acumulada')\n",
        "plt.grid(True)\n",
        "plt.axhline(80, color='red', linestyle='--', label='80%')\n",
        "plt.legend()\n",
        "plt.tight_layout()\n",
        "plt.show()\n",
        "\n",
        "# Paso 6: Componentes necesarias para explicar el 80%\n",
        "n_components_80 = np.argmax(cumulative_variance_kpca >= 0.80) + 1\n",
        "print(f\"\\nComponentes necesarias para explicar el 80% de la varianza (estimado): {n_components_80}\")\n",
        "\n"
      ]
    },
    {
      "cell_type": "markdown",
      "metadata": {
        "id": "i5kZehtVBnT1"
      },
      "source": [
        "Una vez que se sabe que con 18 componentes principales es suficiente, se va a aplicar correctamente"
      ]
    },
    {
      "cell_type": "code",
      "execution_count": null,
      "metadata": {
        "id": "pX0potiRBsvL"
      },
      "outputs": [],
      "source": [
        "import pandas as pd\n",
        "import numpy as np\n",
        "from sklearn.preprocessing import StandardScaler\n",
        "from sklearn.decomposition import KernelPCA\n",
        "import matplotlib.pyplot as plt\n",
        "import seaborn as sns\n",
        "import gc\n",
        "# Liberar memoria\n",
        "gc.collect()\n",
        "\n",
        "# Paso 1: Cargar y preparar los datos de entrenamiento\n",
        "train_df = madrid_sale_train_df_expl.copy().astype(np.float32)\n",
        "scaler = StandardScaler()\n",
        "X_train_scaled = scaler.fit_transform(train_df)\n",
        "\n",
        "# Paso 2: KernelPCA con solver aleatorizado\n",
        "n_components = 18\n",
        "kpca = KernelPCA(\n",
        "    n_components=n_components,\n",
        "    kernel='cosine',\n",
        "    eigen_solver='randomized',\n",
        "    n_jobs=-1,\n",
        "    fit_inverse_transform=False\n",
        ")\n",
        "X_train_kpca = kpca.fit_transform(X_train_scaled)"
      ]
    },
    {
      "cell_type": "markdown",
      "metadata": {
        "id": "LsxJlbSP1qtb"
      },
      "source": [
        "Realizamos un análisis de correlación de las 2 primeras componentes principales (que son las que mas varianza explican) contra las variables originales, para ver cuales son las que tienen mas peso."
      ]
    },
    {
      "cell_type": "code",
      "execution_count": null,
      "metadata": {
        "colab": {
          "base_uri": "https://localhost:8080/",
          "height": 607
        },
        "id": "NaiWiWe6GK6A",
        "outputId": "d882b1f2-a3d5-470b-acce-65350484f348"
      },
      "outputs": [
        {
          "output_type": "display_data",
          "data": {
            "text/plain": [
              "<Figure size 1200x600 with 2 Axes>"
            ],
            "image/png": "[encoded data removed]"
          },
          "metadata": {}
        }
      ],
      "source": [
        "from scipy.stats import pearsonr, spearmanr, f_oneway\n",
        "\n",
        "# Paso 1: KPCA con 2 componentes ya realizado -> df_kpca\n",
        "df_kpca = pd.DataFrame(X_train_kpca[:, :2], columns=['KPCA_1', 'KPCA_2'])\n",
        "\n",
        "# Paso 2: Unimos KPCA con las variables originales\n",
        "df_full = pd.concat([df_kpca.reset_index(drop=True), madrid_sale_train_df_expl.reset_index(drop=True)], axis=1)\n",
        "\n",
        "# Inicializamos resultados\n",
        "correlaciones_pearson = {}\n",
        "correlaciones_spearman = {}\n",
        "anova_kpca1 = {}\n",
        "anova_kpca2 = {}\n",
        "\n",
        "excluded_cols = []\n",
        "for col in madrid_sale_train_df_expl.columns:\n",
        "    if col in excluded_cols:\n",
        "        continue\n",
        "\n",
        "    n_unique = madrid_sale_train_df_expl[col].nunique(dropna=True)\n",
        "\n",
        "    # Variables numéricas (continuas)\n",
        "    if n_unique > 10:\n",
        "        try:\n",
        "            valid_rows = df_full[['KPCA_1', 'KPCA_2', col]].dropna()\n",
        "            corr_pearson_1, _ = pearsonr(valid_rows['KPCA_1'], valid_rows[col])\n",
        "            corr_pearson_2, _ = pearsonr(valid_rows['KPCA_2'], valid_rows[col])\n",
        "            correlaciones_pearson[col] = (corr_pearson_1, corr_pearson_2)\n",
        "\n",
        "            corr_spear_1, _ = spearmanr(valid_rows['KPCA_1'], valid_rows[col])\n",
        "            corr_spear_2, _ = spearmanr(valid_rows['KPCA_2'], valid_rows[col])\n",
        "            correlaciones_spearman[col] = (corr_spear_1, corr_spear_2)\n",
        "        except Exception as e:\n",
        "            print(f\"Error en correlación con {col}: {e}\")\n",
        "\n",
        "    # Variables categóricas (pocas categorías)\n",
        "    elif n_unique <= 10:\n",
        "        try:\n",
        "            df_clean = df_full[[col, 'KPCA_1', 'KPCA_2']].dropna()\n",
        "            groups_1 = [group['KPCA_1'] for _, group in df_clean.groupby(col)]\n",
        "            groups_2 = [group['KPCA_2'] for _, group in df_clean.groupby(col)]\n",
        "\n",
        "            if len(groups_1) > 1:\n",
        "                anova_kpca1[col] = f_oneway(*groups_1).pvalue\n",
        "            if len(groups_2) > 1:\n",
        "                anova_kpca2[col] = f_oneway(*groups_2).pvalue\n",
        "        except Exception as e:\n",
        "            print(f\"Error en ANOVA con {col}: {e}\")\n",
        "\n",
        "# Convertimos a DataFrame para visualizar\n",
        "df_corrs = pd.DataFrame.from_dict(correlaciones_pearson, orient='index', columns=['KPCA_1', 'KPCA_2'])\n",
        "\n",
        "plt.figure(figsize=(12, 6))\n",
        "sns.heatmap(df_corrs, annot=True, cmap='coolwarm', center=0)\n",
        "plt.title(\"Correlación de Pearson entre variables numéricas y KPCA\")\n",
        "plt.tight_layout()\n",
        "plt.show()\n"
      ]
    },
    {
      "cell_type": "markdown",
      "metadata": {
        "id": "QhDB2W1Y_Zqb"
      },
      "source": [
        "## PCA al conjunto de test"
      ]
    },
    {
      "cell_type": "code",
      "execution_count": null,
      "metadata": {
        "id": "uu28KzYAItKp"
      },
      "outputs": [],
      "source": [
        "#Cargar y preparar los datos de test\n",
        "test_df = madrid_sale_test_df_expl.copy().astype(np.float32)\n",
        "\n",
        "#Estandarización en test (usar el scaler ajustado en entrenamiento)\n",
        "X_test_scaled = scaler.transform(test_df)\n",
        "\n",
        "#Transformar el conjunto de test con KernelPCA\n",
        "X_test_kpca = kpca.transform(X_test_scaled)\n",
        "\n"
      ]
    },
    {
      "cell_type": "code",
      "execution_count": null,
      "metadata": {
        "colab": {
          "base_uri": "https://localhost:8080/"
        },
        "id": "ntco3EKlx-mW",
        "outputId": "7c9f401f-82dd-4e71-c74c-14aed6cfaac0"
      },
      "outputs": [
        {
          "output_type": "stream",
          "name": "stdout",
          "text": [
            "Dimensiones del conjunto de entrenamiento transformado: (75851, 18)\n",
            "Dimensiones de la variable respuesta de entrenamiento: (75851,)\n",
            "Dimensiones del conjunto de test transformado: (18963, 18)\n",
            "Dimensiones de la variable respuesta de test: (18963,)\n"
          ]
        }
      ],
      "source": [
        "#Cambiar nombre a la variable respuesta\n",
        "y_train_kpca=madrid_sale_train_df_obj\n",
        "y_test_kpca=madrid_sale_test_df_obj\n",
        "#Verificar dimensiones\n",
        "print(f\"Dimensiones del conjunto de entrenamiento transformado: {X_train_kpca.shape}\")\n",
        "print(f\"Dimensiones de la variable respuesta de entrenamiento: {y_train_kpca.shape}\")\n",
        "\n",
        "print(f\"Dimensiones del conjunto de test transformado: {X_test_kpca.shape}\")\n",
        "print(f\"Dimensiones de la variable respuesta de test: {y_test_kpca.shape}\")"
      ]
    },
    {
      "cell_type": "code",
      "source": [
        "# Si son DataFrames y quieres solo los valores:\n",
        "np.save(\"X_train_kpca.npy\", np.array(X_train_kpca))\n",
        "np.save(\"X_test_kpca.npy\", np.array(X_test_kpca))\n",
        "np.save(\"y_train_kpca.npy\", np.array(y_train_kpca))\n",
        "np.save(\"y_test_kpca.npy\", np.array(y_test_kpca))\n"
      ],
      "metadata": {
        "id": "ETn4hb9QXvWL"
      },
      "execution_count": null,
      "outputs": []
    },
    {
      "cell_type": "code",
      "source": [
        "import numpy as np\n",
        "\n",
        "# Cargar datasets\n",
        "X_train_kpca = np.load('X_train_kpca.npy')\n",
        "X_test_kpca = np.load('X_test_kpca.npy')\n",
        "y_train_kpca = np.load('y_train_kpca.npy')\n",
        "y_test_kpca = np.load('y_test_kpca.npy')\n"
      ],
      "metadata": {
        "id": "oGoao5o8jOkg"
      },
      "execution_count": null,
      "outputs": []
    },
    {
      "cell_type": "markdown",
      "metadata": {
        "id": "Sc4zis4hC6CD"
      },
      "source": [
        "# Realización del modelo"
      ]
    },
    {
      "cell_type": "markdown",
      "metadata": {
        "id": "aGnts6Uh48HL"
      },
      "source": [
        "## Regresión Lineal"
      ]
    },
    {
      "cell_type": "code",
      "execution_count": null,
      "metadata": {
        "colab": {
          "base_uri": "https://localhost:8080/"
        },
        "id": "yretb3uHF_Aw",
        "outputId": "74bab188-9611-4ca5-fec5-7787b6b1e3c5"
      },
      "outputs": [
        {
          "output_type": "stream",
          "name": "stdout",
          "text": [
            "\n",
            "Métricas de rendimiento y tiempos del modelo de regresión lineal:\n",
            "                   R²         RMSE          MAE  MAPE (%)  \\\n",
            "Entrenamiento  0.5991  261252.7343  152331.9078   52.3834   \n",
            "Test           0.5858  279542.1769  155666.6099   52.7797   \n",
            "\n",
            "               Ratio aceptable (<10%)  Tiempo (s)  \n",
            "Entrenamiento                 15.2549      0.0341  \n",
            "Test                          15.3615      0.0009  \n"
          ]
        }
      ],
      "source": [
        "import pandas as pd\n",
        "import numpy as np\n",
        "import time\n",
        "from sklearn.linear_model import LinearRegression\n",
        "from sklearn.metrics import (\n",
        "    mean_squared_error,\n",
        "    mean_absolute_error,\n",
        "    r2_score\n",
        ")\n",
        "\n",
        "# Definir el modelo\n",
        "modelo_lr = LinearRegression()\n",
        "\n",
        "# Medir tiempo de entrenamiento\n",
        "start_train = time.time()\n",
        "modelo_lr.fit(X_train_kpca, y_train_kpca)\n",
        "end_train = time.time()\n",
        "train_time = end_train - start_train\n",
        "\n",
        "# Medir tiempo de predicción en train\n",
        "start_pred_train = time.time()\n",
        "y_pred_train = modelo_lr.predict(X_train_kpca)\n",
        "end_pred_train = time.time()\n",
        "pred_time_train = end_pred_train - start_pred_train\n",
        "\n",
        "# Medir tiempo de predicción en test\n",
        "start_pred_test = time.time()\n",
        "y_pred_test = modelo_lr.predict(X_test_kpca)\n",
        "end_pred_test = time.time()\n",
        "pred_time_test = end_pred_test - start_pred_test\n",
        "\n",
        "# Función para métricas\n",
        "def calcular_metricas(y_true, y_pred):\n",
        "    mae = mean_absolute_error(y_true, y_pred)\n",
        "    rmse = np.sqrt(mean_squared_error(y_true, y_pred))\n",
        "    r2 = r2_score(y_true, y_pred)\n",
        "    mape = np.mean(np.abs((y_true - y_pred) / y_true)) * 100\n",
        "    ratio_aceptable = np.mean(np.abs((y_true - y_pred) / y_true) < 0.10) * 100\n",
        "    return r2, rmse, mae, mape, ratio_aceptable\n",
        "\n",
        "# Calcular métricas\n",
        "metrics_train = calcular_metricas(y_train_kpca, y_pred_train)\n",
        "metrics_test = calcular_metricas(y_test_kpca, y_pred_test)\n",
        "\n",
        "# Añadir tiempos a las métricas\n",
        "metrics_train += (train_time + pred_time_train,)\n",
        "metrics_test += (pred_time_test,)\n",
        "\n",
        "# Crear tabla resumen con tiempos\n",
        "df_metrics = pd.DataFrame(\n",
        "    [metrics_train, metrics_test],\n",
        "    index=[\"Entrenamiento\", \"Test\"],\n",
        "    columns=[\"R²\", \"RMSE\", \"MAE\", \"MAPE (%)\", \"Ratio aceptable (<10%)\", \"Tiempo (s)\"]\n",
        ")\n",
        "\n",
        "# Mostrar resultados\n",
        "print(\"\\nMétricas de rendimiento y tiempos del modelo de regresión lineal:\")\n",
        "print(df_metrics.round(4))\n"
      ]
    },
    {
      "cell_type": "markdown",
      "metadata": {
        "id": "rg6CvOIz8U2i"
      },
      "source": [
        "## Random forest"
      ]
    },
    {
      "cell_type": "code",
      "execution_count": null,
      "metadata": {
        "colab": {
          "base_uri": "https://localhost:8080/"
        },
        "id": "97OQj8m37wIg",
        "outputId": "aef61fcb-3019-4325-defc-eba1d10ca5b7"
      },
      "outputs": [
        {
          "output_type": "stream",
          "name": "stdout",
          "text": [
            "Evaluando: n_estimators=100, max_depth=None, min_samples_split=2, max_features=sqrt\n",
            "Evaluando: n_estimators=100, max_depth=None, min_samples_split=2, max_features=log2\n",
            "Evaluando: n_estimators=100, max_depth=None, min_samples_split=5, max_features=sqrt\n",
            "Evaluando: n_estimators=100, max_depth=None, min_samples_split=5, max_features=log2\n",
            "Evaluando: n_estimators=100, max_depth=20, min_samples_split=2, max_features=sqrt\n",
            "Evaluando: n_estimators=100, max_depth=20, min_samples_split=2, max_features=log2\n",
            "Evaluando: n_estimators=100, max_depth=20, min_samples_split=5, max_features=sqrt\n",
            "Evaluando: n_estimators=100, max_depth=20, min_samples_split=5, max_features=log2\n",
            "Evaluando: n_estimators=100, max_depth=30, min_samples_split=2, max_features=sqrt\n",
            "Evaluando: n_estimators=100, max_depth=30, min_samples_split=2, max_features=log2\n",
            "Evaluando: n_estimators=100, max_depth=30, min_samples_split=5, max_features=sqrt\n",
            "Evaluando: n_estimators=100, max_depth=30, min_samples_split=5, max_features=log2\n",
            "Evaluando: n_estimators=100, max_depth=40, min_samples_split=2, max_features=sqrt\n",
            "Evaluando: n_estimators=100, max_depth=40, min_samples_split=2, max_features=log2\n",
            "Evaluando: n_estimators=100, max_depth=40, min_samples_split=5, max_features=sqrt\n",
            "Evaluando: n_estimators=100, max_depth=40, min_samples_split=5, max_features=log2\n",
            "Evaluando: n_estimators=200, max_depth=None, min_samples_split=2, max_features=sqrt\n",
            "Evaluando: n_estimators=200, max_depth=None, min_samples_split=2, max_features=log2\n",
            "Evaluando: n_estimators=200, max_depth=None, min_samples_split=5, max_features=sqrt\n",
            "Evaluando: n_estimators=200, max_depth=None, min_samples_split=5, max_features=log2\n",
            "Evaluando: n_estimators=200, max_depth=20, min_samples_split=2, max_features=sqrt\n",
            "Evaluando: n_estimators=200, max_depth=20, min_samples_split=2, max_features=log2\n",
            "Evaluando: n_estimators=200, max_depth=20, min_samples_split=5, max_features=sqrt\n",
            "Evaluando: n_estimators=200, max_depth=20, min_samples_split=5, max_features=log2\n",
            "Evaluando: n_estimators=200, max_depth=30, min_samples_split=2, max_features=sqrt\n",
            "Evaluando: n_estimators=200, max_depth=30, min_samples_split=2, max_features=log2\n",
            "Evaluando: n_estimators=200, max_depth=30, min_samples_split=5, max_features=sqrt\n",
            "Evaluando: n_estimators=200, max_depth=30, min_samples_split=5, max_features=log2\n",
            "Evaluando: n_estimators=200, max_depth=40, min_samples_split=2, max_features=sqrt\n",
            "Evaluando: n_estimators=200, max_depth=40, min_samples_split=2, max_features=log2\n",
            "Evaluando: n_estimators=200, max_depth=40, min_samples_split=5, max_features=sqrt\n",
            "Evaluando: n_estimators=200, max_depth=40, min_samples_split=5, max_features=log2\n",
            "Evaluando: n_estimators=300, max_depth=None, min_samples_split=2, max_features=sqrt\n",
            "Evaluando: n_estimators=300, max_depth=None, min_samples_split=2, max_features=log2\n",
            "Evaluando: n_estimators=300, max_depth=None, min_samples_split=5, max_features=sqrt\n",
            "Evaluando: n_estimators=300, max_depth=None, min_samples_split=5, max_features=log2\n",
            "Evaluando: n_estimators=300, max_depth=20, min_samples_split=2, max_features=sqrt\n",
            "Evaluando: n_estimators=300, max_depth=20, min_samples_split=2, max_features=log2\n",
            "Evaluando: n_estimators=300, max_depth=20, min_samples_split=5, max_features=sqrt\n",
            "Evaluando: n_estimators=300, max_depth=20, min_samples_split=5, max_features=log2\n",
            "Evaluando: n_estimators=300, max_depth=30, min_samples_split=2, max_features=sqrt\n",
            "Evaluando: n_estimators=300, max_depth=30, min_samples_split=2, max_features=log2\n",
            "Evaluando: n_estimators=300, max_depth=30, min_samples_split=5, max_features=sqrt\n",
            "Evaluando: n_estimators=300, max_depth=30, min_samples_split=5, max_features=log2\n",
            "Evaluando: n_estimators=300, max_depth=40, min_samples_split=2, max_features=sqrt\n",
            "Evaluando: n_estimators=300, max_depth=40, min_samples_split=2, max_features=log2\n",
            "Evaluando: n_estimators=300, max_depth=40, min_samples_split=5, max_features=sqrt\n",
            "Evaluando: n_estimators=300, max_depth=40, min_samples_split=5, max_features=log2\n",
            "Evaluando: n_estimators=500, max_depth=None, min_samples_split=2, max_features=sqrt\n",
            "Evaluando: n_estimators=500, max_depth=None, min_samples_split=2, max_features=log2\n",
            "Evaluando: n_estimators=500, max_depth=None, min_samples_split=5, max_features=sqrt\n",
            "Evaluando: n_estimators=500, max_depth=None, min_samples_split=5, max_features=log2\n",
            "Evaluando: n_estimators=500, max_depth=20, min_samples_split=2, max_features=sqrt\n",
            "Evaluando: n_estimators=500, max_depth=20, min_samples_split=2, max_features=log2\n",
            "Evaluando: n_estimators=500, max_depth=20, min_samples_split=5, max_features=sqrt\n",
            "Evaluando: n_estimators=500, max_depth=20, min_samples_split=5, max_features=log2\n",
            "Evaluando: n_estimators=500, max_depth=30, min_samples_split=2, max_features=sqrt\n",
            "Evaluando: n_estimators=500, max_depth=30, min_samples_split=2, max_features=log2\n",
            "Evaluando: n_estimators=500, max_depth=30, min_samples_split=5, max_features=sqrt\n",
            "Evaluando: n_estimators=500, max_depth=30, min_samples_split=5, max_features=log2\n",
            "Evaluando: n_estimators=500, max_depth=40, min_samples_split=2, max_features=sqrt\n",
            "Evaluando: n_estimators=500, max_depth=40, min_samples_split=2, max_features=log2\n",
            "Evaluando: n_estimators=500, max_depth=40, min_samples_split=5, max_features=sqrt\n",
            "Evaluando: n_estimators=500, max_depth=40, min_samples_split=5, max_features=log2\n",
            "    n_estimators  max_depth  min_samples_split max_features  R2_Train  \\\n",
            "57           500       30.0                  2         log2      0.98   \n",
            "56           500       30.0                  2         sqrt      0.98   \n",
            "48           500        NaN                  2         sqrt      0.98   \n",
            "49           500        NaN                  2         log2      0.98   \n",
            "60           500       40.0                  2         sqrt      0.98   \n",
            "..           ...        ...                ...          ...       ...   \n",
            "3            100        NaN                  5         log2      0.97   \n",
            "14           100       40.0                  5         sqrt      0.97   \n",
            "15           100       40.0                  5         log2      0.97   \n",
            "7            100       20.0                  5         log2      0.97   \n",
            "6            100       20.0                  5         sqrt      0.97   \n",
            "\n",
            "    R2_Test  RMSE_Train  RMSE_Test  MAE_Train  MAE_Test  MAPE_Train (%)  \\\n",
            "57     0.84    58555.52  172133.49   27200.20  75534.11            7.63   \n",
            "56     0.84    58555.52  172133.49   27200.20  75534.11            7.63   \n",
            "48     0.84    58757.93  172302.70   27186.41  75619.76            7.60   \n",
            "49     0.84    58757.93  172302.70   27186.41  75619.76            7.60   \n",
            "60     0.84    58796.80  172321.08   27181.30  75527.35            7.60   \n",
            "..      ...         ...        ...        ...       ...             ...   \n",
            "3      0.84    73838.02  175613.18   33924.12  77932.26            9.40   \n",
            "14     0.84    73821.04  175768.66   33946.74  77995.62            9.41   \n",
            "15     0.84    73821.04  175768.66   33946.74  77995.62            9.41   \n",
            "7      0.84    76974.31  176258.87   37654.74  79292.87           11.26   \n",
            "6      0.84    76974.31  176258.87   37654.74  79292.87           11.26   \n",
            "\n",
            "    MAPE_Test (%)  Ratio_Train (<10%)  Ratio_Test (<10%)  \n",
            "57          20.45               75.37              43.07  \n",
            "56          20.45               75.37              43.07  \n",
            "48          20.47               75.57              42.82  \n",
            "49          20.47               75.57              42.82  \n",
            "60          20.45               75.63              42.94  \n",
            "..            ...                 ...                ...  \n",
            "3           21.09               68.89              41.18  \n",
            "14          21.09               68.85              41.15  \n",
            "15          21.09               68.85              41.15  \n",
            "7           21.70               61.77              38.95  \n",
            "6           21.70               61.77              38.95  \n",
            "\n",
            "[64 rows x 14 columns]\n"
          ]
        }
      ],
      "source": [
        "from sklearn.ensemble import RandomForestRegressor\n",
        "from sklearn.metrics import mean_squared_error, mean_absolute_error, r2_score\n",
        "from itertools import product\n",
        "import numpy as np\n",
        "import pandas as pd\n",
        "\n",
        "# Definimos los valores a explorar\n",
        "param_grid = {\n",
        "    'n_estimators':  [100, 200,300, 500],\n",
        "    'max_depth': [None, 20, 30, 40],\n",
        "    'min_samples_split': [2, 5],\n",
        "    'max_features': ['sqrt', 'log2']\n",
        "}\n",
        "\n",
        "# Combinaciones de parámetros\n",
        "param_combinations = list(product(\n",
        "    param_grid['n_estimators'],\n",
        "    param_grid['max_depth'],\n",
        "    param_grid['min_samples_split'],\n",
        "    param_grid['max_features']\n",
        "))\n",
        "\n",
        "# Lista para guardar resultados\n",
        "resultados = []\n",
        "\n",
        "# Iterar sobre combinaciones\n",
        "for n_est, depth, min_split, max_feat in param_combinations:\n",
        "    print(f\"Evaluando: n_estimators={n_est}, max_depth={depth}, min_samples_split={min_split}, max_features={max_feat}\")\n",
        "\n",
        "    modelo_rf = RandomForestRegressor(\n",
        "        n_estimators=n_est,\n",
        "        max_depth=depth,\n",
        "        min_samples_split=min_split,\n",
        "        max_features=max_feat,\n",
        "        random_state=42,\n",
        "        n_jobs=-1\n",
        "    )\n",
        "\n",
        "    modelo_rf.fit(X_train_kpca, madrid_sale_train_df_obj)\n",
        "\n",
        "    # Predicciones\n",
        "    y_pred_train = modelo_rf.predict(X_train_kpca)\n",
        "    y_pred_test = modelo_rf.predict(X_test_kpca)\n",
        "\n",
        "    # Métricas para train y test\n",
        "    r2_train, rmse_train, mae_train, mape_train, ratio_train = calcular_metricas(madrid_sale_train_df_obj, y_pred_train)\n",
        "    r2_test, rmse_test, mae_test, mape_test, ratio_test = calcular_metricas(madrid_sale_test_df_obj, y_pred_test)\n",
        "\n",
        "    resultados.append({\n",
        "        'n_estimators': n_est,\n",
        "        'max_depth': depth,\n",
        "        'min_samples_split': min_split,\n",
        "        'max_features': max_feat,\n",
        "        'R2_Train': r2_train,\n",
        "        'R2_Test': r2_test,\n",
        "        'RMSE_Train': rmse_train,\n",
        "        'RMSE_Test': rmse_test,\n",
        "        'MAE_Train': mae_train,\n",
        "        'MAE_Test': mae_test,\n",
        "        'MAPE_Train (%)': mape_train,\n",
        "        'MAPE_Test (%)': mape_test,\n",
        "        'Ratio_Train (<10%)': ratio_train,\n",
        "        'Ratio_Test (<10%)': ratio_test\n",
        "    })\n",
        "\n",
        "# Convertir a DataFrame\n",
        "df_resultados = pd.DataFrame(resultados)\n",
        "\n",
        "# Ordenar por R2 en Test\n",
        "df_resultados_ordenado = df_resultados.sort_values(by='R2_Test', ascending=False)\n",
        "\n",
        "# Mostrar top 5\n",
        "print(df_resultados_ordenado.round(2))\n"
      ]
    },
    {
      "cell_type": "code",
      "execution_count": null,
      "metadata": {
        "id": "FFiiTM2t_yoo"
      },
      "outputs": [],
      "source": [
        "#Imprimimos resultados\n",
        "df_resultados.to_excel(\"resultados_random_forest.xlsx\", index=False)"
      ]
    },
    {
      "cell_type": "markdown",
      "source": [
        "Se va a realizar lo mismo, pero introduciendo el logaritmo de la variable objetivo"
      ],
      "metadata": {
        "id": "DC1uVwnDMq9Q"
      }
    },
    {
      "cell_type": "code",
      "source": [
        "from sklearn.ensemble import RandomForestRegressor\n",
        "from sklearn.metrics import mean_squared_error, mean_absolute_error, r2_score\n",
        "from itertools import product\n",
        "import numpy as np\n",
        "import pandas as pd\n",
        "\n",
        "# Transformamos target a logarítmica\n",
        "y_train_log = np.log1p(y_train_kpca)\n",
        "y_test_log = np.log1p(y_test_kpca)\n",
        "\n",
        "# Definimos los valores a explorar\n",
        "param_grid = {\n",
        "    'n_estimators': [100, 200],\n",
        "    'max_depth': [None, 5, 10, 20],\n",
        "    'min_samples_split': [2, 5],\n",
        "    'max_features': ['sqrt', 'log2']\n",
        "}\n",
        "\n",
        "# Combinaciones de parámetros\n",
        "param_combinations = list(product(\n",
        "    param_grid['n_estimators'],\n",
        "    param_grid['max_depth'],\n",
        "    param_grid['min_samples_split'],\n",
        "    param_grid['max_features']\n",
        "))\n",
        "\n",
        "# Lista para guardar resultados\n",
        "resultados_3 = []\n",
        "\n",
        "# Iterar sobre combinaciones\n",
        "for n_est, depth, min_split, max_feat in param_combinations:\n",
        "    print(f\"Evaluando: n_estimators={n_est}, max_depth={depth}, min_samples_split={min_split}, max_features={max_feat}\")\n",
        "\n",
        "    modelo_rf = RandomForestRegressor(\n",
        "        n_estimators=n_est,\n",
        "        max_depth=depth,\n",
        "        min_samples_split=min_split,\n",
        "        max_features=max_feat,\n",
        "        random_state=42,\n",
        "        n_jobs=-1\n",
        "    )\n",
        "\n",
        "    # Entrenamiento con la variable target logarítmica\n",
        "    modelo_rf.fit(X_train_kpca, y_train_log)\n",
        "\n",
        "    # Predicciones en escala log\n",
        "    y_pred_train_log = modelo_rf.predict(X_train_kpca)\n",
        "    y_pred_test_log = modelo_rf.predict(X_test_kpca)\n",
        "\n",
        "    # Volvemos a la escala original\n",
        "    y_pred_train = np.expm1(y_pred_train_log)\n",
        "    y_pred_test = np.expm1(y_pred_test_log)\n",
        "\n",
        "    # Métricas usando valores reales en escala original\n",
        "    r2_train, rmse_train, mae_train, mape_train, ratio_train = calcular_metricas(y_train_kpca, y_pred_train)\n",
        "    r2_test, rmse_test, mae_test, mape_test, ratio_test = calcular_metricas(y_test_kpca, y_pred_test)\n",
        "\n",
        "    resultados_3.append({\n",
        "        'n_estimators': n_est,\n",
        "        'max_depth': depth,\n",
        "        'min_samples_split': min_split,\n",
        "        'max_features': max_feat,\n",
        "        'R2_Train': r2_train,\n",
        "        'R2_Test': r2_test,\n",
        "        'RMSE_Train': rmse_train,\n",
        "        'RMSE_Test': rmse_test,\n",
        "        'MAE_Train': mae_train,\n",
        "        'MAE_Test': mae_test,\n",
        "        'MAPE_Train (%)': mape_train,\n",
        "        'MAPE_Test (%)': mape_test,\n",
        "        'Ratio_Train (<10%)': ratio_train,\n",
        "        'Ratio_Test (<10%)': ratio_test\n",
        "    })\n",
        "\n",
        "# Convertir a DataFrame\n",
        "df_resultados_3 = pd.DataFrame(resultados_3)"
      ],
      "metadata": {
        "id": "M1n8gG-4Mub2",
        "colab": {
          "base_uri": "https://localhost:8080/"
        },
        "outputId": "51e05e05-6132-46a6-aef5-a2dcb07c0e30"
      },
      "execution_count": null,
      "outputs": [
        {
          "output_type": "stream",
          "name": "stdout",
          "text": [
            "Evaluando: n_estimators=100, max_depth=None, min_samples_split=2, max_features=sqrt\n",
            "Evaluando: n_estimators=100, max_depth=None, min_samples_split=2, max_features=log2\n",
            "Evaluando: n_estimators=100, max_depth=None, min_samples_split=5, max_features=sqrt\n",
            "Evaluando: n_estimators=100, max_depth=None, min_samples_split=5, max_features=log2\n",
            "Evaluando: n_estimators=100, max_depth=5, min_samples_split=2, max_features=sqrt\n",
            "Evaluando: n_estimators=100, max_depth=5, min_samples_split=2, max_features=log2\n",
            "Evaluando: n_estimators=100, max_depth=5, min_samples_split=5, max_features=sqrt\n",
            "Evaluando: n_estimators=100, max_depth=5, min_samples_split=5, max_features=log2\n",
            "Evaluando: n_estimators=100, max_depth=10, min_samples_split=2, max_features=sqrt\n",
            "Evaluando: n_estimators=100, max_depth=10, min_samples_split=2, max_features=log2\n",
            "Evaluando: n_estimators=100, max_depth=10, min_samples_split=5, max_features=sqrt\n",
            "Evaluando: n_estimators=100, max_depth=10, min_samples_split=5, max_features=log2\n",
            "Evaluando: n_estimators=100, max_depth=20, min_samples_split=2, max_features=sqrt\n",
            "Evaluando: n_estimators=100, max_depth=20, min_samples_split=2, max_features=log2\n",
            "Evaluando: n_estimators=100, max_depth=20, min_samples_split=5, max_features=sqrt\n",
            "Evaluando: n_estimators=100, max_depth=20, min_samples_split=5, max_features=log2\n",
            "Evaluando: n_estimators=200, max_depth=None, min_samples_split=2, max_features=sqrt\n",
            "Evaluando: n_estimators=200, max_depth=None, min_samples_split=2, max_features=log2\n",
            "Evaluando: n_estimators=200, max_depth=None, min_samples_split=5, max_features=sqrt\n",
            "Evaluando: n_estimators=200, max_depth=None, min_samples_split=5, max_features=log2\n",
            "Evaluando: n_estimators=200, max_depth=5, min_samples_split=2, max_features=sqrt\n",
            "Evaluando: n_estimators=200, max_depth=5, min_samples_split=2, max_features=log2\n",
            "Evaluando: n_estimators=200, max_depth=5, min_samples_split=5, max_features=sqrt\n",
            "Evaluando: n_estimators=200, max_depth=5, min_samples_split=5, max_features=log2\n",
            "Evaluando: n_estimators=200, max_depth=10, min_samples_split=2, max_features=sqrt\n",
            "Evaluando: n_estimators=200, max_depth=10, min_samples_split=2, max_features=log2\n",
            "Evaluando: n_estimators=200, max_depth=10, min_samples_split=5, max_features=sqrt\n",
            "Evaluando: n_estimators=200, max_depth=10, min_samples_split=5, max_features=log2\n",
            "Evaluando: n_estimators=200, max_depth=20, min_samples_split=2, max_features=sqrt\n",
            "Evaluando: n_estimators=200, max_depth=20, min_samples_split=2, max_features=log2\n",
            "Evaluando: n_estimators=200, max_depth=20, min_samples_split=5, max_features=sqrt\n",
            "Evaluando: n_estimators=200, max_depth=20, min_samples_split=5, max_features=log2\n"
          ]
        }
      ]
    },
    {
      "cell_type": "code",
      "source": [
        "#Imprimimos resultados\n",
        "df_resultados_3.to_excel(\"resultados_random_forest_3.xlsx\", index=False)"
      ],
      "metadata": {
        "id": "BOU4gxHFMxXk"
      },
      "execution_count": null,
      "outputs": []
    },
    {
      "cell_type": "markdown",
      "source": [
        "Modelo final"
      ],
      "metadata": {
        "id": "AOk-s-Q5Mx3I"
      }
    },
    {
      "cell_type": "code",
      "execution_count": null,
      "metadata": {
        "colab": {
          "base_uri": "https://localhost:8080/"
        },
        "id": "7xXAhtiJBpV_",
        "outputId": "799145fc-cfbc-463d-82f6-ced155505dd6"
      },
      "outputs": [
        {
          "output_type": "stream",
          "name": "stdout",
          "text": [
            "Tiempo de entrenamiento: 13.14 segundos\n",
            "Tiempo de predicción: 0.2018 segundos\n"
          ]
        }
      ],
      "source": [
        "import pandas as pd\n",
        "import numpy as np\n",
        "import time\n",
        "from sklearn.ensemble import RandomForestRegressor\n",
        "from sklearn.metrics import (\n",
        "    mean_squared_error,\n",
        "    mean_absolute_error,\n",
        "    r2_score\n",
        ")\n",
        "\n",
        "# Aplicar logaritmo a la variable objetivo de entrenamiento\n",
        "y_train_kpca_log = np.log(y_train_kpca)\n",
        "\n",
        "# Inicializar el modelo\n",
        "modelo_final_rf = RandomForestRegressor(\n",
        "    n_estimators=200,\n",
        "    max_depth=None,\n",
        "    min_samples_split=2,\n",
        "    max_features='sqrt',\n",
        "    random_state=42,\n",
        "    n_jobs=-1\n",
        ")\n",
        "\n",
        "# Entrenamiento\n",
        "start_train = time.time()\n",
        "modelo_final_rf.fit(X_train_kpca, y_train_kpca_log)\n",
        "end_train = time.time()\n",
        "train_time = end_train - start_train\n",
        "print(f\"Tiempo de entrenamiento: {train_time:.2f} segundos\")\n",
        "\n",
        "# Predicción (en log)\n",
        "start_pred = time.time()\n",
        "y_pred_log = modelo_final_rf.predict(X_test_kpca)\n",
        "end_pred = time.time()\n",
        "pred_time = end_pred - start_pred\n",
        "print(f\"Tiempo de predicción: {pred_time:.4f} segundos\")"
      ]
    },
    {
      "cell_type": "code",
      "execution_count": null,
      "metadata": {
        "colab": {
          "base_uri": "https://localhost:8080/"
        },
        "id": "mexkKlnjaQSt",
        "outputId": "649a851b-9346-4190-d693-2cb8ec8c7cc5"
      },
      "outputs": [
        {
          "output_type": "stream",
          "name": "stdout",
          "text": [
            "    R2_Test      RMSE_Test      MAE_Test  MAPE_Test (%)  Ratio_Test (<10%)\n",
            "0  0.843884  163084.565438  73392.893666      20.603422          43.004799\n"
          ]
        }
      ],
      "source": [
        "print(df_resultados)"
      ]
    },
    {
      "cell_type": "markdown",
      "metadata": {
        "id": "sNxVLLnaM-hq"
      },
      "source": [
        "## XGBoost"
      ]
    },
    {
      "cell_type": "code",
      "execution_count": null,
      "metadata": {
        "colab": {
          "base_uri": "https://localhost:8080/"
        },
        "id": "VqHiej66sl7q",
        "outputId": "3ac4e9c4-9ad5-4986-ed09-d62b11ca78a6"
      },
      "outputs": [
        {
          "output_type": "stream",
          "name": "stdout",
          "text": [
            "Evaluando: n_estimators=100, max_depth=None, learning_rate=0.1, subsample=0.8, colsample_bytree=0.8\n",
            "Evaluando: n_estimators=100, max_depth=None, learning_rate=0.1, subsample=0.8, colsample_bytree=1\n",
            "Evaluando: n_estimators=100, max_depth=None, learning_rate=0.1, subsample=1, colsample_bytree=0.8\n",
            "Evaluando: n_estimators=100, max_depth=None, learning_rate=0.1, subsample=1, colsample_bytree=1\n",
            "Evaluando: n_estimators=100, max_depth=None, learning_rate=0.2, subsample=0.8, colsample_bytree=0.8\n",
            "Evaluando: n_estimators=100, max_depth=None, learning_rate=0.2, subsample=0.8, colsample_bytree=1\n",
            "Evaluando: n_estimators=100, max_depth=None, learning_rate=0.2, subsample=1, colsample_bytree=0.8\n",
            "Evaluando: n_estimators=100, max_depth=None, learning_rate=0.2, subsample=1, colsample_bytree=1\n",
            "Evaluando: n_estimators=100, max_depth=None, learning_rate=0.5, subsample=0.8, colsample_bytree=0.8\n",
            "Evaluando: n_estimators=100, max_depth=None, learning_rate=0.5, subsample=0.8, colsample_bytree=1\n",
            "Evaluando: n_estimators=100, max_depth=None, learning_rate=0.5, subsample=1, colsample_bytree=0.8\n",
            "Evaluando: n_estimators=100, max_depth=None, learning_rate=0.5, subsample=1, colsample_bytree=1\n",
            "Evaluando: n_estimators=100, max_depth=None, learning_rate=1, subsample=0.8, colsample_bytree=0.8\n",
            "Evaluando: n_estimators=100, max_depth=None, learning_rate=1, subsample=0.8, colsample_bytree=1\n",
            "Evaluando: n_estimators=100, max_depth=None, learning_rate=1, subsample=1, colsample_bytree=0.8\n",
            "Evaluando: n_estimators=100, max_depth=None, learning_rate=1, subsample=1, colsample_bytree=1\n",
            "Evaluando: n_estimators=100, max_depth=2, learning_rate=0.1, subsample=0.8, colsample_bytree=0.8\n",
            "Evaluando: n_estimators=100, max_depth=2, learning_rate=0.1, subsample=0.8, colsample_bytree=1\n",
            "Evaluando: n_estimators=100, max_depth=2, learning_rate=0.1, subsample=1, colsample_bytree=0.8\n",
            "Evaluando: n_estimators=100, max_depth=2, learning_rate=0.1, subsample=1, colsample_bytree=1\n",
            "Evaluando: n_estimators=100, max_depth=2, learning_rate=0.2, subsample=0.8, colsample_bytree=0.8\n",
            "Evaluando: n_estimators=100, max_depth=2, learning_rate=0.2, subsample=0.8, colsample_bytree=1\n",
            "Evaluando: n_estimators=100, max_depth=2, learning_rate=0.2, subsample=1, colsample_bytree=0.8\n",
            "Evaluando: n_estimators=100, max_depth=2, learning_rate=0.2, subsample=1, colsample_bytree=1\n",
            "Evaluando: n_estimators=100, max_depth=2, learning_rate=0.5, subsample=0.8, colsample_bytree=0.8\n",
            "Evaluando: n_estimators=100, max_depth=2, learning_rate=0.5, subsample=0.8, colsample_bytree=1\n",
            "Evaluando: n_estimators=100, max_depth=2, learning_rate=0.5, subsample=1, colsample_bytree=0.8\n",
            "Evaluando: n_estimators=100, max_depth=2, learning_rate=0.5, subsample=1, colsample_bytree=1\n",
            "Evaluando: n_estimators=100, max_depth=2, learning_rate=1, subsample=0.8, colsample_bytree=0.8\n",
            "Evaluando: n_estimators=100, max_depth=2, learning_rate=1, subsample=0.8, colsample_bytree=1\n",
            "Evaluando: n_estimators=100, max_depth=2, learning_rate=1, subsample=1, colsample_bytree=0.8\n",
            "Evaluando: n_estimators=100, max_depth=2, learning_rate=1, subsample=1, colsample_bytree=1\n",
            "Evaluando: n_estimators=100, max_depth=5, learning_rate=0.1, subsample=0.8, colsample_bytree=0.8\n",
            "Evaluando: n_estimators=100, max_depth=5, learning_rate=0.1, subsample=0.8, colsample_bytree=1\n",
            "Evaluando: n_estimators=100, max_depth=5, learning_rate=0.1, subsample=1, colsample_bytree=0.8\n",
            "Evaluando: n_estimators=100, max_depth=5, learning_rate=0.1, subsample=1, colsample_bytree=1\n",
            "Evaluando: n_estimators=100, max_depth=5, learning_rate=0.2, subsample=0.8, colsample_bytree=0.8\n",
            "Evaluando: n_estimators=100, max_depth=5, learning_rate=0.2, subsample=0.8, colsample_bytree=1\n",
            "Evaluando: n_estimators=100, max_depth=5, learning_rate=0.2, subsample=1, colsample_bytree=0.8\n",
            "Evaluando: n_estimators=100, max_depth=5, learning_rate=0.2, subsample=1, colsample_bytree=1\n",
            "Evaluando: n_estimators=100, max_depth=5, learning_rate=0.5, subsample=0.8, colsample_bytree=0.8\n",
            "Evaluando: n_estimators=100, max_depth=5, learning_rate=0.5, subsample=0.8, colsample_bytree=1\n",
            "Evaluando: n_estimators=100, max_depth=5, learning_rate=0.5, subsample=1, colsample_bytree=0.8\n",
            "Evaluando: n_estimators=100, max_depth=5, learning_rate=0.5, subsample=1, colsample_bytree=1\n",
            "Evaluando: n_estimators=100, max_depth=5, learning_rate=1, subsample=0.8, colsample_bytree=0.8\n",
            "Evaluando: n_estimators=100, max_depth=5, learning_rate=1, subsample=0.8, colsample_bytree=1\n",
            "Evaluando: n_estimators=100, max_depth=5, learning_rate=1, subsample=1, colsample_bytree=0.8\n",
            "Evaluando: n_estimators=100, max_depth=5, learning_rate=1, subsample=1, colsample_bytree=1\n",
            "Evaluando: n_estimators=100, max_depth=10, learning_rate=0.1, subsample=0.8, colsample_bytree=0.8\n",
            "Evaluando: n_estimators=100, max_depth=10, learning_rate=0.1, subsample=0.8, colsample_bytree=1\n",
            "Evaluando: n_estimators=100, max_depth=10, learning_rate=0.1, subsample=1, colsample_bytree=0.8\n",
            "Evaluando: n_estimators=100, max_depth=10, learning_rate=0.1, subsample=1, colsample_bytree=1\n",
            "Evaluando: n_estimators=100, max_depth=10, learning_rate=0.2, subsample=0.8, colsample_bytree=0.8\n",
            "Evaluando: n_estimators=100, max_depth=10, learning_rate=0.2, subsample=0.8, colsample_bytree=1\n",
            "Evaluando: n_estimators=100, max_depth=10, learning_rate=0.2, subsample=1, colsample_bytree=0.8\n",
            "Evaluando: n_estimators=100, max_depth=10, learning_rate=0.2, subsample=1, colsample_bytree=1\n",
            "Evaluando: n_estimators=100, max_depth=10, learning_rate=0.5, subsample=0.8, colsample_bytree=0.8\n",
            "Evaluando: n_estimators=100, max_depth=10, learning_rate=0.5, subsample=0.8, colsample_bytree=1\n",
            "Evaluando: n_estimators=100, max_depth=10, learning_rate=0.5, subsample=1, colsample_bytree=0.8\n",
            "Evaluando: n_estimators=100, max_depth=10, learning_rate=0.5, subsample=1, colsample_bytree=1\n",
            "Evaluando: n_estimators=100, max_depth=10, learning_rate=1, subsample=0.8, colsample_bytree=0.8\n",
            "Evaluando: n_estimators=100, max_depth=10, learning_rate=1, subsample=0.8, colsample_bytree=1\n",
            "Evaluando: n_estimators=100, max_depth=10, learning_rate=1, subsample=1, colsample_bytree=0.8\n",
            "Evaluando: n_estimators=100, max_depth=10, learning_rate=1, subsample=1, colsample_bytree=1\n",
            "Evaluando: n_estimators=100, max_depth=20, learning_rate=0.1, subsample=0.8, colsample_bytree=0.8\n",
            "Evaluando: n_estimators=100, max_depth=20, learning_rate=0.1, subsample=0.8, colsample_bytree=1\n",
            "Evaluando: n_estimators=100, max_depth=20, learning_rate=0.1, subsample=1, colsample_bytree=0.8\n",
            "Evaluando: n_estimators=100, max_depth=20, learning_rate=0.1, subsample=1, colsample_bytree=1\n",
            "Evaluando: n_estimators=100, max_depth=20, learning_rate=0.2, subsample=0.8, colsample_bytree=0.8\n",
            "Evaluando: n_estimators=100, max_depth=20, learning_rate=0.2, subsample=0.8, colsample_bytree=1\n",
            "Evaluando: n_estimators=100, max_depth=20, learning_rate=0.2, subsample=1, colsample_bytree=0.8\n",
            "Evaluando: n_estimators=100, max_depth=20, learning_rate=0.2, subsample=1, colsample_bytree=1\n",
            "Evaluando: n_estimators=100, max_depth=20, learning_rate=0.5, subsample=0.8, colsample_bytree=0.8\n",
            "Evaluando: n_estimators=100, max_depth=20, learning_rate=0.5, subsample=0.8, colsample_bytree=1\n",
            "Evaluando: n_estimators=100, max_depth=20, learning_rate=0.5, subsample=1, colsample_bytree=0.8\n",
            "Evaluando: n_estimators=100, max_depth=20, learning_rate=0.5, subsample=1, colsample_bytree=1\n",
            "Evaluando: n_estimators=100, max_depth=20, learning_rate=1, subsample=0.8, colsample_bytree=0.8\n",
            "Evaluando: n_estimators=100, max_depth=20, learning_rate=1, subsample=0.8, colsample_bytree=1\n",
            "Evaluando: n_estimators=100, max_depth=20, learning_rate=1, subsample=1, colsample_bytree=0.8\n",
            "Evaluando: n_estimators=100, max_depth=20, learning_rate=1, subsample=1, colsample_bytree=1\n",
            "Evaluando: n_estimators=100, max_depth=40, learning_rate=0.1, subsample=0.8, colsample_bytree=0.8\n",
            "Evaluando: n_estimators=100, max_depth=40, learning_rate=0.1, subsample=0.8, colsample_bytree=1\n",
            "Evaluando: n_estimators=100, max_depth=40, learning_rate=0.1, subsample=1, colsample_bytree=0.8\n",
            "Evaluando: n_estimators=100, max_depth=40, learning_rate=0.1, subsample=1, colsample_bytree=1\n",
            "Evaluando: n_estimators=100, max_depth=40, learning_rate=0.2, subsample=0.8, colsample_bytree=0.8\n",
            "Evaluando: n_estimators=100, max_depth=40, learning_rate=0.2, subsample=0.8, colsample_bytree=1\n",
            "Evaluando: n_estimators=100, max_depth=40, learning_rate=0.2, subsample=1, colsample_bytree=0.8\n",
            "Evaluando: n_estimators=100, max_depth=40, learning_rate=0.2, subsample=1, colsample_bytree=1\n",
            "Evaluando: n_estimators=100, max_depth=40, learning_rate=0.5, subsample=0.8, colsample_bytree=0.8\n",
            "Evaluando: n_estimators=100, max_depth=40, learning_rate=0.5, subsample=0.8, colsample_bytree=1\n",
            "Evaluando: n_estimators=100, max_depth=40, learning_rate=0.5, subsample=1, colsample_bytree=0.8\n",
            "Evaluando: n_estimators=100, max_depth=40, learning_rate=0.5, subsample=1, colsample_bytree=1\n",
            "Evaluando: n_estimators=100, max_depth=40, learning_rate=1, subsample=0.8, colsample_bytree=0.8\n",
            "Evaluando: n_estimators=100, max_depth=40, learning_rate=1, subsample=0.8, colsample_bytree=1\n",
            "Evaluando: n_estimators=100, max_depth=40, learning_rate=1, subsample=1, colsample_bytree=0.8\n",
            "Evaluando: n_estimators=100, max_depth=40, learning_rate=1, subsample=1, colsample_bytree=1\n",
            "Evaluando: n_estimators=100, max_depth=60, learning_rate=0.1, subsample=0.8, colsample_bytree=0.8\n",
            "Evaluando: n_estimators=100, max_depth=60, learning_rate=0.1, subsample=0.8, colsample_bytree=1\n",
            "Evaluando: n_estimators=100, max_depth=60, learning_rate=0.1, subsample=1, colsample_bytree=0.8\n",
            "Evaluando: n_estimators=100, max_depth=60, learning_rate=0.1, subsample=1, colsample_bytree=1\n",
            "Evaluando: n_estimators=100, max_depth=60, learning_rate=0.2, subsample=0.8, colsample_bytree=0.8\n",
            "Evaluando: n_estimators=100, max_depth=60, learning_rate=0.2, subsample=0.8, colsample_bytree=1\n",
            "Evaluando: n_estimators=100, max_depth=60, learning_rate=0.2, subsample=1, colsample_bytree=0.8\n",
            "Evaluando: n_estimators=100, max_depth=60, learning_rate=0.2, subsample=1, colsample_bytree=1\n",
            "Evaluando: n_estimators=100, max_depth=60, learning_rate=0.5, subsample=0.8, colsample_bytree=0.8\n",
            "Evaluando: n_estimators=100, max_depth=60, learning_rate=0.5, subsample=0.8, colsample_bytree=1\n",
            "Evaluando: n_estimators=100, max_depth=60, learning_rate=0.5, subsample=1, colsample_bytree=0.8\n",
            "Evaluando: n_estimators=100, max_depth=60, learning_rate=0.5, subsample=1, colsample_bytree=1\n",
            "Evaluando: n_estimators=100, max_depth=60, learning_rate=1, subsample=0.8, colsample_bytree=0.8\n",
            "Evaluando: n_estimators=100, max_depth=60, learning_rate=1, subsample=0.8, colsample_bytree=1\n",
            "Evaluando: n_estimators=100, max_depth=60, learning_rate=1, subsample=1, colsample_bytree=0.8\n",
            "Evaluando: n_estimators=100, max_depth=60, learning_rate=1, subsample=1, colsample_bytree=1\n",
            "Evaluando: n_estimators=200, max_depth=None, learning_rate=0.1, subsample=0.8, colsample_bytree=0.8\n",
            "Evaluando: n_estimators=200, max_depth=None, learning_rate=0.1, subsample=0.8, colsample_bytree=1\n",
            "Evaluando: n_estimators=200, max_depth=None, learning_rate=0.1, subsample=1, colsample_bytree=0.8\n",
            "Evaluando: n_estimators=200, max_depth=None, learning_rate=0.1, subsample=1, colsample_bytree=1\n",
            "Evaluando: n_estimators=200, max_depth=None, learning_rate=0.2, subsample=0.8, colsample_bytree=0.8\n",
            "Evaluando: n_estimators=200, max_depth=None, learning_rate=0.2, subsample=0.8, colsample_bytree=1\n",
            "Evaluando: n_estimators=200, max_depth=None, learning_rate=0.2, subsample=1, colsample_bytree=0.8\n",
            "Evaluando: n_estimators=200, max_depth=None, learning_rate=0.2, subsample=1, colsample_bytree=1\n",
            "Evaluando: n_estimators=200, max_depth=None, learning_rate=0.5, subsample=0.8, colsample_bytree=0.8\n",
            "Evaluando: n_estimators=200, max_depth=None, learning_rate=0.5, subsample=0.8, colsample_bytree=1\n",
            "Evaluando: n_estimators=200, max_depth=None, learning_rate=0.5, subsample=1, colsample_bytree=0.8\n",
            "Evaluando: n_estimators=200, max_depth=None, learning_rate=0.5, subsample=1, colsample_bytree=1\n",
            "Evaluando: n_estimators=200, max_depth=None, learning_rate=1, subsample=0.8, colsample_bytree=0.8\n",
            "Evaluando: n_estimators=200, max_depth=None, learning_rate=1, subsample=0.8, colsample_bytree=1\n",
            "Evaluando: n_estimators=200, max_depth=None, learning_rate=1, subsample=1, colsample_bytree=0.8\n",
            "Evaluando: n_estimators=200, max_depth=None, learning_rate=1, subsample=1, colsample_bytree=1\n",
            "Evaluando: n_estimators=200, max_depth=2, learning_rate=0.1, subsample=0.8, colsample_bytree=0.8\n",
            "Evaluando: n_estimators=200, max_depth=2, learning_rate=0.1, subsample=0.8, colsample_bytree=1\n",
            "Evaluando: n_estimators=200, max_depth=2, learning_rate=0.1, subsample=1, colsample_bytree=0.8\n",
            "Evaluando: n_estimators=200, max_depth=2, learning_rate=0.1, subsample=1, colsample_bytree=1\n",
            "Evaluando: n_estimators=200, max_depth=2, learning_rate=0.2, subsample=0.8, colsample_bytree=0.8\n",
            "Evaluando: n_estimators=200, max_depth=2, learning_rate=0.2, subsample=0.8, colsample_bytree=1\n",
            "Evaluando: n_estimators=200, max_depth=2, learning_rate=0.2, subsample=1, colsample_bytree=0.8\n",
            "Evaluando: n_estimators=200, max_depth=2, learning_rate=0.2, subsample=1, colsample_bytree=1\n",
            "Evaluando: n_estimators=200, max_depth=2, learning_rate=0.5, subsample=0.8, colsample_bytree=0.8\n",
            "Evaluando: n_estimators=200, max_depth=2, learning_rate=0.5, subsample=0.8, colsample_bytree=1\n",
            "Evaluando: n_estimators=200, max_depth=2, learning_rate=0.5, subsample=1, colsample_bytree=0.8\n",
            "Evaluando: n_estimators=200, max_depth=2, learning_rate=0.5, subsample=1, colsample_bytree=1\n",
            "Evaluando: n_estimators=200, max_depth=2, learning_rate=1, subsample=0.8, colsample_bytree=0.8\n",
            "Evaluando: n_estimators=200, max_depth=2, learning_rate=1, subsample=0.8, colsample_bytree=1\n",
            "Evaluando: n_estimators=200, max_depth=2, learning_rate=1, subsample=1, colsample_bytree=0.8\n",
            "Evaluando: n_estimators=200, max_depth=2, learning_rate=1, subsample=1, colsample_bytree=1\n",
            "Evaluando: n_estimators=200, max_depth=5, learning_rate=0.1, subsample=0.8, colsample_bytree=0.8\n",
            "Evaluando: n_estimators=200, max_depth=5, learning_rate=0.1, subsample=0.8, colsample_bytree=1\n",
            "Evaluando: n_estimators=200, max_depth=5, learning_rate=0.1, subsample=1, colsample_bytree=0.8\n",
            "Evaluando: n_estimators=200, max_depth=5, learning_rate=0.1, subsample=1, colsample_bytree=1\n",
            "Evaluando: n_estimators=200, max_depth=5, learning_rate=0.2, subsample=0.8, colsample_bytree=0.8\n",
            "Evaluando: n_estimators=200, max_depth=5, learning_rate=0.2, subsample=0.8, colsample_bytree=1\n",
            "Evaluando: n_estimators=200, max_depth=5, learning_rate=0.2, subsample=1, colsample_bytree=0.8\n",
            "Evaluando: n_estimators=200, max_depth=5, learning_rate=0.2, subsample=1, colsample_bytree=1\n",
            "Evaluando: n_estimators=200, max_depth=5, learning_rate=0.5, subsample=0.8, colsample_bytree=0.8\n",
            "Evaluando: n_estimators=200, max_depth=5, learning_rate=0.5, subsample=0.8, colsample_bytree=1\n",
            "Evaluando: n_estimators=200, max_depth=5, learning_rate=0.5, subsample=1, colsample_bytree=0.8\n",
            "Evaluando: n_estimators=200, max_depth=5, learning_rate=0.5, subsample=1, colsample_bytree=1\n",
            "Evaluando: n_estimators=200, max_depth=5, learning_rate=1, subsample=0.8, colsample_bytree=0.8\n",
            "Evaluando: n_estimators=200, max_depth=5, learning_rate=1, subsample=0.8, colsample_bytree=1\n",
            "Evaluando: n_estimators=200, max_depth=5, learning_rate=1, subsample=1, colsample_bytree=0.8\n",
            "Evaluando: n_estimators=200, max_depth=5, learning_rate=1, subsample=1, colsample_bytree=1\n",
            "Evaluando: n_estimators=200, max_depth=10, learning_rate=0.1, subsample=0.8, colsample_bytree=0.8\n",
            "Evaluando: n_estimators=200, max_depth=10, learning_rate=0.1, subsample=0.8, colsample_bytree=1\n",
            "Evaluando: n_estimators=200, max_depth=10, learning_rate=0.1, subsample=1, colsample_bytree=0.8\n",
            "Evaluando: n_estimators=200, max_depth=10, learning_rate=0.1, subsample=1, colsample_bytree=1\n",
            "Evaluando: n_estimators=200, max_depth=10, learning_rate=0.2, subsample=0.8, colsample_bytree=0.8\n",
            "Evaluando: n_estimators=200, max_depth=10, learning_rate=0.2, subsample=0.8, colsample_bytree=1\n",
            "Evaluando: n_estimators=200, max_depth=10, learning_rate=0.2, subsample=1, colsample_bytree=0.8\n",
            "Evaluando: n_estimators=200, max_depth=10, learning_rate=0.2, subsample=1, colsample_bytree=1\n",
            "Evaluando: n_estimators=200, max_depth=10, learning_rate=0.5, subsample=0.8, colsample_bytree=0.8\n",
            "Evaluando: n_estimators=200, max_depth=10, learning_rate=0.5, subsample=0.8, colsample_bytree=1\n",
            "Evaluando: n_estimators=200, max_depth=10, learning_rate=0.5, subsample=1, colsample_bytree=0.8\n",
            "Evaluando: n_estimators=200, max_depth=10, learning_rate=0.5, subsample=1, colsample_bytree=1\n",
            "Evaluando: n_estimators=200, max_depth=10, learning_rate=1, subsample=0.8, colsample_bytree=0.8\n",
            "Evaluando: n_estimators=200, max_depth=10, learning_rate=1, subsample=0.8, colsample_bytree=1\n",
            "Evaluando: n_estimators=200, max_depth=10, learning_rate=1, subsample=1, colsample_bytree=0.8\n",
            "Evaluando: n_estimators=200, max_depth=10, learning_rate=1, subsample=1, colsample_bytree=1\n",
            "Evaluando: n_estimators=200, max_depth=20, learning_rate=0.1, subsample=0.8, colsample_bytree=0.8\n",
            "Evaluando: n_estimators=200, max_depth=20, learning_rate=0.1, subsample=0.8, colsample_bytree=1\n",
            "Evaluando: n_estimators=200, max_depth=20, learning_rate=0.1, subsample=1, colsample_bytree=0.8\n",
            "Evaluando: n_estimators=200, max_depth=20, learning_rate=0.1, subsample=1, colsample_bytree=1\n",
            "Evaluando: n_estimators=200, max_depth=20, learning_rate=0.2, subsample=0.8, colsample_bytree=0.8\n",
            "Evaluando: n_estimators=200, max_depth=20, learning_rate=0.2, subsample=0.8, colsample_bytree=1\n",
            "Evaluando: n_estimators=200, max_depth=20, learning_rate=0.2, subsample=1, colsample_bytree=0.8\n",
            "Evaluando: n_estimators=200, max_depth=20, learning_rate=0.2, subsample=1, colsample_bytree=1\n",
            "Evaluando: n_estimators=200, max_depth=20, learning_rate=0.5, subsample=0.8, colsample_bytree=0.8\n",
            "Evaluando: n_estimators=200, max_depth=20, learning_rate=0.5, subsample=0.8, colsample_bytree=1\n",
            "Evaluando: n_estimators=200, max_depth=20, learning_rate=0.5, subsample=1, colsample_bytree=0.8\n",
            "Evaluando: n_estimators=200, max_depth=20, learning_rate=0.5, subsample=1, colsample_bytree=1\n",
            "Evaluando: n_estimators=200, max_depth=20, learning_rate=1, subsample=0.8, colsample_bytree=0.8\n",
            "Evaluando: n_estimators=200, max_depth=20, learning_rate=1, subsample=0.8, colsample_bytree=1\n",
            "Evaluando: n_estimators=200, max_depth=20, learning_rate=1, subsample=1, colsample_bytree=0.8\n",
            "Evaluando: n_estimators=200, max_depth=20, learning_rate=1, subsample=1, colsample_bytree=1\n",
            "Evaluando: n_estimators=200, max_depth=40, learning_rate=0.1, subsample=0.8, colsample_bytree=0.8\n",
            "Evaluando: n_estimators=200, max_depth=40, learning_rate=0.1, subsample=0.8, colsample_bytree=1\n",
            "Evaluando: n_estimators=200, max_depth=40, learning_rate=0.1, subsample=1, colsample_bytree=0.8\n",
            "Evaluando: n_estimators=200, max_depth=40, learning_rate=0.1, subsample=1, colsample_bytree=1\n",
            "Evaluando: n_estimators=200, max_depth=40, learning_rate=0.2, subsample=0.8, colsample_bytree=0.8\n",
            "Evaluando: n_estimators=200, max_depth=40, learning_rate=0.2, subsample=0.8, colsample_bytree=1\n",
            "Evaluando: n_estimators=200, max_depth=40, learning_rate=0.2, subsample=1, colsample_bytree=0.8\n",
            "Evaluando: n_estimators=200, max_depth=40, learning_rate=0.2, subsample=1, colsample_bytree=1\n",
            "Evaluando: n_estimators=200, max_depth=40, learning_rate=0.5, subsample=0.8, colsample_bytree=0.8\n",
            "Evaluando: n_estimators=200, max_depth=40, learning_rate=0.5, subsample=0.8, colsample_bytree=1\n",
            "Evaluando: n_estimators=200, max_depth=40, learning_rate=0.5, subsample=1, colsample_bytree=0.8\n",
            "Evaluando: n_estimators=200, max_depth=40, learning_rate=0.5, subsample=1, colsample_bytree=1\n",
            "Evaluando: n_estimators=200, max_depth=40, learning_rate=1, subsample=0.8, colsample_bytree=0.8\n",
            "Evaluando: n_estimators=200, max_depth=40, learning_rate=1, subsample=0.8, colsample_bytree=1\n",
            "Evaluando: n_estimators=200, max_depth=40, learning_rate=1, subsample=1, colsample_bytree=0.8\n",
            "Evaluando: n_estimators=200, max_depth=40, learning_rate=1, subsample=1, colsample_bytree=1\n",
            "Evaluando: n_estimators=200, max_depth=60, learning_rate=0.1, subsample=0.8, colsample_bytree=0.8\n",
            "Evaluando: n_estimators=200, max_depth=60, learning_rate=0.1, subsample=0.8, colsample_bytree=1\n",
            "Evaluando: n_estimators=200, max_depth=60, learning_rate=0.1, subsample=1, colsample_bytree=0.8\n",
            "Evaluando: n_estimators=200, max_depth=60, learning_rate=0.1, subsample=1, colsample_bytree=1\n",
            "Evaluando: n_estimators=200, max_depth=60, learning_rate=0.2, subsample=0.8, colsample_bytree=0.8\n",
            "Evaluando: n_estimators=200, max_depth=60, learning_rate=0.2, subsample=0.8, colsample_bytree=1\n",
            "Evaluando: n_estimators=200, max_depth=60, learning_rate=0.2, subsample=1, colsample_bytree=0.8\n",
            "Evaluando: n_estimators=200, max_depth=60, learning_rate=0.2, subsample=1, colsample_bytree=1\n",
            "Evaluando: n_estimators=200, max_depth=60, learning_rate=0.5, subsample=0.8, colsample_bytree=0.8\n",
            "Evaluando: n_estimators=200, max_depth=60, learning_rate=0.5, subsample=0.8, colsample_bytree=1\n",
            "Evaluando: n_estimators=200, max_depth=60, learning_rate=0.5, subsample=1, colsample_bytree=0.8\n",
            "Evaluando: n_estimators=200, max_depth=60, learning_rate=0.5, subsample=1, colsample_bytree=1\n",
            "Evaluando: n_estimators=200, max_depth=60, learning_rate=1, subsample=0.8, colsample_bytree=0.8\n",
            "Evaluando: n_estimators=200, max_depth=60, learning_rate=1, subsample=0.8, colsample_bytree=1\n",
            "Evaluando: n_estimators=200, max_depth=60, learning_rate=1, subsample=1, colsample_bytree=0.8\n",
            "Evaluando: n_estimators=200, max_depth=60, learning_rate=1, subsample=1, colsample_bytree=1\n",
            "     n_estimators  max_depth  learning_rate  subsample  colsample_bytree  \\\n",
            "165           200       10.0            0.2        0.8               1.0   \n",
            "177           200       20.0            0.1        0.8               1.0   \n",
            "65            100       20.0            0.1        0.8               1.0   \n",
            "193           200       40.0            0.1        0.8               1.0   \n",
            "81            100       40.0            0.1        0.8               1.0   \n",
            "\n",
            "     R2_Train  R2_Test  RMSE_Train  RMSE_Test  MAE_Train  MAE_Test  \\\n",
            "165       1.0     0.86    28156.33  164069.06   19326.31  74215.23   \n",
            "177       1.0     0.86     5497.12  164093.26    1155.70  70438.68   \n",
            "65        1.0     0.86     6090.36  164120.70    2102.02  70472.69   \n",
            "193       1.0     0.86     5392.56  164694.30     519.59  70808.31   \n",
            "81        1.0     0.86     5658.96  164748.64     913.94  70819.44   \n",
            "\n",
            "     MAPE_Train (%)  MAPE_Test (%)  Ratio_Train (<10%)  Ratio_Test (<10%)  \n",
            "165            7.56          19.89               76.29              42.90  \n",
            "177            0.44          18.50               99.88              50.31  \n",
            "65             0.86          18.52               99.60              50.11  \n",
            "193            0.13          18.63               99.88              49.99  \n",
            "81             0.25          18.63               99.88              49.97  \n"
          ]
        }
      ],
      "source": [
        "from xgboost import XGBRegressor\n",
        "from sklearn.metrics import mean_squared_error, mean_absolute_error, r2_score\n",
        "from itertools import product\n",
        "import numpy as np\n",
        "import pandas as pd\n",
        "\n",
        "# Definir la malla de hiperparámetros a explorar\n",
        "param_grid = {\n",
        "    'n_estimators': [100, 200],\n",
        "    'max_depth': [None, 2, 5, 10, 20, 40, 60],\n",
        "    'learning_rate': [0.1, 0.2, 0.5, 1],\n",
        "    'subsample': [0.8, 1],\n",
        "    'colsample_bytree': [0.8, 1]\n",
        "}\n",
        "\n",
        "# Generar combinaciones de parámetros\n",
        "param_combinations = list(product(\n",
        "    param_grid['n_estimators'],\n",
        "    param_grid['max_depth'],\n",
        "    param_grid['learning_rate'],\n",
        "    param_grid['subsample'],\n",
        "    param_grid['colsample_bytree']\n",
        "))\n",
        "\n",
        "# Lista para guardar resultados\n",
        "resultados_1 = []\n",
        "\n",
        "\n",
        "# Iterar sobre todas las combinaciones\n",
        "for n_est, depth, lr, subs, colsample in param_combinations:\n",
        "    print(f\"Evaluando: n_estimators={n_est}, max_depth={depth}, learning_rate={lr}, subsample={subs}, colsample_bytree={colsample}\")\n",
        "\n",
        "    modelo_xgb = XGBRegressor(\n",
        "        n_estimators=n_est,\n",
        "        max_depth=depth,\n",
        "        learning_rate=lr,\n",
        "        subsample=subs,\n",
        "        colsample_bytree=colsample,\n",
        "        random_state=42,\n",
        "        n_jobs=-1,\n",
        "        verbosity=0\n",
        "    )\n",
        "\n",
        "    modelo_xgb.fit(X_train_kpca, madrid_sale_train_df_obj)\n",
        "\n",
        "    # Predicciones\n",
        "    y_pred_train = modelo_xgb.predict(X_train_kpca)\n",
        "    y_pred_test = modelo_xgb.predict(X_test_kpca)\n",
        "\n",
        "    # Calcular métricas\n",
        "    r2_train, rmse_train, mae_train, mape_train, ratio_train = calcular_metricas(madrid_sale_train_df_obj, y_pred_train)\n",
        "    r2_test, rmse_test, mae_test, mape_test, ratio_test = calcular_metricas(madrid_sale_test_df_obj, y_pred_test)\n",
        "\n",
        "    resultados_1.append({\n",
        "        'n_estimators': n_est,\n",
        "        'max_depth': depth,\n",
        "        'learning_rate': lr,\n",
        "        'subsample': subs,\n",
        "        'colsample_bytree': colsample,\n",
        "        'R2_Train': r2_train,\n",
        "        'R2_Test': r2_test,\n",
        "\n",
        "        'RMSE_Train': rmse_train,\n",
        "        'RMSE_Test': rmse_test,\n",
        "        'MAE_Train': mae_train,\n",
        "        'MAE_Test': mae_test,\n",
        "        'MAPE_Train (%)': mape_train,\n",
        "        'MAPE_Test (%)': mape_test,\n",
        "        'Ratio_Train (<10%)': ratio_train,\n",
        "        'Ratio_Test (<10%)': ratio_test\n",
        "    })\n",
        "\n",
        "# Convertir a DataFrame y ordenar\n",
        "df_resultados_1_xgb = pd.DataFrame(resultados_1)\n",
        "df_resultados_1_xgb_ordenado = df_resultados_1_xgb.sort_values(by='R2_Test', ascending=False)\n"
      ]
    },
    {
      "cell_type": "code",
      "execution_count": null,
      "metadata": {
        "id": "mYveTQ9RtmAw"
      },
      "outputs": [],
      "source": [
        "df_resultados_1_xgb.to_excel(\"resultados_XGB_1.xlsx\", index=False)"
      ]
    },
    {
      "cell_type": "markdown",
      "source": [
        "Ahora se prueba con la variable objetivo logaritmica"
      ],
      "metadata": {
        "id": "3iqRVvbZNqX_"
      }
    },
    {
      "cell_type": "code",
      "execution_count": null,
      "metadata": {
        "colab": {
          "base_uri": "https://localhost:8080/"
        },
        "id": "Zde0uL8XN_i4",
        "outputId": "a64b28e7-7e53-4fb2-b5a1-2cae2d2c19a6"
      },
      "outputs": [
        {
          "output_type": "stream",
          "name": "stdout",
          "text": [
            "Evaluando: n_estimators=100, max_depth=20, learning_rate=0.1, subsample=0.8, colsample_bytree=1\n",
            "Evaluando: n_estimators=100, max_depth=40, learning_rate=0.1, subsample=0.8, colsample_bytree=1\n",
            "Evaluando: n_estimators=100, max_depth=60, learning_rate=0.1, subsample=0.8, colsample_bytree=1\n",
            "Evaluando: n_estimators=200, max_depth=20, learning_rate=0.1, subsample=0.8, colsample_bytree=1\n",
            "Evaluando: n_estimators=200, max_depth=40, learning_rate=0.1, subsample=0.8, colsample_bytree=1\n",
            "Evaluando: n_estimators=200, max_depth=60, learning_rate=0.1, subsample=0.8, colsample_bytree=1\n"
          ]
        }
      ],
      "source": [
        "from xgboost import XGBRegressor\n",
        "from sklearn.metrics import mean_squared_error, mean_absolute_error, r2_score\n",
        "from itertools import product\n",
        "import numpy as np\n",
        "import pandas as pd\n",
        "\n",
        "# Definir la malla de hiperparámetros a explorar\n",
        "param_grid = {\n",
        "    'n_estimators': [100, 200],\n",
        "    'max_depth': [20, 40, 60],\n",
        "    'learning_rate': [0.1],\n",
        "    'subsample': [0.8],\n",
        "    'colsample_bytree': [1]\n",
        "}\n",
        "\n",
        "# Generar combinaciones de parámetros\n",
        "param_combinations = list(product(\n",
        "    param_grid['n_estimators'],\n",
        "    param_grid['max_depth'],\n",
        "    param_grid['learning_rate'],\n",
        "    param_grid['subsample'],\n",
        "    param_grid['colsample_bytree']\n",
        "))\n",
        "\n",
        "# Lista para guardar resultados\n",
        "resultados_3 = []\n",
        "\n",
        "# Aplicar transformación logarítmica a la variable objetivo\n",
        "y_train_log = np.log(y_train_kpca)\n",
        "y_test_log = np.log(y_test_kpca)\n",
        "\n",
        "# Función de métricas adaptada para predicciones log-transformadas\n",
        "def calcular_metricas_log(y_true_log, y_pred_log):\n",
        "    y_true = np.exp(y_true_log)\n",
        "    y_pred = np.exp(y_pred_log)\n",
        "    mae = mean_absolute_error(y_true, y_pred)\n",
        "    rmse = np.sqrt(mean_squared_error(y_true, y_pred))\n",
        "    r2 = r2_score(y_true, y_pred)\n",
        "    mape = np.mean(np.abs((y_true - y_pred) / y_true)) * 100\n",
        "    ratio_aceptable = np.mean(np.abs((y_true - y_pred) / y_true) < 0.10) * 100\n",
        "    return r2, rmse, mae, mape, ratio_aceptable\n",
        "\n",
        "# Iterar sobre todas las combinaciones\n",
        "for n_est, depth, lr, subs, colsample in param_combinations:\n",
        "    print(f\"Evaluando: n_estimators={n_est}, max_depth={depth}, learning_rate={lr}, subsample={subs}, colsample_bytree={colsample}\")\n",
        "\n",
        "    modelo_xgb = XGBRegressor(\n",
        "        n_estimators=n_est,\n",
        "        max_depth=depth,\n",
        "        learning_rate=lr,\n",
        "        subsample=subs,\n",
        "        colsample_bytree=colsample,\n",
        "        random_state=42,\n",
        "        n_jobs=-1,\n",
        "        verbosity=0\n",
        "    )\n",
        "\n",
        "    modelo_xgb.fit(X_train_kpca, y_train_log)\n",
        "\n",
        "    # Predicciones en escala log\n",
        "    y_pred_train_log = modelo_xgb.predict(X_train_kpca)\n",
        "    y_pred_test_log = modelo_xgb.predict(X_test_kpca)\n",
        "\n",
        "    # Calcular métricas destransformando a escala original\n",
        "    r2_train, rmse_train, mae_train, mape_train, ratio_train = calcular_metricas_log(y_train_log, y_pred_train_log)\n",
        "    r2_test, rmse_test, mae_test, mape_test, ratio_test = calcular_metricas_log(y_test_log, y_pred_test_log)\n",
        "\n",
        "    resultados_3.append({\n",
        "        'n_estimators': n_est,\n",
        "        'max_depth': depth,\n",
        "        'learning_rate': lr,\n",
        "        'subsample': subs,\n",
        "        'colsample_bytree': colsample,\n",
        "        'R2_Train': r2_train,\n",
        "        'R2_Test': r2_test,\n",
        "        'RMSE_Train': rmse_train,\n",
        "        'RMSE_Test': rmse_test,\n",
        "        'MAE_Train': mae_train,\n",
        "        'MAE_Test': mae_test,\n",
        "        'MAPE_Train (%)': mape_train,\n",
        "        'MAPE_Test (%)': mape_test,\n",
        "        'Ratio_Train (<10%)': ratio_train,\n",
        "        'Ratio_Test (<10%)': ratio_test\n",
        "    })\n",
        "\n",
        "# Convertir a DataFrame y ordenar\n",
        "df_resultados_3_xgb = pd.DataFrame(resultados_3)"
      ]
    },
    {
      "cell_type": "code",
      "source": [
        "df_resultados_3_xgb.to_excel(\"resultados_XGB_3.xlsx\", index=False)"
      ],
      "metadata": {
        "id": "eD_EXQrpNu1I"
      },
      "execution_count": null,
      "outputs": []
    },
    {
      "cell_type": "markdown",
      "source": [
        "Evaluación del modelo"
      ],
      "metadata": {
        "id": "fcwxjI7aj-_p"
      }
    },
    {
      "cell_type": "code",
      "source": [
        "from xgboost import XGBRegressor\n",
        "from sklearn.metrics import mean_squared_error, mean_absolute_error, r2_score\n",
        "import numpy as np\n",
        "import pandas as pd\n",
        "import time\n",
        "\n",
        "# Aplicar transformación logarítmica a la variable objetivo\n",
        "y_train_log = np.log(y_train_kpca)\n",
        "y_test_log = np.log(y_test_kpca)\n",
        "\n",
        "# Función de métricas adaptada para predicciones log-transformadas\n",
        "def calcular_metricas_log(y_true_log, y_pred_log):\n",
        "    y_true = np.exp(y_true_log)\n",
        "    y_pred = np.exp(y_pred_log)\n",
        "    mae = mean_absolute_error(y_true, y_pred)\n",
        "    rmse = np.sqrt(mean_squared_error(y_true, y_pred))\n",
        "    r2 = r2_score(y_true, y_pred)\n",
        "    mape = np.mean(np.abs((y_true - y_pred) / y_true)) * 100\n",
        "    ratio_aceptable = np.mean(np.abs((y_true - y_pred) / y_true) < 0.10) * 100\n",
        "    return r2, rmse, mae, mape, ratio_aceptable\n",
        "\n",
        "# Inicializar el modelo con los hiperparámetros indicados\n",
        "modelo_xgb = XGBRegressor(\n",
        "    n_estimators=200,\n",
        "    max_depth=20,\n",
        "    learning_rate=0.1,\n",
        "    subsample=0.8,\n",
        "    colsample_bytree=1,\n",
        "    random_state=42,\n",
        "    n_jobs=-1,\n",
        "    verbosity=0\n",
        ")\n",
        "\n",
        "# Tiempo de entrenamiento\n",
        "start_train = time.time()\n",
        "modelo_xgb.fit(X_train_kpca, y_train_log)\n",
        "end_train = time.time()\n",
        "train_time = end_train - start_train\n",
        "\n",
        "# Tiempo de predicción\n",
        "start_pred = time.time()\n",
        "y_pred_test_log = modelo_xgb.predict(X_test_kpca)\n",
        "end_pred = time.time()\n",
        "pred_time = end_pred - start_pred\n",
        "\n",
        "# Mostrar resultados\n",
        "print(f\"Tiempo de entrenamiento: {train_time:.2f} segundos\")\n",
        "print(f\"Tiempo de predicción: {pred_time:.4f} segundos\")\n"
      ],
      "metadata": {
        "colab": {
          "base_uri": "https://localhost:8080/"
        },
        "id": "0wobCOnIkAUh",
        "outputId": "70b2a7b5-3745-429f-90ba-bdc634cc427c"
      },
      "execution_count": null,
      "outputs": [
        {
          "output_type": "stream",
          "name": "stdout",
          "text": [
            "Tiempo de entrenamiento: 54.07 segundos\n",
            "Tiempo de predicción: 0.1288 segundos\n"
          ]
        }
      ]
    },
    {
      "cell_type": "markdown",
      "metadata": {
        "id": "APfzQAyzKo2k"
      },
      "source": [
        "## Red Neuronal Densa"
      ]
    },
    {
      "cell_type": "markdown",
      "source": [
        "Básica"
      ],
      "metadata": {
        "id": "Bkmh9phbRLss"
      }
    },
    {
      "cell_type": "code",
      "execution_count": null,
      "metadata": {
        "colab": {
          "base_uri": "https://localhost:8080/"
        },
        "id": "0oLS2hv_K0so",
        "outputId": "863a7dd7-3afc-4cfa-93bf-635bb59dc35f"
      },
      "outputs": [
        {
          "output_type": "stream",
          "name": "stderr",
          "text": [
            "/usr/local/lib/python3.11/dist-packages/keras/src/layers/core/dense.py:87: UserWarning: Do not pass an `input_shape`/`input_dim` argument to a layer. When using Sequential models, prefer using an `Input(shape)` object as the first layer in the model instead.\n",
            "  super().__init__(activity_regularizer=activity_regularizer, **kwargs)\n"
          ]
        },
        {
          "output_type": "stream",
          "name": "stdout",
          "text": [
            "Epoch 1/200\n",
            "\u001b[1m1897/1897\u001b[0m \u001b[32m━━━━━━━━━━━━━━━━━━━━\u001b[0m\u001b[37m\u001b[0m \u001b[1m11s\u001b[0m 4ms/step - loss: 225393639424.0000 - mae: 302269.6875 - val_loss: 60997844992.0000 - val_mae: 142458.3594\n",
            "Epoch 2/200\n",
            "\u001b[1m1897/1897\u001b[0m \u001b[32m━━━━━━━━━━━━━━━━━━━━\u001b[0m\u001b[37m\u001b[0m \u001b[1m5s\u001b[0m 2ms/step - loss: 69793669120.0000 - mae: 151783.6094 - val_loss: 50702852096.0000 - val_mae: 126718.0938\n",
            "Epoch 3/200\n",
            "\u001b[1m1897/1897\u001b[0m \u001b[32m━━━━━━━━━━━━━━━━━━━━\u001b[0m\u001b[37m\u001b[0m \u001b[1m5s\u001b[0m 2ms/step - loss: 59345203200.0000 - mae: 134866.5625 - val_loss: 41752465408.0000 - val_mae: 107663.5078\n",
            "Epoch 4/200\n",
            "\u001b[1m1897/1897\u001b[0m \u001b[32m━━━━━━━━━━━━━━━━━━━━\u001b[0m\u001b[37m\u001b[0m \u001b[1m5s\u001b[0m 2ms/step - loss: 54428979200.0000 - mae: 125790.8438 - val_loss: 39519719424.0000 - val_mae: 103153.5078\n",
            "Epoch 5/200\n",
            "\u001b[1m1897/1897\u001b[0m \u001b[32m━━━━━━━━━━━━━━━━━━━━\u001b[0m\u001b[37m\u001b[0m \u001b[1m5s\u001b[0m 3ms/step - loss: 49791504384.0000 - mae: 122219.8281 - val_loss: 40261652480.0000 - val_mae: 103166.5703\n",
            "Epoch 6/200\n",
            "\u001b[1m1897/1897\u001b[0m \u001b[32m━━━━━━━━━━━━━━━━━━━━\u001b[0m\u001b[37m\u001b[0m \u001b[1m5s\u001b[0m 3ms/step - loss: 53094248448.0000 - mae: 122615.5078 - val_loss: 38627364864.0000 - val_mae: 101303.3750\n",
            "Epoch 7/200\n",
            "\u001b[1m1897/1897\u001b[0m \u001b[32m━━━━━━━━━━━━━━━━━━━━\u001b[0m\u001b[37m\u001b[0m \u001b[1m5s\u001b[0m 2ms/step - loss: 51595714560.0000 - mae: 122093.5781 - val_loss: 38261772288.0000 - val_mae: 99674.5625\n",
            "Epoch 8/200\n",
            "\u001b[1m1897/1897\u001b[0m \u001b[32m━━━━━━━━━━━━━━━━━━━━\u001b[0m\u001b[37m\u001b[0m \u001b[1m5s\u001b[0m 2ms/step - loss: 49151270912.0000 - mae: 120750.6172 - val_loss: 40284319744.0000 - val_mae: 101553.3281\n",
            "Epoch 9/200\n",
            "\u001b[1m1897/1897\u001b[0m \u001b[32m━━━━━━━━━━━━━━━━━━━━\u001b[0m\u001b[37m\u001b[0m \u001b[1m5s\u001b[0m 2ms/step - loss: 49367556096.0000 - mae: 120480.4531 - val_loss: 38146568192.0000 - val_mae: 100745.2422\n",
            "Epoch 10/200\n",
            "\u001b[1m1897/1897\u001b[0m \u001b[32m━━━━━━━━━━━━━━━━━━━━\u001b[0m\u001b[37m\u001b[0m \u001b[1m5s\u001b[0m 2ms/step - loss: 49869705216.0000 - mae: 120743.9219 - val_loss: 39265804288.0000 - val_mae: 101515.8125\n",
            "Epoch 11/200\n",
            "\u001b[1m1897/1897\u001b[0m \u001b[32m━━━━━━━━━━━━━━━━━━━━\u001b[0m\u001b[37m\u001b[0m \u001b[1m5s\u001b[0m 2ms/step - loss: 50092453888.0000 - mae: 121628.7656 - val_loss: 38164647936.0000 - val_mae: 99390.6328\n",
            "Epoch 12/200\n",
            "\u001b[1m1897/1897\u001b[0m \u001b[32m━━━━━━━━━━━━━━━━━━━━\u001b[0m\u001b[37m\u001b[0m \u001b[1m5s\u001b[0m 2ms/step - loss: 48123613184.0000 - mae: 119621.9062 - val_loss: 36955762688.0000 - val_mae: 97848.7031\n",
            "Epoch 13/200\n",
            "\u001b[1m1897/1897\u001b[0m \u001b[32m━━━━━━━━━━━━━━━━━━━━\u001b[0m\u001b[37m\u001b[0m \u001b[1m5s\u001b[0m 3ms/step - loss: 50203058176.0000 - mae: 119932.5625 - val_loss: 37029806080.0000 - val_mae: 98070.5781\n",
            "Epoch 14/200\n",
            "\u001b[1m1897/1897\u001b[0m \u001b[32m━━━━━━━━━━━━━━━━━━━━\u001b[0m\u001b[37m\u001b[0m \u001b[1m5s\u001b[0m 2ms/step - loss: 51167965184.0000 - mae: 121058.2734 - val_loss: 37038538752.0000 - val_mae: 96770.0312\n",
            "Epoch 15/200\n",
            "\u001b[1m1897/1897\u001b[0m \u001b[32m━━━━━━━━━━━━━━━━━━━━\u001b[0m\u001b[37m\u001b[0m \u001b[1m5s\u001b[0m 2ms/step - loss: 48667709440.0000 - mae: 120264.4844 - val_loss: 36749369344.0000 - val_mae: 97489.4375\n",
            "Epoch 16/200\n",
            "\u001b[1m1897/1897\u001b[0m \u001b[32m━━━━━━━━━━━━━━━━━━━━\u001b[0m\u001b[37m\u001b[0m \u001b[1m5s\u001b[0m 2ms/step - loss: 45389131776.0000 - mae: 118022.6875 - val_loss: 36687048704.0000 - val_mae: 97449.1719\n",
            "Epoch 17/200\n",
            "\u001b[1m1897/1897\u001b[0m \u001b[32m━━━━━━━━━━━━━━━━━━━━\u001b[0m\u001b[37m\u001b[0m \u001b[1m5s\u001b[0m 3ms/step - loss: 47523831808.0000 - mae: 118819.3047 - val_loss: 37005582336.0000 - val_mae: 97190.9531\n",
            "Epoch 18/200\n",
            "\u001b[1m1897/1897\u001b[0m \u001b[32m━━━━━━━━━━━━━━━━━━━━\u001b[0m\u001b[37m\u001b[0m \u001b[1m5s\u001b[0m 2ms/step - loss: 46516502528.0000 - mae: 118064.6094 - val_loss: 35765633024.0000 - val_mae: 97228.0156\n",
            "\u001b[1m593/593\u001b[0m \u001b[32m━━━━━━━━━━━━━━━━━━━━\u001b[0m\u001b[37m\u001b[0m \u001b[1m1s\u001b[0m 2ms/step\n"
          ]
        }
      ],
      "source": [
        "import tensorflow as tf\n",
        "from tensorflow.keras.models import Sequential\n",
        "from tensorflow.keras.layers import Dense, Dropout, BatchNormalization\n",
        "from tensorflow.keras.callbacks import EarlyStopping\n",
        "from sklearn.preprocessing import StandardScaler\n",
        "import time\n",
        "\n",
        "# Escalar los datos (muy importante para redes neuronales)\n",
        "scaler = StandardScaler()\n",
        "X_train_scaled = scaler.fit_transform(X_train_kpca)\n",
        "X_test_scaled = scaler.transform(X_test_kpca)\n",
        "\n",
        "# Crear modelo\n",
        "modelo_dnn = Sequential([\n",
        "    Dense(128, activation='relu', input_shape=(X_train_scaled.shape[1],)),\n",
        "    BatchNormalization(),\n",
        "    Dropout(0.3),\n",
        "\n",
        "    Dense(64, activation='relu'),\n",
        "    Dropout(0.3),\n",
        "\n",
        "    Dense(32, activation='relu'),\n",
        "\n",
        "    Dense(1)  # Salida de regresión\n",
        "])\n",
        "\n",
        "# Compilar el modelo\n",
        "modelo_dnn.compile(\n",
        "    optimizer=tf.keras.optimizers.Adam(learning_rate=0.001),\n",
        "    loss='mean_squared_error',\n",
        "    metrics=['mae']\n",
        ")\n",
        "\n",
        "# Early stopping para val_mae con paciencia de 4 épocas\n",
        "early_stop = EarlyStopping(monitor='val_mae', patience=4, restore_best_weights=True)\n",
        "\n",
        "# Entrenar\n",
        "start_train = time.time()\n",
        "historial = modelo_dnn.fit(\n",
        "    X_train_scaled,\n",
        "    madrid_sale_train_df_obj,\n",
        "    validation_split=0.2,\n",
        "    epochs=200,\n",
        "    batch_size=32,\n",
        "    callbacks=[early_stop],\n",
        "    verbose=1\n",
        ")\n",
        "end_train = time.time()\n",
        "\n",
        "# Tiempo de entrenamiento\n",
        "tiempo_entrenamiento = end_train - start_train\n",
        "\n",
        "# Predicción\n",
        "start_pred = time.time()\n",
        "y_pred_dnn = modelo_dnn.predict(X_test_scaled).flatten()\n",
        "end_pred = time.time()\n",
        "\n",
        "tiempo_prediccion = end_pred - start_pred\n"
      ]
    },
    {
      "cell_type": "code",
      "execution_count": null,
      "metadata": {
        "colab": {
          "base_uri": "https://localhost:8080/"
        },
        "id": "T106gwgKLdz-",
        "outputId": "3d6aa78e-d118-4296-ec93-4c2f10430d9c"
      },
      "outputs": [
        {
          "output_type": "stream",
          "name": "stdout",
          "text": [
            "R²: 0.765\n",
            "RMSE: 210,608.87\n",
            "MAE: 100,072.90\n",
            "MAPE: 25.63%\n",
            "Ratio aceptable (<10%): 26.45%\n",
            "Tiempo entrenamiento: 91.10s\n",
            "Tiempo predicción: 1.79s\n"
          ]
        }
      ],
      "source": [
        "# Evaluar\n",
        "r2, rmse, mae, mape, ratio = calcular_metricas(madrid_sale_test_df_obj, y_pred_dnn)\n",
        "\n",
        "# Mostrar resultados\n",
        "print(f\"R²: {r2:.3f}\")\n",
        "print(f\"RMSE: {rmse:,.2f}\")\n",
        "print(f\"MAE: {mae:,.2f}\")\n",
        "print(f\"MAPE: {mape:.2f}%\")\n",
        "print(f\"Ratio aceptable (<10%): {ratio:.2f}%\")\n",
        "print(f\"Tiempo entrenamiento: {tiempo_entrenamiento:.2f}s\")\n",
        "print(f\"Tiempo predicción: {tiempo_prediccion:.2f}s\")\n"
      ]
    },
    {
      "cell_type": "markdown",
      "metadata": {
        "id": "Q3DSQU7gzG5b"
      },
      "source": [
        "## Modelo transformer"
      ]
    },
    {
      "cell_type": "code",
      "execution_count": null,
      "metadata": {
        "colab": {
          "base_uri": "https://localhost:8080/"
        },
        "id": "Y6q5jazD2grV",
        "outputId": "a7706ca0-b15f-4119-bc4e-6876d5cb00f6"
      },
      "outputs": [
        {
          "output_type": "stream",
          "name": "stderr",
          "text": [
            "/usr/local/lib/python3.11/dist-packages/torch/nn/modules/transformer.py:385: UserWarning: enable_nested_tensor is True, but self.use_nested_tensor is False because encoder_layer.norm_first was True\n",
            "  warnings.warn(\n"
          ]
        },
        {
          "output_type": "stream",
          "name": "stdout",
          "text": [
            "Epoch 1/100 | Train Loss: 0.3240 | Val MAE: 0.2563\n",
            "Epoch 2/100 | Train Loss: 0.2507 | Val MAE: 0.2415\n",
            "Epoch 3/100 | Train Loss: 0.2388 | Val MAE: 0.2393\n",
            "Epoch 4/100 | Train Loss: 0.2269 | Val MAE: 0.2490\n",
            "Epoch 5/100 | Train Loss: 0.2216 | Val MAE: 0.2427\n",
            "Epoch 6/100 | Train Loss: 0.2160 | Val MAE: 0.2358\n",
            "Epoch 7/100 | Train Loss: 0.2122 | Val MAE: 0.2340\n",
            "Epoch 8/100 | Train Loss: 0.2099 | Val MAE: 0.2716\n",
            "Epoch 9/100 | Train Loss: 0.2069 | Val MAE: 0.2446\n",
            "Epoch 10/100 | Train Loss: 0.2115 | Val MAE: 0.2387\n",
            "Epoch 11/100 | Train Loss: 0.2045 | Val MAE: 0.2508\n",
            "\n",
            "🛑 Early stopping: no mejora en 4 épocas consecutivas.\n",
            "\n",
            "⏱️ Tiempo total de entrenamiento: 165.41 segundos\n",
            "\n",
            "⏱️ Tiempo de predicción en test: 0.7423 segundos\n",
            "\n",
            "Primeros 5 valores predichos vs reales (test):\n",
            "Predicho: 50570.43, Real: 104999.99\n",
            "Predicho: 470733.25, Real: 399000.00\n",
            "Predicho: 1788232.62, Real: 777000.00\n",
            "Predicho: 87754.99, Real: 135000.00\n",
            "Predicho: 233244.33, Real: 319000.00\n"
          ]
        }
      ],
      "source": [
        "import torch\n",
        "import torch.nn as nn\n",
        "import math\n",
        "import numpy as np\n",
        "import time\n",
        "from sklearn.preprocessing import StandardScaler\n",
        "from torch.utils.data import DataLoader, TensorDataset\n",
        "from sklearn.metrics import mean_absolute_error\n",
        "\n",
        "# Positional Encoding\n",
        "class PositionalEncoding(nn.Module):\n",
        "    def __init__(self, d_model, max_len=5000):\n",
        "        super().__init__()\n",
        "        pe = torch.zeros(max_len, d_model)\n",
        "        pos = torch.arange(0, max_len, dtype=torch.float).unsqueeze(1)\n",
        "        div_term = torch.exp(torch.arange(0, d_model, 2).float() * (-math.log(10000.0) / d_model))\n",
        "        pe[:, 0::2] = torch.sin(pos * div_term)\n",
        "        pe[:, 1::2] = torch.cos(pos * div_term)\n",
        "        pe = pe.unsqueeze(0)\n",
        "        self.register_buffer('pe', pe)\n",
        "\n",
        "    def forward(self, x):\n",
        "        return x + self.pe[:, :x.size(1)]\n",
        "\n",
        "# Modelo Transformer\n",
        "class EnhancedTransformerRegressor(nn.Module):\n",
        "    def __init__(self, input_dim, d_model=64, nhead=8, num_layers=4, dim_feedforward=256, dropout=0.2):\n",
        "        super().__init__()\n",
        "        self.embedding = nn.Linear(1, d_model)\n",
        "        self.positional_encoding = PositionalEncoding(d_model)\n",
        "        encoder_layers = nn.TransformerEncoderLayer(\n",
        "            d_model=d_model, nhead=nhead, dim_feedforward=dim_feedforward,\n",
        "            dropout=dropout, activation='gelu', batch_first=True, norm_first=True\n",
        "        )\n",
        "        self.transformer_encoder = nn.TransformerEncoder(encoder_layers, num_layers=num_layers)\n",
        "        self.regressor = nn.Sequential(\n",
        "            nn.LayerNorm(d_model * input_dim),\n",
        "            nn.Linear(d_model * input_dim, 256),\n",
        "            nn.ReLU(),\n",
        "            nn.Dropout(0.3),\n",
        "            nn.Linear(256, 64),\n",
        "            nn.ReLU(),\n",
        "            nn.Linear(64, 1)\n",
        "        )\n",
        "\n",
        "    def forward(self, x):\n",
        "        x = x.unsqueeze(-1)\n",
        "        x = self.embedding(x)\n",
        "        x = self.positional_encoding(x)\n",
        "        x = self.transformer_encoder(x)\n",
        "        x = x.flatten(start_dim=1)\n",
        "        return self.regressor(x)\n",
        "\n",
        "# Escalado\n",
        "scaler_y = StandardScaler()\n",
        "y_train_scaled = scaler_y.fit_transform(y_train_kpca.reshape(-1, 1))\n",
        "y_test_scaled = scaler_y.transform(y_test_kpca.reshape(-1, 1))\n",
        "\n",
        "# DataLoader\n",
        "train_dataset = TensorDataset(\n",
        "    torch.tensor(X_train_kpca, dtype=torch.float32),\n",
        "    torch.tensor(y_train_scaled, dtype=torch.float32)\n",
        ")\n",
        "test_dataset = TensorDataset(\n",
        "    torch.tensor(X_test_kpca, dtype=torch.float32),\n",
        "    torch.tensor(y_test_scaled, dtype=torch.float32)\n",
        ")\n",
        "train_loader = DataLoader(train_dataset, batch_size=64, shuffle=True)\n",
        "test_loader = DataLoader(test_dataset, batch_size=64)\n",
        "\n",
        "# Entrenamiento con EarlyStopping\n",
        "device = torch.device(\"cuda\" if torch.cuda.is_available() else \"cpu\")\n",
        "model = EnhancedTransformerRegressor(input_dim=X_train_kpca.shape[1]).to(device)\n",
        "criterion = nn.MSELoss()\n",
        "optimizer = torch.optim.Adam(model.parameters(), lr=1e-3, weight_decay=1e-4)\n",
        "\n",
        "# Early stopping manual\n",
        "patience = 4\n",
        "best_mae = float('inf')\n",
        "epochs_no_improve = 0\n",
        "best_model_state = None\n",
        "num_epochs = 100\n",
        "\n",
        "def get_preds(loader):\n",
        "    model.eval()\n",
        "    preds, trues = [], []\n",
        "    with torch.no_grad():\n",
        "        for xb, yb in loader:\n",
        "            xb = xb.to(device)\n",
        "            pred = model(xb).cpu().numpy()\n",
        "            preds.append(pred)\n",
        "            trues.append(yb.numpy())\n",
        "    return np.vstack(preds).flatten(), np.vstack(trues).flatten()\n",
        "\n",
        "start_train = time.time()\n",
        "for epoch in range(num_epochs):\n",
        "    model.train()\n",
        "    total_loss = 0\n",
        "    for xb, yb in train_loader:\n",
        "        xb, yb = xb.to(device), yb.to(device)\n",
        "        optimizer.zero_grad()\n",
        "        preds = model(xb)\n",
        "        loss = criterion(preds, yb)\n",
        "        loss.backward()\n",
        "        optimizer.step()\n",
        "        total_loss += loss.item() * xb.size(0)\n",
        "\n",
        "    avg_train_loss = total_loss / len(train_loader.dataset)\n",
        "\n",
        "    # Evaluar en test para MAE\n",
        "    val_preds_scaled, val_true_scaled = get_preds(test_loader)\n",
        "    val_mae = mean_absolute_error(val_true_scaled, val_preds_scaled)\n",
        "\n",
        "    print(f\"Epoch {epoch+1}/{num_epochs} | Train Loss: {avg_train_loss:.4f} | Val MAE: {val_mae:.4f}\")\n",
        "\n",
        "    if val_mae < best_mae:\n",
        "        best_mae = val_mae\n",
        "        best_model_state = model.state_dict()\n",
        "        epochs_no_improve = 0\n",
        "    else:\n",
        "        epochs_no_improve += 1\n",
        "        if epochs_no_improve >= patience:\n",
        "            print(f\"\\n Early stopping: no mejora en {patience} épocas consecutivas.\")\n",
        "            break\n",
        "\n",
        "# Restaurar mejores pesos\n",
        "if best_model_state:\n",
        "    model.load_state_dict(best_model_state)\n",
        "\n",
        "end_train = time.time()\n",
        "print(f\"\\n⏱️ Tiempo total de entrenamiento: {end_train - start_train:.2f} segundos\")\n",
        "\n",
        "# Predicción y desescalado\n",
        "# Tiempo de predicción en test\n",
        "train_preds_scaled, train_true_scaled = get_preds(train_loader)\n",
        "start_test = time.time()\n",
        "test_preds_scaled, test_true_scaled = get_preds(test_loader)\n",
        "end_test = time.time()\n",
        "print(f\"\\n⏱️ Tiempo de predicción en test: {end_test - start_test:.4f} segundos\")\n",
        "\n",
        "\n",
        "\n",
        "train_preds = scaler_y.inverse_transform(train_preds_scaled.reshape(-1, 1)).flatten()\n",
        "train_true = scaler_y.inverse_transform(train_true_scaled.reshape(-1, 1)).flatten()\n",
        "test_preds = scaler_y.inverse_transform(test_preds_scaled.reshape(-1, 1)).flatten()\n",
        "test_true = scaler_y.inverse_transform(test_true_scaled.reshape(-1, 1)).flatten()\n",
        "\n",
        "print(\"\\nPrimeros 5 valores predichos vs reales (test):\")\n",
        "for pred, real in zip(test_preds[:5], test_true[:5]):\n",
        "    print(f\"Predicho: {pred:.2f}, Real: {real:.2f}\")\n"
      ]
    },
    {
      "cell_type": "code",
      "source": [
        "# Métricas\n",
        "def mape(y_true, y_pred):\n",
        "    return np.mean(np.abs((y_true - y_pred) / y_true)) * 100\n",
        "\n",
        "def ratio_under_10(y_true, y_pred):\n",
        "    return np.mean(np.abs(y_true - y_pred) / y_true < 0.10) * 100\n",
        "\n",
        "print(\"\\nTrain metrics:\")\n",
        "print(f\"R2: {r2_score(train_true, train_preds):.4f}\")\n",
        "print(f\"RMSE: {mean_squared_error(train_true, train_preds):.2f}\")\n",
        "print(f\"MAE: {mean_absolute_error(train_true, train_preds):.2f}\")\n",
        "print(f\"MAPE (%): {mape(train_true, train_preds):.2f}\")\n",
        "print(f\"Ratio (<10% error) (%): {ratio_under_10(train_true, train_preds):.2f}\")\n",
        "\n",
        "print(\"\\nTest metrics:\")\n",
        "print(f\"R2: {r2_score(test_true, test_preds):.4f}\")\n",
        "print(f\"RMSE: {mean_squared_error(test_true, test_preds):.2f}\")\n",
        "print(f\"MAE: {mean_absolute_error(test_true, test_preds):.2f}\")\n",
        "print(f\"MAPE (%): {mape(test_true, test_preds):.2f}\")\n",
        "print(f\"Ratio (<10% error) (%): {ratio_under_10(test_true, test_preds):.2f}\")\n",
        "\n",
        "print(\"\\nPrimeros 5 valores predichos vs reales (test):\")\n",
        "for pred, real in zip(test_preds[:5], test_true[:5]):\n",
        "    print(f\"Predicho: {pred:.2f}, Real: {real:.2f}\")\n"
      ],
      "metadata": {
        "id": "2MK4HKHSRrHh",
        "colab": {
          "base_uri": "https://localhost:8080/"
        },
        "outputId": "a25a901b-8e4b-44e8-f054-bab505221212"
      },
      "execution_count": null,
      "outputs": [
        {
          "output_type": "stream",
          "name": "stdout",
          "text": [
            "\n",
            "Train metrics:\n",
            "R2: 0.7914\n",
            "RMSE: 35524050944.00\n",
            "MAE: 100047.45\n",
            "MAPE (%): 25.65\n",
            "Ratio (<10% error) (%): 26.30\n",
            "\n",
            "Test metrics:\n",
            "R2: 0.7904\n",
            "RMSE: 39552692224.00\n",
            "MAE: 103475.55\n",
            "MAPE (%): 26.02\n",
            "Ratio (<10% error) (%): 25.62\n",
            "\n",
            "Primeros 5 valores predichos vs reales (test):\n",
            "Predicho: 50570.43, Real: 104999.99\n",
            "Predicho: 470733.25, Real: 399000.00\n",
            "Predicho: 1788232.62, Real: 777000.00\n",
            "Predicho: 87754.99, Real: 135000.00\n",
            "Predicho: 233244.33, Real: 319000.00\n"
          ]
        }
      ]
    },
    {
      "cell_type": "code",
      "source": [],
      "metadata": {
        "id": "fBKcwxj0GPyK"
      },
      "execution_count": null,
      "outputs": []
    }
  ],
  "metadata": {
    "accelerator": "GPU",
    "colab": {
      "gpuType": "A100",
      "machine_shape": "hm",
      "provenance": [],
      "toc_visible": true
    },
    "kernelspec": {
      "display_name": "Python 3",
      "name": "python3"
    },
    "language_info": {
      "name": "python"
    }
  },
  "nbformat": 4,
  "nbformat_minor": 0
}